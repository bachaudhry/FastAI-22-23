{
  "nbformat": 4,
  "nbformat_minor": 0,
  "metadata": {
    "colab": {
      "provenance": [],
      "mount_file_id": "1TZlgj1sABxkz0ZR9ZGVoHcTDSiim4UHH",
      "authorship_tag": "ABX9TyNPoRPfEMC6M/4JbI+CwrmW",
      "include_colab_link": true
    },
    "kernelspec": {
      "name": "python3",
      "display_name": "Python 3"
    },
    "language_info": {
      "name": "python"
    }
  },
  "cells": [
    {
      "cell_type": "markdown",
      "metadata": {
        "id": "view-in-github",
        "colab_type": "text"
      },
      "source": [
        "<a href=\"https://colab.research.google.com/github/bachaudhry/FastAI-22-23/blob/main/FastAI_2022_Fastbook_Tabular_Runthrough.ipynb\" target=\"_parent\"><img src=\"https://colab.research.google.com/assets/colab-badge.svg\" alt=\"Open In Colab\"/></a>"
      ]
    },
    {
      "cell_type": "markdown",
      "source": [
        "# **Runthrough of Fastbook Chapter 9 - Tabular Modeling Deep Dive**"
      ],
      "metadata": {
        "id": "i0vETWhZK5dw"
      }
    },
    {
      "cell_type": "markdown",
      "source": [
        "## Setup"
      ],
      "metadata": {
        "id": "NPx-myRQLxfN"
      }
    },
    {
      "cell_type": "code",
      "source": [
        "!pip install dtreeviz"
      ],
      "metadata": {
        "id": "Y28tQgp3Ly8a"
      },
      "execution_count": null,
      "outputs": []
    },
    {
      "cell_type": "code",
      "execution_count": 7,
      "metadata": {
        "id": "A3SDT82mC_ij"
      },
      "outputs": [],
      "source": [
        "import pandas as pd\n",
        "import numpy as np\n",
        "from fastai.tabular.all import *\n",
        "from sklearn.ensemble import RandomForestRegressor\n",
        "from sklearn.tree import DecisionTreeRegressor\n",
        "from dtreeviz.trees import *\n",
        "from IPython.display import Image, display_svg, SVG\n",
        "\n",
        "pd.options.display.max_rows = 20\n",
        "pd.options.display.max_columns = 8"
      ]
    },
    {
      "cell_type": "code",
      "source": [
        "# Kaggle\n",
        "iskaggle = os.environ.get('KAGGLE_KERNEL_RUN_TYPE', '')\n",
        "# Credentials storage\n",
        "# Using Kaggle API key\n",
        "creds = '{\"username\":\"bachaudhry\",\"key\":\"f8e0ee26f34cb0d3e4eccd774de62f63\"}'\n",
        "cred_path = Path('~/.kaggle/kaggle.json').expanduser()\n",
        "if not cred_path.exists():\n",
        "  cred_path.parent.mkdir(exist_ok=True)\n",
        "  cred_path.write_text(creds)\n",
        "  cred_path.chmod(0o600)"
      ],
      "metadata": {
        "id": "SqFOHIvZLo05"
      },
      "execution_count": 8,
      "outputs": []
    },
    {
      "cell_type": "code",
      "source": [
        "if iskaggle:\n",
        "  path = Path('../input/bluebook-for-bulldozers')\n",
        "else:\n",
        "  import zipfile, kaggle\n",
        "  path = Path('bluebook-for-bulldozers')\n",
        "  kaggle.api.competition_download_cli(str(path))\n",
        "  zipfile.ZipFile(f'{path}.zip').extractall(path)"
      ],
      "metadata": {
        "colab": {
          "base_uri": "https://localhost:8080/"
        },
        "id": "FB7JHPfTWn-t",
        "outputId": "5c3669ef-238e-46d2-caab-f2d1c8460892"
      },
      "execution_count": 12,
      "outputs": [
        {
          "output_type": "stream",
          "name": "stdout",
          "text": [
            "Downloading bluebook-for-bulldozers.zip to /content\n"
          ]
        },
        {
          "output_type": "stream",
          "name": "stderr",
          "text": [
            "100%|██████████| 48.4M/48.4M [00:01<00:00, 42.7MB/s]\n"
          ]
        },
        {
          "output_type": "stream",
          "name": "stdout",
          "text": [
            "\n"
          ]
        }
      ]
    },
    {
      "cell_type": "markdown",
      "source": [
        "## Data Assessment"
      ],
      "metadata": {
        "id": "Baumx0qPamgV"
      }
    },
    {
      "cell_type": "code",
      "source": [
        "df = pd.read_csv(path/'TrainAndValid.csv', low_memory=False)"
      ],
      "metadata": {
        "id": "zKkCvXfnaiuK"
      },
      "execution_count": 13,
      "outputs": []
    },
    {
      "cell_type": "code",
      "source": [
        "df.info()"
      ],
      "metadata": {
        "colab": {
          "base_uri": "https://localhost:8080/"
        },
        "id": "PbyijQQSaj2m",
        "outputId": "16e2aa54-07e4-4bee-ac6a-7399037ddb78"
      },
      "execution_count": 14,
      "outputs": [
        {
          "output_type": "stream",
          "name": "stdout",
          "text": [
            "<class 'pandas.core.frame.DataFrame'>\n",
            "RangeIndex: 412698 entries, 0 to 412697\n",
            "Data columns (total 53 columns):\n",
            " #   Column                    Non-Null Count   Dtype  \n",
            "---  ------                    --------------   -----  \n",
            " 0   SalesID                   412698 non-null  int64  \n",
            " 1   SalePrice                 412698 non-null  float64\n",
            " 2   MachineID                 412698 non-null  int64  \n",
            " 3   ModelID                   412698 non-null  int64  \n",
            " 4   datasource                412698 non-null  int64  \n",
            " 5   auctioneerID              392562 non-null  float64\n",
            " 6   YearMade                  412698 non-null  int64  \n",
            " 7   MachineHoursCurrentMeter  147504 non-null  float64\n",
            " 8   UsageBand                 73670 non-null   object \n",
            " 9   saledate                  412698 non-null  object \n",
            " 10  fiModelDesc               412698 non-null  object \n",
            " 11  fiBaseModel               412698 non-null  object \n",
            " 12  fiSecondaryDesc           271971 non-null  object \n",
            " 13  fiModelSeries             58667 non-null   object \n",
            " 14  fiModelDescriptor         74816 non-null   object \n",
            " 15  ProductSize               196093 non-null  object \n",
            " 16  fiProductClassDesc        412698 non-null  object \n",
            " 17  state                     412698 non-null  object \n",
            " 18  ProductGroup              412698 non-null  object \n",
            " 19  ProductGroupDesc          412698 non-null  object \n",
            " 20  Drive_System              107087 non-null  object \n",
            " 21  Enclosure                 412364 non-null  object \n",
            " 22  Forks                     197715 non-null  object \n",
            " 23  Pad_Type                  81096 non-null   object \n",
            " 24  Ride_Control              152728 non-null  object \n",
            " 25  Stick                     81096 non-null   object \n",
            " 26  Transmission              188007 non-null  object \n",
            " 27  Turbocharged              81096 non-null   object \n",
            " 28  Blade_Extension           25983 non-null   object \n",
            " 29  Blade_Width               25983 non-null   object \n",
            " 30  Enclosure_Type            25983 non-null   object \n",
            " 31  Engine_Horsepower         25983 non-null   object \n",
            " 32  Hydraulics                330133 non-null  object \n",
            " 33  Pushblock                 25983 non-null   object \n",
            " 34  Ripper                    106945 non-null  object \n",
            " 35  Scarifier                 25994 non-null   object \n",
            " 36  Tip_Control               25983 non-null   object \n",
            " 37  Tire_Size                 97638 non-null   object \n",
            " 38  Coupler                   220679 non-null  object \n",
            " 39  Coupler_System            44974 non-null   object \n",
            " 40  Grouser_Tracks            44875 non-null   object \n",
            " 41  Hydraulics_Flow           44875 non-null   object \n",
            " 42  Track_Type                102193 non-null  object \n",
            " 43  Undercarriage_Pad_Width   102916 non-null  object \n",
            " 44  Stick_Length              102261 non-null  object \n",
            " 45  Thumb                     102332 non-null  object \n",
            " 46  Pattern_Changer           102261 non-null  object \n",
            " 47  Grouser_Type              102193 non-null  object \n",
            " 48  Backhoe_Mounting          80712 non-null   object \n",
            " 49  Blade_Type                81875 non-null   object \n",
            " 50  Travel_Controls           81877 non-null   object \n",
            " 51  Differential_Type         71564 non-null   object \n",
            " 52  Steering_Controls         71522 non-null   object \n",
            "dtypes: float64(3), int64(5), object(45)\n",
            "memory usage: 166.9+ MB\n"
          ]
        }
      ]
    },
    {
      "cell_type": "code",
      "source": [
        "df.ProductSize.unique()"
      ],
      "metadata": {
        "colab": {
          "base_uri": "https://localhost:8080/"
        },
        "id": "8zNoXzn7aj-N",
        "outputId": "3c01f5dd-73a1-4063-839b-478a8bdc52d5"
      },
      "execution_count": 16,
      "outputs": [
        {
          "output_type": "execute_result",
          "data": {
            "text/plain": [
              "array([nan, 'Medium', 'Small', 'Large / Medium', 'Mini', 'Large', 'Compact'], dtype=object)"
            ]
          },
          "metadata": {},
          "execution_count": 16
        }
      ]
    },
    {
      "cell_type": "code",
      "source": [
        "# We will need to order the categories of product size\n",
        "sizes = 'Large', 'Large / Medium', 'Medium', 'Small', 'Mini', 'Compact'\n",
        "\n",
        "df['ProductSize'] = df['ProductSize'].astype('category')\n",
        "df['ProductSize'] = df['ProductSize'].cat.set_categories(sizes, ordered=True)"
      ],
      "metadata": {
        "id": "kHOidDXdakD_"
      },
      "execution_count": 27,
      "outputs": []
    },
    {
      "cell_type": "code",
      "source": [
        "df['ProductSize'].hist();"
      ],
      "metadata": {
        "colab": {
          "base_uri": "https://localhost:8080/",
          "height": 434
        },
        "id": "vXHu6yVfakJH",
        "outputId": "eab6ddef-d739-45d0-d2b8-c5ac95d52593"
      },
      "execution_count": 29,
      "outputs": [
        {
          "output_type": "display_data",
          "data": {
            "text/plain": [
              "<Figure size 640x480 with 1 Axes>"
            ],
            "image/png": "[encoded data removed]"
          },
          "metadata": {}
        }
      ]
    },
    {
      "cell_type": "code",
      "source": [
        "dep_var = 'SalePrice'\n",
        "df[dep_var] = np.log(df[dep_var])"
      ],
      "metadata": {
        "id": "ksjqV9IjakOC"
      },
      "execution_count": 30,
      "outputs": []
    },
    {
      "cell_type": "code",
      "source": [
        "df['SalePrice'].hist();"
      ],
      "metadata": {
        "colab": {
          "base_uri": "https://localhost:8080/",
          "height": 434
        },
        "id": "oTVSbJCEakqf",
        "outputId": "5e34c0bc-2e42-4fad-ec78-90a1780a237b"
      },
      "execution_count": 32,
      "outputs": [
        {
          "output_type": "display_data",
          "data": {
            "text/plain": [
              "<Figure size 640x480 with 1 Axes>"
            ],
            "image/png": "[encoded data removed]"
          },
          "metadata": {}
        }
      ]
    },
    {
      "cell_type": "markdown",
      "source": [
        "# Processing Data"
      ],
      "metadata": {
        "id": "Y54_H7Ydj4QE"
      }
    },
    {
      "cell_type": "code",
      "source": [
        "# Handling dates using the FastAI tabular library which is super handy imo\n",
        "# This will add a number of meta data columns by treating dates as ordinal values\n",
        "# In order words, providing additional categorical variables for the model.\n",
        "df = add_datepart(df, 'saledate')\n",
        "df.info()"
      ],
      "metadata": {
        "colab": {
          "base_uri": "https://localhost:8080/"
        },
        "id": "rj1lZp04ak0Q",
        "outputId": "b29d8e30-4d2e-4bd0-a50e-64a90508b0cf"
      },
      "execution_count": 33,
      "outputs": [
        {
          "output_type": "stream",
          "name": "stderr",
          "text": [
            "/usr/local/lib/python3.10/dist-packages/fastai/tabular/core.py:23: UserWarning: The argument 'infer_datetime_format' is deprecated and will be removed in a future version. A strict version of it is now the default, see https://pandas.pydata.org/pdeps/0004-consistent-to-datetime-parsing.html. You can safely remove this argument.\n"
          ]
        },
        {
          "output_type": "stream",
          "name": "stdout",
          "text": [
            "<class 'pandas.core.frame.DataFrame'>\n",
            "RangeIndex: 412698 entries, 0 to 412697\n",
            "Data columns (total 65 columns):\n",
            " #   Column                    Non-Null Count   Dtype   \n",
            "---  ------                    --------------   -----   \n",
            " 0   SalesID                   412698 non-null  int64   \n",
            " 1   SalePrice                 412698 non-null  float64 \n",
            " 2   MachineID                 412698 non-null  int64   \n",
            " 3   ModelID                   412698 non-null  int64   \n",
            " 4   datasource                412698 non-null  int64   \n",
            " 5   auctioneerID              392562 non-null  float64 \n",
            " 6   YearMade                  412698 non-null  int64   \n",
            " 7   MachineHoursCurrentMeter  147504 non-null  float64 \n",
            " 8   UsageBand                 73670 non-null   object  \n",
            " 9   fiModelDesc               412698 non-null  object  \n",
            " 10  fiBaseModel               412698 non-null  object  \n",
            " 11  fiSecondaryDesc           271971 non-null  object  \n",
            " 12  fiModelSeries             58667 non-null   object  \n",
            " 13  fiModelDescriptor         74816 non-null   object  \n",
            " 14  ProductSize               196093 non-null  category\n",
            " 15  fiProductClassDesc        412698 non-null  object  \n",
            " 16  state                     412698 non-null  object  \n",
            " 17  ProductGroup              412698 non-null  object  \n",
            " 18  ProductGroupDesc          412698 non-null  object  \n",
            " 19  Drive_System              107087 non-null  object  \n",
            " 20  Enclosure                 412364 non-null  object  \n",
            " 21  Forks                     197715 non-null  object  \n",
            " 22  Pad_Type                  81096 non-null   object  \n",
            " 23  Ride_Control              152728 non-null  object  \n",
            " 24  Stick                     81096 non-null   object  \n",
            " 25  Transmission              188007 non-null  object  \n",
            " 26  Turbocharged              81096 non-null   object  \n",
            " 27  Blade_Extension           25983 non-null   object  \n",
            " 28  Blade_Width               25983 non-null   object  \n",
            " 29  Enclosure_Type            25983 non-null   object  \n",
            " 30  Engine_Horsepower         25983 non-null   object  \n",
            " 31  Hydraulics                330133 non-null  object  \n",
            " 32  Pushblock                 25983 non-null   object  \n",
            " 33  Ripper                    106945 non-null  object  \n",
            " 34  Scarifier                 25994 non-null   object  \n",
            " 35  Tip_Control               25983 non-null   object  \n",
            " 36  Tire_Size                 97638 non-null   object  \n",
            " 37  Coupler                   220679 non-null  object  \n",
            " 38  Coupler_System            44974 non-null   object  \n",
            " 39  Grouser_Tracks            44875 non-null   object  \n",
            " 40  Hydraulics_Flow           44875 non-null   object  \n",
            " 41  Track_Type                102193 non-null  object  \n",
            " 42  Undercarriage_Pad_Width   102916 non-null  object  \n",
            " 43  Stick_Length              102261 non-null  object  \n",
            " 44  Thumb                     102332 non-null  object  \n",
            " 45  Pattern_Changer           102261 non-null  object  \n",
            " 46  Grouser_Type              102193 non-null  object  \n",
            " 47  Backhoe_Mounting          80712 non-null   object  \n",
            " 48  Blade_Type                81875 non-null   object  \n",
            " 49  Travel_Controls           81877 non-null   object  \n",
            " 50  Differential_Type         71564 non-null   object  \n",
            " 51  Steering_Controls         71522 non-null   object  \n",
            " 52  saleYear                  412698 non-null  int32   \n",
            " 53  saleMonth                 412698 non-null  int32   \n",
            " 54  saleWeek                  412698 non-null  int32   \n",
            " 55  saleDay                   412698 non-null  int32   \n",
            " 56  saleDayofweek             412698 non-null  int32   \n",
            " 57  saleDayofyear             412698 non-null  int32   \n",
            " 58  saleIs_month_end          412698 non-null  bool    \n",
            " 59  saleIs_month_start        412698 non-null  bool    \n",
            " 60  saleIs_quarter_end        412698 non-null  bool    \n",
            " 61  saleIs_quarter_start      412698 non-null  bool    \n",
            " 62  saleIs_year_end           412698 non-null  bool    \n",
            " 63  saleIs_year_start         412698 non-null  bool    \n",
            " 64  saleElapsed               412698 non-null  float64 \n",
            "dtypes: bool(6), category(1), float64(4), int32(6), int64(5), object(43)\n",
            "memory usage: 175.9+ MB\n"
          ]
        }
      ]
    },
    {
      "cell_type": "code",
      "source": [
        "# Doing the same for the test set\n",
        "df_test = pd.read_csv(path/'Test.csv', low_memory=False)\n",
        "df_test = add_datepart(df_test, 'saledate')\n",
        "df_test.info()"
      ],
      "metadata": {
        "colab": {
          "base_uri": "https://localhost:8080/"
        },
        "id": "GdzuZC30ak8o",
        "outputId": "675cb5e2-6009-4378-e250-19e0769cedd9"
      },
      "execution_count": 35,
      "outputs": [
        {
          "output_type": "stream",
          "name": "stdout",
          "text": [
            "<class 'pandas.core.frame.DataFrame'>\n",
            "RangeIndex: 12457 entries, 0 to 12456\n",
            "Data columns (total 64 columns):\n",
            " #   Column                    Non-Null Count  Dtype  \n",
            "---  ------                    --------------  -----  \n",
            " 0   SalesID                   12457 non-null  int64  \n",
            " 1   MachineID                 12457 non-null  int64  \n",
            " 2   ModelID                   12457 non-null  int64  \n",
            " 3   datasource                12457 non-null  int64  \n",
            " 4   auctioneerID              12457 non-null  int64  \n",
            " 5   YearMade                  12457 non-null  int64  \n",
            " 6   MachineHoursCurrentMeter  2129 non-null   float64\n",
            " 7   UsageBand                 1834 non-null   object \n",
            " 8   fiModelDesc               12457 non-null  object \n",
            " 9   fiBaseModel               12457 non-null  object \n",
            " 10  fiSecondaryDesc           8482 non-null   object \n",
            " 11  fiModelSeries             2006 non-null   object \n",
            " 12  fiModelDescriptor         3024 non-null   object \n",
            " 13  ProductSize               6048 non-null   object \n",
            " 14  fiProductClassDesc        12457 non-null  object \n",
            " 15  state                     12457 non-null  object \n",
            " 16  ProductGroup              12457 non-null  object \n",
            " 17  ProductGroupDesc          12457 non-null  object \n",
            " 18  Drive_System              2759 non-null   object \n",
            " 19  Enclosure                 12455 non-null  object \n",
            " 20  Forks                     6308 non-null   object \n",
            " 21  Pad_Type                  2108 non-null   object \n",
            " 22  Ride_Control              4241 non-null   object \n",
            " 23  Stick                     2108 non-null   object \n",
            " 24  Transmission              4818 non-null   object \n",
            " 25  Turbocharged              2108 non-null   object \n",
            " 26  Blade_Extension           651 non-null    object \n",
            " 27  Blade_Width               651 non-null    object \n",
            " 28  Enclosure_Type            651 non-null    object \n",
            " 29  Engine_Horsepower         651 non-null    object \n",
            " 30  Hydraulics                10315 non-null  object \n",
            " 31  Pushblock                 651 non-null    object \n",
            " 32  Ripper                    2704 non-null   object \n",
            " 33  Scarifier                 651 non-null    object \n",
            " 34  Tip_Control               651 non-null    object \n",
            " 35  Tire_Size                 2778 non-null   object \n",
            " 36  Coupler                   7601 non-null   object \n",
            " 37  Coupler_System            2066 non-null   object \n",
            " 38  Grouser_Tracks            2066 non-null   object \n",
            " 39  Hydraulics_Flow           2066 non-null   object \n",
            " 40  Track_Type                3394 non-null   object \n",
            " 41  Undercarriage_Pad_Width   3398 non-null   object \n",
            " 42  Stick_Length              3394 non-null   object \n",
            " 43  Thumb                     3395 non-null   object \n",
            " 44  Pattern_Changer           3394 non-null   object \n",
            " 45  Grouser_Type              3394 non-null   object \n",
            " 46  Backhoe_Mounting          2051 non-null   object \n",
            " 47  Blade_Type                2058 non-null   object \n",
            " 48  Travel_Controls           2058 non-null   object \n",
            " 49  Differential_Type         2129 non-null   object \n",
            " 50  Steering_Controls         2129 non-null   object \n",
            " 51  saleYear                  12457 non-null  int32  \n",
            " 52  saleMonth                 12457 non-null  int32  \n",
            " 53  saleWeek                  12457 non-null  int32  \n",
            " 54  saleDay                   12457 non-null  int32  \n",
            " 55  saleDayofweek             12457 non-null  int32  \n",
            " 56  saleDayofyear             12457 non-null  int32  \n",
            " 57  saleIs_month_end          12457 non-null  bool   \n",
            " 58  saleIs_month_start        12457 non-null  bool   \n",
            " 59  saleIs_quarter_end        12457 non-null  bool   \n",
            " 60  saleIs_quarter_start      12457 non-null  bool   \n",
            " 61  saleIs_year_end           12457 non-null  bool   \n",
            " 62  saleIs_year_start         12457 non-null  bool   \n",
            " 63  saleElapsed               12457 non-null  float64\n",
            "dtypes: bool(6), float64(2), int32(6), int64(6), object(44)\n",
            "memory usage: 5.3+ MB\n"
          ]
        },
        {
          "output_type": "stream",
          "name": "stderr",
          "text": [
            "/usr/local/lib/python3.10/dist-packages/fastai/tabular/core.py:23: UserWarning: The argument 'infer_datetime_format' is deprecated and will be removed in a future version. A strict version of it is now the default, see https://pandas.pydata.org/pdeps/0004-consistent-to-datetime-parsing.html. You can safely remove this argument.\n"
          ]
        }
      ]
    },
    {
      "cell_type": "code",
      "source": [
        "# These are all the columns which are dealing with dates\n",
        "' '.join(o for o in df.columns if o.startswith('sale'))"
      ],
      "metadata": {
        "colab": {
          "base_uri": "https://localhost:8080/",
          "height": 53
        },
        "id": "l9yQ-UZzalFD",
        "outputId": "82abe0ff-a6ff-44e1-945c-d7209f2c1421"
      },
      "execution_count": 36,
      "outputs": [
        {
          "output_type": "execute_result",
          "data": {
            "text/plain": [
              "'saleYear saleMonth saleWeek saleDay saleDayofweek saleDayofyear saleIs_month_end saleIs_month_start saleIs_quarter_end saleIs_quarter_start saleIs_year_end saleIs_year_start saleElapsed'"
            ],
            "application/vnd.google.colaboratory.intrinsic+json": {
              "type": "string"
            }
          },
          "metadata": {},
          "execution_count": 36
        }
      ]
    },
    {
      "cell_type": "code",
      "source": [
        "# Using additional FastAI functions, which we can pass in lists\n",
        "procs = [Categorify, FillMissing]"
      ],
      "metadata": {
        "id": "d0dPpv78alMp"
      },
      "execution_count": 37,
      "outputs": []
    },
    {
      "cell_type": "markdown",
      "source": [
        "The date range in the test set covers a six month period from May 2012, which is later in time than dates in the training set.\n",
        "\n",
        "Our validation set will need to cover data from November 2011 in order to be similar to the test set. Data prior to November 2011 will be part of the training set."
      ],
      "metadata": {
        "id": "5afY7tidnpNk"
      }
    },
    {
      "cell_type": "code",
      "source": [
        "# Creating training and validation splits based on Sales dates and months\n",
        "cond = (df.saleYear < 2011) | (df.saleMonth < 10)\n",
        "train_idx = np.where(cond)[0]\n",
        "valid_idx = np.where(~cond)[0]\n",
        "# We will create a tuple of lists which will then be passed to TabularPandas\n",
        "# to identify continuous and categorical columns\n",
        "splits = (list(train_idx), list(valid_idx))"
      ],
      "metadata": {
        "id": "Q-0BQJNealSb"
      },
      "execution_count": 41,
      "outputs": []
    },
    {
      "cell_type": "code",
      "source": [
        "cont, cat = cont_cat_split(df, 1, dep_var=dep_var)\n",
        "cont, cat"
      ],
      "metadata": {
        "colab": {
          "base_uri": "https://localhost:8080/"
        },
        "id": "JYsOx00LalXG",
        "outputId": "2fa84b16-a3b8-47c3-f7f5-b89c95fbdb0d"
      },
      "execution_count": 45,
      "outputs": [
        {
          "output_type": "execute_result",
          "data": {
            "text/plain": [
              "(['SalesID',\n",
              "  'MachineID',\n",
              "  'ModelID',\n",
              "  'datasource',\n",
              "  'auctioneerID',\n",
              "  'YearMade',\n",
              "  'MachineHoursCurrentMeter',\n",
              "  'saleYear',\n",
              "  'saleMonth',\n",
              "  'saleWeek',\n",
              "  'saleDay',\n",
              "  'saleDayofweek',\n",
              "  'saleDayofyear',\n",
              "  'saleElapsed'],\n",
              " ['UsageBand',\n",
              "  'fiModelDesc',\n",
              "  'fiBaseModel',\n",
              "  'fiSecondaryDesc',\n",
              "  'fiModelSeries',\n",
              "  'fiModelDescriptor',\n",
              "  'ProductSize',\n",
              "  'fiProductClassDesc',\n",
              "  'state',\n",
              "  'ProductGroup',\n",
              "  'ProductGroupDesc',\n",
              "  'Drive_System',\n",
              "  'Enclosure',\n",
              "  'Forks',\n",
              "  'Pad_Type',\n",
              "  'Ride_Control',\n",
              "  'Stick',\n",
              "  'Transmission',\n",
              "  'Turbocharged',\n",
              "  'Blade_Extension',\n",
              "  'Blade_Width',\n",
              "  'Enclosure_Type',\n",
              "  'Engine_Horsepower',\n",
              "  'Hydraulics',\n",
              "  'Pushblock',\n",
              "  'Ripper',\n",
              "  'Scarifier',\n",
              "  'Tip_Control',\n",
              "  'Tire_Size',\n",
              "  'Coupler',\n",
              "  'Coupler_System',\n",
              "  'Grouser_Tracks',\n",
              "  'Hydraulics_Flow',\n",
              "  'Track_Type',\n",
              "  'Undercarriage_Pad_Width',\n",
              "  'Stick_Length',\n",
              "  'Thumb',\n",
              "  'Pattern_Changer',\n",
              "  'Grouser_Type',\n",
              "  'Backhoe_Mounting',\n",
              "  'Blade_Type',\n",
              "  'Travel_Controls',\n",
              "  'Differential_Type',\n",
              "  'Steering_Controls',\n",
              "  'saleIs_month_end',\n",
              "  'saleIs_month_start',\n",
              "  'saleIs_quarter_end',\n",
              "  'saleIs_quarter_start',\n",
              "  'saleIs_year_end',\n",
              "  'saleIs_year_start'])"
            ]
          },
          "metadata": {},
          "execution_count": 45
        }
      ]
    },
    {
      "cell_type": "code",
      "source": [
        "# Tabular Pandas automatically includes train and valid attributes\n",
        "to = TabularPandas(df, procs, cat, cont, y_names=dep_var, splits=splits)\n",
        "len(to.train), len(to.valid)"
      ],
      "metadata": {
        "colab": {
          "base_uri": "https://localhost:8080/"
        },
        "id": "spalc-XJalbO",
        "outputId": "89b9146a-a84e-4920-898f-a5f97a39fbb9"
      },
      "execution_count": 46,
      "outputs": [
        {
          "output_type": "execute_result",
          "data": {
            "text/plain": [
              "(404710, 7988)"
            ]
          },
          "metadata": {},
          "execution_count": 46
        }
      ]
    },
    {
      "cell_type": "code",
      "source": [
        "to.show(3)"
      ],
      "metadata": {
        "colab": {
          "base_uri": "https://localhost:8080/",
          "height": 233
        },
        "id": "NvisfJszalfc",
        "outputId": "c49cbf2e-1c48-4b63-dd96-39a761d0fdf9"
      },
      "execution_count": 47,
      "outputs": [
        {
          "output_type": "display_data",
          "data": {
            "text/plain": [
              "<IPython.core.display.HTML object>"
            ],
            "text/html": [
              "<table border=\"1\" class=\"dataframe\">\n",
              "  <thead>\n",
              "    <tr style=\"text-align: right;\">\n",
              "      <th></th>\n",
              "      <th>UsageBand</th>\n",
              "      <th>fiModelDesc</th>\n",
              "      <th>fiBaseModel</th>\n",
              "      <th>fiSecondaryDesc</th>\n",
              "      <th>fiModelSeries</th>\n",
              "      <th>fiModelDescriptor</th>\n",
              "      <th>ProductSize</th>\n",
              "      <th>fiProductClassDesc</th>\n",
              "      <th>state</th>\n",
              "      <th>ProductGroup</th>\n",
              "      <th>ProductGroupDesc</th>\n",
              "      <th>Drive_System</th>\n",
              "      <th>Enclosure</th>\n",
              "      <th>Forks</th>\n",
              "      <th>Pad_Type</th>\n",
              "      <th>Ride_Control</th>\n",
              "      <th>Stick</th>\n",
              "      <th>Transmission</th>\n",
              "      <th>Turbocharged</th>\n",
              "      <th>Blade_Extension</th>\n",
              "      <th>Blade_Width</th>\n",
              "      <th>Enclosure_Type</th>\n",
              "      <th>Engine_Horsepower</th>\n",
              "      <th>Hydraulics</th>\n",
              "      <th>Pushblock</th>\n",
              "      <th>Ripper</th>\n",
              "      <th>Scarifier</th>\n",
              "      <th>Tip_Control</th>\n",
              "      <th>Tire_Size</th>\n",
              "      <th>Coupler</th>\n",
              "      <th>Coupler_System</th>\n",
              "      <th>Grouser_Tracks</th>\n",
              "      <th>Hydraulics_Flow</th>\n",
              "      <th>Track_Type</th>\n",
              "      <th>Undercarriage_Pad_Width</th>\n",
              "      <th>Stick_Length</th>\n",
              "      <th>Thumb</th>\n",
              "      <th>Pattern_Changer</th>\n",
              "      <th>Grouser_Type</th>\n",
              "      <th>Backhoe_Mounting</th>\n",
              "      <th>Blade_Type</th>\n",
              "      <th>Travel_Controls</th>\n",
              "      <th>Differential_Type</th>\n",
              "      <th>Steering_Controls</th>\n",
              "      <th>saleIs_month_end</th>\n",
              "      <th>saleIs_month_start</th>\n",
              "      <th>saleIs_quarter_end</th>\n",
              "      <th>saleIs_quarter_start</th>\n",
              "      <th>saleIs_year_end</th>\n",
              "      <th>saleIs_year_start</th>\n",
              "      <th>auctioneerID_na</th>\n",
              "      <th>MachineHoursCurrentMeter_na</th>\n",
              "      <th>SalesID</th>\n",
              "      <th>MachineID</th>\n",
              "      <th>ModelID</th>\n",
              "      <th>datasource</th>\n",
              "      <th>auctioneerID</th>\n",
              "      <th>YearMade</th>\n",
              "      <th>MachineHoursCurrentMeter</th>\n",
              "      <th>saleYear</th>\n",
              "      <th>saleMonth</th>\n",
              "      <th>saleWeek</th>\n",
              "      <th>saleDay</th>\n",
              "      <th>saleDayofweek</th>\n",
              "      <th>saleDayofyear</th>\n",
              "      <th>saleElapsed</th>\n",
              "      <th>SalePrice</th>\n",
              "    </tr>\n",
              "  </thead>\n",
              "  <tbody>\n",
              "    <tr>\n",
              "      <th>0</th>\n",
              "      <td>Low</td>\n",
              "      <td>521D</td>\n",
              "      <td>521</td>\n",
              "      <td>D</td>\n",
              "      <td>#na#</td>\n",
              "      <td>#na#</td>\n",
              "      <td>#na#</td>\n",
              "      <td>Wheel Loader - 110.0 to 120.0 Horsepower</td>\n",
              "      <td>Alabama</td>\n",
              "      <td>WL</td>\n",
              "      <td>Wheel Loader</td>\n",
              "      <td>#na#</td>\n",
              "      <td>EROPS w AC</td>\n",
              "      <td>None or Unspecified</td>\n",
              "      <td>#na#</td>\n",
              "      <td>None or Unspecified</td>\n",
              "      <td>#na#</td>\n",
              "      <td>#na#</td>\n",
              "      <td>#na#</td>\n",
              "      <td>#na#</td>\n",
              "      <td>#na#</td>\n",
              "      <td>#na#</td>\n",
              "      <td>#na#</td>\n",
              "      <td>2 Valve</td>\n",
              "      <td>#na#</td>\n",
              "      <td>#na#</td>\n",
              "      <td>#na#</td>\n",
              "      <td>#na#</td>\n",
              "      <td>None or Unspecified</td>\n",
              "      <td>None or Unspecified</td>\n",
              "      <td>#na#</td>\n",
              "      <td>#na#</td>\n",
              "      <td>#na#</td>\n",
              "      <td>#na#</td>\n",
              "      <td>#na#</td>\n",
              "      <td>#na#</td>\n",
              "      <td>#na#</td>\n",
              "      <td>#na#</td>\n",
              "      <td>#na#</td>\n",
              "      <td>#na#</td>\n",
              "      <td>#na#</td>\n",
              "      <td>#na#</td>\n",
              "      <td>Standard</td>\n",
              "      <td>Conventional</td>\n",
              "      <td>False</td>\n",
              "      <td>False</td>\n",
              "      <td>False</td>\n",
              "      <td>False</td>\n",
              "      <td>False</td>\n",
              "      <td>False</td>\n",
              "      <td>False</td>\n",
              "      <td>False</td>\n",
              "      <td>1139246</td>\n",
              "      <td>999089</td>\n",
              "      <td>3157</td>\n",
              "      <td>121</td>\n",
              "      <td>3.0</td>\n",
              "      <td>2004</td>\n",
              "      <td>68.0</td>\n",
              "      <td>2006</td>\n",
              "      <td>11</td>\n",
              "      <td>46</td>\n",
              "      <td>16</td>\n",
              "      <td>3</td>\n",
              "      <td>320</td>\n",
              "      <td>1.163635e+09</td>\n",
              "      <td>11.097410</td>\n",
              "    </tr>\n",
              "    <tr>\n",
              "      <th>1</th>\n",
              "      <td>Low</td>\n",
              "      <td>950FII</td>\n",
              "      <td>950</td>\n",
              "      <td>F</td>\n",
              "      <td>II</td>\n",
              "      <td>#na#</td>\n",
              "      <td>Medium</td>\n",
              "      <td>Wheel Loader - 150.0 to 175.0 Horsepower</td>\n",
              "      <td>North Carolina</td>\n",
              "      <td>WL</td>\n",
              "      <td>Wheel Loader</td>\n",
              "      <td>#na#</td>\n",
              "      <td>EROPS w AC</td>\n",
              "      <td>None or Unspecified</td>\n",
              "      <td>#na#</td>\n",
              "      <td>None or Unspecified</td>\n",
              "      <td>#na#</td>\n",
              "      <td>#na#</td>\n",
              "      <td>#na#</td>\n",
              "      <td>#na#</td>\n",
              "      <td>#na#</td>\n",
              "      <td>#na#</td>\n",
              "      <td>#na#</td>\n",
              "      <td>2 Valve</td>\n",
              "      <td>#na#</td>\n",
              "      <td>#na#</td>\n",
              "      <td>#na#</td>\n",
              "      <td>#na#</td>\n",
              "      <td>23.5</td>\n",
              "      <td>None or Unspecified</td>\n",
              "      <td>#na#</td>\n",
              "      <td>#na#</td>\n",
              "      <td>#na#</td>\n",
              "      <td>#na#</td>\n",
              "      <td>#na#</td>\n",
              "      <td>#na#</td>\n",
              "      <td>#na#</td>\n",
              "      <td>#na#</td>\n",
              "      <td>#na#</td>\n",
              "      <td>#na#</td>\n",
              "      <td>#na#</td>\n",
              "      <td>#na#</td>\n",
              "      <td>Standard</td>\n",
              "      <td>Conventional</td>\n",
              "      <td>False</td>\n",
              "      <td>False</td>\n",
              "      <td>False</td>\n",
              "      <td>False</td>\n",
              "      <td>False</td>\n",
              "      <td>False</td>\n",
              "      <td>False</td>\n",
              "      <td>False</td>\n",
              "      <td>1139248</td>\n",
              "      <td>117657</td>\n",
              "      <td>77</td>\n",
              "      <td>121</td>\n",
              "      <td>3.0</td>\n",
              "      <td>1996</td>\n",
              "      <td>4640.0</td>\n",
              "      <td>2004</td>\n",
              "      <td>3</td>\n",
              "      <td>13</td>\n",
              "      <td>26</td>\n",
              "      <td>4</td>\n",
              "      <td>86</td>\n",
              "      <td>1.080259e+09</td>\n",
              "      <td>10.950807</td>\n",
              "    </tr>\n",
              "    <tr>\n",
              "      <th>2</th>\n",
              "      <td>High</td>\n",
              "      <td>226</td>\n",
              "      <td>226</td>\n",
              "      <td>#na#</td>\n",
              "      <td>#na#</td>\n",
              "      <td>#na#</td>\n",
              "      <td>#na#</td>\n",
              "      <td>Skid Steer Loader - 1351.0 to 1601.0 Lb Operating Capacity</td>\n",
              "      <td>New York</td>\n",
              "      <td>SSL</td>\n",
              "      <td>Skid Steer Loaders</td>\n",
              "      <td>#na#</td>\n",
              "      <td>OROPS</td>\n",
              "      <td>None or Unspecified</td>\n",
              "      <td>#na#</td>\n",
              "      <td>#na#</td>\n",
              "      <td>#na#</td>\n",
              "      <td>#na#</td>\n",
              "      <td>#na#</td>\n",
              "      <td>#na#</td>\n",
              "      <td>#na#</td>\n",
              "      <td>#na#</td>\n",
              "      <td>#na#</td>\n",
              "      <td>Auxiliary</td>\n",
              "      <td>#na#</td>\n",
              "      <td>#na#</td>\n",
              "      <td>#na#</td>\n",
              "      <td>#na#</td>\n",
              "      <td>#na#</td>\n",
              "      <td>None or Unspecified</td>\n",
              "      <td>None or Unspecified</td>\n",
              "      <td>None or Unspecified</td>\n",
              "      <td>Standard</td>\n",
              "      <td>#na#</td>\n",
              "      <td>#na#</td>\n",
              "      <td>#na#</td>\n",
              "      <td>#na#</td>\n",
              "      <td>#na#</td>\n",
              "      <td>#na#</td>\n",
              "      <td>#na#</td>\n",
              "      <td>#na#</td>\n",
              "      <td>#na#</td>\n",
              "      <td>#na#</td>\n",
              "      <td>#na#</td>\n",
              "      <td>False</td>\n",
              "      <td>False</td>\n",
              "      <td>False</td>\n",
              "      <td>False</td>\n",
              "      <td>False</td>\n",
              "      <td>False</td>\n",
              "      <td>False</td>\n",
              "      <td>False</td>\n",
              "      <td>1139249</td>\n",
              "      <td>434808</td>\n",
              "      <td>7009</td>\n",
              "      <td>121</td>\n",
              "      <td>3.0</td>\n",
              "      <td>2001</td>\n",
              "      <td>2838.0</td>\n",
              "      <td>2004</td>\n",
              "      <td>2</td>\n",
              "      <td>9</td>\n",
              "      <td>26</td>\n",
              "      <td>3</td>\n",
              "      <td>57</td>\n",
              "      <td>1.077754e+09</td>\n",
              "      <td>9.210340</td>\n",
              "    </tr>\n",
              "  </tbody>\n",
              "</table>"
            ]
          },
          "metadata": {}
        }
      ]
    },
    {
      "cell_type": "code",
      "source": [
        "to.items.head(3)"
      ],
      "metadata": {
        "colab": {
          "base_uri": "https://localhost:8080/",
          "height": 173
        },
        "id": "FrqI8A3Taljy",
        "outputId": "2f06213c-323d-4e26-9ab2-fb2b24785bf9"
      },
      "execution_count": 49,
      "outputs": [
        {
          "output_type": "execute_result",
          "data": {
            "text/plain": [
              "   SalesID  SalePrice  MachineID  ModelID  ...  saleIs_year_start  \\\n",
              "0  1139246  11.097410     999089     3157  ...                  1   \n",
              "1  1139248  10.950807     117657       77  ...                  1   \n",
              "2  1139249   9.210340     434808     7009  ...                  1   \n",
              "\n",
              "    saleElapsed  auctioneerID_na  MachineHoursCurrentMeter_na  \n",
              "0  1.163635e+09                1                            1  \n",
              "1  1.080259e+09                1                            1  \n",
              "2  1.077754e+09                1                            1  \n",
              "\n",
              "[3 rows x 67 columns]"
            ],
            "text/html": [
              "\n",
              "  <div id=\"df-d9fa3c4d-f822-40ac-a388-2479608ec202\" class=\"colab-df-container\">\n",
              "    <div>\n",
              "<style scoped>\n",
              "    .dataframe tbody tr th:only-of-type {\n",
              "        vertical-align: middle;\n",
              "    }\n",
              "\n",
              "    .dataframe tbody tr th {\n",
              "        vertical-align: top;\n",
              "    }\n",
              "\n",
              "    .dataframe thead th {\n",
              "        text-align: right;\n",
              "    }\n",
              "</style>\n",
              "<table border=\"1\" class=\"dataframe\">\n",
              "  <thead>\n",
              "    <tr style=\"text-align: right;\">\n",
              "      <th></th>\n",
              "      <th>SalesID</th>\n",
              "      <th>SalePrice</th>\n",
              "      <th>MachineID</th>\n",
              "      <th>ModelID</th>\n",
              "      <th>...</th>\n",
              "      <th>saleIs_year_start</th>\n",
              "      <th>saleElapsed</th>\n",
              "      <th>auctioneerID_na</th>\n",
              "      <th>MachineHoursCurrentMeter_na</th>\n",
              "    </tr>\n",
              "  </thead>\n",
              "  <tbody>\n",
              "    <tr>\n",
              "      <th>0</th>\n",
              "      <td>1139246</td>\n",
              "      <td>11.097410</td>\n",
              "      <td>999089</td>\n",
              "      <td>3157</td>\n",
              "      <td>...</td>\n",
              "      <td>1</td>\n",
              "      <td>1.163635e+09</td>\n",
              "      <td>1</td>\n",
              "      <td>1</td>\n",
              "    </tr>\n",
              "    <tr>\n",
              "      <th>1</th>\n",
              "      <td>1139248</td>\n",
              "      <td>10.950807</td>\n",
              "      <td>117657</td>\n",
              "      <td>77</td>\n",
              "      <td>...</td>\n",
              "      <td>1</td>\n",
              "      <td>1.080259e+09</td>\n",
              "      <td>1</td>\n",
              "      <td>1</td>\n",
              "    </tr>\n",
              "    <tr>\n",
              "      <th>2</th>\n",
              "      <td>1139249</td>\n",
              "      <td>9.210340</td>\n",
              "      <td>434808</td>\n",
              "      <td>7009</td>\n",
              "      <td>...</td>\n",
              "      <td>1</td>\n",
              "      <td>1.077754e+09</td>\n",
              "      <td>1</td>\n",
              "      <td>1</td>\n",
              "    </tr>\n",
              "  </tbody>\n",
              "</table>\n",
              "<p>3 rows × 67 columns</p>\n",
              "</div>\n",
              "    <div class=\"colab-df-buttons\">\n",
              "\n",
              "  <div class=\"colab-df-container\">\n",
              "    <button class=\"colab-df-convert\" onclick=\"convertToInteractive('df-d9fa3c4d-f822-40ac-a388-2479608ec202')\"\n",
              "            title=\"Convert this dataframe to an interactive table.\"\n",
              "            style=\"display:none;\">\n",
              "\n",
              "  <svg xmlns=\"http://www.w3.org/2000/svg\" height=\"24px\" viewBox=\"0 -960 960 960\">\n",
              "    <path d=\"M120-120v-720h720v720H120Zm60-500h600v-160H180v160Zm220 220h160v-160H400v160Zm0 220h160v-160H400v160ZM180-400h160v-160H180v160Zm440 0h160v-160H620v160ZM180-180h160v-160H180v160Zm440 0h160v-160H620v160Z\"/>\n",
              "  </svg>\n",
              "    </button>\n",
              "\n",
              "  <style>\n",
              "    .colab-df-container {\n",
              "      display:flex;\n",
              "      gap: 12px;\n",
              "    }\n",
              "\n",
              "    .colab-df-convert {\n",
              "      background-color: #E8F0FE;\n",
              "      border: none;\n",
              "      border-radius: 50%;\n",
              "      cursor: pointer;\n",
              "      display: none;\n",
              "      fill: #1967D2;\n",
              "      height: 32px;\n",
              "      padding: 0 0 0 0;\n",
              "      width: 32px;\n",
              "    }\n",
              "\n",
              "    .colab-df-convert:hover {\n",
              "      background-color: #E2EBFA;\n",
              "      box-shadow: 0px 1px 2px rgba(60, 64, 67, 0.3), 0px 1px 3px 1px rgba(60, 64, 67, 0.15);\n",
              "      fill: #174EA6;\n",
              "    }\n",
              "\n",
              "    .colab-df-buttons div {\n",
              "      margin-bottom: 4px;\n",
              "    }\n",
              "\n",
              "    [theme=dark] .colab-df-convert {\n",
              "      background-color: #3B4455;\n",
              "      fill: #D2E3FC;\n",
              "    }\n",
              "\n",
              "    [theme=dark] .colab-df-convert:hover {\n",
              "      background-color: #434B5C;\n",
              "      box-shadow: 0px 1px 3px 1px rgba(0, 0, 0, 0.15);\n",
              "      filter: drop-shadow(0px 1px 2px rgba(0, 0, 0, 0.3));\n",
              "      fill: #FFFFFF;\n",
              "    }\n",
              "  </style>\n",
              "\n",
              "    <script>\n",
              "      const buttonEl =\n",
              "        document.querySelector('#df-d9fa3c4d-f822-40ac-a388-2479608ec202 button.colab-df-convert');\n",
              "      buttonEl.style.display =\n",
              "        google.colab.kernel.accessAllowed ? 'block' : 'none';\n",
              "\n",
              "      async function convertToInteractive(key) {\n",
              "        const element = document.querySelector('#df-d9fa3c4d-f822-40ac-a388-2479608ec202');\n",
              "        const dataTable =\n",
              "          await google.colab.kernel.invokeFunction('convertToInteractive',\n",
              "                                                    [key], {});\n",
              "        if (!dataTable) return;\n",
              "\n",
              "        const docLinkHtml = 'Like what you see? Visit the ' +\n",
              "          '<a target=\"_blank\" href=https://colab.research.google.com/notebooks/data_table.ipynb>data table notebook</a>'\n",
              "          + ' to learn more about interactive tables.';\n",
              "        element.innerHTML = '';\n",
              "        dataTable['output_type'] = 'display_data';\n",
              "        await google.colab.output.renderOutput(dataTable, element);\n",
              "        const docLink = document.createElement('div');\n",
              "        docLink.innerHTML = docLinkHtml;\n",
              "        element.appendChild(docLink);\n",
              "      }\n",
              "    </script>\n",
              "  </div>\n",
              "\n",
              "\n",
              "<div id=\"df-24f3155c-0b87-415c-bb9d-c4ead2a36510\">\n",
              "  <button class=\"colab-df-quickchart\" onclick=\"quickchart('df-24f3155c-0b87-415c-bb9d-c4ead2a36510')\"\n",
              "            title=\"Suggest charts\"\n",
              "            style=\"display:none;\">\n",
              "\n",
              "<svg xmlns=\"http://www.w3.org/2000/svg\" height=\"24px\"viewBox=\"0 0 24 24\"\n",
              "     width=\"24px\">\n",
              "    <g>\n",
              "        <path d=\"M19 3H5c-1.1 0-2 .9-2 2v14c0 1.1.9 2 2 2h14c1.1 0 2-.9 2-2V5c0-1.1-.9-2-2-2zM9 17H7v-7h2v7zm4 0h-2V7h2v10zm4 0h-2v-4h2v4z\"/>\n",
              "    </g>\n",
              "</svg>\n",
              "  </button>\n",
              "\n",
              "<style>\n",
              "  .colab-df-quickchart {\n",
              "      --bg-color: #E8F0FE;\n",
              "      --fill-color: #1967D2;\n",
              "      --hover-bg-color: #E2EBFA;\n",
              "      --hover-fill-color: #174EA6;\n",
              "      --disabled-fill-color: #AAA;\n",
              "      --disabled-bg-color: #DDD;\n",
              "  }\n",
              "\n",
              "  [theme=dark] .colab-df-quickchart {\n",
              "      --bg-color: #3B4455;\n",
              "      --fill-color: #D2E3FC;\n",
              "      --hover-bg-color: #434B5C;\n",
              "      --hover-fill-color: #FFFFFF;\n",
              "      --disabled-bg-color: #3B4455;\n",
              "      --disabled-fill-color: #666;\n",
              "  }\n",
              "\n",
              "  .colab-df-quickchart {\n",
              "    background-color: var(--bg-color);\n",
              "    border: none;\n",
              "    border-radius: 50%;\n",
              "    cursor: pointer;\n",
              "    display: none;\n",
              "    fill: var(--fill-color);\n",
              "    height: 32px;\n",
              "    padding: 0;\n",
              "    width: 32px;\n",
              "  }\n",
              "\n",
              "  .colab-df-quickchart:hover {\n",
              "    background-color: var(--hover-bg-color);\n",
              "    box-shadow: 0 1px 2px rgba(60, 64, 67, 0.3), 0 1px 3px 1px rgba(60, 64, 67, 0.15);\n",
              "    fill: var(--button-hover-fill-color);\n",
              "  }\n",
              "\n",
              "  .colab-df-quickchart-complete:disabled,\n",
              "  .colab-df-quickchart-complete:disabled:hover {\n",
              "    background-color: var(--disabled-bg-color);\n",
              "    fill: var(--disabled-fill-color);\n",
              "    box-shadow: none;\n",
              "  }\n",
              "\n",
              "  .colab-df-spinner {\n",
              "    border: 2px solid var(--fill-color);\n",
              "    border-color: transparent;\n",
              "    border-bottom-color: var(--fill-color);\n",
              "    animation:\n",
              "      spin 1s steps(1) infinite;\n",
              "  }\n",
              "\n",
              "  @keyframes spin {\n",
              "    0% {\n",
              "      border-color: transparent;\n",
              "      border-bottom-color: var(--fill-color);\n",
              "      border-left-color: var(--fill-color);\n",
              "    }\n",
              "    20% {\n",
              "      border-color: transparent;\n",
              "      border-left-color: var(--fill-color);\n",
              "      border-top-color: var(--fill-color);\n",
              "    }\n",
              "    30% {\n",
              "      border-color: transparent;\n",
              "      border-left-color: var(--fill-color);\n",
              "      border-top-color: var(--fill-color);\n",
              "      border-right-color: var(--fill-color);\n",
              "    }\n",
              "    40% {\n",
              "      border-color: transparent;\n",
              "      border-right-color: var(--fill-color);\n",
              "      border-top-color: var(--fill-color);\n",
              "    }\n",
              "    60% {\n",
              "      border-color: transparent;\n",
              "      border-right-color: var(--fill-color);\n",
              "    }\n",
              "    80% {\n",
              "      border-color: transparent;\n",
              "      border-right-color: var(--fill-color);\n",
              "      border-bottom-color: var(--fill-color);\n",
              "    }\n",
              "    90% {\n",
              "      border-color: transparent;\n",
              "      border-bottom-color: var(--fill-color);\n",
              "    }\n",
              "  }\n",
              "</style>\n",
              "\n",
              "  <script>\n",
              "    async function quickchart(key) {\n",
              "      const quickchartButtonEl =\n",
              "        document.querySelector('#' + key + ' button');\n",
              "      quickchartButtonEl.disabled = true;  // To prevent multiple clicks.\n",
              "      quickchartButtonEl.classList.add('colab-df-spinner');\n",
              "      try {\n",
              "        const charts = await google.colab.kernel.invokeFunction(\n",
              "            'suggestCharts', [key], {});\n",
              "      } catch (error) {\n",
              "        console.error('Error during call to suggestCharts:', error);\n",
              "      }\n",
              "      quickchartButtonEl.classList.remove('colab-df-spinner');\n",
              "      quickchartButtonEl.classList.add('colab-df-quickchart-complete');\n",
              "    }\n",
              "    (() => {\n",
              "      let quickchartButtonEl =\n",
              "        document.querySelector('#df-24f3155c-0b87-415c-bb9d-c4ead2a36510 button');\n",
              "      quickchartButtonEl.style.display =\n",
              "        google.colab.kernel.accessAllowed ? 'block' : 'none';\n",
              "    })();\n",
              "  </script>\n",
              "</div>\n",
              "\n",
              "    </div>\n",
              "  </div>\n"
            ],
            "application/vnd.google.colaboratory.intrinsic+json": {
              "type": "dataframe"
            }
          },
          "metadata": {},
          "execution_count": 49
        }
      ]
    },
    {
      "cell_type": "code",
      "source": [
        "to1 = TabularPandas(df, procs, ['state', 'ProductGroup', 'Drive_System', 'Enclosure'],\n",
        "                    [], y_names=dep_var, splits=splits)\n",
        "to1.show(3)"
      ],
      "metadata": {
        "colab": {
          "base_uri": "https://localhost:8080/",
          "height": 143
        },
        "id": "UZk4Rx3Lalnu",
        "outputId": "50645679-d252-456f-aea5-3d3edf42bb3b"
      },
      "execution_count": 50,
      "outputs": [
        {
          "output_type": "display_data",
          "data": {
            "text/plain": [
              "<IPython.core.display.HTML object>"
            ],
            "text/html": [
              "<table border=\"1\" class=\"dataframe\">\n",
              "  <thead>\n",
              "    <tr style=\"text-align: right;\">\n",
              "      <th></th>\n",
              "      <th>state</th>\n",
              "      <th>ProductGroup</th>\n",
              "      <th>Drive_System</th>\n",
              "      <th>Enclosure</th>\n",
              "      <th>SalePrice</th>\n",
              "    </tr>\n",
              "  </thead>\n",
              "  <tbody>\n",
              "    <tr>\n",
              "      <th>0</th>\n",
              "      <td>Alabama</td>\n",
              "      <td>WL</td>\n",
              "      <td>#na#</td>\n",
              "      <td>EROPS w AC</td>\n",
              "      <td>11.097410</td>\n",
              "    </tr>\n",
              "    <tr>\n",
              "      <th>1</th>\n",
              "      <td>North Carolina</td>\n",
              "      <td>WL</td>\n",
              "      <td>#na#</td>\n",
              "      <td>EROPS w AC</td>\n",
              "      <td>10.950807</td>\n",
              "    </tr>\n",
              "    <tr>\n",
              "      <th>2</th>\n",
              "      <td>New York</td>\n",
              "      <td>SSL</td>\n",
              "      <td>#na#</td>\n",
              "      <td>OROPS</td>\n",
              "      <td>9.210340</td>\n",
              "    </tr>\n",
              "  </tbody>\n",
              "</table>"
            ]
          },
          "metadata": {}
        }
      ]
    },
    {
      "cell_type": "code",
      "source": [
        "to1.items[['state', 'ProductGroup', 'Drive_System', 'Enclosure']].head(3)"
      ],
      "metadata": {
        "colab": {
          "base_uri": "https://localhost:8080/",
          "height": 143
        },
        "id": "pRc2XaYYalsd",
        "outputId": "f69479dd-62a2-4078-ba44-8b1d4e9ee5f5"
      },
      "execution_count": 53,
      "outputs": [
        {
          "output_type": "execute_result",
          "data": {
            "text/plain": [
              "   state  ProductGroup  Drive_System  Enclosure\n",
              "0      1             6             0          3\n",
              "1     33             6             0          3\n",
              "2     32             3             0          6"
            ],
            "text/html": [
              "\n",
              "  <div id=\"df-2230bab7-8b1f-4539-a345-144e0865d830\" class=\"colab-df-container\">\n",
              "    <div>\n",
              "<style scoped>\n",
              "    .dataframe tbody tr th:only-of-type {\n",
              "        vertical-align: middle;\n",
              "    }\n",
              "\n",
              "    .dataframe tbody tr th {\n",
              "        vertical-align: top;\n",
              "    }\n",
              "\n",
              "    .dataframe thead th {\n",
              "        text-align: right;\n",
              "    }\n",
              "</style>\n",
              "<table border=\"1\" class=\"dataframe\">\n",
              "  <thead>\n",
              "    <tr style=\"text-align: right;\">\n",
              "      <th></th>\n",
              "      <th>state</th>\n",
              "      <th>ProductGroup</th>\n",
              "      <th>Drive_System</th>\n",
              "      <th>Enclosure</th>\n",
              "    </tr>\n",
              "  </thead>\n",
              "  <tbody>\n",
              "    <tr>\n",
              "      <th>0</th>\n",
              "      <td>1</td>\n",
              "      <td>6</td>\n",
              "      <td>0</td>\n",
              "      <td>3</td>\n",
              "    </tr>\n",
              "    <tr>\n",
              "      <th>1</th>\n",
              "      <td>33</td>\n",
              "      <td>6</td>\n",
              "      <td>0</td>\n",
              "      <td>3</td>\n",
              "    </tr>\n",
              "    <tr>\n",
              "      <th>2</th>\n",
              "      <td>32</td>\n",
              "      <td>3</td>\n",
              "      <td>0</td>\n",
              "      <td>6</td>\n",
              "    </tr>\n",
              "  </tbody>\n",
              "</table>\n",
              "</div>\n",
              "    <div class=\"colab-df-buttons\">\n",
              "\n",
              "  <div class=\"colab-df-container\">\n",
              "    <button class=\"colab-df-convert\" onclick=\"convertToInteractive('df-2230bab7-8b1f-4539-a345-144e0865d830')\"\n",
              "            title=\"Convert this dataframe to an interactive table.\"\n",
              "            style=\"display:none;\">\n",
              "\n",
              "  <svg xmlns=\"http://www.w3.org/2000/svg\" height=\"24px\" viewBox=\"0 -960 960 960\">\n",
              "    <path d=\"M120-120v-720h720v720H120Zm60-500h600v-160H180v160Zm220 220h160v-160H400v160Zm0 220h160v-160H400v160ZM180-400h160v-160H180v160Zm440 0h160v-160H620v160ZM180-180h160v-160H180v160Zm440 0h160v-160H620v160Z\"/>\n",
              "  </svg>\n",
              "    </button>\n",
              "\n",
              "  <style>\n",
              "    .colab-df-container {\n",
              "      display:flex;\n",
              "      gap: 12px;\n",
              "    }\n",
              "\n",
              "    .colab-df-convert {\n",
              "      background-color: #E8F0FE;\n",
              "      border: none;\n",
              "      border-radius: 50%;\n",
              "      cursor: pointer;\n",
              "      display: none;\n",
              "      fill: #1967D2;\n",
              "      height: 32px;\n",
              "      padding: 0 0 0 0;\n",
              "      width: 32px;\n",
              "    }\n",
              "\n",
              "    .colab-df-convert:hover {\n",
              "      background-color: #E2EBFA;\n",
              "      box-shadow: 0px 1px 2px rgba(60, 64, 67, 0.3), 0px 1px 3px 1px rgba(60, 64, 67, 0.15);\n",
              "      fill: #174EA6;\n",
              "    }\n",
              "\n",
              "    .colab-df-buttons div {\n",
              "      margin-bottom: 4px;\n",
              "    }\n",
              "\n",
              "    [theme=dark] .colab-df-convert {\n",
              "      background-color: #3B4455;\n",
              "      fill: #D2E3FC;\n",
              "    }\n",
              "\n",
              "    [theme=dark] .colab-df-convert:hover {\n",
              "      background-color: #434B5C;\n",
              "      box-shadow: 0px 1px 3px 1px rgba(0, 0, 0, 0.15);\n",
              "      filter: drop-shadow(0px 1px 2px rgba(0, 0, 0, 0.3));\n",
              "      fill: #FFFFFF;\n",
              "    }\n",
              "  </style>\n",
              "\n",
              "    <script>\n",
              "      const buttonEl =\n",
              "        document.querySelector('#df-2230bab7-8b1f-4539-a345-144e0865d830 button.colab-df-convert');\n",
              "      buttonEl.style.display =\n",
              "        google.colab.kernel.accessAllowed ? 'block' : 'none';\n",
              "\n",
              "      async function convertToInteractive(key) {\n",
              "        const element = document.querySelector('#df-2230bab7-8b1f-4539-a345-144e0865d830');\n",
              "        const dataTable =\n",
              "          await google.colab.kernel.invokeFunction('convertToInteractive',\n",
              "                                                    [key], {});\n",
              "        if (!dataTable) return;\n",
              "\n",
              "        const docLinkHtml = 'Like what you see? Visit the ' +\n",
              "          '<a target=\"_blank\" href=https://colab.research.google.com/notebooks/data_table.ipynb>data table notebook</a>'\n",
              "          + ' to learn more about interactive tables.';\n",
              "        element.innerHTML = '';\n",
              "        dataTable['output_type'] = 'display_data';\n",
              "        await google.colab.output.renderOutput(dataTable, element);\n",
              "        const docLink = document.createElement('div');\n",
              "        docLink.innerHTML = docLinkHtml;\n",
              "        element.appendChild(docLink);\n",
              "      }\n",
              "    </script>\n",
              "  </div>\n",
              "\n",
              "\n",
              "<div id=\"df-0b256e7a-037c-4f2a-aaf5-814c4041f816\">\n",
              "  <button class=\"colab-df-quickchart\" onclick=\"quickchart('df-0b256e7a-037c-4f2a-aaf5-814c4041f816')\"\n",
              "            title=\"Suggest charts\"\n",
              "            style=\"display:none;\">\n",
              "\n",
              "<svg xmlns=\"http://www.w3.org/2000/svg\" height=\"24px\"viewBox=\"0 0 24 24\"\n",
              "     width=\"24px\">\n",
              "    <g>\n",
              "        <path d=\"M19 3H5c-1.1 0-2 .9-2 2v14c0 1.1.9 2 2 2h14c1.1 0 2-.9 2-2V5c0-1.1-.9-2-2-2zM9 17H7v-7h2v7zm4 0h-2V7h2v10zm4 0h-2v-4h2v4z\"/>\n",
              "    </g>\n",
              "</svg>\n",
              "  </button>\n",
              "\n",
              "<style>\n",
              "  .colab-df-quickchart {\n",
              "      --bg-color: #E8F0FE;\n",
              "      --fill-color: #1967D2;\n",
              "      --hover-bg-color: #E2EBFA;\n",
              "      --hover-fill-color: #174EA6;\n",
              "      --disabled-fill-color: #AAA;\n",
              "      --disabled-bg-color: #DDD;\n",
              "  }\n",
              "\n",
              "  [theme=dark] .colab-df-quickchart {\n",
              "      --bg-color: #3B4455;\n",
              "      --fill-color: #D2E3FC;\n",
              "      --hover-bg-color: #434B5C;\n",
              "      --hover-fill-color: #FFFFFF;\n",
              "      --disabled-bg-color: #3B4455;\n",
              "      --disabled-fill-color: #666;\n",
              "  }\n",
              "\n",
              "  .colab-df-quickchart {\n",
              "    background-color: var(--bg-color);\n",
              "    border: none;\n",
              "    border-radius: 50%;\n",
              "    cursor: pointer;\n",
              "    display: none;\n",
              "    fill: var(--fill-color);\n",
              "    height: 32px;\n",
              "    padding: 0;\n",
              "    width: 32px;\n",
              "  }\n",
              "\n",
              "  .colab-df-quickchart:hover {\n",
              "    background-color: var(--hover-bg-color);\n",
              "    box-shadow: 0 1px 2px rgba(60, 64, 67, 0.3), 0 1px 3px 1px rgba(60, 64, 67, 0.15);\n",
              "    fill: var(--button-hover-fill-color);\n",
              "  }\n",
              "\n",
              "  .colab-df-quickchart-complete:disabled,\n",
              "  .colab-df-quickchart-complete:disabled:hover {\n",
              "    background-color: var(--disabled-bg-color);\n",
              "    fill: var(--disabled-fill-color);\n",
              "    box-shadow: none;\n",
              "  }\n",
              "\n",
              "  .colab-df-spinner {\n",
              "    border: 2px solid var(--fill-color);\n",
              "    border-color: transparent;\n",
              "    border-bottom-color: var(--fill-color);\n",
              "    animation:\n",
              "      spin 1s steps(1) infinite;\n",
              "  }\n",
              "\n",
              "  @keyframes spin {\n",
              "    0% {\n",
              "      border-color: transparent;\n",
              "      border-bottom-color: var(--fill-color);\n",
              "      border-left-color: var(--fill-color);\n",
              "    }\n",
              "    20% {\n",
              "      border-color: transparent;\n",
              "      border-left-color: var(--fill-color);\n",
              "      border-top-color: var(--fill-color);\n",
              "    }\n",
              "    30% {\n",
              "      border-color: transparent;\n",
              "      border-left-color: var(--fill-color);\n",
              "      border-top-color: var(--fill-color);\n",
              "      border-right-color: var(--fill-color);\n",
              "    }\n",
              "    40% {\n",
              "      border-color: transparent;\n",
              "      border-right-color: var(--fill-color);\n",
              "      border-top-color: var(--fill-color);\n",
              "    }\n",
              "    60% {\n",
              "      border-color: transparent;\n",
              "      border-right-color: var(--fill-color);\n",
              "    }\n",
              "    80% {\n",
              "      border-color: transparent;\n",
              "      border-right-color: var(--fill-color);\n",
              "      border-bottom-color: var(--fill-color);\n",
              "    }\n",
              "    90% {\n",
              "      border-color: transparent;\n",
              "      border-bottom-color: var(--fill-color);\n",
              "    }\n",
              "  }\n",
              "</style>\n",
              "\n",
              "  <script>\n",
              "    async function quickchart(key) {\n",
              "      const quickchartButtonEl =\n",
              "        document.querySelector('#' + key + ' button');\n",
              "      quickchartButtonEl.disabled = true;  // To prevent multiple clicks.\n",
              "      quickchartButtonEl.classList.add('colab-df-spinner');\n",
              "      try {\n",
              "        const charts = await google.colab.kernel.invokeFunction(\n",
              "            'suggestCharts', [key], {});\n",
              "      } catch (error) {\n",
              "        console.error('Error during call to suggestCharts:', error);\n",
              "      }\n",
              "      quickchartButtonEl.classList.remove('colab-df-spinner');\n",
              "      quickchartButtonEl.classList.add('colab-df-quickchart-complete');\n",
              "    }\n",
              "    (() => {\n",
              "      let quickchartButtonEl =\n",
              "        document.querySelector('#df-0b256e7a-037c-4f2a-aaf5-814c4041f816 button');\n",
              "      quickchartButtonEl.style.display =\n",
              "        google.colab.kernel.accessAllowed ? 'block' : 'none';\n",
              "    })();\n",
              "  </script>\n",
              "</div>\n",
              "\n",
              "    </div>\n",
              "  </div>\n"
            ],
            "application/vnd.google.colaboratory.intrinsic+json": {
              "type": "dataframe",
              "summary": "{\n  \"name\": \"to1\",\n  \"rows\": 3,\n  \"fields\": [\n    {\n      \"column\": \"state\",\n      \"properties\": {\n        \"dtype\": \"int8\",\n        \"num_unique_values\": 3,\n        \"samples\": [\n          1,\n          33,\n          32\n        ],\n        \"semantic_type\": \"\",\n        \"description\": \"\"\n      }\n    },\n    {\n      \"column\": \"ProductGroup\",\n      \"properties\": {\n        \"dtype\": \"int8\",\n        \"num_unique_values\": 2,\n        \"samples\": [\n          3,\n          6\n        ],\n        \"semantic_type\": \"\",\n        \"description\": \"\"\n      }\n    },\n    {\n      \"column\": \"Drive_System\",\n      \"properties\": {\n        \"dtype\": \"int8\",\n        \"num_unique_values\": 1,\n        \"samples\": [\n          0\n        ],\n        \"semantic_type\": \"\",\n        \"description\": \"\"\n      }\n    },\n    {\n      \"column\": \"Enclosure\",\n      \"properties\": {\n        \"dtype\": \"int8\",\n        \"num_unique_values\": 2,\n        \"samples\": [\n          6\n        ],\n        \"semantic_type\": \"\",\n        \"description\": \"\"\n      }\n    }\n  ]\n}"
            }
          },
          "metadata": {},
          "execution_count": 53
        }
      ]
    },
    {
      "cell_type": "code",
      "source": [
        "# classes allows us to see the mappings of categorical numberings\n",
        "to.classes['ProductSize']"
      ],
      "metadata": {
        "colab": {
          "base_uri": "https://localhost:8080/"
        },
        "id": "XaeCmz8Calw0",
        "outputId": "6ac9e024-bd80-4ed7-bbf6-fbe8f832026b"
      },
      "execution_count": 54,
      "outputs": [
        {
          "output_type": "execute_result",
          "data": {
            "text/plain": [
              "['#na#', 'Large', 'Large / Medium', 'Medium', 'Small', 'Mini', 'Compact']"
            ]
          },
          "metadata": {},
          "execution_count": 54
        }
      ]
    },
    {
      "cell_type": "code",
      "source": [
        "to.classes['ProductGroup']"
      ],
      "metadata": {
        "colab": {
          "base_uri": "https://localhost:8080/"
        },
        "id": "5Q51KiFpal1Y",
        "outputId": "48d15052-fa0e-4d23-c244-3bd5448b0249"
      },
      "execution_count": 55,
      "outputs": [
        {
          "output_type": "execute_result",
          "data": {
            "text/plain": [
              "['#na#', 'BL', 'MG', 'SSL', 'TEX', 'TTT', 'WL']"
            ]
          },
          "metadata": {},
          "execution_count": 55
        }
      ]
    },
    {
      "cell_type": "code",
      "source": [
        "# Saving the file in local pickle format to speed things up.\n",
        "save_pickle(path/'to.pkl', to)"
      ],
      "metadata": {
        "id": "9w2tddPDX6j0"
      },
      "execution_count": 56,
      "outputs": []
    },
    {
      "cell_type": "code",
      "source": [],
      "metadata": {
        "id": "4RBBMECusEtr"
      },
      "execution_count": null,
      "outputs": []
    }
  ]
}