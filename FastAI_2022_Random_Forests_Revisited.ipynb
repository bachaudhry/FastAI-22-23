{
  "cells": [
    {
      "cell_type": "markdown",
      "metadata": {
        "id": "view-in-github",
        "colab_type": "text"
      },
      "source": [
        "<a href=\"https://colab.research.google.com/github/bachaudhry/FastAI-22-23/blob/main/FastAI_2022_Random_Forests_Revisited.ipynb\" target=\"_parent\"><img src=\"https://colab.research.google.com/assets/colab-badge.svg\" alt=\"Open In Colab\"/></a>"
      ]
    },
    {
      "cell_type": "markdown",
      "metadata": {
        "id": "41s4GAleBKb7"
      },
      "source": [
        "# **Reviewing the Inner Workings of Random Forests**"
      ]
    },
    {
      "cell_type": "markdown",
      "metadata": {
        "id": "aYK6ns9pCRDh"
      },
      "source": [
        "## Setup"
      ]
    },
    {
      "cell_type": "code",
      "execution_count": 1,
      "metadata": {
        "colab": {
          "base_uri": "https://localhost:8080/"
        },
        "id": "tqXxYkSpCf49",
        "outputId": "2f510b50-b5ee-49ad-bd62-24fedfb1a56b"
      },
      "outputs": [
        {
          "output_type": "stream",
          "name": "stdout",
          "text": [
            "Requirement already satisfied: kaggle in /usr/local/lib/python3.10/dist-packages (1.5.16)\n",
            "Requirement already satisfied: six>=1.10 in /usr/local/lib/python3.10/dist-packages (from kaggle) (1.16.0)\n",
            "Requirement already satisfied: certifi in /usr/local/lib/python3.10/dist-packages (from kaggle) (2024.2.2)\n",
            "Requirement already satisfied: python-dateutil in /usr/local/lib/python3.10/dist-packages (from kaggle) (2.8.2)\n",
            "Requirement already satisfied: requests in /usr/local/lib/python3.10/dist-packages (from kaggle) (2.31.0)\n",
            "Requirement already satisfied: tqdm in /usr/local/lib/python3.10/dist-packages (from kaggle) (4.66.2)\n",
            "Requirement already satisfied: python-slugify in /usr/local/lib/python3.10/dist-packages (from kaggle) (8.0.4)\n",
            "Requirement already satisfied: urllib3 in /usr/local/lib/python3.10/dist-packages (from kaggle) (2.0.7)\n",
            "Requirement already satisfied: bleach in /usr/local/lib/python3.10/dist-packages (from kaggle) (6.1.0)\n",
            "Requirement already satisfied: webencodings in /usr/local/lib/python3.10/dist-packages (from bleach->kaggle) (0.5.1)\n",
            "Requirement already satisfied: text-unidecode>=1.3 in /usr/local/lib/python3.10/dist-packages (from python-slugify->kaggle) (1.3)\n",
            "Requirement already satisfied: charset-normalizer<4,>=2 in /usr/local/lib/python3.10/dist-packages (from requests->kaggle) (3.3.2)\n",
            "Requirement already satisfied: idna<4,>=2.5 in /usr/local/lib/python3.10/dist-packages (from requests->kaggle) (3.7)\n"
          ]
        }
      ],
      "source": [
        "!pip install kaggle"
      ]
    },
    {
      "cell_type": "code",
      "execution_count": 2,
      "metadata": {
        "id": "AKmOaR_iAlLp"
      },
      "outputs": [],
      "source": [
        "from fastai.imports import *\n",
        "np.set_printoptions(linewidth=130)"
      ]
    },
    {
      "cell_type": "code",
      "execution_count": 3,
      "metadata": {
        "id": "NYJ8N_ukBqj9"
      },
      "outputs": [],
      "source": [
        "import pandas as pd\n",
        "import numpy as np\n",
        "import seaborn as sns\n",
        "from sklearn.model_selection import train_test_split\n",
        "from sklearn.metrics import mean_absolute_error"
      ]
    },
    {
      "cell_type": "code",
      "execution_count": 4,
      "metadata": {
        "id": "BTKtl1NwBquF"
      },
      "outputs": [],
      "source": [
        "# Kaggle\n",
        "iskaggle = os.environ.get('KAGGLE_KERNEL_RUN_TYPE', '')\n",
        "# Credentials storage\n",
        "# Using Kaggle API key\n",
        "creds = '{\"username\":\"bachaudhry\",\"key\":\"f8e0ee26f34cb0d3e4eccd774de62f63\"}'\n",
        "cred_path = Path('~/.kaggle/kaggle.json').expanduser()\n",
        "if not cred_path.exists():\n",
        "  cred_path.parent.mkdir(exist_ok=True)\n",
        "  cred_path.write_text(creds)\n",
        "  cred_path.chmod(0o600)"
      ]
    },
    {
      "cell_type": "code",
      "execution_count": 5,
      "metadata": {
        "colab": {
          "base_uri": "https://localhost:8080/"
        },
        "id": "WFyJO3i0HxDb",
        "outputId": "e625a046-05c9-435d-f306-8f64edfc170b"
      },
      "outputs": [
        {
          "output_type": "stream",
          "name": "stdout",
          "text": [
            "Downloading titanic.zip to /content\n"
          ]
        },
        {
          "output_type": "stream",
          "name": "stderr",
          "text": [
            "100%|██████████| 34.1k/34.1k [00:00<00:00, 35.0MB/s]"
          ]
        },
        {
          "output_type": "stream",
          "name": "stdout",
          "text": [
            "\n"
          ]
        },
        {
          "output_type": "stream",
          "name": "stderr",
          "text": [
            "\n"
          ]
        }
      ],
      "source": [
        "if iskaggle:\n",
        "  path = Path('../input/titanic')\n",
        "else:\n",
        "  import zipfile, kaggle\n",
        "  path = Path('titanic')\n",
        "  kaggle.api.competition_download_cli(str(path))\n",
        "  zipfile.ZipFile(f'{path}.zip').extractall(path)"
      ]
    },
    {
      "cell_type": "markdown",
      "metadata": {
        "id": "w0oJRSQCCT12"
      },
      "source": [
        "## Data Pre-processing"
      ]
    },
    {
      "cell_type": "code",
      "execution_count": 6,
      "metadata": {
        "id": "rb3cF686CX0h"
      },
      "outputs": [],
      "source": [
        "df = pd.read_csv(path/'train.csv')\n",
        "tst_df = pd.read_csv(path/'test.csv')\n",
        "modes = df.mode().iloc[0]"
      ]
    },
    {
      "cell_type": "markdown",
      "source": [
        "One interesting point that popped up during the lessons was that Jeremy suggested that we don't need to create dummy variables when working with Random Forests.\n",
        "\n",
        "Instead, his suggestion was to convert those fields to categoricals instead. Obviously, I'll need to test this on different datasets.\n",
        "\n",
        "Also, does this carry over to boosted models as well?"
      ],
      "metadata": {
        "id": "dLRX-1ZY-eo7"
      }
    },
    {
      "cell_type": "code",
      "execution_count": 7,
      "metadata": {
        "id": "Q1IhYrdKJoHF"
      },
      "outputs": [],
      "source": [
        "# This is a pretty hacky pre-processing function\n",
        "def proc_data (df):\n",
        "  df['Fare'] = df.Fare.fillna(0)\n",
        "  df.fillna(modes, inplace=True)\n",
        "  df['LogFare'] = np.log1p(df['Fare'])\n",
        "  df['Embarked'] = pd.Categorical(df.Embarked)\n",
        "  df['Sex'] = pd.Categorical(df.Sex)\n",
        "\n",
        "# Processing train and test sets\n",
        "proc_data(df)\n",
        "proc_data(tst_df)"
      ]
    },
    {
      "cell_type": "code",
      "execution_count": 9,
      "metadata": {
        "id": "QdVOdxULJopB",
        "colab": {
          "base_uri": "https://localhost:8080/"
        },
        "outputId": "8b05f32f-bb3f-4801-a19b-be5e87f122a9"
      },
      "outputs": [
        {
          "output_type": "stream",
          "name": "stdout",
          "text": [
            "<class 'pandas.core.frame.DataFrame'>\n",
            "RangeIndex: 891 entries, 0 to 890\n",
            "Data columns (total 13 columns):\n",
            " #   Column       Non-Null Count  Dtype   \n",
            "---  ------       --------------  -----   \n",
            " 0   PassengerId  891 non-null    int64   \n",
            " 1   Survived     891 non-null    int64   \n",
            " 2   Pclass       891 non-null    int64   \n",
            " 3   Name         891 non-null    object  \n",
            " 4   Sex          891 non-null    category\n",
            " 5   Age          891 non-null    float64 \n",
            " 6   SibSp        891 non-null    int64   \n",
            " 7   Parch        891 non-null    int64   \n",
            " 8   Ticket       891 non-null    object  \n",
            " 9   Fare         891 non-null    float64 \n",
            " 10  Cabin        891 non-null    object  \n",
            " 11  Embarked     891 non-null    category\n",
            " 12  LogFare      891 non-null    float64 \n",
            "dtypes: category(2), float64(3), int64(5), object(3)\n",
            "memory usage: 78.7+ KB\n"
          ]
        }
      ],
      "source": [
        "df.info()"
      ]
    },
    {
      "cell_type": "code",
      "execution_count": 10,
      "metadata": {
        "id": "AeinXT7DJozJ",
        "colab": {
          "base_uri": "https://localhost:8080/"
        },
        "outputId": "cf9ff1ca-0e7c-4bdf-d4a9-e45392668bb4"
      },
      "outputs": [
        {
          "output_type": "stream",
          "name": "stdout",
          "text": [
            "<class 'pandas.core.frame.DataFrame'>\n",
            "RangeIndex: 418 entries, 0 to 417\n",
            "Data columns (total 12 columns):\n",
            " #   Column       Non-Null Count  Dtype   \n",
            "---  ------       --------------  -----   \n",
            " 0   PassengerId  418 non-null    int64   \n",
            " 1   Pclass       418 non-null    int64   \n",
            " 2   Name         418 non-null    object  \n",
            " 3   Sex          418 non-null    category\n",
            " 4   Age          418 non-null    float64 \n",
            " 5   SibSp        418 non-null    int64   \n",
            " 6   Parch        418 non-null    int64   \n",
            " 7   Ticket       418 non-null    object  \n",
            " 8   Fare         418 non-null    float64 \n",
            " 9   Cabin        418 non-null    object  \n",
            " 10  Embarked     418 non-null    category\n",
            " 11  LogFare      418 non-null    float64 \n",
            "dtypes: category(2), float64(3), int64(4), object(3)\n",
            "memory usage: 33.8+ KB\n"
          ]
        }
      ],
      "source": [
        "tst_df.info()"
      ]
    },
    {
      "cell_type": "code",
      "execution_count": 11,
      "metadata": {
        "id": "-cJ4xrxoJo5N"
      },
      "outputs": [],
      "source": [
        "# Creating lists of continuous, categorical and dependent variables\n",
        "# Pclass will no longer be used a variable since it is ordered.\n",
        "cats = [\"Sex\", \"Embarked\"]\n",
        "conts = [\"Age\", \"SibSp\", \"Parch\", \"LogFare\", \"Pclass\"]\n",
        "dep = \"Survived\""
      ]
    },
    {
      "cell_type": "code",
      "execution_count": 12,
      "metadata": {
        "id": "JjYCROFNJo-b",
        "colab": {
          "base_uri": "https://localhost:8080/"
        },
        "outputId": "b59c0979-8c5f-4659-8662-2afe0a251d06"
      },
      "outputs": [
        {
          "output_type": "execute_result",
          "data": {
            "text/plain": [
              "0    1\n",
              "1    0\n",
              "2    0\n",
              "3    0\n",
              "4    1\n",
              "dtype: int8"
            ]
          },
          "metadata": {},
          "execution_count": 12
        }
      ],
      "source": [
        "# Checking if the categorical codes exist or not.\n",
        "df.Sex.cat.codes.head()"
      ]
    },
    {
      "cell_type": "markdown",
      "source": [
        "## Binary Splits"
      ],
      "metadata": {
        "id": "RANOcYRhA79f"
      }
    },
    {
      "cell_type": "code",
      "execution_count": null,
      "metadata": {
        "id": "7Pm7bkO9JpFT"
      },
      "outputs": [],
      "source": []
    },
    {
      "cell_type": "code",
      "source": [],
      "metadata": {
        "id": "hZshc1BDA6EL"
      },
      "execution_count": null,
      "outputs": []
    },
    {
      "cell_type": "code",
      "source": [],
      "metadata": {
        "id": "1ZBPgaDQA6Kv"
      },
      "execution_count": null,
      "outputs": []
    },
    {
      "cell_type": "code",
      "source": [],
      "metadata": {
        "id": "jqB0UtRiA6Ql"
      },
      "execution_count": null,
      "outputs": []
    },
    {
      "cell_type": "code",
      "source": [],
      "metadata": {
        "id": "7acJKilKA6Ww"
      },
      "execution_count": null,
      "outputs": []
    },
    {
      "cell_type": "code",
      "source": [],
      "metadata": {
        "id": "sWfH85RkA6eD"
      },
      "execution_count": null,
      "outputs": []
    },
    {
      "cell_type": "code",
      "source": [],
      "metadata": {
        "id": "b3EOqshuA6mR"
      },
      "execution_count": null,
      "outputs": []
    },
    {
      "cell_type": "code",
      "source": [],
      "metadata": {
        "id": "4SrrKBPUA6qz"
      },
      "execution_count": null,
      "outputs": []
    },
    {
      "cell_type": "code",
      "source": [],
      "metadata": {
        "id": "34S0WeSrA6u0"
      },
      "execution_count": null,
      "outputs": []
    },
    {
      "cell_type": "code",
      "source": [],
      "metadata": {
        "id": "LdUAJRr_A6zb"
      },
      "execution_count": null,
      "outputs": []
    },
    {
      "cell_type": "code",
      "source": [],
      "metadata": {
        "id": "1z2FNKQ0A63I"
      },
      "execution_count": null,
      "outputs": []
    },
    {
      "cell_type": "code",
      "source": [],
      "metadata": {
        "id": "RGdjrM81A67c"
      },
      "execution_count": null,
      "outputs": []
    },
    {
      "cell_type": "code",
      "source": [],
      "metadata": {
        "id": "WLMyavwCA6_x"
      },
      "execution_count": null,
      "outputs": []
    }
  ],
  "metadata": {
    "colab": {
      "provenance": [],
      "mount_file_id": "1ATgB5ExqEY4NPSaG4mB4PvQI71tIfP1Y",
      "authorship_tag": "ABX9TyOyx5cJity9u5siVLnB4nX3",
      "include_colab_link": true
    },
    "kernelspec": {
      "display_name": "Python 3",
      "name": "python3"
    },
    "language_info": {
      "name": "python"
    }
  },
  "nbformat": 4,
  "nbformat_minor": 0
}