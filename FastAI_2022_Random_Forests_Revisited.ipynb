{
  "cells": [
    {
      "cell_type": "markdown",
      "metadata": {
        "id": "view-in-github",
        "colab_type": "text"
      },
      "source": [
        "<a href=\"https://colab.research.google.com/github/bachaudhry/FastAI-22-23/blob/main/FastAI_2022_Random_Forests_Revisited.ipynb\" target=\"_parent\"><img src=\"https://colab.research.google.com/assets/colab-badge.svg\" alt=\"Open In Colab\"/></a>"
      ]
    },
    {
      "cell_type": "markdown",
      "metadata": {
        "id": "41s4GAleBKb7"
      },
      "source": [
        "# **Reviewing the Inner Workings of Random Forests**"
      ]
    },
    {
      "cell_type": "markdown",
      "metadata": {
        "id": "aYK6ns9pCRDh"
      },
      "source": [
        "## Setup"
      ]
    },
    {
      "cell_type": "code",
      "execution_count": 1,
      "metadata": {
        "colab": {
          "base_uri": "https://localhost:8080/"
        },
        "id": "tqXxYkSpCf49",
        "outputId": "01367333-8506-4f99-a5d6-d4cd9f723a34"
      },
      "outputs": [
        {
          "output_type": "stream",
          "name": "stdout",
          "text": [
            "Requirement already satisfied: kaggle in /usr/local/lib/python3.10/dist-packages (1.5.16)\n",
            "Requirement already satisfied: six>=1.10 in /usr/local/lib/python3.10/dist-packages (from kaggle) (1.16.0)\n",
            "Requirement already satisfied: certifi in /usr/local/lib/python3.10/dist-packages (from kaggle) (2024.2.2)\n",
            "Requirement already satisfied: python-dateutil in /usr/local/lib/python3.10/dist-packages (from kaggle) (2.8.2)\n",
            "Requirement already satisfied: requests in /usr/local/lib/python3.10/dist-packages (from kaggle) (2.31.0)\n",
            "Requirement already satisfied: tqdm in /usr/local/lib/python3.10/dist-packages (from kaggle) (4.66.2)\n",
            "Requirement already satisfied: python-slugify in /usr/local/lib/python3.10/dist-packages (from kaggle) (8.0.4)\n",
            "Requirement already satisfied: urllib3 in /usr/local/lib/python3.10/dist-packages (from kaggle) (2.0.7)\n",
            "Requirement already satisfied: bleach in /usr/local/lib/python3.10/dist-packages (from kaggle) (6.1.0)\n",
            "Requirement already satisfied: webencodings in /usr/local/lib/python3.10/dist-packages (from bleach->kaggle) (0.5.1)\n",
            "Requirement already satisfied: text-unidecode>=1.3 in /usr/local/lib/python3.10/dist-packages (from python-slugify->kaggle) (1.3)\n",
            "Requirement already satisfied: charset-normalizer<4,>=2 in /usr/local/lib/python3.10/dist-packages (from requests->kaggle) (3.3.2)\n",
            "Requirement already satisfied: idna<4,>=2.5 in /usr/local/lib/python3.10/dist-packages (from requests->kaggle) (3.7)\n"
          ]
        }
      ],
      "source": [
        "!pip install kaggle"
      ]
    },
    {
      "cell_type": "code",
      "execution_count": 2,
      "metadata": {
        "id": "AKmOaR_iAlLp"
      },
      "outputs": [],
      "source": [
        "from fastai.imports import *\n",
        "np.set_printoptions(linewidth=130)"
      ]
    },
    {
      "cell_type": "code",
      "execution_count": 3,
      "metadata": {
        "id": "NYJ8N_ukBqj9"
      },
      "outputs": [],
      "source": [
        "import pandas as pd\n",
        "import numpy as np\n",
        "import seaborn as sns\n",
        "from sklearn.model_selection import train_test_split\n",
        "from sklearn.metrics import mean_absolute_error"
      ]
    },
    {
      "cell_type": "code",
      "execution_count": 4,
      "metadata": {
        "id": "BTKtl1NwBquF"
      },
      "outputs": [],
      "source": [
        "# Kaggle\n",
        "iskaggle = os.environ.get('KAGGLE_KERNEL_RUN_TYPE', '')\n",
        "# Credentials storage\n",
        "# Using Kaggle API key\n",
        "creds = '{\"username\":\"bachaudhry\",\"key\":\"f8e0ee26f34cb0d3e4eccd774de62f63\"}'\n",
        "cred_path = Path('~/.kaggle/kaggle.json').expanduser()\n",
        "if not cred_path.exists():\n",
        "  cred_path.parent.mkdir(exist_ok=True)\n",
        "  cred_path.write_text(creds)\n",
        "  cred_path.chmod(0o600)"
      ]
    },
    {
      "cell_type": "code",
      "execution_count": 5,
      "metadata": {
        "colab": {
          "base_uri": "https://localhost:8080/"
        },
        "id": "WFyJO3i0HxDb",
        "outputId": "2012228d-1390-4157-ea24-ab4d0f001698"
      },
      "outputs": [
        {
          "output_type": "stream",
          "name": "stdout",
          "text": [
            "Downloading titanic.zip to /content\n"
          ]
        },
        {
          "output_type": "stream",
          "name": "stderr",
          "text": [
            "100%|██████████| 34.1k/34.1k [00:00<00:00, 14.8MB/s]"
          ]
        },
        {
          "output_type": "stream",
          "name": "stdout",
          "text": [
            "\n"
          ]
        },
        {
          "output_type": "stream",
          "name": "stderr",
          "text": [
            "\n"
          ]
        }
      ],
      "source": [
        "if iskaggle:\n",
        "  path = Path('../input/titanic')\n",
        "else:\n",
        "  import zipfile, kaggle\n",
        "  path = Path('titanic')\n",
        "  kaggle.api.competition_download_cli(str(path))\n",
        "  zipfile.ZipFile(f'{path}.zip').extractall(path)"
      ]
    },
    {
      "cell_type": "markdown",
      "metadata": {
        "id": "w0oJRSQCCT12"
      },
      "source": [
        "## Data Pre-processing"
      ]
    },
    {
      "cell_type": "code",
      "execution_count": 6,
      "metadata": {
        "id": "rb3cF686CX0h"
      },
      "outputs": [],
      "source": [
        "df = pd.read_csv(path/'train.csv')\n",
        "tst_df = pd.read_csv(path/'test.csv')\n",
        "modes = df.mode().iloc[0]"
      ]
    },
    {
      "cell_type": "markdown",
      "source": [
        "One interesting point that popped up during the lessons was that Jeremy suggested that we don't need to create dummy variables when working with Random Forests.\n",
        "\n",
        "Instead, his suggestion was to convert those fields to categoricals instead. Obviously, I'll need to test this on different datasets.\n",
        "\n",
        "Also, does this carry over to boosted models as well?"
      ],
      "metadata": {
        "id": "dLRX-1ZY-eo7"
      }
    },
    {
      "cell_type": "code",
      "execution_count": 7,
      "metadata": {
        "id": "Q1IhYrdKJoHF"
      },
      "outputs": [],
      "source": [
        "# This is a pretty hacky pre-processing function\n",
        "def proc_data (df):\n",
        "  df['Fare'] = df.Fare.fillna(0)\n",
        "  df.fillna(modes, inplace=True)\n",
        "  df['LogFare'] = np.log1p(df['Fare'])\n",
        "  df['Embarked'] = pd.Categorical(df.Embarked)\n",
        "  df['Sex'] = pd.Categorical(df.Sex)\n",
        "\n",
        "# Processing train and test sets\n",
        "proc_data(df)\n",
        "proc_data(tst_df)"
      ]
    },
    {
      "cell_type": "code",
      "execution_count": 8,
      "metadata": {
        "id": "QdVOdxULJopB",
        "colab": {
          "base_uri": "https://localhost:8080/"
        },
        "outputId": "8c308a79-0140-43e5-f261-f3f3af676bbb"
      },
      "outputs": [
        {
          "output_type": "stream",
          "name": "stdout",
          "text": [
            "<class 'pandas.core.frame.DataFrame'>\n",
            "RangeIndex: 891 entries, 0 to 890\n",
            "Data columns (total 13 columns):\n",
            " #   Column       Non-Null Count  Dtype   \n",
            "---  ------       --------------  -----   \n",
            " 0   PassengerId  891 non-null    int64   \n",
            " 1   Survived     891 non-null    int64   \n",
            " 2   Pclass       891 non-null    int64   \n",
            " 3   Name         891 non-null    object  \n",
            " 4   Sex          891 non-null    category\n",
            " 5   Age          891 non-null    float64 \n",
            " 6   SibSp        891 non-null    int64   \n",
            " 7   Parch        891 non-null    int64   \n",
            " 8   Ticket       891 non-null    object  \n",
            " 9   Fare         891 non-null    float64 \n",
            " 10  Cabin        891 non-null    object  \n",
            " 11  Embarked     891 non-null    category\n",
            " 12  LogFare      891 non-null    float64 \n",
            "dtypes: category(2), float64(3), int64(5), object(3)\n",
            "memory usage: 78.7+ KB\n"
          ]
        }
      ],
      "source": [
        "df.info()"
      ]
    },
    {
      "cell_type": "code",
      "execution_count": 9,
      "metadata": {
        "id": "AeinXT7DJozJ",
        "colab": {
          "base_uri": "https://localhost:8080/"
        },
        "outputId": "533582b6-0dec-4311-954d-74981b15f4f3"
      },
      "outputs": [
        {
          "output_type": "stream",
          "name": "stdout",
          "text": [
            "<class 'pandas.core.frame.DataFrame'>\n",
            "RangeIndex: 418 entries, 0 to 417\n",
            "Data columns (total 12 columns):\n",
            " #   Column       Non-Null Count  Dtype   \n",
            "---  ------       --------------  -----   \n",
            " 0   PassengerId  418 non-null    int64   \n",
            " 1   Pclass       418 non-null    int64   \n",
            " 2   Name         418 non-null    object  \n",
            " 3   Sex          418 non-null    category\n",
            " 4   Age          418 non-null    float64 \n",
            " 5   SibSp        418 non-null    int64   \n",
            " 6   Parch        418 non-null    int64   \n",
            " 7   Ticket       418 non-null    object  \n",
            " 8   Fare         418 non-null    float64 \n",
            " 9   Cabin        418 non-null    object  \n",
            " 10  Embarked     418 non-null    category\n",
            " 11  LogFare      418 non-null    float64 \n",
            "dtypes: category(2), float64(3), int64(4), object(3)\n",
            "memory usage: 33.8+ KB\n"
          ]
        }
      ],
      "source": [
        "tst_df.info()"
      ]
    },
    {
      "cell_type": "code",
      "execution_count": 10,
      "metadata": {
        "id": "-cJ4xrxoJo5N"
      },
      "outputs": [],
      "source": [
        "# Creating lists of continuous, categorical and dependent variables\n",
        "# Pclass will no longer be used a variable since it is ordered.\n",
        "cats = [\"Sex\", \"Embarked\"]\n",
        "conts = [\"Age\", \"SibSp\", \"Parch\", \"LogFare\", \"Pclass\"]\n",
        "dep = \"Survived\""
      ]
    },
    {
      "cell_type": "code",
      "execution_count": 11,
      "metadata": {
        "id": "JjYCROFNJo-b",
        "colab": {
          "base_uri": "https://localhost:8080/"
        },
        "outputId": "07efc5f4-bd4a-424b-dff2-be5d892d908f"
      },
      "outputs": [
        {
          "output_type": "execute_result",
          "data": {
            "text/plain": [
              "0    1\n",
              "1    0\n",
              "2    0\n",
              "3    0\n",
              "4    1\n",
              "dtype: int8"
            ]
          },
          "metadata": {},
          "execution_count": 11
        }
      ],
      "source": [
        "# Checking if the categorical codes exist or not.\n",
        "df.Sex.cat.codes.head()"
      ]
    },
    {
      "cell_type": "markdown",
      "source": [
        "## Binary Splits"
      ],
      "metadata": {
        "id": "RANOcYRhA79f"
      }
    },
    {
      "cell_type": "markdown",
      "source": [
        "This is a quick demonstration of creating Binary Splits, which are used to create Decision Trees."
      ],
      "metadata": {
        "id": "8v8MaiGUBRwV"
      }
    },
    {
      "cell_type": "code",
      "execution_count": 12,
      "metadata": {
        "id": "7Pm7bkO9JpFT",
        "colab": {
          "base_uri": "https://localhost:8080/",
          "height": 487
        },
        "outputId": "299210d6-c45d-42ef-ad90-aae6bcd57294"
      },
      "outputs": [
        {
          "output_type": "display_data",
          "data": {
            "text/plain": [
              "<Figure size 1100x500 with 2 Axes>"
            ],
            "image/png": "[encoded data removed]"
          },
          "metadata": {}
        }
      ],
      "source": [
        "# Taking the example of the independent variable \"Sex\"\n",
        "fig, axes = plt.subplots(1, 2, figsize=(11,5))\n",
        "sns.barplot(data=df, y=dep, x=\"Sex\", ax=axes[0], hue=\"Sex\").set(title=\"Survival Rate\")\n",
        "sns.countplot(data=df, x=\"Sex\", ax=axes[1], hue=\"Sex\").set(title=\"Histogram\");"
      ]
    },
    {
      "cell_type": "markdown",
      "source": [
        "The groups above have very different survival rates between males and females.\n",
        "\n",
        "We can create a somewhat even split with each group comprising 300 passengers."
      ],
      "metadata": {
        "id": "96DCv5NnCj8h"
      }
    },
    {
      "cell_type": "code",
      "source": [
        "random.seed(42) # For reproducibility purposes\n",
        "trn_df, val_df = train_test_split(df, test_size=0.25)\n",
        "\n",
        "trn_df[cats] = trn_df[cats].apply(lambda x: x.cat.codes)\n",
        "val_df[cats] = val_df[cats].apply(lambda x: x.cat.codes)"
      ],
      "metadata": {
        "id": "hZshc1BDA6EL"
      },
      "execution_count": 13,
      "outputs": []
    },
    {
      "cell_type": "code",
      "source": [
        "# Creating independent and dependent variables\n",
        "def xs_y(df):\n",
        "  xs = df[cats + conts].copy()\n",
        "  return xs, df[dep] if dep in df else None\n",
        "\n",
        "trn_xs, trn_y = xs_y(trn_df)\n",
        "val_xs, val_y = xs_y(val_df)"
      ],
      "metadata": {
        "id": "1ZBPgaDQA6Kv"
      },
      "execution_count": 14,
      "outputs": []
    },
    {
      "cell_type": "code",
      "source": [
        "# Predictions for the single variable model.\n",
        "preds = val_xs.Sex==0"
      ],
      "metadata": {
        "id": "jqB0UtRiA6Ql"
      },
      "execution_count": 15,
      "outputs": []
    },
    {
      "cell_type": "code",
      "source": [
        "# Using mean-absolute-error as our performance metric\n",
        "mean_absolute_error(val_y, preds)"
      ],
      "metadata": {
        "colab": {
          "base_uri": "https://localhost:8080/"
        },
        "id": "7acJKilKA6Ww",
        "outputId": "8a407d89-3c89-4377-8c72-d506cfb37afc"
      },
      "execution_count": 16,
      "outputs": [
        {
          "output_type": "execute_result",
          "data": {
            "text/plain": [
              "0.25112107623318386"
            ]
          },
          "metadata": {},
          "execution_count": 16
        }
      ]
    },
    {
      "cell_type": "markdown",
      "source": [
        "Splitting on a continuous column..."
      ],
      "metadata": {
        "id": "wAFYbIILEnYr"
      }
    },
    {
      "cell_type": "code",
      "source": [
        "# Looking at LogFare for this test\n",
        "df_fare = trn_df[trn_df.LogFare > 0]\n",
        "\n",
        "fig, axes = plt.subplots(1, 2, figsize=(11, 5))\n",
        "sns.boxenplot(data=df_fare, x=dep, y=\"LogFare\", ax=axes[0], hue=\"Survived\")\n",
        "sns.kdeplot(data=df_fare, x=\"LogFare\", ax=axes[1]);"
      ],
      "metadata": {
        "colab": {
          "base_uri": "https://localhost:8080/",
          "height": 465
        },
        "id": "sWfH85RkA6eD",
        "outputId": "488c1dfc-c60b-459b-9ded-8ab623f63991"
      },
      "execution_count": 17,
      "outputs": [
        {
          "output_type": "display_data",
          "data": {
            "text/plain": [
              "<Figure size 1100x500 with 2 Axes>"
            ],
            "image/png": "[encoded data removed]"
          },
          "metadata": {}
        }
      ]
    },
    {
      "cell_type": "code",
      "source": [
        "# The median LogFare for survivors is around 3.2 and for those that didn't\n",
        "# it is around 2.5.\n",
        "preds = val_xs.LogFare > 2.7\n",
        "# Checking performance\n",
        "mean_absolute_error(val_y, preds)"
      ],
      "metadata": {
        "colab": {
          "base_uri": "https://localhost:8080/"
        },
        "id": "b3EOqshuA6mR",
        "outputId": "c052a4ba-55e3-4cc1-a251-41e58cbedd8d"
      },
      "execution_count": 18,
      "outputs": [
        {
          "output_type": "execute_result",
          "data": {
            "text/plain": [
              "0.34977578475336324"
            ]
          },
          "metadata": {},
          "execution_count": 18
        }
      ]
    },
    {
      "cell_type": "markdown",
      "source": [
        "This is less accurate than `Sex`.\n",
        "\n",
        "In a universe where Random Forests didn't exist, we would need to create functions to show our model's performance across a wide variety of variables and their resulting splits.\n",
        "\n",
        "To do this, we would need to create a score function to measure impurity i.e. measures the similarity / dissimilarity between rows of groups being used in the binary split."
      ],
      "metadata": {
        "id": "faxPeN5vH9Qr"
      }
    },
    {
      "cell_type": "code",
      "source": [
        "# Similarity of rows can be measured using Std. Deviation.\n",
        "def _side_score(side, y):\n",
        "  tot = side.sum()\n",
        "  if tot <= 1:\n",
        "    return 0\n",
        "  return y[side].std() * tot\n",
        "\n",
        "# Calculating the score for a split by adding up the scores for the left and\n",
        "# right hand sides.\n",
        "def score(col, y, split):\n",
        "  lhs = col <= split\n",
        "  return (_side_score(lhs, y) + _side_score(~lhs, y)) / len(y)"
      ],
      "metadata": {
        "id": "4SrrKBPUA6qz"
      },
      "execution_count": 19,
      "outputs": []
    },
    {
      "cell_type": "code",
      "source": [
        "# Checking the impurity score the split using Sex\n",
        "score(trn_xs[\"Sex\"], trn_y, 0.5)"
      ],
      "metadata": {
        "colab": {
          "base_uri": "https://localhost:8080/"
        },
        "id": "34S0WeSrA6u0",
        "outputId": "83d19577-307f-4f5e-9a94-e583a2c34371"
      },
      "execution_count": 20,
      "outputs": [
        {
          "output_type": "execute_result",
          "data": {
            "text/plain": [
              "0.3991589162052909"
            ]
          },
          "metadata": {},
          "execution_count": 20
        }
      ]
    },
    {
      "cell_type": "code",
      "source": [
        "# Doing the same for LogFare\n",
        "score(trn_xs[\"LogFare\"], trn_y, 2.7)"
      ],
      "metadata": {
        "colab": {
          "base_uri": "https://localhost:8080/"
        },
        "id": "LdUAJRr_A6zb",
        "outputId": "9f4d72b4-7dc4-48a3-ff57-a9c5dc68d40c"
      },
      "execution_count": 21,
      "outputs": [
        {
          "output_type": "execute_result",
          "data": {
            "text/plain": [
              "0.46925167449716854"
            ]
          },
          "metadata": {},
          "execution_count": 21
        }
      ]
    },
    {
      "cell_type": "markdown",
      "source": [
        "We could also experiment with binary splits by using widgets..."
      ],
      "metadata": {
        "id": "IMbseE_XKDWk"
      }
    },
    {
      "cell_type": "code",
      "source": [
        "def iscore(nm, split):\n",
        "  col = trn_xs[nm]\n",
        "  return score(col, trn_y, split)\n",
        "\n",
        "from ipywidgets import interact\n",
        "interact(nm=conts, split=15.5)(iscore);"
      ],
      "metadata": {
        "colab": {
          "base_uri": "https://localhost:8080/",
          "height": 99,
          "referenced_widgets": [
            "85a35d1c84b6429ebb76a8cadcd6326d",
            "1f2f98932c454436b998a5503b9fec84",
            "4b9f08886c8b4a9fa8634b529e868817",
            "31a012b462c04c52bad640ebfc4924d5",
            "b261b553b36344c2b54cb7c25dd6951a",
            "6a7871d5cd594f729fc063a08763e30c",
            "ad50121d00474d01ae9f8ee1d9429c6d",
            "ea6e26e2c8454fa09767bc3e956b821d",
            "59bf7045b0ec48a7b5469b58ead48111",
            "0ec846ade2434ad99bc6ae6d83dbd55a"
          ]
        },
        "id": "1z2FNKQ0A63I",
        "outputId": "af7dc82e-2e15-4b61-e233-5a6611d63c3a"
      },
      "execution_count": 22,
      "outputs": [
        {
          "output_type": "display_data",
          "data": {
            "text/plain": [
              "interactive(children=(Dropdown(description='nm', options=('Age', 'SibSp', 'Parch', 'LogFare', 'Pclass'), value…"
            ],
            "application/vnd.jupyter.widget-view+json": {
              "version_major": 2,
              "version_minor": 0,
              "model_id": "85a35d1c84b6429ebb76a8cadcd6326d"
            }
          },
          "metadata": {}
        }
      ]
    },
    {
      "cell_type": "code",
      "source": [
        "# A semi automated way of finding splits would be to pick the lowest impurity scores\n",
        "# from a list\n",
        "nm = \"Age\"\n",
        "col = trn_xs[nm]\n",
        "unq = col.unique()\n",
        "unq.sort()\n",
        "unq"
      ],
      "metadata": {
        "colab": {
          "base_uri": "https://localhost:8080/"
        },
        "id": "RGdjrM81A67c",
        "outputId": "37e4b697-e317-459c-d1d4-9f78991e7aea"
      },
      "execution_count": 23,
      "outputs": [
        {
          "output_type": "execute_result",
          "data": {
            "text/plain": [
              "array([ 0.42,  0.67,  0.75,  0.83,  0.92,  1.  ,  2.  ,  3.  ,  4.  ,  5.  ,  6.  ,  7.  ,  8.  ,  9.  , 10.  , 11.  , 12.  ,\n",
              "       13.  , 14.  , 14.5 , 15.  , 16.  , 17.  , 18.  , 19.  , 20.  , 21.  , 22.  , 23.  , 24.  , 25.  , 26.  , 27.  , 28.  ,\n",
              "       28.5 , 29.  , 30.  , 30.5 , 31.  , 32.  , 32.5 , 33.  , 34.  , 34.5 , 35.  , 36.  , 36.5 , 37.  , 38.  , 39.  , 40.  ,\n",
              "       40.5 , 41.  , 42.  , 43.  , 44.  , 45.  , 45.5 , 46.  , 47.  , 48.  , 49.  , 50.  , 51.  , 52.  , 54.  , 55.  , 55.5 ,\n",
              "       56.  , 57.  , 58.  , 59.  , 60.  , 61.  , 62.  , 63.  , 64.  , 65.  , 66.  , 70.  , 70.5 , 71.  , 74.  , 80.  ])"
            ]
          },
          "metadata": {},
          "execution_count": 23
        }
      ]
    },
    {
      "cell_type": "code",
      "source": [
        "scores = np.array([score(col, trn_y, o) for o in unq if not np.isnan(o)])\n",
        "unq[scores.argmin()], unq[scores.argmax()]"
      ],
      "metadata": {
        "colab": {
          "base_uri": "https://localhost:8080/"
        },
        "id": "WLMyavwCA6_x",
        "outputId": "021837de-ae68-4bfa-c947-2488e090ee5b"
      },
      "execution_count": 24,
      "outputs": [
        {
          "output_type": "execute_result",
          "data": {
            "text/plain": [
              "(0.92, 71.0)"
            ]
          },
          "metadata": {},
          "execution_count": 24
        }
      ]
    },
    {
      "cell_type": "code",
      "source": [
        "# Using the idea that 6 is the optimum cut-off\n",
        "def min_col(df, nm):\n",
        "  col, y = df[nm], df[dep]\n",
        "  unq = col.dropna().unique()\n",
        "  scores = np.array([score(col, y, o) for o in unq if not np.isnan(o)])\n",
        "  idx = scores.argmin()\n",
        "  return unq[idx], scores[idx]\n",
        "\n",
        "min_col(trn_df, \"Age\")"
      ],
      "metadata": {
        "colab": {
          "base_uri": "https://localhost:8080/"
        },
        "id": "61ctd4FJLnUU",
        "outputId": "e40bf739-aaed-4aae-b44b-70591ea15c31"
      },
      "execution_count": 25,
      "outputs": [
        {
          "output_type": "execute_result",
          "data": {
            "text/plain": [
              "(0.92, 0.47885372723555797)"
            ]
          },
          "metadata": {},
          "execution_count": 25
        }
      ]
    },
    {
      "cell_type": "code",
      "source": [
        "# Applying this to all columns\n",
        "cols = cats + conts\n",
        "{o: min_col(trn_df, o) for o in cols}"
      ],
      "metadata": {
        "colab": {
          "base_uri": "https://localhost:8080/"
        },
        "id": "7NYmk1ODLnb7",
        "outputId": "3253141b-c73b-4953-e902-47163299c196"
      },
      "execution_count": 26,
      "outputs": [
        {
          "output_type": "execute_result",
          "data": {
            "text/plain": [
              "{'Sex': (0, 0.3991589162052909),\n",
              " 'Embarked': (1, 0.47881541767461183),\n",
              " 'Age': (0.92, 0.47885372723555797),\n",
              " 'SibSp': (3, 0.4770847068888606),\n",
              " 'Parch': (0, 0.4811915917763749),\n",
              " 'LogFare': (2.4390808375825834, 0.4644438802501407),\n",
              " 'Pclass': (2, 0.4580671854511058)}"
            ]
          },
          "metadata": {},
          "execution_count": 26
        }
      ]
    },
    {
      "cell_type": "markdown",
      "source": [
        "We basically implemented the [OneR](https://https://link.springer.com/article/10.1023/A:1022631118932) classifier in the section above. In theory, this could be a good baseline for small datasets."
      ],
      "metadata": {
        "id": "2AHVv0WhOA6h"
      }
    },
    {
      "cell_type": "markdown",
      "source": [
        "## Creating a Decision Tree"
      ],
      "metadata": {
        "id": "8LScI1_1O1aj"
      }
    },
    {
      "cell_type": "markdown",
      "source": [
        "Building on the previous section, we will create additional binary splits to demonstrate the basic concept behind decision trees."
      ],
      "metadata": {
        "id": "T1GVPZ2lQt_L"
      }
    },
    {
      "cell_type": "code",
      "source": [
        "# Removing Sex from the list of possible splits since there is only one possible split\n",
        "# for binary columns\n",
        "cols.remove(\"Sex\")\n",
        "\n",
        "ismale = trn_df.Sex == 1\n",
        "isfemale = trn_df.Sex != 1 # For some reason, ~males wasn't working\n",
        "males, females = trn_df[ismale], trn_df[isfemale]"
      ],
      "metadata": {
        "id": "eyU6Oa3OLnhC"
      },
      "execution_count": 27,
      "outputs": []
    },
    {
      "cell_type": "code",
      "source": [
        "females"
      ],
      "metadata": {
        "colab": {
          "base_uri": "https://localhost:8080/",
          "height": 423
        },
        "id": "rJKZdSiwSEhw",
        "outputId": "3f841481-9578-4b06-ccdf-7b26ec9e6a7a"
      },
      "execution_count": 28,
      "outputs": [
        {
          "output_type": "execute_result",
          "data": {
            "text/plain": [
              "     PassengerId  Survived  Pclass  \\\n",
              "58            59         1       2   \n",
              "24            25         0       3   \n",
              "780          781         1       3   \n",
              "356          357         1       1   \n",
              "123          124         1       2   \n",
              "..           ...       ...     ...   \n",
              "290          291         1       1   \n",
              "596          597         1       2   \n",
              "591          592         1       1   \n",
              "19            20         1       3   \n",
              "474          475         0       3   \n",
              "\n",
              "                                                Name  Sex   Age  SibSp  Parch  \\\n",
              "58                      West, Miss. Constance Mirium    0   5.0      1      2   \n",
              "24                     Palsson, Miss. Torborg Danira    0   8.0      3      1   \n",
              "780                             Ayoub, Miss. Banoura    0  13.0      0      0   \n",
              "356                      Bowerman, Miss. Elsie Edith    0  22.0      0      1   \n",
              "123                              Webber, Miss. Susan    0  32.5      0      0   \n",
              "..                                               ...  ...   ...    ...    ...   \n",
              "290                     Barber, Miss. Ellen \"Nellie\"    0  26.0      0      0   \n",
              "596                       Leitch, Miss. Jessie Wills    0  24.0      0      0   \n",
              "591  Stephenson, Mrs. Walter Bertram (Martha Eustis)    0  52.0      1      0   \n",
              "19                           Masselmani, Mrs. Fatima    0  24.0      0      0   \n",
              "474                      Strandberg, Miss. Ida Sofia    0  22.0      0      0   \n",
              "\n",
              "         Ticket     Fare    Cabin  Embarked   LogFare  \n",
              "58   C.A. 34651  27.7500  B96 B98         2  3.358638  \n",
              "24       349909  21.0750  B96 B98         2  3.094446  \n",
              "780        2687   7.2292  B96 B98         0  2.107689  \n",
              "356      113505  55.0000      E33         2  4.025352  \n",
              "123       27267  13.0000     E101         2  2.639057  \n",
              "..          ...      ...      ...       ...       ...  \n",
              "290       19877  78.8500  B96 B98         2  4.380150  \n",
              "596      248727  33.0000  B96 B98         2  3.526361  \n",
              "591       36947  78.2667      D20         0  4.372818  \n",
              "19         2649   7.2250  B96 B98         0  2.107178  \n",
              "474        7553   9.8375  B96 B98         2  2.383012  \n",
              "\n",
              "[229 rows x 13 columns]"
            ],
            "text/html": [
              "\n",
              "  <div id=\"df-37a69eee-e144-4ac9-a754-1450ad07b101\" class=\"colab-df-container\">\n",
              "    <div>\n",
              "<style scoped>\n",
              "    .dataframe tbody tr th:only-of-type {\n",
              "        vertical-align: middle;\n",
              "    }\n",
              "\n",
              "    .dataframe tbody tr th {\n",
              "        vertical-align: top;\n",
              "    }\n",
              "\n",
              "    .dataframe thead th {\n",
              "        text-align: right;\n",
              "    }\n",
              "</style>\n",
              "<table border=\"1\" class=\"dataframe\">\n",
              "  <thead>\n",
              "    <tr style=\"text-align: right;\">\n",
              "      <th></th>\n",
              "      <th>PassengerId</th>\n",
              "      <th>Survived</th>\n",
              "      <th>Pclass</th>\n",
              "      <th>Name</th>\n",
              "      <th>Sex</th>\n",
              "      <th>Age</th>\n",
              "      <th>SibSp</th>\n",
              "      <th>Parch</th>\n",
              "      <th>Ticket</th>\n",
              "      <th>Fare</th>\n",
              "      <th>Cabin</th>\n",
              "      <th>Embarked</th>\n",
              "      <th>LogFare</th>\n",
              "    </tr>\n",
              "  </thead>\n",
              "  <tbody>\n",
              "    <tr>\n",
              "      <th>58</th>\n",
              "      <td>59</td>\n",
              "      <td>1</td>\n",
              "      <td>2</td>\n",
              "      <td>West, Miss. Constance Mirium</td>\n",
              "      <td>0</td>\n",
              "      <td>5.0</td>\n",
              "      <td>1</td>\n",
              "      <td>2</td>\n",
              "      <td>C.A. 34651</td>\n",
              "      <td>27.7500</td>\n",
              "      <td>B96 B98</td>\n",
              "      <td>2</td>\n",
              "      <td>3.358638</td>\n",
              "    </tr>\n",
              "    <tr>\n",
              "      <th>24</th>\n",
              "      <td>25</td>\n",
              "      <td>0</td>\n",
              "      <td>3</td>\n",
              "      <td>Palsson, Miss. Torborg Danira</td>\n",
              "      <td>0</td>\n",
              "      <td>8.0</td>\n",
              "      <td>3</td>\n",
              "      <td>1</td>\n",
              "      <td>349909</td>\n",
              "      <td>21.0750</td>\n",
              "      <td>B96 B98</td>\n",
              "      <td>2</td>\n",
              "      <td>3.094446</td>\n",
              "    </tr>\n",
              "    <tr>\n",
              "      <th>780</th>\n",
              "      <td>781</td>\n",
              "      <td>1</td>\n",
              "      <td>3</td>\n",
              "      <td>Ayoub, Miss. Banoura</td>\n",
              "      <td>0</td>\n",
              "      <td>13.0</td>\n",
              "      <td>0</td>\n",
              "      <td>0</td>\n",
              "      <td>2687</td>\n",
              "      <td>7.2292</td>\n",
              "      <td>B96 B98</td>\n",
              "      <td>0</td>\n",
              "      <td>2.107689</td>\n",
              "    </tr>\n",
              "    <tr>\n",
              "      <th>356</th>\n",
              "      <td>357</td>\n",
              "      <td>1</td>\n",
              "      <td>1</td>\n",
              "      <td>Bowerman, Miss. Elsie Edith</td>\n",
              "      <td>0</td>\n",
              "      <td>22.0</td>\n",
              "      <td>0</td>\n",
              "      <td>1</td>\n",
              "      <td>113505</td>\n",
              "      <td>55.0000</td>\n",
              "      <td>E33</td>\n",
              "      <td>2</td>\n",
              "      <td>4.025352</td>\n",
              "    </tr>\n",
              "    <tr>\n",
              "      <th>123</th>\n",
              "      <td>124</td>\n",
              "      <td>1</td>\n",
              "      <td>2</td>\n",
              "      <td>Webber, Miss. Susan</td>\n",
              "      <td>0</td>\n",
              "      <td>32.5</td>\n",
              "      <td>0</td>\n",
              "      <td>0</td>\n",
              "      <td>27267</td>\n",
              "      <td>13.0000</td>\n",
              "      <td>E101</td>\n",
              "      <td>2</td>\n",
              "      <td>2.639057</td>\n",
              "    </tr>\n",
              "    <tr>\n",
              "      <th>...</th>\n",
              "      <td>...</td>\n",
              "      <td>...</td>\n",
              "      <td>...</td>\n",
              "      <td>...</td>\n",
              "      <td>...</td>\n",
              "      <td>...</td>\n",
              "      <td>...</td>\n",
              "      <td>...</td>\n",
              "      <td>...</td>\n",
              "      <td>...</td>\n",
              "      <td>...</td>\n",
              "      <td>...</td>\n",
              "      <td>...</td>\n",
              "    </tr>\n",
              "    <tr>\n",
              "      <th>290</th>\n",
              "      <td>291</td>\n",
              "      <td>1</td>\n",
              "      <td>1</td>\n",
              "      <td>Barber, Miss. Ellen \"Nellie\"</td>\n",
              "      <td>0</td>\n",
              "      <td>26.0</td>\n",
              "      <td>0</td>\n",
              "      <td>0</td>\n",
              "      <td>19877</td>\n",
              "      <td>78.8500</td>\n",
              "      <td>B96 B98</td>\n",
              "      <td>2</td>\n",
              "      <td>4.380150</td>\n",
              "    </tr>\n",
              "    <tr>\n",
              "      <th>596</th>\n",
              "      <td>597</td>\n",
              "      <td>1</td>\n",
              "      <td>2</td>\n",
              "      <td>Leitch, Miss. Jessie Wills</td>\n",
              "      <td>0</td>\n",
              "      <td>24.0</td>\n",
              "      <td>0</td>\n",
              "      <td>0</td>\n",
              "      <td>248727</td>\n",
              "      <td>33.0000</td>\n",
              "      <td>B96 B98</td>\n",
              "      <td>2</td>\n",
              "      <td>3.526361</td>\n",
              "    </tr>\n",
              "    <tr>\n",
              "      <th>591</th>\n",
              "      <td>592</td>\n",
              "      <td>1</td>\n",
              "      <td>1</td>\n",
              "      <td>Stephenson, Mrs. Walter Bertram (Martha Eustis)</td>\n",
              "      <td>0</td>\n",
              "      <td>52.0</td>\n",
              "      <td>1</td>\n",
              "      <td>0</td>\n",
              "      <td>36947</td>\n",
              "      <td>78.2667</td>\n",
              "      <td>D20</td>\n",
              "      <td>0</td>\n",
              "      <td>4.372818</td>\n",
              "    </tr>\n",
              "    <tr>\n",
              "      <th>19</th>\n",
              "      <td>20</td>\n",
              "      <td>1</td>\n",
              "      <td>3</td>\n",
              "      <td>Masselmani, Mrs. Fatima</td>\n",
              "      <td>0</td>\n",
              "      <td>24.0</td>\n",
              "      <td>0</td>\n",
              "      <td>0</td>\n",
              "      <td>2649</td>\n",
              "      <td>7.2250</td>\n",
              "      <td>B96 B98</td>\n",
              "      <td>0</td>\n",
              "      <td>2.107178</td>\n",
              "    </tr>\n",
              "    <tr>\n",
              "      <th>474</th>\n",
              "      <td>475</td>\n",
              "      <td>0</td>\n",
              "      <td>3</td>\n",
              "      <td>Strandberg, Miss. Ida Sofia</td>\n",
              "      <td>0</td>\n",
              "      <td>22.0</td>\n",
              "      <td>0</td>\n",
              "      <td>0</td>\n",
              "      <td>7553</td>\n",
              "      <td>9.8375</td>\n",
              "      <td>B96 B98</td>\n",
              "      <td>2</td>\n",
              "      <td>2.383012</td>\n",
              "    </tr>\n",
              "  </tbody>\n",
              "</table>\n",
              "<p>229 rows × 13 columns</p>\n",
              "</div>\n",
              "    <div class=\"colab-df-buttons\">\n",
              "\n",
              "  <div class=\"colab-df-container\">\n",
              "    <button class=\"colab-df-convert\" onclick=\"convertToInteractive('df-37a69eee-e144-4ac9-a754-1450ad07b101')\"\n",
              "            title=\"Convert this dataframe to an interactive table.\"\n",
              "            style=\"display:none;\">\n",
              "\n",
              "  <svg xmlns=\"http://www.w3.org/2000/svg\" height=\"24px\" viewBox=\"0 -960 960 960\">\n",
              "    <path d=\"M120-120v-720h720v720H120Zm60-500h600v-160H180v160Zm220 220h160v-160H400v160Zm0 220h160v-160H400v160ZM180-400h160v-160H180v160Zm440 0h160v-160H620v160ZM180-180h160v-160H180v160Zm440 0h160v-160H620v160Z\"/>\n",
              "  </svg>\n",
              "    </button>\n",
              "\n",
              "  <style>\n",
              "    .colab-df-container {\n",
              "      display:flex;\n",
              "      gap: 12px;\n",
              "    }\n",
              "\n",
              "    .colab-df-convert {\n",
              "      background-color: #E8F0FE;\n",
              "      border: none;\n",
              "      border-radius: 50%;\n",
              "      cursor: pointer;\n",
              "      display: none;\n",
              "      fill: #1967D2;\n",
              "      height: 32px;\n",
              "      padding: 0 0 0 0;\n",
              "      width: 32px;\n",
              "    }\n",
              "\n",
              "    .colab-df-convert:hover {\n",
              "      background-color: #E2EBFA;\n",
              "      box-shadow: 0px 1px 2px rgba(60, 64, 67, 0.3), 0px 1px 3px 1px rgba(60, 64, 67, 0.15);\n",
              "      fill: #174EA6;\n",
              "    }\n",
              "\n",
              "    .colab-df-buttons div {\n",
              "      margin-bottom: 4px;\n",
              "    }\n",
              "\n",
              "    [theme=dark] .colab-df-convert {\n",
              "      background-color: #3B4455;\n",
              "      fill: #D2E3FC;\n",
              "    }\n",
              "\n",
              "    [theme=dark] .colab-df-convert:hover {\n",
              "      background-color: #434B5C;\n",
              "      box-shadow: 0px 1px 3px 1px rgba(0, 0, 0, 0.15);\n",
              "      filter: drop-shadow(0px 1px 2px rgba(0, 0, 0, 0.3));\n",
              "      fill: #FFFFFF;\n",
              "    }\n",
              "  </style>\n",
              "\n",
              "    <script>\n",
              "      const buttonEl =\n",
              "        document.querySelector('#df-37a69eee-e144-4ac9-a754-1450ad07b101 button.colab-df-convert');\n",
              "      buttonEl.style.display =\n",
              "        google.colab.kernel.accessAllowed ? 'block' : 'none';\n",
              "\n",
              "      async function convertToInteractive(key) {\n",
              "        const element = document.querySelector('#df-37a69eee-e144-4ac9-a754-1450ad07b101');\n",
              "        const dataTable =\n",
              "          await google.colab.kernel.invokeFunction('convertToInteractive',\n",
              "                                                    [key], {});\n",
              "        if (!dataTable) return;\n",
              "\n",
              "        const docLinkHtml = 'Like what you see? Visit the ' +\n",
              "          '<a target=\"_blank\" href=https://colab.research.google.com/notebooks/data_table.ipynb>data table notebook</a>'\n",
              "          + ' to learn more about interactive tables.';\n",
              "        element.innerHTML = '';\n",
              "        dataTable['output_type'] = 'display_data';\n",
              "        await google.colab.output.renderOutput(dataTable, element);\n",
              "        const docLink = document.createElement('div');\n",
              "        docLink.innerHTML = docLinkHtml;\n",
              "        element.appendChild(docLink);\n",
              "      }\n",
              "    </script>\n",
              "  </div>\n",
              "\n",
              "\n",
              "<div id=\"df-bd05c7bf-c862-4399-934b-88a73280081b\">\n",
              "  <button class=\"colab-df-quickchart\" onclick=\"quickchart('df-bd05c7bf-c862-4399-934b-88a73280081b')\"\n",
              "            title=\"Suggest charts\"\n",
              "            style=\"display:none;\">\n",
              "\n",
              "<svg xmlns=\"http://www.w3.org/2000/svg\" height=\"24px\"viewBox=\"0 0 24 24\"\n",
              "     width=\"24px\">\n",
              "    <g>\n",
              "        <path d=\"M19 3H5c-1.1 0-2 .9-2 2v14c0 1.1.9 2 2 2h14c1.1 0 2-.9 2-2V5c0-1.1-.9-2-2-2zM9 17H7v-7h2v7zm4 0h-2V7h2v10zm4 0h-2v-4h2v4z\"/>\n",
              "    </g>\n",
              "</svg>\n",
              "  </button>\n",
              "\n",
              "<style>\n",
              "  .colab-df-quickchart {\n",
              "      --bg-color: #E8F0FE;\n",
              "      --fill-color: #1967D2;\n",
              "      --hover-bg-color: #E2EBFA;\n",
              "      --hover-fill-color: #174EA6;\n",
              "      --disabled-fill-color: #AAA;\n",
              "      --disabled-bg-color: #DDD;\n",
              "  }\n",
              "\n",
              "  [theme=dark] .colab-df-quickchart {\n",
              "      --bg-color: #3B4455;\n",
              "      --fill-color: #D2E3FC;\n",
              "      --hover-bg-color: #434B5C;\n",
              "      --hover-fill-color: #FFFFFF;\n",
              "      --disabled-bg-color: #3B4455;\n",
              "      --disabled-fill-color: #666;\n",
              "  }\n",
              "\n",
              "  .colab-df-quickchart {\n",
              "    background-color: var(--bg-color);\n",
              "    border: none;\n",
              "    border-radius: 50%;\n",
              "    cursor: pointer;\n",
              "    display: none;\n",
              "    fill: var(--fill-color);\n",
              "    height: 32px;\n",
              "    padding: 0;\n",
              "    width: 32px;\n",
              "  }\n",
              "\n",
              "  .colab-df-quickchart:hover {\n",
              "    background-color: var(--hover-bg-color);\n",
              "    box-shadow: 0 1px 2px rgba(60, 64, 67, 0.3), 0 1px 3px 1px rgba(60, 64, 67, 0.15);\n",
              "    fill: var(--button-hover-fill-color);\n",
              "  }\n",
              "\n",
              "  .colab-df-quickchart-complete:disabled,\n",
              "  .colab-df-quickchart-complete:disabled:hover {\n",
              "    background-color: var(--disabled-bg-color);\n",
              "    fill: var(--disabled-fill-color);\n",
              "    box-shadow: none;\n",
              "  }\n",
              "\n",
              "  .colab-df-spinner {\n",
              "    border: 2px solid var(--fill-color);\n",
              "    border-color: transparent;\n",
              "    border-bottom-color: var(--fill-color);\n",
              "    animation:\n",
              "      spin 1s steps(1) infinite;\n",
              "  }\n",
              "\n",
              "  @keyframes spin {\n",
              "    0% {\n",
              "      border-color: transparent;\n",
              "      border-bottom-color: var(--fill-color);\n",
              "      border-left-color: var(--fill-color);\n",
              "    }\n",
              "    20% {\n",
              "      border-color: transparent;\n",
              "      border-left-color: var(--fill-color);\n",
              "      border-top-color: var(--fill-color);\n",
              "    }\n",
              "    30% {\n",
              "      border-color: transparent;\n",
              "      border-left-color: var(--fill-color);\n",
              "      border-top-color: var(--fill-color);\n",
              "      border-right-color: var(--fill-color);\n",
              "    }\n",
              "    40% {\n",
              "      border-color: transparent;\n",
              "      border-right-color: var(--fill-color);\n",
              "      border-top-color: var(--fill-color);\n",
              "    }\n",
              "    60% {\n",
              "      border-color: transparent;\n",
              "      border-right-color: var(--fill-color);\n",
              "    }\n",
              "    80% {\n",
              "      border-color: transparent;\n",
              "      border-right-color: var(--fill-color);\n",
              "      border-bottom-color: var(--fill-color);\n",
              "    }\n",
              "    90% {\n",
              "      border-color: transparent;\n",
              "      border-bottom-color: var(--fill-color);\n",
              "    }\n",
              "  }\n",
              "</style>\n",
              "\n",
              "  <script>\n",
              "    async function quickchart(key) {\n",
              "      const quickchartButtonEl =\n",
              "        document.querySelector('#' + key + ' button');\n",
              "      quickchartButtonEl.disabled = true;  // To prevent multiple clicks.\n",
              "      quickchartButtonEl.classList.add('colab-df-spinner');\n",
              "      try {\n",
              "        const charts = await google.colab.kernel.invokeFunction(\n",
              "            'suggestCharts', [key], {});\n",
              "      } catch (error) {\n",
              "        console.error('Error during call to suggestCharts:', error);\n",
              "      }\n",
              "      quickchartButtonEl.classList.remove('colab-df-spinner');\n",
              "      quickchartButtonEl.classList.add('colab-df-quickchart-complete');\n",
              "    }\n",
              "    (() => {\n",
              "      let quickchartButtonEl =\n",
              "        document.querySelector('#df-bd05c7bf-c862-4399-934b-88a73280081b button');\n",
              "      quickchartButtonEl.style.display =\n",
              "        google.colab.kernel.accessAllowed ? 'block' : 'none';\n",
              "    })();\n",
              "  </script>\n",
              "</div>\n",
              "\n",
              "  <div id=\"id_22f046fd-11d7-4819-84f3-7192407e0dfa\">\n",
              "    <style>\n",
              "      .colab-df-generate {\n",
              "        background-color: #E8F0FE;\n",
              "        border: none;\n",
              "        border-radius: 50%;\n",
              "        cursor: pointer;\n",
              "        display: none;\n",
              "        fill: #1967D2;\n",
              "        height: 32px;\n",
              "        padding: 0 0 0 0;\n",
              "        width: 32px;\n",
              "      }\n",
              "\n",
              "      .colab-df-generate:hover {\n",
              "        background-color: #E2EBFA;\n",
              "        box-shadow: 0px 1px 2px rgba(60, 64, 67, 0.3), 0px 1px 3px 1px rgba(60, 64, 67, 0.15);\n",
              "        fill: #174EA6;\n",
              "      }\n",
              "\n",
              "      [theme=dark] .colab-df-generate {\n",
              "        background-color: #3B4455;\n",
              "        fill: #D2E3FC;\n",
              "      }\n",
              "\n",
              "      [theme=dark] .colab-df-generate:hover {\n",
              "        background-color: #434B5C;\n",
              "        box-shadow: 0px 1px 3px 1px rgba(0, 0, 0, 0.15);\n",
              "        filter: drop-shadow(0px 1px 2px rgba(0, 0, 0, 0.3));\n",
              "        fill: #FFFFFF;\n",
              "      }\n",
              "    </style>\n",
              "    <button class=\"colab-df-generate\" onclick=\"generateWithVariable('females')\"\n",
              "            title=\"Generate code using this dataframe.\"\n",
              "            style=\"display:none;\">\n",
              "\n",
              "  <svg xmlns=\"http://www.w3.org/2000/svg\" height=\"24px\"viewBox=\"0 0 24 24\"\n",
              "       width=\"24px\">\n",
              "    <path d=\"M7,19H8.4L18.45,9,17,7.55,7,17.6ZM5,21V16.75L18.45,3.32a2,2,0,0,1,2.83,0l1.4,1.43a1.91,1.91,0,0,1,.58,1.4,1.91,1.91,0,0,1-.58,1.4L9.25,21ZM18.45,9,17,7.55Zm-12,3A5.31,5.31,0,0,0,4.9,8.1,5.31,5.31,0,0,0,1,6.5,5.31,5.31,0,0,0,4.9,4.9,5.31,5.31,0,0,0,6.5,1,5.31,5.31,0,0,0,8.1,4.9,5.31,5.31,0,0,0,12,6.5,5.46,5.46,0,0,0,6.5,12Z\"/>\n",
              "  </svg>\n",
              "    </button>\n",
              "    <script>\n",
              "      (() => {\n",
              "      const buttonEl =\n",
              "        document.querySelector('#id_22f046fd-11d7-4819-84f3-7192407e0dfa button.colab-df-generate');\n",
              "      buttonEl.style.display =\n",
              "        google.colab.kernel.accessAllowed ? 'block' : 'none';\n",
              "\n",
              "      buttonEl.onclick = () => {\n",
              "        google.colab.notebook.generateWithVariable('females');\n",
              "      }\n",
              "      })();\n",
              "    </script>\n",
              "  </div>\n",
              "\n",
              "    </div>\n",
              "  </div>\n"
            ],
            "application/vnd.google.colaboratory.intrinsic+json": {
              "type": "dataframe",
              "variable_name": "females",
              "summary": "{\n  \"name\": \"females\",\n  \"rows\": 229,\n  \"fields\": [\n    {\n      \"column\": \"PassengerId\",\n      \"properties\": {\n        \"dtype\": \"number\",\n        \"std\": 254,\n        \"min\": 2,\n        \"max\": 889,\n        \"num_unique_values\": 229,\n        \"samples\": [\n          787,\n          876,\n          797\n        ],\n        \"semantic_type\": \"\",\n        \"description\": \"\"\n      }\n    },\n    {\n      \"column\": \"Survived\",\n      \"properties\": {\n        \"dtype\": \"number\",\n        \"std\": 0,\n        \"min\": 0,\n        \"max\": 1,\n        \"num_unique_values\": 2,\n        \"samples\": [\n          0,\n          1\n        ],\n        \"semantic_type\": \"\",\n        \"description\": \"\"\n      }\n    },\n    {\n      \"column\": \"Pclass\",\n      \"properties\": {\n        \"dtype\": \"number\",\n        \"std\": 0,\n        \"min\": 1,\n        \"max\": 3,\n        \"num_unique_values\": 3,\n        \"samples\": [\n          2,\n          3\n        ],\n        \"semantic_type\": \"\",\n        \"description\": \"\"\n      }\n    },\n    {\n      \"column\": \"Name\",\n      \"properties\": {\n        \"dtype\": \"string\",\n        \"num_unique_values\": 229,\n        \"samples\": [\n          \"Sjoblom, Miss. Anna Sofia\",\n          \"Najib, Miss. Adele Kiamie \\\"Jane\\\"\"\n        ],\n        \"semantic_type\": \"\",\n        \"description\": \"\"\n      }\n    },\n    {\n      \"column\": \"Sex\",\n      \"properties\": {\n        \"dtype\": \"int8\",\n        \"num_unique_values\": 1,\n        \"samples\": [\n          0\n        ],\n        \"semantic_type\": \"\",\n        \"description\": \"\"\n      }\n    },\n    {\n      \"column\": \"Age\",\n      \"properties\": {\n        \"dtype\": \"number\",\n        \"std\": 12.742387539441609,\n        \"min\": 0.75,\n        \"max\": 63.0,\n        \"num_unique_values\": 57,\n        \"samples\": [\n          5.0\n        ],\n        \"semantic_type\": \"\",\n        \"description\": \"\"\n      }\n    },\n    {\n      \"column\": \"SibSp\",\n      \"properties\": {\n        \"dtype\": \"number\",\n        \"std\": 1,\n        \"min\": 0,\n        \"max\": 8,\n        \"num_unique_values\": 7,\n        \"samples\": [\n          1\n        ],\n        \"semantic_type\": \"\",\n        \"description\": \"\"\n      }\n    },\n    {\n      \"column\": \"Parch\",\n      \"properties\": {\n        \"dtype\": \"number\",\n        \"std\": 0,\n        \"min\": 0,\n        \"max\": 5,\n        \"num_unique_values\": 6,\n        \"samples\": [\n          2\n        ],\n        \"semantic_type\": \"\",\n        \"description\": \"\"\n      }\n    },\n    {\n      \"column\": \"Ticket\",\n      \"properties\": {\n        \"dtype\": \"string\",\n        \"num_unique_values\": 190,\n        \"samples\": [\n          \"2651\"\n        ],\n        \"semantic_type\": \"\",\n        \"description\": \"\"\n      }\n    },\n    {\n      \"column\": \"Fare\",\n      \"properties\": {\n        \"dtype\": \"number\",\n        \"std\": 55.31442135189667,\n        \"min\": 7.225,\n        \"max\": 263.0,\n        \"num_unique_values\": 129,\n        \"samples\": [\n          53.1\n        ],\n        \"semantic_type\": \"\",\n        \"description\": \"\"\n      }\n    },\n    {\n      \"column\": \"Cabin\",\n      \"properties\": {\n        \"dtype\": \"category\",\n        \"num_unique_values\": 60,\n        \"samples\": [\n          \"B96 B98\"\n        ],\n        \"semantic_type\": \"\",\n        \"description\": \"\"\n      }\n    },\n    {\n      \"column\": \"Embarked\",\n      \"properties\": {\n        \"dtype\": \"int8\",\n        \"num_unique_values\": 3,\n        \"samples\": [\n          2\n        ],\n        \"semantic_type\": \"\",\n        \"description\": \"\"\n      }\n    },\n    {\n      \"column\": \"LogFare\",\n      \"properties\": {\n        \"dtype\": \"number\",\n        \"std\": 0.9598680409216331,\n        \"min\": 2.1071782966514356,\n        \"max\": 5.575949103146316,\n        \"num_unique_values\": 129,\n        \"samples\": [\n          3.9908341858524357\n        ],\n        \"semantic_type\": \"\",\n        \"description\": \"\"\n      }\n    }\n  ]\n}"
            }
          },
          "metadata": {},
          "execution_count": 28
        }
      ]
    },
    {
      "cell_type": "code",
      "source": [
        "# Finding the best binary split for males\n",
        "{o: min_col(males, o) for o in cols}"
      ],
      "metadata": {
        "colab": {
          "base_uri": "https://localhost:8080/"
        },
        "id": "Iwa7HbwOLnk4",
        "outputId": "a4b17b5e-7346-4554-e5dc-d073b560363a"
      },
      "execution_count": 29,
      "outputs": [
        {
          "output_type": "execute_result",
          "data": {
            "text/plain": [
              "{'Embarked': (0, 0.37949535334135626),\n",
              " 'Age': (9.0, 0.36675971552146547),\n",
              " 'SibSp': (4, 0.3784204005664346),\n",
              " 'Parch': (0, 0.37912718856363564),\n",
              " 'LogFare': (3.2930552230424524, 0.36968332117646197),\n",
              " 'Pclass': (1, 0.36839610518021165)}"
            ]
          },
          "metadata": {},
          "execution_count": 29
        }
      ]
    },
    {
      "cell_type": "code",
      "source": [
        "# Now for females\n",
        "{o: min_col(females, o) for o in cols}"
      ],
      "metadata": {
        "colab": {
          "base_uri": "https://localhost:8080/"
        },
        "id": "wPqh-9FSLnoV",
        "outputId": "97072716-6c08-4946-9374-b388e82a59ba"
      },
      "execution_count": 30,
      "outputs": [
        {
          "output_type": "execute_result",
          "data": {
            "text/plain": [
              "{'Embarked': (1, 0.4233439583276359),\n",
              " 'Age': (50.0, 0.41688322350997375),\n",
              " 'SibSp': (3, 0.40296373161706267),\n",
              " 'Parch': (1, 0.41946227258632646),\n",
              " 'LogFare': (3.8691155044168695, 0.40017460396816124),\n",
              " 'Pclass': (2, 0.34353629820603615)}"
            ]
          },
          "metadata": {},
          "execution_count": 30
        }
      ]
    },
    {
      "cell_type": "markdown",
      "source": [
        "Now that we have some reasonable binary splits for males and females, we could\n",
        "spend a considerable amount of time coding in additional rules for columns such as `Age` or `Pclass`. The process would then be repeated.\n",
        "\n",
        "Or....we could just use the `sklearn` library to handle all of that for us."
      ],
      "metadata": {
        "id": "bHe5v9SCUA_8"
      }
    },
    {
      "cell_type": "code",
      "source": [
        "from sklearn.tree import DecisionTreeClassifier, export_graphviz\n",
        "\n",
        "model = DecisionTreeClassifier(max_leaf_nodes=4).fit(trn_xs, trn_y);"
      ],
      "metadata": {
        "id": "tEqKggZDLoFn"
      },
      "execution_count": 31,
      "outputs": []
    },
    {
      "cell_type": "code",
      "source": [
        "# Visualizing our newly created tree\n",
        "import graphviz\n",
        "\n",
        "def draw_tree(t, df, size=10, ratio=1.05, precision=2, **kwargs):\n",
        "  s = export_graphviz(t, out_file=None, feature_names=df.columns, filled=True,\n",
        "                      rounded=True, special_characters=True, rotate=False,\n",
        "                      precision=precision, **kwargs)\n",
        "  return graphviz.Source(re.sub('Tree {', f'Tree {{ size={size}; ratio={ratio}', s))"
      ],
      "metadata": {
        "id": "-7oRURoRLoJ0"
      },
      "execution_count": 46,
      "outputs": []
    },
    {
      "cell_type": "code",
      "source": [
        "draw_tree(model, trn_xs, size=10)"
      ],
      "metadata": {
        "colab": {
          "base_uri": "https://localhost:8080/",
          "height": 737
        },
        "id": "KTBvWAdhVI7z",
        "outputId": "d7d8d356-206d-4e8e-ba33-b77a5275dcd2"
      },
      "execution_count": 47,
      "outputs": [
        {
          "output_type": "execute_result",
          "data": {
            "image/svg+xml": "<?xml version=\"1.0\" encoding=\"UTF-8\" standalone=\"no\"?>\n<!DOCTYPE svg PUBLIC \"-//W3C//DTD SVG 1.1//EN\"\n \"http://www.w3.org/Graphics/SVG/1.1/DTD/svg11.dtd\">\n<!-- Generated by graphviz version 2.43.0 (0)\n -->\n<!-- Title: Tree Pages: 1 -->\n<svg width=\"513pt\" height=\"537pt\"\n viewBox=\"0.00 0.00 512.50 537.20\" xmlns=\"http://www.w3.org/2000/svg\" xmlns:xlink=\"http://www.w3.org/1999/xlink\">\n<g id=\"graph0\" class=\"graph\" transform=\"scale(1 1) rotate(0) translate(4 533.2)\">\n<title>Tree</title>\n<polygon fill=\"white\" stroke=\"transparent\" points=\"-4,4 -4,-533.2 508.5,-533.2 508.5,4 -4,4\"/>\n<!-- 0 -->\n<g id=\"node1\" class=\"node\">\n<title>0</title>\n<path fill=\"#f5cdb0\" stroke=\"black\" d=\"M298.5,-494C298.5,-494 197.5,-494 197.5,-494 191.5,-494 185.5,-488 185.5,-482 185.5,-482 185.5,-438 185.5,-438 185.5,-432 191.5,-426 197.5,-426 197.5,-426 298.5,-426 298.5,-426 304.5,-426 310.5,-432 310.5,-438 310.5,-438 310.5,-482 310.5,-482 310.5,-488 304.5,-494 298.5,-494\"/>\n<text text-anchor=\"start\" x=\"219\" y=\"-478.8\" font-family=\"Helvetica,sans-Serif\" font-size=\"14.00\">Sex ≤ 0.5</text>\n<text text-anchor=\"start\" x=\"216\" y=\"-463.8\" font-family=\"Helvetica,sans-Serif\" font-size=\"14.00\">gini = 0.47</text>\n<text text-anchor=\"start\" x=\"203\" y=\"-448.8\" font-family=\"Helvetica,sans-Serif\" font-size=\"14.00\">samples = 668</text>\n<text text-anchor=\"start\" x=\"193.5\" y=\"-433.8\" font-family=\"Helvetica,sans-Serif\" font-size=\"14.00\">value = [417, 251]</text>\n</g>\n<!-- 1 -->\n<g id=\"node2\" class=\"node\">\n<title>1</title>\n<path fill=\"#79bded\" stroke=\"black\" d=\"M227.5,-283C227.5,-283 134.5,-283 134.5,-283 128.5,-283 122.5,-277 122.5,-271 122.5,-271 122.5,-227 122.5,-227 122.5,-221 128.5,-215 134.5,-215 134.5,-215 227.5,-215 227.5,-215 233.5,-215 239.5,-221 239.5,-227 239.5,-227 239.5,-271 239.5,-271 239.5,-277 233.5,-283 227.5,-283\"/>\n<text text-anchor=\"start\" x=\"144\" y=\"-267.8\" font-family=\"Helvetica,sans-Serif\" font-size=\"14.00\">Pclass ≤ 2.5</text>\n<text text-anchor=\"start\" x=\"149\" y=\"-252.8\" font-family=\"Helvetica,sans-Serif\" font-size=\"14.00\">gini = 0.37</text>\n<text text-anchor=\"start\" x=\"136\" y=\"-237.8\" font-family=\"Helvetica,sans-Serif\" font-size=\"14.00\">samples = 229</text>\n<text text-anchor=\"start\" x=\"130.5\" y=\"-222.8\" font-family=\"Helvetica,sans-Serif\" font-size=\"14.00\">value = [56, 173]</text>\n</g>\n<!-- 0&#45;&gt;1 -->\n<g id=\"edge1\" class=\"edge\">\n<title>0&#45;&gt;1</title>\n<path fill=\"none\" stroke=\"black\" d=\"M237.38,-425.88C225.85,-389.91 207.39,-332.33 194.76,-292.91\"/>\n<polygon fill=\"black\" stroke=\"black\" points=\"198.06,-291.76 191.68,-283.31 191.4,-293.9 198.06,-291.76\"/>\n<text text-anchor=\"middle\" x=\"180.24\" y=\"-301.84\" font-family=\"Helvetica,sans-Serif\" font-size=\"14.00\">True</text>\n</g>\n<!-- 2 -->\n<g id=\"node5\" class=\"node\">\n<title>2</title>\n<path fill=\"#eb9c64\" stroke=\"black\" d=\"M362.5,-283C362.5,-283 269.5,-283 269.5,-283 263.5,-283 257.5,-277 257.5,-271 257.5,-271 257.5,-227 257.5,-227 257.5,-221 263.5,-215 269.5,-215 269.5,-215 362.5,-215 362.5,-215 368.5,-215 374.5,-221 374.5,-227 374.5,-227 374.5,-271 374.5,-271 374.5,-277 368.5,-283 362.5,-283\"/>\n<text text-anchor=\"start\" x=\"287\" y=\"-267.8\" font-family=\"Helvetica,sans-Serif\" font-size=\"14.00\">Age ≤ 9.5</text>\n<text text-anchor=\"start\" x=\"284\" y=\"-252.8\" font-family=\"Helvetica,sans-Serif\" font-size=\"14.00\">gini = 0.29</text>\n<text text-anchor=\"start\" x=\"271\" y=\"-237.8\" font-family=\"Helvetica,sans-Serif\" font-size=\"14.00\">samples = 439</text>\n<text text-anchor=\"start\" x=\"265.5\" y=\"-222.8\" font-family=\"Helvetica,sans-Serif\" font-size=\"14.00\">value = [361, 78]</text>\n</g>\n<!-- 0&#45;&gt;2 -->\n<g id=\"edge4\" class=\"edge\">\n<title>0&#45;&gt;2</title>\n<path fill=\"none\" stroke=\"black\" d=\"M258.77,-425.88C270.48,-389.91 289.21,-332.33 302.04,-292.91\"/>\n<polygon fill=\"black\" stroke=\"black\" points=\"305.4,-293.9 305.16,-283.31 298.74,-291.73 305.4,-293.9\"/>\n<text text-anchor=\"middle\" x=\"316.5\" y=\"-301.89\" font-family=\"Helvetica,sans-Serif\" font-size=\"14.00\">False</text>\n</g>\n<!-- 3 -->\n<g id=\"node3\" class=\"node\">\n<title>3</title>\n<path fill=\"#43a2e6\" stroke=\"black\" d=\"M98,-80.5C98,-80.5 12,-80.5 12,-80.5 6,-80.5 0,-74.5 0,-68.5 0,-68.5 0,-39.5 0,-39.5 0,-33.5 6,-27.5 12,-27.5 12,-27.5 98,-27.5 98,-27.5 104,-27.5 110,-33.5 110,-39.5 110,-39.5 110,-68.5 110,-68.5 110,-74.5 104,-80.5 98,-80.5\"/>\n<text text-anchor=\"start\" x=\"23\" y=\"-65.3\" font-family=\"Helvetica,sans-Serif\" font-size=\"14.00\">gini = 0.09</text>\n<text text-anchor=\"start\" x=\"10\" y=\"-50.3\" font-family=\"Helvetica,sans-Serif\" font-size=\"14.00\">samples = 126</text>\n<text text-anchor=\"start\" x=\"8\" y=\"-35.3\" font-family=\"Helvetica,sans-Serif\" font-size=\"14.00\">value = [6, 120]</text>\n</g>\n<!-- 1&#45;&gt;3 -->\n<g id=\"edge2\" class=\"edge\">\n<title>1&#45;&gt;3</title>\n<path fill=\"none\" stroke=\"black\" d=\"M159.34,-214.82C136.44,-179.75 100.5,-124.7 77.35,-89.23\"/>\n<polygon fill=\"black\" stroke=\"black\" points=\"80.15,-87.12 71.75,-80.66 74.29,-90.95 80.15,-87.12\"/>\n</g>\n<!-- 4 -->\n<g id=\"node4\" class=\"node\">\n<title>4</title>\n<path fill=\"#f4f9fe\" stroke=\"black\" d=\"M226,-80.5C226,-80.5 140,-80.5 140,-80.5 134,-80.5 128,-74.5 128,-68.5 128,-68.5 128,-39.5 128,-39.5 128,-33.5 134,-27.5 140,-27.5 140,-27.5 226,-27.5 226,-27.5 232,-27.5 238,-33.5 238,-39.5 238,-39.5 238,-68.5 238,-68.5 238,-74.5 232,-80.5 226,-80.5\"/>\n<text text-anchor=\"start\" x=\"155\" y=\"-65.3\" font-family=\"Helvetica,sans-Serif\" font-size=\"14.00\">gini = 0.5</text>\n<text text-anchor=\"start\" x=\"138\" y=\"-50.3\" font-family=\"Helvetica,sans-Serif\" font-size=\"14.00\">samples = 103</text>\n<text text-anchor=\"start\" x=\"136\" y=\"-35.3\" font-family=\"Helvetica,sans-Serif\" font-size=\"14.00\">value = [50, 53]</text>\n</g>\n<!-- 1&#45;&gt;4 -->\n<g id=\"edge3\" class=\"edge\">\n<title>1&#45;&gt;4</title>\n<path fill=\"none\" stroke=\"black\" d=\"M181.34,-214.82C181.7,-180.34 182.26,-126.56 182.63,-91.05\"/>\n<polygon fill=\"black\" stroke=\"black\" points=\"186.13,-90.7 182.73,-80.66 179.13,-90.62 186.13,-90.7\"/>\n</g>\n<!-- 5 -->\n<g id=\"node6\" class=\"node\">\n<title>5</title>\n<path fill=\"#c1e0f7\" stroke=\"black\" d=\"M357,-80.5C357,-80.5 271,-80.5 271,-80.5 265,-80.5 259,-74.5 259,-68.5 259,-68.5 259,-39.5 259,-39.5 259,-33.5 265,-27.5 271,-27.5 271,-27.5 357,-27.5 357,-27.5 363,-27.5 369,-33.5 369,-39.5 369,-39.5 369,-68.5 369,-68.5 369,-74.5 363,-80.5 357,-80.5\"/>\n<text text-anchor=\"start\" x=\"282\" y=\"-65.3\" font-family=\"Helvetica,sans-Serif\" font-size=\"14.00\">gini = 0.48</text>\n<text text-anchor=\"start\" x=\"273\" y=\"-50.3\" font-family=\"Helvetica,sans-Serif\" font-size=\"14.00\">samples = 27</text>\n<text text-anchor=\"start\" x=\"267\" y=\"-35.3\" font-family=\"Helvetica,sans-Serif\" font-size=\"14.00\">value = [11, 16]</text>\n</g>\n<!-- 2&#45;&gt;5 -->\n<g id=\"edge5\" class=\"edge\">\n<title>2&#45;&gt;5</title>\n<path fill=\"none\" stroke=\"black\" d=\"M315.66,-214.82C315.3,-180.34 314.74,-126.56 314.37,-91.05\"/>\n<polygon fill=\"black\" stroke=\"black\" points=\"317.87,-90.62 314.27,-80.66 310.87,-90.7 317.87,-90.62\"/>\n</g>\n<!-- 6 -->\n<g id=\"node7\" class=\"node\">\n<title>6</title>\n<path fill=\"#ea975c\" stroke=\"black\" d=\"M492.5,-80.5C492.5,-80.5 399.5,-80.5 399.5,-80.5 393.5,-80.5 387.5,-74.5 387.5,-68.5 387.5,-68.5 387.5,-39.5 387.5,-39.5 387.5,-33.5 393.5,-27.5 399.5,-27.5 399.5,-27.5 492.5,-27.5 492.5,-27.5 498.5,-27.5 504.5,-33.5 504.5,-39.5 504.5,-39.5 504.5,-68.5 504.5,-68.5 504.5,-74.5 498.5,-80.5 492.5,-80.5\"/>\n<text text-anchor=\"start\" x=\"414\" y=\"-65.3\" font-family=\"Helvetica,sans-Serif\" font-size=\"14.00\">gini = 0.26</text>\n<text text-anchor=\"start\" x=\"401\" y=\"-50.3\" font-family=\"Helvetica,sans-Serif\" font-size=\"14.00\">samples = 412</text>\n<text text-anchor=\"start\" x=\"395.5\" y=\"-35.3\" font-family=\"Helvetica,sans-Serif\" font-size=\"14.00\">value = [350, 62]</text>\n</g>\n<!-- 2&#45;&gt;6 -->\n<g id=\"edge6\" class=\"edge\">\n<title>2&#45;&gt;6</title>\n<path fill=\"none\" stroke=\"black\" d=\"M338.35,-214.82C361.97,-179.75 399.05,-124.7 422.94,-89.23\"/>\n<polygon fill=\"black\" stroke=\"black\" points=\"426.03,-90.91 428.72,-80.66 420.23,-87 426.03,-90.91\"/>\n</g>\n</g>\n</svg>\n",
            "text/plain": [
              "<graphviz.sources.Source at 0x7e23d8c1db10>"
            ]
          },
          "metadata": {},
          "execution_count": 47
        }
      ]
    },
    {
      "cell_type": "markdown",
      "source": [
        "Here the measure of impurity is `gini` which is not to be confused with the Gini-Coefficient which is used in economics."
      ],
      "metadata": {
        "id": "NxlmMgzZXLc9"
      }
    },
    {
      "cell_type": "code",
      "source": [
        "def gini(cond):\n",
        "  act = df.loc[cond, dep]\n",
        "  return 1 - act.mean()**2 - (1-act).mean()**2"
      ],
      "metadata": {
        "id": "HekHmYScVJdN"
      },
      "execution_count": 48,
      "outputs": []
    },
    {
      "cell_type": "code",
      "source": [
        "# Gini calculates the probability of getting the same target variable, each time,\n",
        "# if we pick two rows from a group.\n",
        "gini(df.Sex=='female'), gini(df.Sex=='male')"
      ],
      "metadata": {
        "colab": {
          "base_uri": "https://localhost:8080/"
        },
        "id": "zrABRswPVJiO",
        "outputId": "cfacdef9-b380-4562-f21d-50da7e384b71"
      },
      "execution_count": 49,
      "outputs": [
        {
          "output_type": "execute_result",
          "data": {
            "text/plain": [
              "(0.3828350034484158, 0.3064437162277842)"
            ]
          },
          "metadata": {},
          "execution_count": 49
        }
      ]
    },
    {
      "cell_type": "code",
      "source": [
        "# Comparing the OneR version\n",
        "mean_absolute_error(val_y, model.predict(val_xs))"
      ],
      "metadata": {
        "colab": {
          "base_uri": "https://localhost:8080/"
        },
        "id": "MaWtOT8TYhXA",
        "outputId": "c7f25657-a6e1-453d-8f51-5a097607d6f5"
      },
      "execution_count": 50,
      "outputs": [
        {
          "output_type": "execute_result",
          "data": {
            "text/plain": [
              "0.24663677130044842"
            ]
          },
          "metadata": {},
          "execution_count": 50
        }
      ]
    },
    {
      "cell_type": "code",
      "source": [
        "# Building a bigger tree\n",
        "model = DecisionTreeClassifier(min_samples_leaf=50)\n",
        "model.fit(trn_xs, trn_y)\n",
        "draw_tree(model, trn_xs, size=14)"
      ],
      "metadata": {
        "colab": {
          "base_uri": "https://localhost:8080/",
          "height": 1000
        },
        "id": "Sjl6ueMOYraN",
        "outputId": "ecb4faea-8a54-4f13-b6ef-0ef31f617c8e"
      },
      "execution_count": 53,
      "outputs": [
        {
          "output_type": "execute_result",
          "data": {
            "image/svg+xml": "<?xml version=\"1.0\" encoding=\"UTF-8\" standalone=\"no\"?>\n<!DOCTYPE svg PUBLIC \"-//W3C//DTD SVG 1.1//EN\"\n \"http://www.w3.org/Graphics/SVG/1.1/DTD/svg11.dtd\">\n<!-- Generated by graphviz version 2.43.0 (0)\n -->\n<!-- Title: Tree Pages: 1 -->\n<svg width=\"812pt\" height=\"852pt\"\n viewBox=\"0.00 0.00 812.00 852.20\" xmlns=\"http://www.w3.org/2000/svg\" xmlns:xlink=\"http://www.w3.org/1999/xlink\">\n<g id=\"graph0\" class=\"graph\" transform=\"scale(1 1) rotate(0) translate(4 848.2)\">\n<title>Tree</title>\n<polygon fill=\"white\" stroke=\"transparent\" points=\"-4,4 -4,-848.2 808,-848.2 808,4 -4,4\"/>\n<!-- 0 -->\n<g id=\"node1\" class=\"node\">\n<title>0</title>\n<path fill=\"#f5cdb0\" stroke=\"black\" d=\"M413.5,-836C413.5,-836 312.5,-836 312.5,-836 306.5,-836 300.5,-830 300.5,-824 300.5,-824 300.5,-780 300.5,-780 300.5,-774 306.5,-768 312.5,-768 312.5,-768 413.5,-768 413.5,-768 419.5,-768 425.5,-774 425.5,-780 425.5,-780 425.5,-824 425.5,-824 425.5,-830 419.5,-836 413.5,-836\"/>\n<text text-anchor=\"start\" x=\"334\" y=\"-820.8\" font-family=\"Helvetica,sans-Serif\" font-size=\"14.00\">Sex ≤ 0.5</text>\n<text text-anchor=\"start\" x=\"331\" y=\"-805.8\" font-family=\"Helvetica,sans-Serif\" font-size=\"14.00\">gini = 0.47</text>\n<text text-anchor=\"start\" x=\"318\" y=\"-790.8\" font-family=\"Helvetica,sans-Serif\" font-size=\"14.00\">samples = 668</text>\n<text text-anchor=\"start\" x=\"308.5\" y=\"-775.8\" font-family=\"Helvetica,sans-Serif\" font-size=\"14.00\">value = [417, 251]</text>\n</g>\n<!-- 1 -->\n<g id=\"node2\" class=\"node\">\n<title>1</title>\n<path fill=\"#79bded\" stroke=\"black\" d=\"M342.5,-706C342.5,-706 249.5,-706 249.5,-706 243.5,-706 237.5,-700 237.5,-694 237.5,-694 237.5,-650 237.5,-650 237.5,-644 243.5,-638 249.5,-638 249.5,-638 342.5,-638 342.5,-638 348.5,-638 354.5,-644 354.5,-650 354.5,-650 354.5,-694 354.5,-694 354.5,-700 348.5,-706 342.5,-706\"/>\n<text text-anchor=\"start\" x=\"259\" y=\"-690.8\" font-family=\"Helvetica,sans-Serif\" font-size=\"14.00\">Pclass ≤ 2.5</text>\n<text text-anchor=\"start\" x=\"264\" y=\"-675.8\" font-family=\"Helvetica,sans-Serif\" font-size=\"14.00\">gini = 0.37</text>\n<text text-anchor=\"start\" x=\"251\" y=\"-660.8\" font-family=\"Helvetica,sans-Serif\" font-size=\"14.00\">samples = 229</text>\n<text text-anchor=\"start\" x=\"245.5\" y=\"-645.8\" font-family=\"Helvetica,sans-Serif\" font-size=\"14.00\">value = [56, 173]</text>\n</g>\n<!-- 0&#45;&gt;1 -->\n<g id=\"edge1\" class=\"edge\">\n<title>0&#45;&gt;1</title>\n<path fill=\"none\" stroke=\"black\" d=\"M345.57,-767.7C337.2,-751.7 327.07,-732.35 318.15,-715.32\"/>\n<polygon fill=\"black\" stroke=\"black\" points=\"321.08,-713.37 313.34,-706.13 314.88,-716.61 321.08,-713.37\"/>\n<text text-anchor=\"middle\" x=\"305.88\" y=\"-726.29\" font-family=\"Helvetica,sans-Serif\" font-size=\"14.00\">True</text>\n</g>\n<!-- 8 -->\n<g id=\"node9\" class=\"node\">\n<title>8</title>\n<path fill=\"#eb9c64\" stroke=\"black\" d=\"M477.5,-706C477.5,-706 384.5,-706 384.5,-706 378.5,-706 372.5,-700 372.5,-694 372.5,-694 372.5,-650 372.5,-650 372.5,-644 378.5,-638 384.5,-638 384.5,-638 477.5,-638 477.5,-638 483.5,-638 489.5,-644 489.5,-650 489.5,-650 489.5,-694 489.5,-694 489.5,-700 483.5,-706 477.5,-706\"/>\n<text text-anchor=\"start\" x=\"394\" y=\"-690.8\" font-family=\"Helvetica,sans-Serif\" font-size=\"14.00\">Pclass ≤ 1.5</text>\n<text text-anchor=\"start\" x=\"399\" y=\"-675.8\" font-family=\"Helvetica,sans-Serif\" font-size=\"14.00\">gini = 0.29</text>\n<text text-anchor=\"start\" x=\"386\" y=\"-660.8\" font-family=\"Helvetica,sans-Serif\" font-size=\"14.00\">samples = 439</text>\n<text text-anchor=\"start\" x=\"380.5\" y=\"-645.8\" font-family=\"Helvetica,sans-Serif\" font-size=\"14.00\">value = [361, 78]</text>\n</g>\n<!-- 0&#45;&gt;8 -->\n<g id=\"edge8\" class=\"edge\">\n<title>0&#45;&gt;8</title>\n<path fill=\"none\" stroke=\"black\" d=\"M380.69,-767.7C389.19,-751.7 399.47,-732.35 408.52,-715.32\"/>\n<polygon fill=\"black\" stroke=\"black\" points=\"411.8,-716.6 413.4,-706.13 405.62,-713.32 411.8,-716.6\"/>\n<text text-anchor=\"middle\" x=\"420.72\" y=\"-726.33\" font-family=\"Helvetica,sans-Serif\" font-size=\"14.00\">False</text>\n</g>\n<!-- 2 -->\n<g id=\"node3\" class=\"node\">\n<title>2</title>\n<path fill=\"#43a2e6\" stroke=\"black\" d=\"M213,-576C213,-576 127,-576 127,-576 121,-576 115,-570 115,-564 115,-564 115,-520 115,-520 115,-514 121,-508 127,-508 127,-508 213,-508 213,-508 219,-508 225,-514 225,-520 225,-520 225,-564 225,-564 225,-570 219,-576 213,-576\"/>\n<text text-anchor=\"start\" x=\"127.5\" y=\"-560.8\" font-family=\"Helvetica,sans-Serif\" font-size=\"14.00\">LogFare ≤ 3.4</text>\n<text text-anchor=\"start\" x=\"138\" y=\"-545.8\" font-family=\"Helvetica,sans-Serif\" font-size=\"14.00\">gini = 0.09</text>\n<text text-anchor=\"start\" x=\"125\" y=\"-530.8\" font-family=\"Helvetica,sans-Serif\" font-size=\"14.00\">samples = 126</text>\n<text text-anchor=\"start\" x=\"123\" y=\"-515.8\" font-family=\"Helvetica,sans-Serif\" font-size=\"14.00\">value = [6, 120]</text>\n</g>\n<!-- 1&#45;&gt;2 -->\n<g id=\"edge2\" class=\"edge\">\n<title>1&#45;&gt;2</title>\n<path fill=\"none\" stroke=\"black\" d=\"M263.22,-637.7C246.89,-621.11 227.01,-600.91 209.8,-583.43\"/>\n<polygon fill=\"black\" stroke=\"black\" points=\"212.12,-580.8 202.61,-576.13 207.13,-585.71 212.12,-580.8\"/>\n</g>\n<!-- 5 -->\n<g id=\"node6\" class=\"node\">\n<title>5</title>\n<path fill=\"#f4f9fe\" stroke=\"black\" d=\"M341,-576C341,-576 255,-576 255,-576 249,-576 243,-570 243,-564 243,-564 243,-520 243,-520 243,-514 249,-508 255,-508 255,-508 341,-508 341,-508 347,-508 353,-514 353,-520 353,-520 353,-564 353,-564 353,-570 347,-576 341,-576\"/>\n<text text-anchor=\"start\" x=\"252\" y=\"-560.8\" font-family=\"Helvetica,sans-Serif\" font-size=\"14.00\">LogFare ≤ 2.63</text>\n<text text-anchor=\"start\" x=\"270\" y=\"-545.8\" font-family=\"Helvetica,sans-Serif\" font-size=\"14.00\">gini = 0.5</text>\n<text text-anchor=\"start\" x=\"253\" y=\"-530.8\" font-family=\"Helvetica,sans-Serif\" font-size=\"14.00\">samples = 103</text>\n<text text-anchor=\"start\" x=\"251\" y=\"-515.8\" font-family=\"Helvetica,sans-Serif\" font-size=\"14.00\">value = [50, 53]</text>\n</g>\n<!-- 1&#45;&gt;5 -->\n<g id=\"edge5\" class=\"edge\">\n<title>1&#45;&gt;5</title>\n<path fill=\"none\" stroke=\"black\" d=\"M296.52,-637.7C296.77,-622 297.06,-603.06 297.32,-586.27\"/>\n<polygon fill=\"black\" stroke=\"black\" points=\"300.83,-586.18 297.48,-576.13 293.83,-586.07 300.83,-586.18\"/>\n</g>\n<!-- 3 -->\n<g id=\"node4\" class=\"node\">\n<title>3</title>\n<path fill=\"#4aa6e7\" stroke=\"black\" d=\"M90,-439.5C90,-439.5 12,-439.5 12,-439.5 6,-439.5 0,-433.5 0,-427.5 0,-427.5 0,-398.5 0,-398.5 0,-392.5 6,-386.5 12,-386.5 12,-386.5 90,-386.5 90,-386.5 96,-386.5 102,-392.5 102,-398.5 102,-398.5 102,-427.5 102,-427.5 102,-433.5 96,-439.5 90,-439.5\"/>\n<text text-anchor=\"start\" x=\"19\" y=\"-424.3\" font-family=\"Helvetica,sans-Serif\" font-size=\"14.00\">gini = 0.15</text>\n<text text-anchor=\"start\" x=\"10\" y=\"-409.3\" font-family=\"Helvetica,sans-Serif\" font-size=\"14.00\">samples = 50</text>\n<text text-anchor=\"start\" x=\"8\" y=\"-394.3\" font-family=\"Helvetica,sans-Serif\" font-size=\"14.00\">value = [4, 46]</text>\n</g>\n<!-- 2&#45;&gt;3 -->\n<g id=\"edge3\" class=\"edge\">\n<title>2&#45;&gt;3</title>\n<path fill=\"none\" stroke=\"black\" d=\"M139.04,-507.96C121.57,-489.31 99.79,-466.07 82.27,-447.37\"/>\n<polygon fill=\"black\" stroke=\"black\" points=\"84.43,-444.56 75.04,-439.66 79.32,-449.35 84.43,-444.56\"/>\n</g>\n<!-- 4 -->\n<g id=\"node5\" class=\"node\">\n<title>4</title>\n<path fill=\"#3ea0e6\" stroke=\"black\" d=\"M210,-439.5C210,-439.5 132,-439.5 132,-439.5 126,-439.5 120,-433.5 120,-427.5 120,-427.5 120,-398.5 120,-398.5 120,-392.5 126,-386.5 132,-386.5 132,-386.5 210,-386.5 210,-386.5 216,-386.5 222,-392.5 222,-398.5 222,-398.5 222,-427.5 222,-427.5 222,-433.5 216,-439.5 210,-439.5\"/>\n<text text-anchor=\"start\" x=\"139\" y=\"-424.3\" font-family=\"Helvetica,sans-Serif\" font-size=\"14.00\">gini = 0.05</text>\n<text text-anchor=\"start\" x=\"130\" y=\"-409.3\" font-family=\"Helvetica,sans-Serif\" font-size=\"14.00\">samples = 76</text>\n<text text-anchor=\"start\" x=\"128\" y=\"-394.3\" font-family=\"Helvetica,sans-Serif\" font-size=\"14.00\">value = [2, 74]</text>\n</g>\n<!-- 2&#45;&gt;4 -->\n<g id=\"edge4\" class=\"edge\">\n<title>2&#45;&gt;4</title>\n<path fill=\"none\" stroke=\"black\" d=\"M170.26,-507.96C170.4,-490.15 170.57,-468.14 170.72,-449.9\"/>\n<polygon fill=\"black\" stroke=\"black\" points=\"174.22,-449.68 170.8,-439.66 167.22,-449.63 174.22,-449.68\"/>\n</g>\n<!-- 6 -->\n<g id=\"node7\" class=\"node\">\n<title>6</title>\n<path fill=\"#a8d4f4\" stroke=\"black\" d=\"M340,-439.5C340,-439.5 254,-439.5 254,-439.5 248,-439.5 242,-433.5 242,-427.5 242,-427.5 242,-398.5 242,-398.5 242,-392.5 248,-386.5 254,-386.5 254,-386.5 340,-386.5 340,-386.5 346,-386.5 352,-392.5 352,-398.5 352,-398.5 352,-427.5 352,-427.5 352,-433.5 346,-439.5 340,-439.5\"/>\n<text text-anchor=\"start\" x=\"265\" y=\"-424.3\" font-family=\"Helvetica,sans-Serif\" font-size=\"14.00\">gini = 0.46</text>\n<text text-anchor=\"start\" x=\"256\" y=\"-409.3\" font-family=\"Helvetica,sans-Serif\" font-size=\"14.00\">samples = 53</text>\n<text text-anchor=\"start\" x=\"250\" y=\"-394.3\" font-family=\"Helvetica,sans-Serif\" font-size=\"14.00\">value = [19, 34]</text>\n</g>\n<!-- 5&#45;&gt;6 -->\n<g id=\"edge6\" class=\"edge\">\n<title>5&#45;&gt;6</title>\n<path fill=\"none\" stroke=\"black\" d=\"M297.74,-507.96C297.6,-490.15 297.43,-468.14 297.28,-449.9\"/>\n<polygon fill=\"black\" stroke=\"black\" points=\"300.78,-449.63 297.2,-439.66 293.78,-449.68 300.78,-449.63\"/>\n</g>\n<!-- 7 -->\n<g id=\"node8\" class=\"node\">\n<title>7</title>\n<path fill=\"#f5ceb2\" stroke=\"black\" d=\"M468,-439.5C468,-439.5 382,-439.5 382,-439.5 376,-439.5 370,-433.5 370,-427.5 370,-427.5 370,-398.5 370,-398.5 370,-392.5 376,-386.5 382,-386.5 382,-386.5 468,-386.5 468,-386.5 474,-386.5 480,-392.5 480,-398.5 480,-398.5 480,-427.5 480,-427.5 480,-433.5 474,-439.5 468,-439.5\"/>\n<text text-anchor=\"start\" x=\"393\" y=\"-424.3\" font-family=\"Helvetica,sans-Serif\" font-size=\"14.00\">gini = 0.47</text>\n<text text-anchor=\"start\" x=\"384\" y=\"-409.3\" font-family=\"Helvetica,sans-Serif\" font-size=\"14.00\">samples = 50</text>\n<text text-anchor=\"start\" x=\"378\" y=\"-394.3\" font-family=\"Helvetica,sans-Serif\" font-size=\"14.00\">value = [31, 19]</text>\n</g>\n<!-- 5&#45;&gt;7 -->\n<g id=\"edge7\" class=\"edge\">\n<title>5&#45;&gt;7</title>\n<path fill=\"none\" stroke=\"black\" d=\"M331.04,-507.96C349.85,-489.15 373.34,-465.66 392.13,-446.87\"/>\n<polygon fill=\"black\" stroke=\"black\" points=\"394.75,-449.2 399.34,-439.66 389.8,-444.25 394.75,-449.2\"/>\n</g>\n<!-- 9 -->\n<g id=\"node10\" class=\"node\">\n<title>9</title>\n<path fill=\"#f3c5a4\" stroke=\"black\" d=\"M472,-568.5C472,-568.5 386,-568.5 386,-568.5 380,-568.5 374,-562.5 374,-556.5 374,-556.5 374,-527.5 374,-527.5 374,-521.5 380,-515.5 386,-515.5 386,-515.5 472,-515.5 472,-515.5 478,-515.5 484,-521.5 484,-527.5 484,-527.5 484,-556.5 484,-556.5 484,-562.5 478,-568.5 472,-568.5\"/>\n<text text-anchor=\"start\" x=\"397\" y=\"-553.3\" font-family=\"Helvetica,sans-Serif\" font-size=\"14.00\">gini = 0.46</text>\n<text text-anchor=\"start\" x=\"388\" y=\"-538.3\" font-family=\"Helvetica,sans-Serif\" font-size=\"14.00\">samples = 91</text>\n<text text-anchor=\"start\" x=\"382\" y=\"-523.3\" font-family=\"Helvetica,sans-Serif\" font-size=\"14.00\">value = [59, 32]</text>\n</g>\n<!-- 8&#45;&gt;9 -->\n<g id=\"edge9\" class=\"edge\">\n<title>8&#45;&gt;9</title>\n<path fill=\"none\" stroke=\"black\" d=\"M430.48,-637.7C430.2,-619.66 429.85,-597.36 429.56,-578.92\"/>\n<polygon fill=\"black\" stroke=\"black\" points=\"433.06,-578.8 429.4,-568.86 426.06,-578.91 433.06,-578.8\"/>\n</g>\n<!-- 10 -->\n<g id=\"node11\" class=\"node\">\n<title>10</title>\n<path fill=\"#e99457\" stroke=\"black\" d=\"M607.5,-576C607.5,-576 514.5,-576 514.5,-576 508.5,-576 502.5,-570 502.5,-564 502.5,-564 502.5,-520 502.5,-520 502.5,-514 508.5,-508 514.5,-508 514.5,-508 607.5,-508 607.5,-508 613.5,-508 619.5,-514 619.5,-520 619.5,-520 619.5,-564 619.5,-564 619.5,-570 613.5,-576 607.5,-576\"/>\n<text text-anchor=\"start\" x=\"528\" y=\"-560.8\" font-family=\"Helvetica,sans-Serif\" font-size=\"14.00\">Age ≤ 18.5</text>\n<text text-anchor=\"start\" x=\"529\" y=\"-545.8\" font-family=\"Helvetica,sans-Serif\" font-size=\"14.00\">gini = 0.23</text>\n<text text-anchor=\"start\" x=\"516\" y=\"-530.8\" font-family=\"Helvetica,sans-Serif\" font-size=\"14.00\">samples = 348</text>\n<text text-anchor=\"start\" x=\"510.5\" y=\"-515.8\" font-family=\"Helvetica,sans-Serif\" font-size=\"14.00\">value = [302, 46]</text>\n</g>\n<!-- 8&#45;&gt;10 -->\n<g id=\"edge10\" class=\"edge\">\n<title>8&#45;&gt;10</title>\n<path fill=\"none\" stroke=\"black\" d=\"M464.82,-637.7C481.67,-621.11 502.18,-600.91 519.93,-583.43\"/>\n<polygon fill=\"black\" stroke=\"black\" points=\"522.68,-585.64 527.35,-576.13 517.77,-580.65 522.68,-585.64\"/>\n</g>\n<!-- 11 -->\n<g id=\"node12\" class=\"node\">\n<title>11</title>\n<path fill=\"#f1b991\" stroke=\"black\" d=\"M600,-439.5C600,-439.5 514,-439.5 514,-439.5 508,-439.5 502,-433.5 502,-427.5 502,-427.5 502,-398.5 502,-398.5 502,-392.5 508,-386.5 514,-386.5 514,-386.5 600,-386.5 600,-386.5 606,-386.5 612,-392.5 612,-398.5 612,-398.5 612,-427.5 612,-427.5 612,-433.5 606,-439.5 600,-439.5\"/>\n<text text-anchor=\"start\" x=\"525\" y=\"-424.3\" font-family=\"Helvetica,sans-Serif\" font-size=\"14.00\">gini = 0.43</text>\n<text text-anchor=\"start\" x=\"516\" y=\"-409.3\" font-family=\"Helvetica,sans-Serif\" font-size=\"14.00\">samples = 52</text>\n<text text-anchor=\"start\" x=\"510\" y=\"-394.3\" font-family=\"Helvetica,sans-Serif\" font-size=\"14.00\">value = [36, 16]</text>\n</g>\n<!-- 10&#45;&gt;11 -->\n<g id=\"edge11\" class=\"edge\">\n<title>10&#45;&gt;11</title>\n<path fill=\"none\" stroke=\"black\" d=\"M559.96,-507.96C559.4,-490.15 558.71,-468.14 558.13,-449.9\"/>\n<polygon fill=\"black\" stroke=\"black\" points=\"561.62,-449.54 557.81,-439.66 554.62,-449.76 561.62,-449.54\"/>\n</g>\n<!-- 12 -->\n<g id=\"node13\" class=\"node\">\n<title>12</title>\n<path fill=\"#e88f4f\" stroke=\"black\" d=\"M735.5,-447C735.5,-447 642.5,-447 642.5,-447 636.5,-447 630.5,-441 630.5,-435 630.5,-435 630.5,-391 630.5,-391 630.5,-385 636.5,-379 642.5,-379 642.5,-379 735.5,-379 735.5,-379 741.5,-379 747.5,-385 747.5,-391 747.5,-391 747.5,-435 747.5,-435 747.5,-441 741.5,-447 735.5,-447\"/>\n<text text-anchor=\"start\" x=\"652.5\" y=\"-431.8\" font-family=\"Helvetica,sans-Serif\" font-size=\"14.00\">Age ≤ 32.25</text>\n<text text-anchor=\"start\" x=\"657\" y=\"-416.8\" font-family=\"Helvetica,sans-Serif\" font-size=\"14.00\">gini = 0.18</text>\n<text text-anchor=\"start\" x=\"644\" y=\"-401.8\" font-family=\"Helvetica,sans-Serif\" font-size=\"14.00\">samples = 296</text>\n<text text-anchor=\"start\" x=\"638.5\" y=\"-386.8\" font-family=\"Helvetica,sans-Serif\" font-size=\"14.00\">value = [266, 30]</text>\n</g>\n<!-- 10&#45;&gt;12 -->\n<g id=\"edge12\" class=\"edge\">\n<title>10&#45;&gt;12</title>\n<path fill=\"none\" stroke=\"black\" d=\"M594.3,-507.96C610.76,-491.63 630.77,-471.77 648.16,-454.53\"/>\n<polygon fill=\"black\" stroke=\"black\" points=\"650.79,-456.84 655.43,-447.31 645.86,-451.87 650.79,-456.84\"/>\n</g>\n<!-- 13 -->\n<g id=\"node14\" class=\"node\">\n<title>13</title>\n<path fill=\"#e89153\" stroke=\"black\" d=\"M671.5,-317C671.5,-317 578.5,-317 578.5,-317 572.5,-317 566.5,-311 566.5,-305 566.5,-305 566.5,-261 566.5,-261 566.5,-255 572.5,-249 578.5,-249 578.5,-249 671.5,-249 671.5,-249 677.5,-249 683.5,-255 683.5,-261 683.5,-261 683.5,-305 683.5,-305 683.5,-311 677.5,-317 671.5,-317\"/>\n<text text-anchor=\"start\" x=\"592\" y=\"-301.8\" font-family=\"Helvetica,sans-Serif\" font-size=\"14.00\">Age ≤ 25.5</text>\n<text text-anchor=\"start\" x=\"597\" y=\"-286.8\" font-family=\"Helvetica,sans-Serif\" font-size=\"14.00\">gini = 0.2</text>\n<text text-anchor=\"start\" x=\"580\" y=\"-271.8\" font-family=\"Helvetica,sans-Serif\" font-size=\"14.00\">samples = 217</text>\n<text text-anchor=\"start\" x=\"574.5\" y=\"-256.8\" font-family=\"Helvetica,sans-Serif\" font-size=\"14.00\">value = [192, 25]</text>\n</g>\n<!-- 12&#45;&gt;13 -->\n<g id=\"edge13\" class=\"edge\">\n<title>12&#45;&gt;13</title>\n<path fill=\"none\" stroke=\"black\" d=\"M672.35,-378.7C664.35,-362.7 654.67,-343.35 646.16,-326.32\"/>\n<polygon fill=\"black\" stroke=\"black\" points=\"649.17,-324.51 641.56,-317.13 642.91,-327.64 649.17,-324.51\"/>\n</g>\n<!-- 18 -->\n<g id=\"node19\" class=\"node\">\n<title>18</title>\n<path fill=\"#e78a46\" stroke=\"black\" d=\"M792,-309.5C792,-309.5 714,-309.5 714,-309.5 708,-309.5 702,-303.5 702,-297.5 702,-297.5 702,-268.5 702,-268.5 702,-262.5 708,-256.5 714,-256.5 714,-256.5 792,-256.5 792,-256.5 798,-256.5 804,-262.5 804,-268.5 804,-268.5 804,-297.5 804,-297.5 804,-303.5 798,-309.5 792,-309.5\"/>\n<text text-anchor=\"start\" x=\"721\" y=\"-294.3\" font-family=\"Helvetica,sans-Serif\" font-size=\"14.00\">gini = 0.12</text>\n<text text-anchor=\"start\" x=\"712\" y=\"-279.3\" font-family=\"Helvetica,sans-Serif\" font-size=\"14.00\">samples = 79</text>\n<text text-anchor=\"start\" x=\"710\" y=\"-264.3\" font-family=\"Helvetica,sans-Serif\" font-size=\"14.00\">value = [74, 5]</text>\n</g>\n<!-- 12&#45;&gt;18 -->\n<g id=\"edge18\" class=\"edge\">\n<title>12&#45;&gt;18</title>\n<path fill=\"none\" stroke=\"black\" d=\"M705.65,-378.7C714.84,-360.33 726.24,-337.52 735.55,-318.9\"/>\n<polygon fill=\"black\" stroke=\"black\" points=\"738.73,-320.37 740.07,-309.86 732.47,-317.24 738.73,-320.37\"/>\n</g>\n<!-- 14 -->\n<g id=\"node15\" class=\"node\">\n<title>14</title>\n<path fill=\"#e78d4c\" stroke=\"black\" d=\"M605.5,-187C605.5,-187 512.5,-187 512.5,-187 506.5,-187 500.5,-181 500.5,-175 500.5,-175 500.5,-131 500.5,-131 500.5,-125 506.5,-119 512.5,-119 512.5,-119 605.5,-119 605.5,-119 611.5,-119 617.5,-125 617.5,-131 617.5,-131 617.5,-175 617.5,-175 617.5,-181 611.5,-187 605.5,-187\"/>\n<text text-anchor=\"start\" x=\"513\" y=\"-171.8\" font-family=\"Helvetica,sans-Serif\" font-size=\"14.00\">LogFare ≤ 2.18</text>\n<text text-anchor=\"start\" x=\"527\" y=\"-156.8\" font-family=\"Helvetica,sans-Serif\" font-size=\"14.00\">gini = 0.16</text>\n<text text-anchor=\"start\" x=\"514\" y=\"-141.8\" font-family=\"Helvetica,sans-Serif\" font-size=\"14.00\">samples = 152</text>\n<text text-anchor=\"start\" x=\"508.5\" y=\"-126.8\" font-family=\"Helvetica,sans-Serif\" font-size=\"14.00\">value = [139, 13]</text>\n</g>\n<!-- 13&#45;&gt;14 -->\n<g id=\"edge14\" class=\"edge\">\n<title>13&#45;&gt;14</title>\n<path fill=\"none\" stroke=\"black\" d=\"M607.83,-248.7C599.58,-232.7 589.6,-213.35 580.82,-196.32\"/>\n<polygon fill=\"black\" stroke=\"black\" points=\"583.78,-194.41 576.08,-187.13 577.55,-197.62 583.78,-194.41\"/>\n</g>\n<!-- 17 -->\n<g id=\"node18\" class=\"node\">\n<title>17</title>\n<path fill=\"#eb9e66\" stroke=\"black\" d=\"M734,-179.5C734,-179.5 648,-179.5 648,-179.5 642,-179.5 636,-173.5 636,-167.5 636,-167.5 636,-138.5 636,-138.5 636,-132.5 642,-126.5 648,-126.5 648,-126.5 734,-126.5 734,-126.5 740,-126.5 746,-132.5 746,-138.5 746,-138.5 746,-167.5 746,-167.5 746,-173.5 740,-179.5 734,-179.5\"/>\n<text text-anchor=\"start\" x=\"663\" y=\"-164.3\" font-family=\"Helvetica,sans-Serif\" font-size=\"14.00\">gini = 0.3</text>\n<text text-anchor=\"start\" x=\"650\" y=\"-149.3\" font-family=\"Helvetica,sans-Serif\" font-size=\"14.00\">samples = 65</text>\n<text text-anchor=\"start\" x=\"644\" y=\"-134.3\" font-family=\"Helvetica,sans-Serif\" font-size=\"14.00\">value = [53, 12]</text>\n</g>\n<!-- 13&#45;&gt;17 -->\n<g id=\"edge17\" class=\"edge\">\n<title>13&#45;&gt;17</title>\n<path fill=\"none\" stroke=\"black\" d=\"M642.17,-248.7C651.64,-230.33 663.4,-207.52 673.01,-188.9\"/>\n<polygon fill=\"black\" stroke=\"black\" points=\"676.19,-190.35 677.67,-179.86 669.97,-187.14 676.19,-190.35\"/>\n</g>\n<!-- 15 -->\n<g id=\"node16\" class=\"node\">\n<title>15</title>\n<path fill=\"#e89152\" stroke=\"black\" d=\"M538,-59.5C538,-59.5 460,-59.5 460,-59.5 454,-59.5 448,-53.5 448,-47.5 448,-47.5 448,-18.5 448,-18.5 448,-12.5 454,-6.5 460,-6.5 460,-6.5 538,-6.5 538,-6.5 544,-6.5 550,-12.5 550,-18.5 550,-18.5 550,-47.5 550,-47.5 550,-53.5 544,-59.5 538,-59.5\"/>\n<text text-anchor=\"start\" x=\"471\" y=\"-44.3\" font-family=\"Helvetica,sans-Serif\" font-size=\"14.00\">gini = 0.2</text>\n<text text-anchor=\"start\" x=\"458\" y=\"-29.3\" font-family=\"Helvetica,sans-Serif\" font-size=\"14.00\">samples = 62</text>\n<text text-anchor=\"start\" x=\"456\" y=\"-14.3\" font-family=\"Helvetica,sans-Serif\" font-size=\"14.00\">value = [55, 7]</text>\n</g>\n<!-- 14&#45;&gt;15 -->\n<g id=\"edge15\" class=\"edge\">\n<title>14&#45;&gt;15</title>\n<path fill=\"none\" stroke=\"black\" d=\"M542.13,-118.82C534.19,-103.2 524.72,-84.58 516.68,-68.78\"/>\n<polygon fill=\"black\" stroke=\"black\" points=\"519.79,-67.16 512.14,-59.84 513.55,-70.34 519.79,-67.16\"/>\n</g>\n<!-- 16 -->\n<g id=\"node17\" class=\"node\">\n<title>16</title>\n<path fill=\"#e78a47\" stroke=\"black\" d=\"M658,-59.5C658,-59.5 580,-59.5 580,-59.5 574,-59.5 568,-53.5 568,-47.5 568,-47.5 568,-18.5 568,-18.5 568,-12.5 574,-6.5 580,-6.5 580,-6.5 658,-6.5 658,-6.5 664,-6.5 670,-12.5 670,-18.5 670,-18.5 670,-47.5 670,-47.5 670,-53.5 664,-59.5 658,-59.5\"/>\n<text text-anchor=\"start\" x=\"587\" y=\"-44.3\" font-family=\"Helvetica,sans-Serif\" font-size=\"14.00\">gini = 0.12</text>\n<text text-anchor=\"start\" x=\"578\" y=\"-29.3\" font-family=\"Helvetica,sans-Serif\" font-size=\"14.00\">samples = 90</text>\n<text text-anchor=\"start\" x=\"576\" y=\"-14.3\" font-family=\"Helvetica,sans-Serif\" font-size=\"14.00\">value = [84, 6]</text>\n</g>\n<!-- 14&#45;&gt;16 -->\n<g id=\"edge16\" class=\"edge\">\n<title>14&#45;&gt;16</title>\n<path fill=\"none\" stroke=\"black\" d=\"M575.87,-118.82C583.81,-103.2 593.28,-84.58 601.32,-68.78\"/>\n<polygon fill=\"black\" stroke=\"black\" points=\"604.45,-70.34 605.86,-59.84 598.21,-67.16 604.45,-70.34\"/>\n</g>\n</g>\n</svg>\n",
            "text/plain": [
              "<graphviz.sources.Source at 0x7e23d8c1e800>"
            ]
          },
          "metadata": {},
          "execution_count": 53
        }
      ]
    },
    {
      "cell_type": "code",
      "source": [
        "mean_absolute_error(val_y, model.predict(val_xs))"
      ],
      "metadata": {
        "colab": {
          "base_uri": "https://localhost:8080/"
        },
        "id": "yPQI6ohUYrdl",
        "outputId": "421be962-75d9-42cd-9496-66b335c2315d"
      },
      "execution_count": 55,
      "outputs": [
        {
          "output_type": "execute_result",
          "data": {
            "text/plain": [
              "0.23318385650224216"
            ]
          },
          "metadata": {},
          "execution_count": 55
        }
      ]
    },
    {
      "cell_type": "markdown",
      "source": [
        "## Moving onto Random Forrests"
      ],
      "metadata": {
        "id": "tmC33fMlO4M0"
      }
    },
    {
      "cell_type": "code",
      "source": [],
      "metadata": {
        "id": "GEdDbvGOO8y-"
      },
      "execution_count": 30,
      "outputs": []
    }
  ],
  "metadata": {
    "colab": {
      "provenance": [],
      "mount_file_id": "1ATgB5ExqEY4NPSaG4mB4PvQI71tIfP1Y",
      "authorship_tag": "ABX9TyOSX/nwb4GG6/+vZ+jCZfPB",
      "include_colab_link": true
    },
    "kernelspec": {
      "display_name": "Python 3",
      "name": "python3"
    },
    "language_info": {
      "name": "python"
    },
    "widgets": {
      "application/vnd.jupyter.widget-state+json": {
        "85a35d1c84b6429ebb76a8cadcd6326d": {
          "model_module": "@jupyter-widgets/controls",
          "model_name": "VBoxModel",
          "model_module_version": "1.5.0",
          "state": {
            "_dom_classes": [
              "widget-interact"
            ],
            "_model_module": "@jupyter-widgets/controls",
            "_model_module_version": "1.5.0",
            "_model_name": "VBoxModel",
            "_view_count": null,
            "_view_module": "@jupyter-widgets/controls",
            "_view_module_version": "1.5.0",
            "_view_name": "VBoxView",
            "box_style": "",
            "children": [
              "IPY_MODEL_1f2f98932c454436b998a5503b9fec84",
              "IPY_MODEL_4b9f08886c8b4a9fa8634b529e868817",
              "IPY_MODEL_31a012b462c04c52bad640ebfc4924d5"
            ],
            "layout": "IPY_MODEL_b261b553b36344c2b54cb7c25dd6951a"
          }
        },
        "1f2f98932c454436b998a5503b9fec84": {
          "model_module": "@jupyter-widgets/controls",
          "model_name": "DropdownModel",
          "model_module_version": "1.5.0",
          "state": {
            "_dom_classes": [],
            "_model_module": "@jupyter-widgets/controls",
            "_model_module_version": "1.5.0",
            "_model_name": "DropdownModel",
            "_options_labels": [
              "Age",
              "SibSp",
              "Parch",
              "LogFare",
              "Pclass"
            ],
            "_view_count": null,
            "_view_module": "@jupyter-widgets/controls",
            "_view_module_version": "1.5.0",
            "_view_name": "DropdownView",
            "description": "nm",
            "description_tooltip": null,
            "disabled": false,
            "index": 0,
            "layout": "IPY_MODEL_6a7871d5cd594f729fc063a08763e30c",
            "style": "IPY_MODEL_ad50121d00474d01ae9f8ee1d9429c6d"
          }
        },
        "4b9f08886c8b4a9fa8634b529e868817": {
          "model_module": "@jupyter-widgets/controls",
          "model_name": "FloatSliderModel",
          "model_module_version": "1.5.0",
          "state": {
            "_dom_classes": [],
            "_model_module": "@jupyter-widgets/controls",
            "_model_module_version": "1.5.0",
            "_model_name": "FloatSliderModel",
            "_view_count": null,
            "_view_module": "@jupyter-widgets/controls",
            "_view_module_version": "1.5.0",
            "_view_name": "FloatSliderView",
            "continuous_update": true,
            "description": "split",
            "description_tooltip": null,
            "disabled": false,
            "layout": "IPY_MODEL_ea6e26e2c8454fa09767bc3e956b821d",
            "max": 46.5,
            "min": -15.5,
            "orientation": "horizontal",
            "readout": true,
            "readout_format": ".2f",
            "step": 0.1,
            "style": "IPY_MODEL_59bf7045b0ec48a7b5469b58ead48111",
            "value": 15.5
          }
        },
        "31a012b462c04c52bad640ebfc4924d5": {
          "model_module": "@jupyter-widgets/output",
          "model_name": "OutputModel",
          "model_module_version": "1.0.0",
          "state": {
            "_dom_classes": [],
            "_model_module": "@jupyter-widgets/output",
            "_model_module_version": "1.0.0",
            "_model_name": "OutputModel",
            "_view_count": null,
            "_view_module": "@jupyter-widgets/output",
            "_view_module_version": "1.0.0",
            "_view_name": "OutputView",
            "layout": "IPY_MODEL_0ec846ade2434ad99bc6ae6d83dbd55a",
            "msg_id": "",
            "outputs": [
              {
                "output_type": "display_data",
                "data": {
                  "text/plain": "0.4821233964628927"
                },
                "metadata": {}
              }
            ]
          }
        },
        "b261b553b36344c2b54cb7c25dd6951a": {
          "model_module": "@jupyter-widgets/base",
          "model_name": "LayoutModel",
          "model_module_version": "1.2.0",
          "state": {
            "_model_module": "@jupyter-widgets/base",
            "_model_module_version": "1.2.0",
            "_model_name": "LayoutModel",
            "_view_count": null,
            "_view_module": "@jupyter-widgets/base",
            "_view_module_version": "1.2.0",
            "_view_name": "LayoutView",
            "align_content": null,
            "align_items": null,
            "align_self": null,
            "border": null,
            "bottom": null,
            "display": null,
            "flex": null,
            "flex_flow": null,
            "grid_area": null,
            "grid_auto_columns": null,
            "grid_auto_flow": null,
            "grid_auto_rows": null,
            "grid_column": null,
            "grid_gap": null,
            "grid_row": null,
            "grid_template_areas": null,
            "grid_template_columns": null,
            "grid_template_rows": null,
            "height": null,
            "justify_content": null,
            "justify_items": null,
            "left": null,
            "margin": null,
            "max_height": null,
            "max_width": null,
            "min_height": null,
            "min_width": null,
            "object_fit": null,
            "object_position": null,
            "order": null,
            "overflow": null,
            "overflow_x": null,
            "overflow_y": null,
            "padding": null,
            "right": null,
            "top": null,
            "visibility": null,
            "width": null
          }
        },
        "6a7871d5cd594f729fc063a08763e30c": {
          "model_module": "@jupyter-widgets/base",
          "model_name": "LayoutModel",
          "model_module_version": "1.2.0",
          "state": {
            "_model_module": "@jupyter-widgets/base",
            "_model_module_version": "1.2.0",
            "_model_name": "LayoutModel",
            "_view_count": null,
            "_view_module": "@jupyter-widgets/base",
            "_view_module_version": "1.2.0",
            "_view_name": "LayoutView",
            "align_content": null,
            "align_items": null,
            "align_self": null,
            "border": null,
            "bottom": null,
            "display": null,
            "flex": null,
            "flex_flow": null,
            "grid_area": null,
            "grid_auto_columns": null,
            "grid_auto_flow": null,
            "grid_auto_rows": null,
            "grid_column": null,
            "grid_gap": null,
            "grid_row": null,
            "grid_template_areas": null,
            "grid_template_columns": null,
            "grid_template_rows": null,
            "height": null,
            "justify_content": null,
            "justify_items": null,
            "left": null,
            "margin": null,
            "max_height": null,
            "max_width": null,
            "min_height": null,
            "min_width": null,
            "object_fit": null,
            "object_position": null,
            "order": null,
            "overflow": null,
            "overflow_x": null,
            "overflow_y": null,
            "padding": null,
            "right": null,
            "top": null,
            "visibility": null,
            "width": null
          }
        },
        "ad50121d00474d01ae9f8ee1d9429c6d": {
          "model_module": "@jupyter-widgets/controls",
          "model_name": "DescriptionStyleModel",
          "model_module_version": "1.5.0",
          "state": {
            "_model_module": "@jupyter-widgets/controls",
            "_model_module_version": "1.5.0",
            "_model_name": "DescriptionStyleModel",
            "_view_count": null,
            "_view_module": "@jupyter-widgets/base",
            "_view_module_version": "1.2.0",
            "_view_name": "StyleView",
            "description_width": ""
          }
        },
        "ea6e26e2c8454fa09767bc3e956b821d": {
          "model_module": "@jupyter-widgets/base",
          "model_name": "LayoutModel",
          "model_module_version": "1.2.0",
          "state": {
            "_model_module": "@jupyter-widgets/base",
            "_model_module_version": "1.2.0",
            "_model_name": "LayoutModel",
            "_view_count": null,
            "_view_module": "@jupyter-widgets/base",
            "_view_module_version": "1.2.0",
            "_view_name": "LayoutView",
            "align_content": null,
            "align_items": null,
            "align_self": null,
            "border": null,
            "bottom": null,
            "display": null,
            "flex": null,
            "flex_flow": null,
            "grid_area": null,
            "grid_auto_columns": null,
            "grid_auto_flow": null,
            "grid_auto_rows": null,
            "grid_column": null,
            "grid_gap": null,
            "grid_row": null,
            "grid_template_areas": null,
            "grid_template_columns": null,
            "grid_template_rows": null,
            "height": null,
            "justify_content": null,
            "justify_items": null,
            "left": null,
            "margin": null,
            "max_height": null,
            "max_width": null,
            "min_height": null,
            "min_width": null,
            "object_fit": null,
            "object_position": null,
            "order": null,
            "overflow": null,
            "overflow_x": null,
            "overflow_y": null,
            "padding": null,
            "right": null,
            "top": null,
            "visibility": null,
            "width": null
          }
        },
        "59bf7045b0ec48a7b5469b58ead48111": {
          "model_module": "@jupyter-widgets/controls",
          "model_name": "SliderStyleModel",
          "model_module_version": "1.5.0",
          "state": {
            "_model_module": "@jupyter-widgets/controls",
            "_model_module_version": "1.5.0",
            "_model_name": "SliderStyleModel",
            "_view_count": null,
            "_view_module": "@jupyter-widgets/base",
            "_view_module_version": "1.2.0",
            "_view_name": "StyleView",
            "description_width": "",
            "handle_color": null
          }
        },
        "0ec846ade2434ad99bc6ae6d83dbd55a": {
          "model_module": "@jupyter-widgets/base",
          "model_name": "LayoutModel",
          "model_module_version": "1.2.0",
          "state": {
            "_model_module": "@jupyter-widgets/base",
            "_model_module_version": "1.2.0",
            "_model_name": "LayoutModel",
            "_view_count": null,
            "_view_module": "@jupyter-widgets/base",
            "_view_module_version": "1.2.0",
            "_view_name": "LayoutView",
            "align_content": null,
            "align_items": null,
            "align_self": null,
            "border": null,
            "bottom": null,
            "display": null,
            "flex": null,
            "flex_flow": null,
            "grid_area": null,
            "grid_auto_columns": null,
            "grid_auto_flow": null,
            "grid_auto_rows": null,
            "grid_column": null,
            "grid_gap": null,
            "grid_row": null,
            "grid_template_areas": null,
            "grid_template_columns": null,
            "grid_template_rows": null,
            "height": null,
            "justify_content": null,
            "justify_items": null,
            "left": null,
            "margin": null,
            "max_height": null,
            "max_width": null,
            "min_height": null,
            "min_width": null,
            "object_fit": null,
            "object_position": null,
            "order": null,
            "overflow": null,
            "overflow_x": null,
            "overflow_y": null,
            "padding": null,
            "right": null,
            "top": null,
            "visibility": null,
            "width": null
          }
        }
      }
    }
  },
  "nbformat": 4,
  "nbformat_minor": 0
}