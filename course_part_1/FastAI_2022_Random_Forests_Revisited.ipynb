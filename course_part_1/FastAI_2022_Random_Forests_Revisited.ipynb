{
  "cells": [
    {
      "cell_type": "markdown",
      "metadata": {
        "id": "view-in-github",
        "colab_type": "text"
      },
      "source": [
        "<a href=\"https://colab.research.google.com/github/bachaudhry/FastAI-22-23/blob/main/FastAI_2022_Random_Forests_Revisited.ipynb\" target=\"_parent\"><img src=\"https://colab.research.google.com/assets/colab-badge.svg\" alt=\"Open In Colab\"/></a>"
      ]
    },
    {
      "cell_type": "markdown",
      "metadata": {
        "id": "41s4GAleBKb7"
      },
      "source": [
        "# **Reviewing the Inner Workings of Random Forests**"
      ]
    },
    {
      "cell_type": "markdown",
      "metadata": {
        "id": "aYK6ns9pCRDh"
      },
      "source": [
        "## Setup"
      ]
    },
    {
      "cell_type": "code",
      "execution_count": 1,
      "metadata": {
        "colab": {
          "base_uri": "https://localhost:8080/"
        },
        "id": "tqXxYkSpCf49",
        "outputId": "aa4d9062-f53b-4ac7-f637-00b3e9117dfe"
      },
      "outputs": [
        {
          "output_type": "stream",
          "name": "stdout",
          "text": [
            "Requirement already satisfied: kaggle in /usr/local/lib/python3.10/dist-packages (1.5.16)\n",
            "Requirement already satisfied: six>=1.10 in /usr/local/lib/python3.10/dist-packages (from kaggle) (1.16.0)\n",
            "Requirement already satisfied: certifi in /usr/local/lib/python3.10/dist-packages (from kaggle) (2024.2.2)\n",
            "Requirement already satisfied: python-dateutil in /usr/local/lib/python3.10/dist-packages (from kaggle) (2.8.2)\n",
            "Requirement already satisfied: requests in /usr/local/lib/python3.10/dist-packages (from kaggle) (2.31.0)\n",
            "Requirement already satisfied: tqdm in /usr/local/lib/python3.10/dist-packages (from kaggle) (4.66.2)\n",
            "Requirement already satisfied: python-slugify in /usr/local/lib/python3.10/dist-packages (from kaggle) (8.0.4)\n",
            "Requirement already satisfied: urllib3 in /usr/local/lib/python3.10/dist-packages (from kaggle) (2.0.7)\n",
            "Requirement already satisfied: bleach in /usr/local/lib/python3.10/dist-packages (from kaggle) (6.1.0)\n",
            "Requirement already satisfied: webencodings in /usr/local/lib/python3.10/dist-packages (from bleach->kaggle) (0.5.1)\n",
            "Requirement already satisfied: text-unidecode>=1.3 in /usr/local/lib/python3.10/dist-packages (from python-slugify->kaggle) (1.3)\n",
            "Requirement already satisfied: charset-normalizer<4,>=2 in /usr/local/lib/python3.10/dist-packages (from requests->kaggle) (3.3.2)\n",
            "Requirement already satisfied: idna<4,>=2.5 in /usr/local/lib/python3.10/dist-packages (from requests->kaggle) (3.7)\n"
          ]
        }
      ],
      "source": [
        "!pip install kaggle"
      ]
    },
    {
      "cell_type": "code",
      "execution_count": 2,
      "metadata": {
        "id": "AKmOaR_iAlLp"
      },
      "outputs": [],
      "source": [
        "from fastai.imports import *\n",
        "np.set_printoptions(linewidth=130)"
      ]
    },
    {
      "cell_type": "code",
      "execution_count": 3,
      "metadata": {
        "id": "NYJ8N_ukBqj9"
      },
      "outputs": [],
      "source": [
        "import pandas as pd\n",
        "import numpy as np\n",
        "import seaborn as sns\n",
        "from sklearn.model_selection import train_test_split\n",
        "from sklearn.metrics import mean_absolute_error"
      ]
    },
    {
      "cell_type": "code",
      "execution_count": 4,
      "metadata": {
        "id": "BTKtl1NwBquF"
      },
      "outputs": [],
      "source": [
        "# Kaggle\n",
        "iskaggle = os.environ.get('KAGGLE_KERNEL_RUN_TYPE', '')\n",
        "# Credentials storage\n",
        "# Using Kaggle API key\n",
        "creds = '{\"username\":\"bachaudhry\",\"key\":\"f8e0ee26f34cb0d3e4eccd774de62f63\"}'\n",
        "cred_path = Path('~/.kaggle/kaggle.json').expanduser()\n",
        "if not cred_path.exists():\n",
        "  cred_path.parent.mkdir(exist_ok=True)\n",
        "  cred_path.write_text(creds)\n",
        "  cred_path.chmod(0o600)"
      ]
    },
    {
      "cell_type": "code",
      "execution_count": 5,
      "metadata": {
        "colab": {
          "base_uri": "https://localhost:8080/"
        },
        "id": "WFyJO3i0HxDb",
        "outputId": "1e2a67f8-95ad-41c7-b23f-fd93757cfbe0"
      },
      "outputs": [
        {
          "output_type": "stream",
          "name": "stdout",
          "text": [
            "Downloading titanic.zip to /content\n"
          ]
        },
        {
          "output_type": "stream",
          "name": "stderr",
          "text": [
            "100%|██████████| 34.1k/34.1k [00:00<00:00, 3.81MB/s]"
          ]
        },
        {
          "output_type": "stream",
          "name": "stdout",
          "text": [
            "\n"
          ]
        },
        {
          "output_type": "stream",
          "name": "stderr",
          "text": [
            "\n"
          ]
        }
      ],
      "source": [
        "if iskaggle:\n",
        "  path = Path('../input/titanic')\n",
        "else:\n",
        "  import zipfile, kaggle\n",
        "  path = Path('titanic')\n",
        "  kaggle.api.competition_download_cli(str(path))\n",
        "  zipfile.ZipFile(f'{path}.zip').extractall(path)"
      ]
    },
    {
      "cell_type": "markdown",
      "metadata": {
        "id": "w0oJRSQCCT12"
      },
      "source": [
        "## Data Pre-processing"
      ]
    },
    {
      "cell_type": "code",
      "execution_count": 6,
      "metadata": {
        "id": "rb3cF686CX0h"
      },
      "outputs": [],
      "source": [
        "df = pd.read_csv(path/'train.csv')\n",
        "tst_df = pd.read_csv(path/'test.csv')\n",
        "modes = df.mode().iloc[0]"
      ]
    },
    {
      "cell_type": "markdown",
      "source": [
        "One interesting point that popped up during the lessons was that Jeremy suggested that we don't need to create dummy variables when working with Random Forests.\n",
        "\n",
        "Instead, his suggestion was to convert those fields to categoricals instead. Obviously, I'll need to test this on different datasets.\n",
        "\n",
        "Also, does this carry over to boosted models as well?"
      ],
      "metadata": {
        "id": "dLRX-1ZY-eo7"
      }
    },
    {
      "cell_type": "code",
      "execution_count": 7,
      "metadata": {
        "id": "Q1IhYrdKJoHF"
      },
      "outputs": [],
      "source": [
        "# This is a pretty hacky pre-processing function\n",
        "def proc_data (df):\n",
        "  df['Fare'] = df.Fare.fillna(0)\n",
        "  df.fillna(modes, inplace=True)\n",
        "  df['LogFare'] = np.log1p(df['Fare'])\n",
        "  df['Embarked'] = pd.Categorical(df.Embarked)\n",
        "  df['Sex'] = pd.Categorical(df.Sex)\n",
        "\n",
        "# Processing train and test sets\n",
        "proc_data(df)\n",
        "proc_data(tst_df)"
      ]
    },
    {
      "cell_type": "code",
      "execution_count": 8,
      "metadata": {
        "id": "QdVOdxULJopB",
        "colab": {
          "base_uri": "https://localhost:8080/"
        },
        "outputId": "19b43bc5-d6d5-493d-a4b6-8020722be9db"
      },
      "outputs": [
        {
          "output_type": "stream",
          "name": "stdout",
          "text": [
            "<class 'pandas.core.frame.DataFrame'>\n",
            "RangeIndex: 891 entries, 0 to 890\n",
            "Data columns (total 13 columns):\n",
            " #   Column       Non-Null Count  Dtype   \n",
            "---  ------       --------------  -----   \n",
            " 0   PassengerId  891 non-null    int64   \n",
            " 1   Survived     891 non-null    int64   \n",
            " 2   Pclass       891 non-null    int64   \n",
            " 3   Name         891 non-null    object  \n",
            " 4   Sex          891 non-null    category\n",
            " 5   Age          891 non-null    float64 \n",
            " 6   SibSp        891 non-null    int64   \n",
            " 7   Parch        891 non-null    int64   \n",
            " 8   Ticket       891 non-null    object  \n",
            " 9   Fare         891 non-null    float64 \n",
            " 10  Cabin        891 non-null    object  \n",
            " 11  Embarked     891 non-null    category\n",
            " 12  LogFare      891 non-null    float64 \n",
            "dtypes: category(2), float64(3), int64(5), object(3)\n",
            "memory usage: 78.7+ KB\n"
          ]
        }
      ],
      "source": [
        "df.info()"
      ]
    },
    {
      "cell_type": "code",
      "execution_count": 9,
      "metadata": {
        "id": "AeinXT7DJozJ",
        "colab": {
          "base_uri": "https://localhost:8080/"
        },
        "outputId": "2edd6a7d-3fdc-41a4-d0d3-37b14078c9b4"
      },
      "outputs": [
        {
          "output_type": "stream",
          "name": "stdout",
          "text": [
            "<class 'pandas.core.frame.DataFrame'>\n",
            "RangeIndex: 418 entries, 0 to 417\n",
            "Data columns (total 12 columns):\n",
            " #   Column       Non-Null Count  Dtype   \n",
            "---  ------       --------------  -----   \n",
            " 0   PassengerId  418 non-null    int64   \n",
            " 1   Pclass       418 non-null    int64   \n",
            " 2   Name         418 non-null    object  \n",
            " 3   Sex          418 non-null    category\n",
            " 4   Age          418 non-null    float64 \n",
            " 5   SibSp        418 non-null    int64   \n",
            " 6   Parch        418 non-null    int64   \n",
            " 7   Ticket       418 non-null    object  \n",
            " 8   Fare         418 non-null    float64 \n",
            " 9   Cabin        418 non-null    object  \n",
            " 10  Embarked     418 non-null    category\n",
            " 11  LogFare      418 non-null    float64 \n",
            "dtypes: category(2), float64(3), int64(4), object(3)\n",
            "memory usage: 33.8+ KB\n"
          ]
        }
      ],
      "source": [
        "tst_df.info()"
      ]
    },
    {
      "cell_type": "code",
      "execution_count": 10,
      "metadata": {
        "id": "-cJ4xrxoJo5N"
      },
      "outputs": [],
      "source": [
        "# Creating lists of continuous, categorical and dependent variables\n",
        "# Pclass will no longer be used a variable since it is ordered.\n",
        "cats = [\"Sex\", \"Embarked\"]\n",
        "conts = [\"Age\", \"SibSp\", \"Parch\", \"LogFare\", \"Pclass\"]\n",
        "dep = \"Survived\""
      ]
    },
    {
      "cell_type": "code",
      "execution_count": 11,
      "metadata": {
        "id": "JjYCROFNJo-b",
        "colab": {
          "base_uri": "https://localhost:8080/"
        },
        "outputId": "d541fcc1-4e00-4830-e3da-608eb5d09f88"
      },
      "outputs": [
        {
          "output_type": "execute_result",
          "data": {
            "text/plain": [
              "0    1\n",
              "1    0\n",
              "2    0\n",
              "3    0\n",
              "4    1\n",
              "dtype: int8"
            ]
          },
          "metadata": {},
          "execution_count": 11
        }
      ],
      "source": [
        "# Checking if the categorical codes exist or not.\n",
        "df.Sex.cat.codes.head()"
      ]
    },
    {
      "cell_type": "markdown",
      "source": [
        "## Binary Splits"
      ],
      "metadata": {
        "id": "RANOcYRhA79f"
      }
    },
    {
      "cell_type": "markdown",
      "source": [
        "This is a quick demonstration of creating Binary Splits, which are used to create Decision Trees."
      ],
      "metadata": {
        "id": "8v8MaiGUBRwV"
      }
    },
    {
      "cell_type": "code",
      "execution_count": 12,
      "metadata": {
        "id": "7Pm7bkO9JpFT",
        "colab": {
          "base_uri": "https://localhost:8080/",
          "height": 487
        },
        "outputId": "b6f6e3d5-bfa4-4253-bab2-4ee2c6300452"
      },
      "outputs": [
        {
          "output_type": "display_data",
          "data": {
            "text/plain": [
              "<Figure size 1100x500 with 2 Axes>"
            ],
            "image/png": "[encoded data removed]"
          },
          "metadata": {}
        }
      ],
      "source": [
        "# Taking the example of the independent variable \"Sex\"\n",
        "fig, axes = plt.subplots(1, 2, figsize=(11,5))\n",
        "sns.barplot(data=df, y=dep, x=\"Sex\", ax=axes[0], hue=\"Sex\").set(title=\"Survival Rate\")\n",
        "sns.countplot(data=df, x=\"Sex\", ax=axes[1], hue=\"Sex\").set(title=\"Histogram\");"
      ]
    },
    {
      "cell_type": "markdown",
      "source": [
        "The groups above have very different survival rates between males and females.\n",
        "\n",
        "We can create a somewhat even split with each group comprising 300 passengers."
      ],
      "metadata": {
        "id": "96DCv5NnCj8h"
      }
    },
    {
      "cell_type": "code",
      "source": [
        "random.seed(42) # For reproducibility purposes\n",
        "trn_df, val_df = train_test_split(df, test_size=0.25)\n",
        "\n",
        "trn_df[cats] = trn_df[cats].apply(lambda x: x.cat.codes)\n",
        "val_df[cats] = val_df[cats].apply(lambda x: x.cat.codes)"
      ],
      "metadata": {
        "id": "hZshc1BDA6EL"
      },
      "execution_count": 13,
      "outputs": []
    },
    {
      "cell_type": "code",
      "source": [
        "# Creating independent and dependent variables\n",
        "def xs_y(df):\n",
        "  xs = df[cats + conts].copy()\n",
        "  return xs, df[dep] if dep in df else None\n",
        "\n",
        "trn_xs, trn_y = xs_y(trn_df)\n",
        "val_xs, val_y = xs_y(val_df)"
      ],
      "metadata": {
        "id": "1ZBPgaDQA6Kv"
      },
      "execution_count": 14,
      "outputs": []
    },
    {
      "cell_type": "code",
      "source": [
        "# Predictions for the single variable model.\n",
        "preds = val_xs.Sex==0"
      ],
      "metadata": {
        "id": "jqB0UtRiA6Ql"
      },
      "execution_count": 15,
      "outputs": []
    },
    {
      "cell_type": "code",
      "source": [
        "# Using mean-absolute-error as our performance metric\n",
        "mean_absolute_error(val_y, preds)"
      ],
      "metadata": {
        "colab": {
          "base_uri": "https://localhost:8080/"
        },
        "id": "7acJKilKA6Ww",
        "outputId": "7673a183-4360-43ac-f33c-ed6850a689a6"
      },
      "execution_count": 16,
      "outputs": [
        {
          "output_type": "execute_result",
          "data": {
            "text/plain": [
              "0.2062780269058296"
            ]
          },
          "metadata": {},
          "execution_count": 16
        }
      ]
    },
    {
      "cell_type": "markdown",
      "source": [
        "Splitting on a continuous column..."
      ],
      "metadata": {
        "id": "wAFYbIILEnYr"
      }
    },
    {
      "cell_type": "code",
      "source": [
        "# Looking at LogFare for this test\n",
        "df_fare = trn_df[trn_df.LogFare > 0]\n",
        "\n",
        "fig, axes = plt.subplots(1, 2, figsize=(11, 5))\n",
        "sns.boxenplot(data=df_fare, x=dep, y=\"LogFare\", ax=axes[0], hue=\"Survived\")\n",
        "sns.kdeplot(data=df_fare, x=\"LogFare\", ax=axes[1]);"
      ],
      "metadata": {
        "colab": {
          "base_uri": "https://localhost:8080/",
          "height": 465
        },
        "id": "sWfH85RkA6eD",
        "outputId": "2e0a7cdb-15e6-4c20-ffce-af8bb6ed69b0"
      },
      "execution_count": 17,
      "outputs": [
        {
          "output_type": "display_data",
          "data": {
            "text/plain": [
              "<Figure size 1100x500 with 2 Axes>"
            ],
            "image/png": "[encoded data removed]"
          },
          "metadata": {}
        }
      ]
    },
    {
      "cell_type": "code",
      "source": [
        "# The median LogFare for survivors is around 3.2 and for those that didn't\n",
        "# it is around 2.5.\n",
        "preds = val_xs.LogFare > 2.7\n",
        "# Checking performance\n",
        "mean_absolute_error(val_y, preds)"
      ],
      "metadata": {
        "colab": {
          "base_uri": "https://localhost:8080/"
        },
        "id": "b3EOqshuA6mR",
        "outputId": "4930d028-d7a6-44c3-feb3-81ab8b09341c"
      },
      "execution_count": 18,
      "outputs": [
        {
          "output_type": "execute_result",
          "data": {
            "text/plain": [
              "0.3632286995515695"
            ]
          },
          "metadata": {},
          "execution_count": 18
        }
      ]
    },
    {
      "cell_type": "markdown",
      "source": [
        "This is less accurate than `Sex`.\n",
        "\n",
        "In a universe where Random Forests didn't exist, we would need to create functions to show our model's performance across a wide variety of variables and their resulting splits.\n",
        "\n",
        "To do this, we would need to create a score function to measure impurity i.e. measures the similarity / dissimilarity between rows of groups being used in the binary split."
      ],
      "metadata": {
        "id": "faxPeN5vH9Qr"
      }
    },
    {
      "cell_type": "code",
      "source": [
        "# Similarity of rows can be measured using Std. Deviation.\n",
        "def _side_score(side, y):\n",
        "  tot = side.sum()\n",
        "  if tot <= 1:\n",
        "    return 0\n",
        "  return y[side].std() * tot\n",
        "\n",
        "# Calculating the score for a split by adding up the scores for the left and\n",
        "# right hand sides.\n",
        "def score(col, y, split):\n",
        "  lhs = col <= split\n",
        "  return (_side_score(lhs, y) + _side_score(~lhs, y)) / len(y)"
      ],
      "metadata": {
        "id": "4SrrKBPUA6qz"
      },
      "execution_count": 19,
      "outputs": []
    },
    {
      "cell_type": "code",
      "source": [
        "# Checking the impurity score the split using Sex\n",
        "score(trn_xs[\"Sex\"], trn_y, 0.5)"
      ],
      "metadata": {
        "colab": {
          "base_uri": "https://localhost:8080/"
        },
        "id": "34S0WeSrA6u0",
        "outputId": "20ca679e-6e66-4474-8ac9-1984feb9be56"
      },
      "execution_count": 20,
      "outputs": [
        {
          "output_type": "execute_result",
          "data": {
            "text/plain": [
              "0.40984232662110365"
            ]
          },
          "metadata": {},
          "execution_count": 20
        }
      ]
    },
    {
      "cell_type": "code",
      "source": [
        "# Doing the same for LogFare\n",
        "score(trn_xs[\"LogFare\"], trn_y, 2.7)"
      ],
      "metadata": {
        "colab": {
          "base_uri": "https://localhost:8080/"
        },
        "id": "LdUAJRr_A6zb",
        "outputId": "40148319-d802-44c3-8a4c-f0b986e054bf"
      },
      "execution_count": 21,
      "outputs": [
        {
          "output_type": "execute_result",
          "data": {
            "text/plain": [
              "0.4696009687078527"
            ]
          },
          "metadata": {},
          "execution_count": 21
        }
      ]
    },
    {
      "cell_type": "markdown",
      "source": [
        "We could also experiment with binary splits by using widgets..."
      ],
      "metadata": {
        "id": "IMbseE_XKDWk"
      }
    },
    {
      "cell_type": "code",
      "source": [
        "def iscore(nm, split):\n",
        "  col = trn_xs[nm]\n",
        "  return score(col, trn_y, split)\n",
        "\n",
        "from ipywidgets import interact\n",
        "interact(nm=conts, split=15.5)(iscore);"
      ],
      "metadata": {
        "colab": {
          "base_uri": "https://localhost:8080/",
          "height": 99,
          "referenced_widgets": [
            "3942a9fa74eb4c03a5882918007d9a97",
            "0457daef98b0454bb8fcc87b9e45d194",
            "a6b92d87f8c44c328b8bc1ee8b8da6bf",
            "90ae8d2c48f148ad968917af90e76817",
            "28fea5e285e242ecb2bcc49b44f7ec0e",
            "52c34298e6bc47fc9de35553e91f9fc3",
            "79ac5191e8f94b6a97d8c708e9bac39f",
            "765aa551b1a74577bbb2827520f17cdd",
            "28f83cd329454996a83ac8d4fa9fb0d1",
            "b728eeadbfcc4baaaee0965294f6fb1b"
          ]
        },
        "id": "1z2FNKQ0A63I",
        "outputId": "52376d1b-9b56-44e8-d8c5-63c081bbee15"
      },
      "execution_count": 22,
      "outputs": [
        {
          "output_type": "display_data",
          "data": {
            "text/plain": [
              "interactive(children=(Dropdown(description='nm', options=('Age', 'SibSp', 'Parch', 'LogFare', 'Pclass'), value…"
            ],
            "application/vnd.jupyter.widget-view+json": {
              "version_major": 2,
              "version_minor": 0,
              "model_id": "3942a9fa74eb4c03a5882918007d9a97"
            }
          },
          "metadata": {}
        }
      ]
    },
    {
      "cell_type": "code",
      "source": [
        "# A semi automated way of finding splits would be to pick the lowest impurity scores\n",
        "# from a list\n",
        "nm = \"Age\"\n",
        "col = trn_xs[nm]\n",
        "unq = col.unique()\n",
        "unq.sort()\n",
        "unq"
      ],
      "metadata": {
        "colab": {
          "base_uri": "https://localhost:8080/"
        },
        "id": "RGdjrM81A67c",
        "outputId": "393be6a3-e4e7-425d-e1b0-f3a17f49b789"
      },
      "execution_count": 23,
      "outputs": [
        {
          "output_type": "execute_result",
          "data": {
            "text/plain": [
              "array([ 0.42,  0.75,  0.83,  0.92,  1.  ,  2.  ,  3.  ,  4.  ,  5.  ,  6.  ,  7.  ,  8.  ,  9.  , 10.  , 11.  , 12.  , 13.  ,\n",
              "       14.  , 14.5 , 15.  , 16.  , 17.  , 18.  , 19.  , 20.  , 20.5 , 21.  , 22.  , 23.  , 23.5 , 24.  , 24.5 , 25.  , 26.  ,\n",
              "       27.  , 28.  , 28.5 , 29.  , 30.  , 30.5 , 31.  , 32.  , 32.5 , 33.  , 34.  , 34.5 , 35.  , 36.  , 37.  , 38.  , 39.  ,\n",
              "       40.  , 40.5 , 41.  , 42.  , 43.  , 44.  , 45.  , 45.5 , 46.  , 47.  , 48.  , 49.  , 50.  , 51.  , 52.  , 53.  , 54.  ,\n",
              "       55.  , 55.5 , 56.  , 57.  , 58.  , 59.  , 60.  , 61.  , 62.  , 63.  , 64.  , 65.  , 70.  , 70.5 , 71.  , 74.  , 80.  ])"
            ]
          },
          "metadata": {},
          "execution_count": 23
        }
      ]
    },
    {
      "cell_type": "code",
      "source": [
        "scores = np.array([score(col, trn_y, o) for o in unq if not np.isnan(o)])\n",
        "unq[scores.argmin()], unq[scores.argmax()]"
      ],
      "metadata": {
        "colab": {
          "base_uri": "https://localhost:8080/"
        },
        "id": "WLMyavwCA6_x",
        "outputId": "0ec8b28b-0317-4820-e1c0-4371f654503e"
      },
      "execution_count": 24,
      "outputs": [
        {
          "output_type": "execute_result",
          "data": {
            "text/plain": [
              "(8.0, 71.0)"
            ]
          },
          "metadata": {},
          "execution_count": 24
        }
      ]
    },
    {
      "cell_type": "code",
      "source": [
        "# Using the idea that 6 is the optimum cut-off\n",
        "def min_col(df, nm):\n",
        "  col, y = df[nm], df[dep]\n",
        "  unq = col.dropna().unique()\n",
        "  scores = np.array([score(col, y, o) for o in unq if not np.isnan(o)])\n",
        "  idx = scores.argmin()\n",
        "  return unq[idx], scores[idx]\n",
        "\n",
        "min_col(trn_df, \"Age\")"
      ],
      "metadata": {
        "colab": {
          "base_uri": "https://localhost:8080/"
        },
        "id": "61ctd4FJLnUU",
        "outputId": "3db835ff-55ee-4e9b-9a98-c6966a090546"
      },
      "execution_count": 25,
      "outputs": [
        {
          "output_type": "execute_result",
          "data": {
            "text/plain": [
              "(8.0, 0.48084995732171165)"
            ]
          },
          "metadata": {},
          "execution_count": 25
        }
      ]
    },
    {
      "cell_type": "code",
      "source": [
        "# Applying this to all columns\n",
        "cols = cats + conts\n",
        "{o: min_col(trn_df, o) for o in cols}"
      ],
      "metadata": {
        "colab": {
          "base_uri": "https://localhost:8080/"
        },
        "id": "7NYmk1ODLnb7",
        "outputId": "19933fd7-d45e-43b5-84a0-07bbaf10c03a"
      },
      "execution_count": 26,
      "outputs": [
        {
          "output_type": "execute_result",
          "data": {
            "text/plain": [
              "{'Sex': (0, 0.40984232662110365),\n",
              " 'Embarked': (0, 0.4800351614889026),\n",
              " 'Age': (8.0, 0.48084995732171165),\n",
              " 'SibSp': (4, 0.48085492750455133),\n",
              " 'Parch': (0, 0.4802864708433602),\n",
              " 'LogFare': (2.4423470353692043, 0.46207701759445186),\n",
              " 'Pclass': (2, 0.4618359889017925)}"
            ]
          },
          "metadata": {},
          "execution_count": 26
        }
      ]
    },
    {
      "cell_type": "markdown",
      "source": [
        "We basically implemented the [OneR](https://https://link.springer.com/article/10.1023/A:1022631118932) classifier in the section above. In theory, this could be a good baseline for small datasets."
      ],
      "metadata": {
        "id": "2AHVv0WhOA6h"
      }
    },
    {
      "cell_type": "markdown",
      "source": [
        "## Creating a Decision Tree"
      ],
      "metadata": {
        "id": "8LScI1_1O1aj"
      }
    },
    {
      "cell_type": "markdown",
      "source": [
        "Building on the previous section, we will create additional binary splits to demonstrate the basic concept behind decision trees."
      ],
      "metadata": {
        "id": "T1GVPZ2lQt_L"
      }
    },
    {
      "cell_type": "code",
      "source": [
        "# Removing Sex from the list of possible splits since there is only one possible split\n",
        "# for binary columns\n",
        "cols.remove(\"Sex\")\n",
        "\n",
        "ismale = trn_df.Sex == 1\n",
        "isfemale = trn_df.Sex != 1 # For some reason, ~males wasn't working\n",
        "males, females = trn_df[ismale], trn_df[isfemale]"
      ],
      "metadata": {
        "id": "eyU6Oa3OLnhC"
      },
      "execution_count": 27,
      "outputs": []
    },
    {
      "cell_type": "code",
      "source": [
        "females"
      ],
      "metadata": {
        "colab": {
          "base_uri": "https://localhost:8080/",
          "height": 423
        },
        "id": "rJKZdSiwSEhw",
        "outputId": "fb2234a2-1542-4885-8dbd-54ff5961498e"
      },
      "execution_count": 28,
      "outputs": [
        {
          "output_type": "execute_result",
          "data": {
            "text/plain": [
              "     PassengerId  Survived  Pclass  \\\n",
              "535          536         1       2   \n",
              "726          727         1       2   \n",
              "208          209         1       3   \n",
              "556          557         1       1   \n",
              "255          256         1       3   \n",
              "..           ...       ...     ...   \n",
              "254          255         0       3   \n",
              "106          107         1       3   \n",
              "585          586         1       1   \n",
              "796          797         1       1   \n",
              "866          867         1       2   \n",
              "\n",
              "                                                                  Name  Sex  \\\n",
              "535                                             Hart, Miss. Eva Miriam    0   \n",
              "726                        Renouf, Mrs. Peter Henry (Lillian Jefferys)    0   \n",
              "208                                          Carr, Miss. Helen \"Ellen\"    0   \n",
              "556  Duff Gordon, Lady. (Lucille Christiana Sutherland) (\"Mrs Morgan\")    0   \n",
              "255                            Touma, Mrs. Darwis (Hanne Youssef Razi)    0   \n",
              "..                                                                 ...  ...   \n",
              "254                           Rosblom, Mrs. Viktor (Helena Wilhelmina)    0   \n",
              "106                                   Salkjelsvik, Miss. Anna Kristine    0   \n",
              "585                                                Taussig, Miss. Ruth    0   \n",
              "796                                        Leader, Dr. Alice (Farnham)    0   \n",
              "866                                       Duran y More, Miss. Asuncion    0   \n",
              "\n",
              "      Age  SibSp  Parch         Ticket     Fare    Cabin  Embarked   LogFare  \n",
              "535   7.0      0      2   F.C.C. 13529  26.2500  B96 B98         2  3.305054  \n",
              "726  30.0      3      0          31027  21.0000  B96 B98         2  3.091042  \n",
              "208  16.0      0      0         367231   7.7500  B96 B98         1  2.169054  \n",
              "556  48.0      1      0          11755  39.6000      A16         0  3.703768  \n",
              "255  29.0      0      2           2650  15.2458  B96 B98         0  2.787834  \n",
              "..    ...    ...    ...            ...      ...      ...       ...       ...  \n",
              "254  41.0      0      2         370129  20.2125  B96 B98         2  3.054591  \n",
              "106  21.0      0      0         343120   7.6500  B96 B98         2  2.157559  \n",
              "585  18.0      0      2         110413  79.6500      E68         2  4.390119  \n",
              "796  49.0      0      0          17465  25.9292      D17         2  3.293211  \n",
              "866  27.0      1      0  SC/PARIS 2149  13.8583  B96 B98         0  2.698559  \n",
              "\n",
              "[233 rows x 13 columns]"
            ],
            "text/html": [
              "\n",
              "  <div id=\"df-b4491255-4cf2-4635-9d13-8756afe5ee82\" class=\"colab-df-container\">\n",
              "    <div>\n",
              "<style scoped>\n",
              "    .dataframe tbody tr th:only-of-type {\n",
              "        vertical-align: middle;\n",
              "    }\n",
              "\n",
              "    .dataframe tbody tr th {\n",
              "        vertical-align: top;\n",
              "    }\n",
              "\n",
              "    .dataframe thead th {\n",
              "        text-align: right;\n",
              "    }\n",
              "</style>\n",
              "<table border=\"1\" class=\"dataframe\">\n",
              "  <thead>\n",
              "    <tr style=\"text-align: right;\">\n",
              "      <th></th>\n",
              "      <th>PassengerId</th>\n",
              "      <th>Survived</th>\n",
              "      <th>Pclass</th>\n",
              "      <th>Name</th>\n",
              "      <th>Sex</th>\n",
              "      <th>Age</th>\n",
              "      <th>SibSp</th>\n",
              "      <th>Parch</th>\n",
              "      <th>Ticket</th>\n",
              "      <th>Fare</th>\n",
              "      <th>Cabin</th>\n",
              "      <th>Embarked</th>\n",
              "      <th>LogFare</th>\n",
              "    </tr>\n",
              "  </thead>\n",
              "  <tbody>\n",
              "    <tr>\n",
              "      <th>535</th>\n",
              "      <td>536</td>\n",
              "      <td>1</td>\n",
              "      <td>2</td>\n",
              "      <td>Hart, Miss. Eva Miriam</td>\n",
              "      <td>0</td>\n",
              "      <td>7.0</td>\n",
              "      <td>0</td>\n",
              "      <td>2</td>\n",
              "      <td>F.C.C. 13529</td>\n",
              "      <td>26.2500</td>\n",
              "      <td>B96 B98</td>\n",
              "      <td>2</td>\n",
              "      <td>3.305054</td>\n",
              "    </tr>\n",
              "    <tr>\n",
              "      <th>726</th>\n",
              "      <td>727</td>\n",
              "      <td>1</td>\n",
              "      <td>2</td>\n",
              "      <td>Renouf, Mrs. Peter Henry (Lillian Jefferys)</td>\n",
              "      <td>0</td>\n",
              "      <td>30.0</td>\n",
              "      <td>3</td>\n",
              "      <td>0</td>\n",
              "      <td>31027</td>\n",
              "      <td>21.0000</td>\n",
              "      <td>B96 B98</td>\n",
              "      <td>2</td>\n",
              "      <td>3.091042</td>\n",
              "    </tr>\n",
              "    <tr>\n",
              "      <th>208</th>\n",
              "      <td>209</td>\n",
              "      <td>1</td>\n",
              "      <td>3</td>\n",
              "      <td>Carr, Miss. Helen \"Ellen\"</td>\n",
              "      <td>0</td>\n",
              "      <td>16.0</td>\n",
              "      <td>0</td>\n",
              "      <td>0</td>\n",
              "      <td>367231</td>\n",
              "      <td>7.7500</td>\n",
              "      <td>B96 B98</td>\n",
              "      <td>1</td>\n",
              "      <td>2.169054</td>\n",
              "    </tr>\n",
              "    <tr>\n",
              "      <th>556</th>\n",
              "      <td>557</td>\n",
              "      <td>1</td>\n",
              "      <td>1</td>\n",
              "      <td>Duff Gordon, Lady. (Lucille Christiana Sutherland) (\"Mrs Morgan\")</td>\n",
              "      <td>0</td>\n",
              "      <td>48.0</td>\n",
              "      <td>1</td>\n",
              "      <td>0</td>\n",
              "      <td>11755</td>\n",
              "      <td>39.6000</td>\n",
              "      <td>A16</td>\n",
              "      <td>0</td>\n",
              "      <td>3.703768</td>\n",
              "    </tr>\n",
              "    <tr>\n",
              "      <th>255</th>\n",
              "      <td>256</td>\n",
              "      <td>1</td>\n",
              "      <td>3</td>\n",
              "      <td>Touma, Mrs. Darwis (Hanne Youssef Razi)</td>\n",
              "      <td>0</td>\n",
              "      <td>29.0</td>\n",
              "      <td>0</td>\n",
              "      <td>2</td>\n",
              "      <td>2650</td>\n",
              "      <td>15.2458</td>\n",
              "      <td>B96 B98</td>\n",
              "      <td>0</td>\n",
              "      <td>2.787834</td>\n",
              "    </tr>\n",
              "    <tr>\n",
              "      <th>...</th>\n",
              "      <td>...</td>\n",
              "      <td>...</td>\n",
              "      <td>...</td>\n",
              "      <td>...</td>\n",
              "      <td>...</td>\n",
              "      <td>...</td>\n",
              "      <td>...</td>\n",
              "      <td>...</td>\n",
              "      <td>...</td>\n",
              "      <td>...</td>\n",
              "      <td>...</td>\n",
              "      <td>...</td>\n",
              "      <td>...</td>\n",
              "    </tr>\n",
              "    <tr>\n",
              "      <th>254</th>\n",
              "      <td>255</td>\n",
              "      <td>0</td>\n",
              "      <td>3</td>\n",
              "      <td>Rosblom, Mrs. Viktor (Helena Wilhelmina)</td>\n",
              "      <td>0</td>\n",
              "      <td>41.0</td>\n",
              "      <td>0</td>\n",
              "      <td>2</td>\n",
              "      <td>370129</td>\n",
              "      <td>20.2125</td>\n",
              "      <td>B96 B98</td>\n",
              "      <td>2</td>\n",
              "      <td>3.054591</td>\n",
              "    </tr>\n",
              "    <tr>\n",
              "      <th>106</th>\n",
              "      <td>107</td>\n",
              "      <td>1</td>\n",
              "      <td>3</td>\n",
              "      <td>Salkjelsvik, Miss. Anna Kristine</td>\n",
              "      <td>0</td>\n",
              "      <td>21.0</td>\n",
              "      <td>0</td>\n",
              "      <td>0</td>\n",
              "      <td>343120</td>\n",
              "      <td>7.6500</td>\n",
              "      <td>B96 B98</td>\n",
              "      <td>2</td>\n",
              "      <td>2.157559</td>\n",
              "    </tr>\n",
              "    <tr>\n",
              "      <th>585</th>\n",
              "      <td>586</td>\n",
              "      <td>1</td>\n",
              "      <td>1</td>\n",
              "      <td>Taussig, Miss. Ruth</td>\n",
              "      <td>0</td>\n",
              "      <td>18.0</td>\n",
              "      <td>0</td>\n",
              "      <td>2</td>\n",
              "      <td>110413</td>\n",
              "      <td>79.6500</td>\n",
              "      <td>E68</td>\n",
              "      <td>2</td>\n",
              "      <td>4.390119</td>\n",
              "    </tr>\n",
              "    <tr>\n",
              "      <th>796</th>\n",
              "      <td>797</td>\n",
              "      <td>1</td>\n",
              "      <td>1</td>\n",
              "      <td>Leader, Dr. Alice (Farnham)</td>\n",
              "      <td>0</td>\n",
              "      <td>49.0</td>\n",
              "      <td>0</td>\n",
              "      <td>0</td>\n",
              "      <td>17465</td>\n",
              "      <td>25.9292</td>\n",
              "      <td>D17</td>\n",
              "      <td>2</td>\n",
              "      <td>3.293211</td>\n",
              "    </tr>\n",
              "    <tr>\n",
              "      <th>866</th>\n",
              "      <td>867</td>\n",
              "      <td>1</td>\n",
              "      <td>2</td>\n",
              "      <td>Duran y More, Miss. Asuncion</td>\n",
              "      <td>0</td>\n",
              "      <td>27.0</td>\n",
              "      <td>1</td>\n",
              "      <td>0</td>\n",
              "      <td>SC/PARIS 2149</td>\n",
              "      <td>13.8583</td>\n",
              "      <td>B96 B98</td>\n",
              "      <td>0</td>\n",
              "      <td>2.698559</td>\n",
              "    </tr>\n",
              "  </tbody>\n",
              "</table>\n",
              "<p>233 rows × 13 columns</p>\n",
              "</div>\n",
              "    <div class=\"colab-df-buttons\">\n",
              "\n",
              "  <div class=\"colab-df-container\">\n",
              "    <button class=\"colab-df-convert\" onclick=\"convertToInteractive('df-b4491255-4cf2-4635-9d13-8756afe5ee82')\"\n",
              "            title=\"Convert this dataframe to an interactive table.\"\n",
              "            style=\"display:none;\">\n",
              "\n",
              "  <svg xmlns=\"http://www.w3.org/2000/svg\" height=\"24px\" viewBox=\"0 -960 960 960\">\n",
              "    <path d=\"M120-120v-720h720v720H120Zm60-500h600v-160H180v160Zm220 220h160v-160H400v160Zm0 220h160v-160H400v160ZM180-400h160v-160H180v160Zm440 0h160v-160H620v160ZM180-180h160v-160H180v160Zm440 0h160v-160H620v160Z\"/>\n",
              "  </svg>\n",
              "    </button>\n",
              "\n",
              "  <style>\n",
              "    .colab-df-container {\n",
              "      display:flex;\n",
              "      gap: 12px;\n",
              "    }\n",
              "\n",
              "    .colab-df-convert {\n",
              "      background-color: #E8F0FE;\n",
              "      border: none;\n",
              "      border-radius: 50%;\n",
              "      cursor: pointer;\n",
              "      display: none;\n",
              "      fill: #1967D2;\n",
              "      height: 32px;\n",
              "      padding: 0 0 0 0;\n",
              "      width: 32px;\n",
              "    }\n",
              "\n",
              "    .colab-df-convert:hover {\n",
              "      background-color: #E2EBFA;\n",
              "      box-shadow: 0px 1px 2px rgba(60, 64, 67, 0.3), 0px 1px 3px 1px rgba(60, 64, 67, 0.15);\n",
              "      fill: #174EA6;\n",
              "    }\n",
              "\n",
              "    .colab-df-buttons div {\n",
              "      margin-bottom: 4px;\n",
              "    }\n",
              "\n",
              "    [theme=dark] .colab-df-convert {\n",
              "      background-color: #3B4455;\n",
              "      fill: #D2E3FC;\n",
              "    }\n",
              "\n",
              "    [theme=dark] .colab-df-convert:hover {\n",
              "      background-color: #434B5C;\n",
              "      box-shadow: 0px 1px 3px 1px rgba(0, 0, 0, 0.15);\n",
              "      filter: drop-shadow(0px 1px 2px rgba(0, 0, 0, 0.3));\n",
              "      fill: #FFFFFF;\n",
              "    }\n",
              "  </style>\n",
              "\n",
              "    <script>\n",
              "      const buttonEl =\n",
              "        document.querySelector('#df-b4491255-4cf2-4635-9d13-8756afe5ee82 button.colab-df-convert');\n",
              "      buttonEl.style.display =\n",
              "        google.colab.kernel.accessAllowed ? 'block' : 'none';\n",
              "\n",
              "      async function convertToInteractive(key) {\n",
              "        const element = document.querySelector('#df-b4491255-4cf2-4635-9d13-8756afe5ee82');\n",
              "        const dataTable =\n",
              "          await google.colab.kernel.invokeFunction('convertToInteractive',\n",
              "                                                    [key], {});\n",
              "        if (!dataTable) return;\n",
              "\n",
              "        const docLinkHtml = 'Like what you see? Visit the ' +\n",
              "          '<a target=\"_blank\" href=https://colab.research.google.com/notebooks/data_table.ipynb>data table notebook</a>'\n",
              "          + ' to learn more about interactive tables.';\n",
              "        element.innerHTML = '';\n",
              "        dataTable['output_type'] = 'display_data';\n",
              "        await google.colab.output.renderOutput(dataTable, element);\n",
              "        const docLink = document.createElement('div');\n",
              "        docLink.innerHTML = docLinkHtml;\n",
              "        element.appendChild(docLink);\n",
              "      }\n",
              "    </script>\n",
              "  </div>\n",
              "\n",
              "\n",
              "<div id=\"df-fa5a1030-11a0-47d8-b18f-dd91631b8e04\">\n",
              "  <button class=\"colab-df-quickchart\" onclick=\"quickchart('df-fa5a1030-11a0-47d8-b18f-dd91631b8e04')\"\n",
              "            title=\"Suggest charts\"\n",
              "            style=\"display:none;\">\n",
              "\n",
              "<svg xmlns=\"http://www.w3.org/2000/svg\" height=\"24px\"viewBox=\"0 0 24 24\"\n",
              "     width=\"24px\">\n",
              "    <g>\n",
              "        <path d=\"M19 3H5c-1.1 0-2 .9-2 2v14c0 1.1.9 2 2 2h14c1.1 0 2-.9 2-2V5c0-1.1-.9-2-2-2zM9 17H7v-7h2v7zm4 0h-2V7h2v10zm4 0h-2v-4h2v4z\"/>\n",
              "    </g>\n",
              "</svg>\n",
              "  </button>\n",
              "\n",
              "<style>\n",
              "  .colab-df-quickchart {\n",
              "      --bg-color: #E8F0FE;\n",
              "      --fill-color: #1967D2;\n",
              "      --hover-bg-color: #E2EBFA;\n",
              "      --hover-fill-color: #174EA6;\n",
              "      --disabled-fill-color: #AAA;\n",
              "      --disabled-bg-color: #DDD;\n",
              "  }\n",
              "\n",
              "  [theme=dark] .colab-df-quickchart {\n",
              "      --bg-color: #3B4455;\n",
              "      --fill-color: #D2E3FC;\n",
              "      --hover-bg-color: #434B5C;\n",
              "      --hover-fill-color: #FFFFFF;\n",
              "      --disabled-bg-color: #3B4455;\n",
              "      --disabled-fill-color: #666;\n",
              "  }\n",
              "\n",
              "  .colab-df-quickchart {\n",
              "    background-color: var(--bg-color);\n",
              "    border: none;\n",
              "    border-radius: 50%;\n",
              "    cursor: pointer;\n",
              "    display: none;\n",
              "    fill: var(--fill-color);\n",
              "    height: 32px;\n",
              "    padding: 0;\n",
              "    width: 32px;\n",
              "  }\n",
              "\n",
              "  .colab-df-quickchart:hover {\n",
              "    background-color: var(--hover-bg-color);\n",
              "    box-shadow: 0 1px 2px rgba(60, 64, 67, 0.3), 0 1px 3px 1px rgba(60, 64, 67, 0.15);\n",
              "    fill: var(--button-hover-fill-color);\n",
              "  }\n",
              "\n",
              "  .colab-df-quickchart-complete:disabled,\n",
              "  .colab-df-quickchart-complete:disabled:hover {\n",
              "    background-color: var(--disabled-bg-color);\n",
              "    fill: var(--disabled-fill-color);\n",
              "    box-shadow: none;\n",
              "  }\n",
              "\n",
              "  .colab-df-spinner {\n",
              "    border: 2px solid var(--fill-color);\n",
              "    border-color: transparent;\n",
              "    border-bottom-color: var(--fill-color);\n",
              "    animation:\n",
              "      spin 1s steps(1) infinite;\n",
              "  }\n",
              "\n",
              "  @keyframes spin {\n",
              "    0% {\n",
              "      border-color: transparent;\n",
              "      border-bottom-color: var(--fill-color);\n",
              "      border-left-color: var(--fill-color);\n",
              "    }\n",
              "    20% {\n",
              "      border-color: transparent;\n",
              "      border-left-color: var(--fill-color);\n",
              "      border-top-color: var(--fill-color);\n",
              "    }\n",
              "    30% {\n",
              "      border-color: transparent;\n",
              "      border-left-color: var(--fill-color);\n",
              "      border-top-color: var(--fill-color);\n",
              "      border-right-color: var(--fill-color);\n",
              "    }\n",
              "    40% {\n",
              "      border-color: transparent;\n",
              "      border-right-color: var(--fill-color);\n",
              "      border-top-color: var(--fill-color);\n",
              "    }\n",
              "    60% {\n",
              "      border-color: transparent;\n",
              "      border-right-color: var(--fill-color);\n",
              "    }\n",
              "    80% {\n",
              "      border-color: transparent;\n",
              "      border-right-color: var(--fill-color);\n",
              "      border-bottom-color: var(--fill-color);\n",
              "    }\n",
              "    90% {\n",
              "      border-color: transparent;\n",
              "      border-bottom-color: var(--fill-color);\n",
              "    }\n",
              "  }\n",
              "</style>\n",
              "\n",
              "  <script>\n",
              "    async function quickchart(key) {\n",
              "      const quickchartButtonEl =\n",
              "        document.querySelector('#' + key + ' button');\n",
              "      quickchartButtonEl.disabled = true;  // To prevent multiple clicks.\n",
              "      quickchartButtonEl.classList.add('colab-df-spinner');\n",
              "      try {\n",
              "        const charts = await google.colab.kernel.invokeFunction(\n",
              "            'suggestCharts', [key], {});\n",
              "      } catch (error) {\n",
              "        console.error('Error during call to suggestCharts:', error);\n",
              "      }\n",
              "      quickchartButtonEl.classList.remove('colab-df-spinner');\n",
              "      quickchartButtonEl.classList.add('colab-df-quickchart-complete');\n",
              "    }\n",
              "    (() => {\n",
              "      let quickchartButtonEl =\n",
              "        document.querySelector('#df-fa5a1030-11a0-47d8-b18f-dd91631b8e04 button');\n",
              "      quickchartButtonEl.style.display =\n",
              "        google.colab.kernel.accessAllowed ? 'block' : 'none';\n",
              "    })();\n",
              "  </script>\n",
              "</div>\n",
              "\n",
              "  <div id=\"id_6ca5a74b-b72a-4c80-bc6a-d6b3011cb5c5\">\n",
              "    <style>\n",
              "      .colab-df-generate {\n",
              "        background-color: #E8F0FE;\n",
              "        border: none;\n",
              "        border-radius: 50%;\n",
              "        cursor: pointer;\n",
              "        display: none;\n",
              "        fill: #1967D2;\n",
              "        height: 32px;\n",
              "        padding: 0 0 0 0;\n",
              "        width: 32px;\n",
              "      }\n",
              "\n",
              "      .colab-df-generate:hover {\n",
              "        background-color: #E2EBFA;\n",
              "        box-shadow: 0px 1px 2px rgba(60, 64, 67, 0.3), 0px 1px 3px 1px rgba(60, 64, 67, 0.15);\n",
              "        fill: #174EA6;\n",
              "      }\n",
              "\n",
              "      [theme=dark] .colab-df-generate {\n",
              "        background-color: #3B4455;\n",
              "        fill: #D2E3FC;\n",
              "      }\n",
              "\n",
              "      [theme=dark] .colab-df-generate:hover {\n",
              "        background-color: #434B5C;\n",
              "        box-shadow: 0px 1px 3px 1px rgba(0, 0, 0, 0.15);\n",
              "        filter: drop-shadow(0px 1px 2px rgba(0, 0, 0, 0.3));\n",
              "        fill: #FFFFFF;\n",
              "      }\n",
              "    </style>\n",
              "    <button class=\"colab-df-generate\" onclick=\"generateWithVariable('females')\"\n",
              "            title=\"Generate code using this dataframe.\"\n",
              "            style=\"display:none;\">\n",
              "\n",
              "  <svg xmlns=\"http://www.w3.org/2000/svg\" height=\"24px\"viewBox=\"0 0 24 24\"\n",
              "       width=\"24px\">\n",
              "    <path d=\"M7,19H8.4L18.45,9,17,7.55,7,17.6ZM5,21V16.75L18.45,3.32a2,2,0,0,1,2.83,0l1.4,1.43a1.91,1.91,0,0,1,.58,1.4,1.91,1.91,0,0,1-.58,1.4L9.25,21ZM18.45,9,17,7.55Zm-12,3A5.31,5.31,0,0,0,4.9,8.1,5.31,5.31,0,0,0,1,6.5,5.31,5.31,0,0,0,4.9,4.9,5.31,5.31,0,0,0,6.5,1,5.31,5.31,0,0,0,8.1,4.9,5.31,5.31,0,0,0,12,6.5,5.46,5.46,0,0,0,6.5,12Z\"/>\n",
              "  </svg>\n",
              "    </button>\n",
              "    <script>\n",
              "      (() => {\n",
              "      const buttonEl =\n",
              "        document.querySelector('#id_6ca5a74b-b72a-4c80-bc6a-d6b3011cb5c5 button.colab-df-generate');\n",
              "      buttonEl.style.display =\n",
              "        google.colab.kernel.accessAllowed ? 'block' : 'none';\n",
              "\n",
              "      buttonEl.onclick = () => {\n",
              "        google.colab.notebook.generateWithVariable('females');\n",
              "      }\n",
              "      })();\n",
              "    </script>\n",
              "  </div>\n",
              "\n",
              "    </div>\n",
              "  </div>\n"
            ],
            "application/vnd.google.colaboratory.intrinsic+json": {
              "type": "dataframe",
              "variable_name": "females",
              "summary": "{\n  \"name\": \"females\",\n  \"rows\": 233,\n  \"fields\": [\n    {\n      \"column\": \"PassengerId\",\n      \"properties\": {\n        \"dtype\": \"number\",\n        \"std\": 258,\n        \"min\": 2,\n        \"max\": 889,\n        \"num_unique_values\": 233,\n        \"samples\": [\n          856,\n          359,\n          797\n        ],\n        \"semantic_type\": \"\",\n        \"description\": \"\"\n      }\n    },\n    {\n      \"column\": \"Survived\",\n      \"properties\": {\n        \"dtype\": \"number\",\n        \"std\": 0,\n        \"min\": 0,\n        \"max\": 1,\n        \"num_unique_values\": 2,\n        \"samples\": [\n          0,\n          1\n        ],\n        \"semantic_type\": \"\",\n        \"description\": \"\"\n      }\n    },\n    {\n      \"column\": \"Pclass\",\n      \"properties\": {\n        \"dtype\": \"number\",\n        \"std\": 0,\n        \"min\": 1,\n        \"max\": 3,\n        \"num_unique_values\": 3,\n        \"samples\": [\n          2,\n          3\n        ],\n        \"semantic_type\": \"\",\n        \"description\": \"\"\n      }\n    },\n    {\n      \"column\": \"Name\",\n      \"properties\": {\n        \"dtype\": \"string\",\n        \"num_unique_values\": 233,\n        \"samples\": [\n          \"Aks, Mrs. Sam (Leah Rosen)\",\n          \"McGovern, Miss. Mary\"\n        ],\n        \"semantic_type\": \"\",\n        \"description\": \"\"\n      }\n    },\n    {\n      \"column\": \"Sex\",\n      \"properties\": {\n        \"dtype\": \"int8\",\n        \"num_unique_values\": 1,\n        \"samples\": [\n          0\n        ],\n        \"semantic_type\": \"\",\n        \"description\": \"\"\n      }\n    },\n    {\n      \"column\": \"Age\",\n      \"properties\": {\n        \"dtype\": \"number\",\n        \"std\": 13.072877168809132,\n        \"min\": 0.75,\n        \"max\": 63.0,\n        \"num_unique_values\": 61,\n        \"samples\": [\n          7.0\n        ],\n        \"semantic_type\": \"\",\n        \"description\": \"\"\n      }\n    },\n    {\n      \"column\": \"SibSp\",\n      \"properties\": {\n        \"dtype\": \"number\",\n        \"std\": 1,\n        \"min\": 0,\n        \"max\": 8,\n        \"num_unique_values\": 7,\n        \"samples\": [\n          0\n        ],\n        \"semantic_type\": \"\",\n        \"description\": \"\"\n      }\n    },\n    {\n      \"column\": \"Parch\",\n      \"properties\": {\n        \"dtype\": \"number\",\n        \"std\": 1,\n        \"min\": 0,\n        \"max\": 6,\n        \"num_unique_values\": 7,\n        \"samples\": [\n          2\n        ],\n        \"semantic_type\": \"\",\n        \"description\": \"\"\n      }\n    },\n    {\n      \"column\": \"Ticket\",\n      \"properties\": {\n        \"dtype\": \"string\",\n        \"num_unique_values\": 196,\n        \"samples\": [\n          \"STON/O2. 3101271\"\n        ],\n        \"semantic_type\": \"\",\n        \"description\": \"\"\n      }\n    },\n    {\n      \"column\": \"Fare\",\n      \"properties\": {\n        \"dtype\": \"number\",\n        \"std\": 59.080266628404054,\n        \"min\": 6.75,\n        \"max\": 512.3292,\n        \"num_unique_values\": 142,\n        \"samples\": [\n          27.0\n        ],\n        \"semantic_type\": \"\",\n        \"description\": \"\"\n      }\n    },\n    {\n      \"column\": \"Cabin\",\n      \"properties\": {\n        \"dtype\": \"category\",\n        \"num_unique_values\": 61,\n        \"samples\": [\n          \"B96 B98\"\n        ],\n        \"semantic_type\": \"\",\n        \"description\": \"\"\n      }\n    },\n    {\n      \"column\": \"Embarked\",\n      \"properties\": {\n        \"dtype\": \"int8\",\n        \"num_unique_values\": 3,\n        \"samples\": [\n          2\n        ],\n        \"semantic_type\": \"\",\n        \"description\": \"\"\n      }\n    },\n    {\n      \"column\": \"LogFare\",\n      \"properties\": {\n        \"dtype\": \"number\",\n        \"std\": 0.9433113042672577,\n        \"min\": 2.0476928433652555,\n        \"max\": 6.240917354759096,\n        \"num_unique_values\": 142,\n        \"samples\": [\n          3.332204510175204\n        ],\n        \"semantic_type\": \"\",\n        \"description\": \"\"\n      }\n    }\n  ]\n}"
            }
          },
          "metadata": {},
          "execution_count": 28
        }
      ]
    },
    {
      "cell_type": "code",
      "source": [
        "# Finding the best binary split for males\n",
        "{o: min_col(males, o) for o in cols}"
      ],
      "metadata": {
        "colab": {
          "base_uri": "https://localhost:8080/"
        },
        "id": "Iwa7HbwOLnk4",
        "outputId": "8422d8de-8762-4780-ee40-619d3bccc3d7"
      },
      "execution_count": 29,
      "outputs": [
        {
          "output_type": "execute_result",
          "data": {
            "text/plain": [
              "{'Embarked': (0, 0.389699295674133),\n",
              " 'Age': (9.0, 0.3795030603731348),\n",
              " 'SibSp': (4, 0.3900269350593946),\n",
              " 'Parch': (0, 0.3872966393332087),\n",
              " 'LogFare': (2.7788192719904172, 0.3748744398376304),\n",
              " 'Pclass': (1, 0.38164198472296285)}"
            ]
          },
          "metadata": {},
          "execution_count": 29
        }
      ]
    },
    {
      "cell_type": "code",
      "source": [
        "# Now for females\n",
        "{o: min_col(females, o) for o in cols}"
      ],
      "metadata": {
        "colab": {
          "base_uri": "https://localhost:8080/"
        },
        "id": "wPqh-9FSLnoV",
        "outputId": "a32adff9-8871-4295-f3e7-73df10e78427"
      },
      "execution_count": 30,
      "outputs": [
        {
          "output_type": "execute_result",
          "data": {
            "text/plain": [
              "{'Embarked': (0, 0.4315844183088799),\n",
              " 'Age': (47.0, 0.43222832101357306),\n",
              " 'SibSp': (2, 0.4207598940131448),\n",
              " 'Parch': (1, 0.4274931048704155),\n",
              " 'LogFare': (3.8691155044168695, 0.4109518592522456),\n",
              " 'Pclass': (2, 0.3381543150987652)}"
            ]
          },
          "metadata": {},
          "execution_count": 30
        }
      ]
    },
    {
      "cell_type": "markdown",
      "source": [
        "Now that we have some reasonable binary splits for males and females, we could\n",
        "spend a considerable amount of time coding in additional rules for columns such as `Age` or `Pclass`. The process would then be repeated.\n",
        "\n",
        "Or....we could just use the `sklearn` library to handle all of that for us."
      ],
      "metadata": {
        "id": "bHe5v9SCUA_8"
      }
    },
    {
      "cell_type": "code",
      "source": [
        "from sklearn.tree import DecisionTreeClassifier, export_graphviz\n",
        "\n",
        "model = DecisionTreeClassifier(max_leaf_nodes=4).fit(trn_xs, trn_y);"
      ],
      "metadata": {
        "id": "tEqKggZDLoFn"
      },
      "execution_count": 31,
      "outputs": []
    },
    {
      "cell_type": "code",
      "source": [
        "# Visualizing our newly created tree\n",
        "import graphviz\n",
        "\n",
        "def draw_tree(t, df, size=10, ratio=1.15, precision=2, **kwargs):\n",
        "  s = export_graphviz(t, out_file=None, feature_names=df.columns, filled=True,\n",
        "                      rounded=True, special_characters=True, rotate=False,\n",
        "                      precision=precision, **kwargs)\n",
        "  return graphviz.Source(re.sub('Tree {', f'Tree {{ size={size}; ratio={ratio}', s))"
      ],
      "metadata": {
        "id": "-7oRURoRLoJ0"
      },
      "execution_count": 32,
      "outputs": []
    },
    {
      "cell_type": "code",
      "source": [
        "draw_tree(model, trn_xs, size=11)"
      ],
      "metadata": {
        "colab": {
          "base_uri": "https://localhost:8080/",
          "height": 795
        },
        "id": "KTBvWAdhVI7z",
        "outputId": "98fbbeee-e393-48bf-b0b1-c1d58bad7509"
      },
      "execution_count": 33,
      "outputs": [
        {
          "output_type": "execute_result",
          "data": {
            "image/svg+xml": "<?xml version=\"1.0\" encoding=\"UTF-8\" standalone=\"no\"?>\n<!DOCTYPE svg PUBLIC \"-//W3C//DTD SVG 1.1//EN\"\n \"http://www.w3.org/Graphics/SVG/1.1/DTD/svg11.dtd\">\n<!-- Generated by graphviz version 2.43.0 (0)\n -->\n<!-- Title: Tree Pages: 1 -->\n<svg width=\"507pt\" height=\"581pt\"\n viewBox=\"0.00 0.00 506.50 580.70\" xmlns=\"http://www.w3.org/2000/svg\" xmlns:xlink=\"http://www.w3.org/1999/xlink\">\n<g id=\"graph0\" class=\"graph\" transform=\"scale(1 1) rotate(0) translate(4 576.7)\">\n<title>Tree</title>\n<polygon fill=\"white\" stroke=\"transparent\" points=\"-4,4 -4,-576.7 502.5,-576.7 502.5,4 -4,4\"/>\n<!-- 0 -->\n<g id=\"node1\" class=\"node\">\n<title>0</title>\n<path fill=\"#f5cfb3\" stroke=\"black\" d=\"M297.5,-532C297.5,-532 196.5,-532 196.5,-532 190.5,-532 184.5,-526 184.5,-520 184.5,-520 184.5,-476 184.5,-476 184.5,-470 190.5,-464 196.5,-464 196.5,-464 297.5,-464 297.5,-464 303.5,-464 309.5,-470 309.5,-476 309.5,-476 309.5,-520 309.5,-520 309.5,-526 303.5,-532 297.5,-532\"/>\n<text text-anchor=\"start\" x=\"218\" y=\"-516.8\" font-family=\"Helvetica,sans-Serif\" font-size=\"14.00\">Sex ≤ 0.5</text>\n<text text-anchor=\"start\" x=\"215\" y=\"-501.8\" font-family=\"Helvetica,sans-Serif\" font-size=\"14.00\">gini = 0.47</text>\n<text text-anchor=\"start\" x=\"202\" y=\"-486.8\" font-family=\"Helvetica,sans-Serif\" font-size=\"14.00\">samples = 668</text>\n<text text-anchor=\"start\" x=\"192.5\" y=\"-471.8\" font-family=\"Helvetica,sans-Serif\" font-size=\"14.00\">value = [413, 255]</text>\n</g>\n<!-- 1 -->\n<g id=\"node2\" class=\"node\">\n<title>1</title>\n<path fill=\"#7fc0ee\" stroke=\"black\" d=\"M226.5,-304C226.5,-304 133.5,-304 133.5,-304 127.5,-304 121.5,-298 121.5,-292 121.5,-292 121.5,-248 121.5,-248 121.5,-242 127.5,-236 133.5,-236 133.5,-236 226.5,-236 226.5,-236 232.5,-236 238.5,-242 238.5,-248 238.5,-248 238.5,-292 238.5,-292 238.5,-298 232.5,-304 226.5,-304\"/>\n<text text-anchor=\"start\" x=\"143\" y=\"-288.8\" font-family=\"Helvetica,sans-Serif\" font-size=\"14.00\">Pclass ≤ 2.5</text>\n<text text-anchor=\"start\" x=\"148\" y=\"-273.8\" font-family=\"Helvetica,sans-Serif\" font-size=\"14.00\">gini = 0.39</text>\n<text text-anchor=\"start\" x=\"135\" y=\"-258.8\" font-family=\"Helvetica,sans-Serif\" font-size=\"14.00\">samples = 233</text>\n<text text-anchor=\"start\" x=\"129.5\" y=\"-243.8\" font-family=\"Helvetica,sans-Serif\" font-size=\"14.00\">value = [61, 172]</text>\n</g>\n<!-- 0&#45;&gt;1 -->\n<g id=\"edge1\" class=\"edge\">\n<title>0&#45;&gt;1</title>\n<path fill=\"none\" stroke=\"black\" d=\"M237.11,-463.65C225.33,-423.9 205.61,-357.38 192.7,-313.85\"/>\n<polygon fill=\"black\" stroke=\"black\" points=\"196.02,-312.71 189.82,-304.12 189.3,-314.7 196.02,-312.71\"/>\n<text text-anchor=\"middle\" x=\"177.89\" y=\"-322.39\" font-family=\"Helvetica,sans-Serif\" font-size=\"14.00\">True</text>\n</g>\n<!-- 2 -->\n<g id=\"node5\" class=\"node\">\n<title>2</title>\n<path fill=\"#eb9f68\" stroke=\"black\" d=\"M361.5,-304C361.5,-304 268.5,-304 268.5,-304 262.5,-304 256.5,-298 256.5,-292 256.5,-292 256.5,-248 256.5,-248 256.5,-242 262.5,-236 268.5,-236 268.5,-236 361.5,-236 361.5,-236 367.5,-236 373.5,-242 373.5,-248 373.5,-248 373.5,-292 373.5,-292 373.5,-298 367.5,-304 361.5,-304\"/>\n<text text-anchor=\"start\" x=\"286\" y=\"-288.8\" font-family=\"Helvetica,sans-Serif\" font-size=\"14.00\">Age ≤ 9.5</text>\n<text text-anchor=\"start\" x=\"283\" y=\"-273.8\" font-family=\"Helvetica,sans-Serif\" font-size=\"14.00\">gini = 0.31</text>\n<text text-anchor=\"start\" x=\"270\" y=\"-258.8\" font-family=\"Helvetica,sans-Serif\" font-size=\"14.00\">samples = 435</text>\n<text text-anchor=\"start\" x=\"264.5\" y=\"-243.8\" font-family=\"Helvetica,sans-Serif\" font-size=\"14.00\">value = [352, 83]</text>\n</g>\n<!-- 0&#45;&gt;2 -->\n<g id=\"edge4\" class=\"edge\">\n<title>0&#45;&gt;2</title>\n<path fill=\"none\" stroke=\"black\" d=\"M257.03,-463.65C269,-423.9 289.01,-357.38 302.11,-313.85\"/>\n<polygon fill=\"black\" stroke=\"black\" points=\"305.51,-314.7 305.04,-304.12 298.8,-312.68 305.51,-314.7\"/>\n<text text-anchor=\"middle\" x=\"316.87\" y=\"-322.44\" font-family=\"Helvetica,sans-Serif\" font-size=\"14.00\">False</text>\n</g>\n<!-- 3 -->\n<g id=\"node3\" class=\"node\">\n<title>3</title>\n<path fill=\"#40a0e6\" stroke=\"black\" d=\"M98,-84.5C98,-84.5 12,-84.5 12,-84.5 6,-84.5 0,-78.5 0,-72.5 0,-72.5 0,-43.5 0,-43.5 0,-37.5 6,-31.5 12,-31.5 12,-31.5 98,-31.5 98,-31.5 104,-31.5 110,-37.5 110,-43.5 110,-43.5 110,-72.5 110,-72.5 110,-78.5 104,-84.5 98,-84.5\"/>\n<text text-anchor=\"start\" x=\"23\" y=\"-69.3\" font-family=\"Helvetica,sans-Serif\" font-size=\"14.00\">gini = 0.06</text>\n<text text-anchor=\"start\" x=\"10\" y=\"-54.3\" font-family=\"Helvetica,sans-Serif\" font-size=\"14.00\">samples = 119</text>\n<text text-anchor=\"start\" x=\"8\" y=\"-39.3\" font-family=\"Helvetica,sans-Serif\" font-size=\"14.00\">value = [4, 115]</text>\n</g>\n<!-- 1&#45;&gt;3 -->\n<g id=\"edge2\" class=\"edge\">\n<title>1&#45;&gt;3</title>\n<path fill=\"none\" stroke=\"black\" d=\"M160.19,-235.72C137.06,-196.86 98.97,-132.88 75.53,-93.49\"/>\n<polygon fill=\"black\" stroke=\"black\" points=\"78.31,-91.33 70.19,-84.52 72.3,-94.91 78.31,-91.33\"/>\n</g>\n<!-- 4 -->\n<g id=\"node4\" class=\"node\">\n<title>4</title>\n<path fill=\"#ffffff\" stroke=\"black\" d=\"M226,-84.5C226,-84.5 140,-84.5 140,-84.5 134,-84.5 128,-78.5 128,-72.5 128,-72.5 128,-43.5 128,-43.5 128,-37.5 134,-31.5 140,-31.5 140,-31.5 226,-31.5 226,-31.5 232,-31.5 238,-37.5 238,-43.5 238,-43.5 238,-72.5 238,-72.5 238,-78.5 232,-84.5 226,-84.5\"/>\n<text text-anchor=\"start\" x=\"155\" y=\"-69.3\" font-family=\"Helvetica,sans-Serif\" font-size=\"14.00\">gini = 0.5</text>\n<text text-anchor=\"start\" x=\"138\" y=\"-54.3\" font-family=\"Helvetica,sans-Serif\" font-size=\"14.00\">samples = 114</text>\n<text text-anchor=\"start\" x=\"136\" y=\"-39.3\" font-family=\"Helvetica,sans-Serif\" font-size=\"14.00\">value = [57, 57]</text>\n</g>\n<!-- 1&#45;&gt;4 -->\n<g id=\"edge3\" class=\"edge\">\n<title>1&#45;&gt;4</title>\n<path fill=\"none\" stroke=\"black\" d=\"M180.48,-235.72C181.02,-197.27 181.93,-134.22 182.49,-94.75\"/>\n<polygon fill=\"black\" stroke=\"black\" points=\"185.99,-94.57 182.64,-84.52 178.99,-94.47 185.99,-94.57\"/>\n</g>\n<!-- 5 -->\n<g id=\"node6\" class=\"node\">\n<title>5</title>\n<path fill=\"#aad5f4\" stroke=\"black\" d=\"M351,-84.5C351,-84.5 273,-84.5 273,-84.5 267,-84.5 261,-78.5 261,-72.5 261,-72.5 261,-43.5 261,-43.5 261,-37.5 267,-31.5 273,-31.5 273,-31.5 351,-31.5 351,-31.5 357,-31.5 363,-37.5 363,-43.5 363,-43.5 363,-72.5 363,-72.5 363,-78.5 357,-84.5 351,-84.5\"/>\n<text text-anchor=\"start\" x=\"280\" y=\"-69.3\" font-family=\"Helvetica,sans-Serif\" font-size=\"14.00\">gini = 0.46</text>\n<text text-anchor=\"start\" x=\"271\" y=\"-54.3\" font-family=\"Helvetica,sans-Serif\" font-size=\"14.00\">samples = 22</text>\n<text text-anchor=\"start\" x=\"269\" y=\"-39.3\" font-family=\"Helvetica,sans-Serif\" font-size=\"14.00\">value = [8, 14]</text>\n</g>\n<!-- 2&#45;&gt;5 -->\n<g id=\"edge5\" class=\"edge\">\n<title>2&#45;&gt;5</title>\n<path fill=\"none\" stroke=\"black\" d=\"M314.52,-235.72C313.98,-197.27 313.07,-134.22 312.51,-94.75\"/>\n<polygon fill=\"black\" stroke=\"black\" points=\"316.01,-94.47 312.36,-84.52 309.01,-94.57 316.01,-94.47\"/>\n</g>\n<!-- 6 -->\n<g id=\"node7\" class=\"node\">\n<title>6</title>\n<path fill=\"#ea9a61\" stroke=\"black\" d=\"M486.5,-84.5C486.5,-84.5 393.5,-84.5 393.5,-84.5 387.5,-84.5 381.5,-78.5 381.5,-72.5 381.5,-72.5 381.5,-43.5 381.5,-43.5 381.5,-37.5 387.5,-31.5 393.5,-31.5 393.5,-31.5 486.5,-31.5 486.5,-31.5 492.5,-31.5 498.5,-37.5 498.5,-43.5 498.5,-43.5 498.5,-72.5 498.5,-72.5 498.5,-78.5 492.5,-84.5 486.5,-84.5\"/>\n<text text-anchor=\"start\" x=\"408\" y=\"-69.3\" font-family=\"Helvetica,sans-Serif\" font-size=\"14.00\">gini = 0.28</text>\n<text text-anchor=\"start\" x=\"395\" y=\"-54.3\" font-family=\"Helvetica,sans-Serif\" font-size=\"14.00\">samples = 413</text>\n<text text-anchor=\"start\" x=\"389.5\" y=\"-39.3\" font-family=\"Helvetica,sans-Serif\" font-size=\"14.00\">value = [344, 69]</text>\n</g>\n<!-- 2&#45;&gt;6 -->\n<g id=\"edge6\" class=\"edge\">\n<title>2&#45;&gt;6</title>\n<path fill=\"none\" stroke=\"black\" d=\"M334.81,-235.72C357.94,-196.86 396.03,-132.88 419.47,-93.49\"/>\n<polygon fill=\"black\" stroke=\"black\" points=\"422.7,-94.91 424.81,-84.52 416.69,-91.33 422.7,-94.91\"/>\n</g>\n</g>\n</svg>\n",
            "text/plain": [
              "<graphviz.sources.Source at 0x7b85a85a9db0>"
            ]
          },
          "metadata": {},
          "execution_count": 33
        }
      ]
    },
    {
      "cell_type": "markdown",
      "source": [
        "Here the measure of impurity is `gini` which is not to be confused with the Gini-Coefficient which is used in economics."
      ],
      "metadata": {
        "id": "NxlmMgzZXLc9"
      }
    },
    {
      "cell_type": "code",
      "source": [
        "def gini(cond):\n",
        "  act = df.loc[cond, dep]\n",
        "  return 1 - act.mean()**2 - (1-act).mean()**2"
      ],
      "metadata": {
        "id": "HekHmYScVJdN"
      },
      "execution_count": 34,
      "outputs": []
    },
    {
      "cell_type": "code",
      "source": [
        "# Gini calculates the probability of getting the same target variable, each time,\n",
        "# if we pick two rows from a group.\n",
        "gini(df.Sex=='female'), gini(df.Sex=='male')"
      ],
      "metadata": {
        "colab": {
          "base_uri": "https://localhost:8080/"
        },
        "id": "zrABRswPVJiO",
        "outputId": "9c69bbeb-117c-4835-9674-f1fba6437470"
      },
      "execution_count": 35,
      "outputs": [
        {
          "output_type": "execute_result",
          "data": {
            "text/plain": [
              "(0.3828350034484158, 0.3064437162277842)"
            ]
          },
          "metadata": {},
          "execution_count": 35
        }
      ]
    },
    {
      "cell_type": "code",
      "source": [
        "# Comparing the OneR version\n",
        "mean_absolute_error(val_y, model.predict(val_xs))"
      ],
      "metadata": {
        "colab": {
          "base_uri": "https://localhost:8080/"
        },
        "id": "MaWtOT8TYhXA",
        "outputId": "f221163b-1387-41d2-d0de-e0a51ef6d177"
      },
      "execution_count": 36,
      "outputs": [
        {
          "output_type": "execute_result",
          "data": {
            "text/plain": [
              "0.2062780269058296"
            ]
          },
          "metadata": {},
          "execution_count": 36
        }
      ]
    },
    {
      "cell_type": "code",
      "source": [
        "# Building a bigger tree\n",
        "model = DecisionTreeClassifier(min_samples_leaf=50)\n",
        "model.fit(trn_xs, trn_y)\n",
        "draw_tree(model, trn_xs, size=15)"
      ],
      "metadata": {
        "colab": {
          "base_uri": "https://localhost:8080/",
          "height": 1000
        },
        "id": "Sjl6ueMOYraN",
        "outputId": "8a5e9963-5668-47a5-d668-6b774d933760"
      },
      "execution_count": 37,
      "outputs": [
        {
          "output_type": "execute_result",
          "data": {
            "image/svg+xml": "<?xml version=\"1.0\" encoding=\"UTF-8\" standalone=\"no\"?>\n<!DOCTYPE svg PUBLIC \"-//W3C//DTD SVG 1.1//EN\"\n \"http://www.w3.org/Graphics/SVG/1.1/DTD/svg11.dtd\">\n<!-- Generated by graphviz version 2.43.0 (0)\n -->\n<!-- Title: Tree Pages: 1 -->\n<svg width=\"940pt\" height=\"1080pt\"\n viewBox=\"0.00 0.00 940.11 1080.00\" xmlns=\"http://www.w3.org/2000/svg\" xmlns:xlink=\"http://www.w3.org/1999/xlink\">\n<g id=\"graph0\" class=\"graph\" transform=\"scale(1.07 1.07) rotate(0) translate(4 1151.7)\">\n<title>Tree</title>\n<polygon fill=\"white\" stroke=\"transparent\" points=\"-4,4 -4,-1151.7 1002,-1151.7 1002,4 -4,4\"/>\n<!-- 0 -->\n<g id=\"node1\" class=\"node\">\n<title>0</title>\n<path fill=\"#f5cfb3\" stroke=\"black\" d=\"M533.5,-1124C533.5,-1124 432.5,-1124 432.5,-1124 426.5,-1124 420.5,-1118 420.5,-1112 420.5,-1112 420.5,-1068 420.5,-1068 420.5,-1062 426.5,-1056 432.5,-1056 432.5,-1056 533.5,-1056 533.5,-1056 539.5,-1056 545.5,-1062 545.5,-1068 545.5,-1068 545.5,-1112 545.5,-1112 545.5,-1118 539.5,-1124 533.5,-1124\"/>\n<text text-anchor=\"start\" x=\"454\" y=\"-1108.8\" font-family=\"Helvetica,sans-Serif\" font-size=\"14.00\">Sex ≤ 0.5</text>\n<text text-anchor=\"start\" x=\"451\" y=\"-1093.8\" font-family=\"Helvetica,sans-Serif\" font-size=\"14.00\">gini = 0.47</text>\n<text text-anchor=\"start\" x=\"438\" y=\"-1078.8\" font-family=\"Helvetica,sans-Serif\" font-size=\"14.00\">samples = 668</text>\n<text text-anchor=\"start\" x=\"428.5\" y=\"-1063.8\" font-family=\"Helvetica,sans-Serif\" font-size=\"14.00\">value = [413, 255]</text>\n</g>\n<!-- 1 -->\n<g id=\"node2\" class=\"node\">\n<title>1</title>\n<path fill=\"#7fc0ee\" stroke=\"black\" d=\"M403.5,-948C403.5,-948 310.5,-948 310.5,-948 304.5,-948 298.5,-942 298.5,-936 298.5,-936 298.5,-892 298.5,-892 298.5,-886 304.5,-880 310.5,-880 310.5,-880 403.5,-880 403.5,-880 409.5,-880 415.5,-886 415.5,-892 415.5,-892 415.5,-936 415.5,-936 415.5,-942 409.5,-948 403.5,-948\"/>\n<text text-anchor=\"start\" x=\"320\" y=\"-932.8\" font-family=\"Helvetica,sans-Serif\" font-size=\"14.00\">Pclass ≤ 2.5</text>\n<text text-anchor=\"start\" x=\"325\" y=\"-917.8\" font-family=\"Helvetica,sans-Serif\" font-size=\"14.00\">gini = 0.39</text>\n<text text-anchor=\"start\" x=\"312\" y=\"-902.8\" font-family=\"Helvetica,sans-Serif\" font-size=\"14.00\">samples = 233</text>\n<text text-anchor=\"start\" x=\"306.5\" y=\"-887.8\" font-family=\"Helvetica,sans-Serif\" font-size=\"14.00\">value = [61, 172]</text>\n</g>\n<!-- 0&#45;&gt;1 -->\n<g id=\"edge1\" class=\"edge\">\n<title>0&#45;&gt;1</title>\n<path fill=\"none\" stroke=\"black\" d=\"M459,-1055.86C438.51,-1027.56 408.94,-986.73 386.91,-956.3\"/>\n<polygon fill=\"black\" stroke=\"black\" points=\"389.61,-954.06 380.91,-948.01 383.94,-958.17 389.61,-954.06\"/>\n<text text-anchor=\"middle\" x=\"376.96\" y=\"-969\" font-family=\"Helvetica,sans-Serif\" font-size=\"14.00\">True</text>\n</g>\n<!-- 8 -->\n<g id=\"node9\" class=\"node\">\n<title>8</title>\n<path fill=\"#eb9f68\" stroke=\"black\" d=\"M663.5,-948C663.5,-948 570.5,-948 570.5,-948 564.5,-948 558.5,-942 558.5,-936 558.5,-936 558.5,-892 558.5,-892 558.5,-886 564.5,-880 570.5,-880 570.5,-880 663.5,-880 663.5,-880 669.5,-880 675.5,-886 675.5,-892 675.5,-892 675.5,-936 675.5,-936 675.5,-942 669.5,-948 663.5,-948\"/>\n<text text-anchor=\"start\" x=\"574.5\" y=\"-932.8\" font-family=\"Helvetica,sans-Serif\" font-size=\"14.00\">LogFare ≤ 3.3</text>\n<text text-anchor=\"start\" x=\"585\" y=\"-917.8\" font-family=\"Helvetica,sans-Serif\" font-size=\"14.00\">gini = 0.31</text>\n<text text-anchor=\"start\" x=\"572\" y=\"-902.8\" font-family=\"Helvetica,sans-Serif\" font-size=\"14.00\">samples = 435</text>\n<text text-anchor=\"start\" x=\"566.5\" y=\"-887.8\" font-family=\"Helvetica,sans-Serif\" font-size=\"14.00\">value = [352, 83]</text>\n</g>\n<!-- 0&#45;&gt;8 -->\n<g id=\"edge8\" class=\"edge\">\n<title>0&#45;&gt;8</title>\n<path fill=\"none\" stroke=\"black\" d=\"M508.52,-1055.86C530.31,-1027.56 561.76,-986.73 585.19,-956.3\"/>\n<polygon fill=\"black\" stroke=\"black\" points=\"588.25,-958.07 591.58,-948.01 582.7,-953.8 588.25,-958.07\"/>\n<text text-anchor=\"middle\" x=\"594.79\" y=\"-969.11\" font-family=\"Helvetica,sans-Serif\" font-size=\"14.00\">False</text>\n</g>\n<!-- 2 -->\n<g id=\"node3\" class=\"node\">\n<title>2</title>\n<path fill=\"#40a0e6\" stroke=\"black\" d=\"M214,-771C214,-771 128,-771 128,-771 122,-771 116,-765 116,-759 116,-759 116,-715 116,-715 116,-709 122,-703 128,-703 128,-703 214,-703 214,-703 220,-703 226,-709 226,-715 226,-715 226,-759 226,-759 226,-765 220,-771 214,-771\"/>\n<text text-anchor=\"start\" x=\"138\" y=\"-755.8\" font-family=\"Helvetica,sans-Serif\" font-size=\"14.00\">Age ≤ 24.5</text>\n<text text-anchor=\"start\" x=\"139\" y=\"-740.8\" font-family=\"Helvetica,sans-Serif\" font-size=\"14.00\">gini = 0.06</text>\n<text text-anchor=\"start\" x=\"126\" y=\"-725.8\" font-family=\"Helvetica,sans-Serif\" font-size=\"14.00\">samples = 119</text>\n<text text-anchor=\"start\" x=\"124\" y=\"-710.8\" font-family=\"Helvetica,sans-Serif\" font-size=\"14.00\">value = [4, 115]</text>\n</g>\n<!-- 1&#45;&gt;2 -->\n<g id=\"edge2\" class=\"edge\">\n<title>1&#45;&gt;2</title>\n<path fill=\"none\" stroke=\"black\" d=\"M321.58,-879.67C290.94,-850.84 246.55,-809.08 213.9,-778.37\"/>\n<polygon fill=\"black\" stroke=\"black\" points=\"215.97,-775.51 206.29,-771.2 211.18,-780.61 215.97,-775.51\"/>\n</g>\n<!-- 5 -->\n<g id=\"node6\" class=\"node\">\n<title>5</title>\n<path fill=\"#ffffff\" stroke=\"black\" d=\"M400,-771C400,-771 314,-771 314,-771 308,-771 302,-765 302,-759 302,-759 302,-715 302,-715 302,-709 308,-703 314,-703 314,-703 400,-703 400,-703 406,-703 412,-709 412,-715 412,-715 412,-759 412,-759 412,-765 406,-771 400,-771\"/>\n<text text-anchor=\"start\" x=\"314.5\" y=\"-755.8\" font-family=\"Helvetica,sans-Serif\" font-size=\"14.00\">LogFare ≤ 2.7</text>\n<text text-anchor=\"start\" x=\"329\" y=\"-740.8\" font-family=\"Helvetica,sans-Serif\" font-size=\"14.00\">gini = 0.5</text>\n<text text-anchor=\"start\" x=\"312\" y=\"-725.8\" font-family=\"Helvetica,sans-Serif\" font-size=\"14.00\">samples = 114</text>\n<text text-anchor=\"start\" x=\"310\" y=\"-710.8\" font-family=\"Helvetica,sans-Serif\" font-size=\"14.00\">value = [57, 57]</text>\n</g>\n<!-- 1&#45;&gt;5 -->\n<g id=\"edge5\" class=\"edge\">\n<title>1&#45;&gt;5</title>\n<path fill=\"none\" stroke=\"black\" d=\"M357,-879.67C357,-851.82 357,-811.89 357,-781.51\"/>\n<polygon fill=\"black\" stroke=\"black\" points=\"360.5,-781.2 357,-771.2 353.5,-781.2 360.5,-781.2\"/>\n</g>\n<!-- 3 -->\n<g id=\"node4\" class=\"node\">\n<title>3</title>\n<path fill=\"#3d9fe6\" stroke=\"black\" d=\"M90,-587.5C90,-587.5 12,-587.5 12,-587.5 6,-587.5 0,-581.5 0,-575.5 0,-575.5 0,-546.5 0,-546.5 0,-540.5 6,-534.5 12,-534.5 12,-534.5 90,-534.5 90,-534.5 96,-534.5 102,-540.5 102,-546.5 102,-546.5 102,-575.5 102,-575.5 102,-581.5 96,-587.5 90,-587.5\"/>\n<text text-anchor=\"start\" x=\"19\" y=\"-572.3\" font-family=\"Helvetica,sans-Serif\" font-size=\"14.00\">gini = 0.04</text>\n<text text-anchor=\"start\" x=\"10\" y=\"-557.3\" font-family=\"Helvetica,sans-Serif\" font-size=\"14.00\">samples = 52</text>\n<text text-anchor=\"start\" x=\"8\" y=\"-542.3\" font-family=\"Helvetica,sans-Serif\" font-size=\"14.00\">value = [1, 51]</text>\n</g>\n<!-- 2&#45;&gt;3 -->\n<g id=\"edge3\" class=\"edge\">\n<title>2&#45;&gt;3</title>\n<path fill=\"none\" stroke=\"black\" d=\"M148.15,-702.86C127.01,-672.22 95.74,-626.88 74.43,-595.97\"/>\n<polygon fill=\"black\" stroke=\"black\" points=\"77.25,-593.9 68.7,-587.66 71.49,-597.88 77.25,-593.9\"/>\n</g>\n<!-- 4 -->\n<g id=\"node5\" class=\"node\">\n<title>4</title>\n<path fill=\"#42a2e6\" stroke=\"black\" d=\"M210,-587.5C210,-587.5 132,-587.5 132,-587.5 126,-587.5 120,-581.5 120,-575.5 120,-575.5 120,-546.5 120,-546.5 120,-540.5 126,-534.5 132,-534.5 132,-534.5 210,-534.5 210,-534.5 216,-534.5 222,-540.5 222,-546.5 222,-546.5 222,-575.5 222,-575.5 222,-581.5 216,-587.5 210,-587.5\"/>\n<text text-anchor=\"start\" x=\"139\" y=\"-572.3\" font-family=\"Helvetica,sans-Serif\" font-size=\"14.00\">gini = 0.09</text>\n<text text-anchor=\"start\" x=\"130\" y=\"-557.3\" font-family=\"Helvetica,sans-Serif\" font-size=\"14.00\">samples = 67</text>\n<text text-anchor=\"start\" x=\"128\" y=\"-542.3\" font-family=\"Helvetica,sans-Serif\" font-size=\"14.00\">value = [3, 64]</text>\n</g>\n<!-- 2&#45;&gt;4 -->\n<g id=\"edge4\" class=\"edge\">\n<title>2&#45;&gt;4</title>\n<path fill=\"none\" stroke=\"black\" d=\"M171,-702.86C171,-672.87 171,-628.81 171,-597.97\"/>\n<polygon fill=\"black\" stroke=\"black\" points=\"174.5,-597.66 171,-587.66 167.5,-597.66 174.5,-597.66\"/>\n</g>\n<!-- 6 -->\n<g id=\"node7\" class=\"node\">\n<title>6</title>\n<path fill=\"#a4d2f3\" stroke=\"black\" d=\"M338,-587.5C338,-587.5 252,-587.5 252,-587.5 246,-587.5 240,-581.5 240,-575.5 240,-575.5 240,-546.5 240,-546.5 240,-540.5 246,-534.5 252,-534.5 252,-534.5 338,-534.5 338,-534.5 344,-534.5 350,-540.5 350,-546.5 350,-546.5 350,-575.5 350,-575.5 350,-581.5 344,-587.5 338,-587.5\"/>\n<text text-anchor=\"start\" x=\"263\" y=\"-572.3\" font-family=\"Helvetica,sans-Serif\" font-size=\"14.00\">gini = 0.46</text>\n<text text-anchor=\"start\" x=\"254\" y=\"-557.3\" font-family=\"Helvetica,sans-Serif\" font-size=\"14.00\">samples = 57</text>\n<text text-anchor=\"start\" x=\"248\" y=\"-542.3\" font-family=\"Helvetica,sans-Serif\" font-size=\"14.00\">value = [20, 37]</text>\n</g>\n<!-- 5&#45;&gt;6 -->\n<g id=\"edge6\" class=\"edge\">\n<title>5&#45;&gt;6</title>\n<path fill=\"none\" stroke=\"black\" d=\"M345.19,-702.86C334.41,-672.61 318.53,-628.04 307.53,-597.17\"/>\n<polygon fill=\"black\" stroke=\"black\" points=\"310.8,-595.9 304.14,-587.66 304.2,-598.25 310.8,-595.9\"/>\n</g>\n<!-- 7 -->\n<g id=\"node8\" class=\"node\">\n<title>7</title>\n<path fill=\"#f3c5a4\" stroke=\"black\" d=\"M466,-587.5C466,-587.5 380,-587.5 380,-587.5 374,-587.5 368,-581.5 368,-575.5 368,-575.5 368,-546.5 368,-546.5 368,-540.5 374,-534.5 380,-534.5 380,-534.5 466,-534.5 466,-534.5 472,-534.5 478,-540.5 478,-546.5 478,-546.5 478,-575.5 478,-575.5 478,-581.5 472,-587.5 466,-587.5\"/>\n<text text-anchor=\"start\" x=\"391\" y=\"-572.3\" font-family=\"Helvetica,sans-Serif\" font-size=\"14.00\">gini = 0.46</text>\n<text text-anchor=\"start\" x=\"382\" y=\"-557.3\" font-family=\"Helvetica,sans-Serif\" font-size=\"14.00\">samples = 57</text>\n<text text-anchor=\"start\" x=\"376\" y=\"-542.3\" font-family=\"Helvetica,sans-Serif\" font-size=\"14.00\">value = [37, 20]</text>\n</g>\n<!-- 5&#45;&gt;7 -->\n<g id=\"edge7\" class=\"edge\">\n<title>5&#45;&gt;7</title>\n<path fill=\"none\" stroke=\"black\" d=\"M369.57,-702.86C381.04,-672.61 397.95,-628.04 409.66,-597.17\"/>\n<polygon fill=\"black\" stroke=\"black\" points=\"412.99,-598.25 413.27,-587.66 406.45,-595.77 412.99,-598.25\"/>\n</g>\n<!-- 9 -->\n<g id=\"node10\" class=\"node\">\n<title>9</title>\n<path fill=\"#e99356\" stroke=\"black\" d=\"M663.5,-771C663.5,-771 570.5,-771 570.5,-771 564.5,-771 558.5,-765 558.5,-759 558.5,-759 558.5,-715 558.5,-715 558.5,-709 564.5,-703 570.5,-703 570.5,-703 663.5,-703 663.5,-703 669.5,-703 675.5,-709 675.5,-715 675.5,-715 675.5,-759 675.5,-759 675.5,-765 669.5,-771 663.5,-771\"/>\n<text text-anchor=\"start\" x=\"580.5\" y=\"-755.8\" font-family=\"Helvetica,sans-Serif\" font-size=\"14.00\">Age ≤ 20.25</text>\n<text text-anchor=\"start\" x=\"585\" y=\"-740.8\" font-family=\"Helvetica,sans-Serif\" font-size=\"14.00\">gini = 0.22</text>\n<text text-anchor=\"start\" x=\"572\" y=\"-725.8\" font-family=\"Helvetica,sans-Serif\" font-size=\"14.00\">samples = 308</text>\n<text text-anchor=\"start\" x=\"566.5\" y=\"-710.8\" font-family=\"Helvetica,sans-Serif\" font-size=\"14.00\">value = [269, 39]</text>\n</g>\n<!-- 8&#45;&gt;9 -->\n<g id=\"edge9\" class=\"edge\">\n<title>8&#45;&gt;9</title>\n<path fill=\"none\" stroke=\"black\" d=\"M617,-879.67C617,-851.82 617,-811.89 617,-781.51\"/>\n<polygon fill=\"black\" stroke=\"black\" points=\"620.5,-781.2 617,-771.2 613.5,-781.2 620.5,-781.2\"/>\n</g>\n<!-- 18 -->\n<g id=\"node19\" class=\"node\">\n<title>18</title>\n<path fill=\"#f3c4a2\" stroke=\"black\" d=\"M858,-771C858,-771 772,-771 772,-771 766,-771 760,-765 760,-759 760,-759 760,-715 760,-715 760,-709 766,-703 772,-703 772,-703 858,-703 858,-703 864,-703 870,-709 870,-715 870,-715 870,-759 870,-759 870,-765 864,-771 858,-771\"/>\n<text text-anchor=\"start\" x=\"769\" y=\"-755.8\" font-family=\"Helvetica,sans-Serif\" font-size=\"14.00\">LogFare ≤ 3.98</text>\n<text text-anchor=\"start\" x=\"783\" y=\"-740.8\" font-family=\"Helvetica,sans-Serif\" font-size=\"14.00\">gini = 0.45</text>\n<text text-anchor=\"start\" x=\"770\" y=\"-725.8\" font-family=\"Helvetica,sans-Serif\" font-size=\"14.00\">samples = 127</text>\n<text text-anchor=\"start\" x=\"768\" y=\"-710.8\" font-family=\"Helvetica,sans-Serif\" font-size=\"14.00\">value = [83, 44]</text>\n</g>\n<!-- 8&#45;&gt;18 -->\n<g id=\"edge18\" class=\"edge\">\n<title>8&#45;&gt;18</title>\n<path fill=\"none\" stroke=\"black\" d=\"M654.71,-879.67C687.46,-850.72 734.97,-808.73 769.77,-777.98\"/>\n<polygon fill=\"black\" stroke=\"black\" points=\"772.26,-780.45 777.43,-771.2 767.62,-775.2 772.26,-780.45\"/>\n</g>\n<!-- 10 -->\n<g id=\"node11\" class=\"node\">\n<title>10</title>\n<path fill=\"#efb185\" stroke=\"black\" d=\"M594,-587.5C594,-587.5 508,-587.5 508,-587.5 502,-587.5 496,-581.5 496,-575.5 496,-575.5 496,-546.5 496,-546.5 496,-540.5 502,-534.5 508,-534.5 508,-534.5 594,-534.5 594,-534.5 600,-534.5 606,-540.5 606,-546.5 606,-546.5 606,-575.5 606,-575.5 606,-581.5 600,-587.5 594,-587.5\"/>\n<text text-anchor=\"start\" x=\"523\" y=\"-572.3\" font-family=\"Helvetica,sans-Serif\" font-size=\"14.00\">gini = 0.4</text>\n<text text-anchor=\"start\" x=\"510\" y=\"-557.3\" font-family=\"Helvetica,sans-Serif\" font-size=\"14.00\">samples = 54</text>\n<text text-anchor=\"start\" x=\"504\" y=\"-542.3\" font-family=\"Helvetica,sans-Serif\" font-size=\"14.00\">value = [39, 15]</text>\n</g>\n<!-- 9&#45;&gt;10 -->\n<g id=\"edge10\" class=\"edge\">\n<title>9&#45;&gt;10</title>\n<path fill=\"none\" stroke=\"black\" d=\"M604.43,-702.86C592.96,-672.61 576.05,-628.04 564.34,-597.17\"/>\n<polygon fill=\"black\" stroke=\"black\" points=\"567.55,-595.77 560.73,-587.66 561.01,-598.25 567.55,-595.77\"/>\n</g>\n<!-- 11 -->\n<g id=\"node12\" class=\"node\">\n<title>11</title>\n<path fill=\"#e88e4e\" stroke=\"black\" d=\"M729.5,-595C729.5,-595 636.5,-595 636.5,-595 630.5,-595 624.5,-589 624.5,-583 624.5,-583 624.5,-539 624.5,-539 624.5,-533 630.5,-527 636.5,-527 636.5,-527 729.5,-527 729.5,-527 735.5,-527 741.5,-533 741.5,-539 741.5,-539 741.5,-583 741.5,-583 741.5,-589 735.5,-595 729.5,-595\"/>\n<text text-anchor=\"start\" x=\"650\" y=\"-579.8\" font-family=\"Helvetica,sans-Serif\" font-size=\"14.00\">Age ≤ 32.5</text>\n<text text-anchor=\"start\" x=\"651\" y=\"-564.8\" font-family=\"Helvetica,sans-Serif\" font-size=\"14.00\">gini = 0.17</text>\n<text text-anchor=\"start\" x=\"638\" y=\"-549.8\" font-family=\"Helvetica,sans-Serif\" font-size=\"14.00\">samples = 254</text>\n<text text-anchor=\"start\" x=\"632.5\" y=\"-534.8\" font-family=\"Helvetica,sans-Serif\" font-size=\"14.00\">value = [230, 24]</text>\n</g>\n<!-- 9&#45;&gt;11 -->\n<g id=\"edge11\" class=\"edge\">\n<title>9&#45;&gt;11</title>\n<path fill=\"none\" stroke=\"black\" d=\"M629.57,-702.86C640.17,-674.92 655.4,-634.77 666.89,-604.48\"/>\n<polygon fill=\"black\" stroke=\"black\" points=\"670.2,-605.61 670.48,-595.01 663.66,-603.12 670.2,-605.61\"/>\n</g>\n<!-- 12 -->\n<g id=\"node13\" class=\"node\">\n<title>12</title>\n<path fill=\"#e99355\" stroke=\"black\" d=\"M665.5,-419C665.5,-419 572.5,-419 572.5,-419 566.5,-419 560.5,-413 560.5,-407 560.5,-407 560.5,-363 560.5,-363 560.5,-357 566.5,-351 572.5,-351 572.5,-351 665.5,-351 665.5,-351 671.5,-351 677.5,-357 677.5,-363 677.5,-363 677.5,-407 677.5,-407 677.5,-413 671.5,-419 665.5,-419\"/>\n<text text-anchor=\"start\" x=\"586\" y=\"-403.8\" font-family=\"Helvetica,sans-Serif\" font-size=\"14.00\">Age ≤ 25.5</text>\n<text text-anchor=\"start\" x=\"587\" y=\"-388.8\" font-family=\"Helvetica,sans-Serif\" font-size=\"14.00\">gini = 0.21</text>\n<text text-anchor=\"start\" x=\"574\" y=\"-373.8\" font-family=\"Helvetica,sans-Serif\" font-size=\"14.00\">samples = 172</text>\n<text text-anchor=\"start\" x=\"568.5\" y=\"-358.8\" font-family=\"Helvetica,sans-Serif\" font-size=\"14.00\">value = [151, 21]</text>\n</g>\n<!-- 11&#45;&gt;12 -->\n<g id=\"edge12\" class=\"edge\">\n<title>11&#45;&gt;12</title>\n<path fill=\"none\" stroke=\"black\" d=\"M670.81,-526.86C660.54,-498.92 645.77,-458.77 634.62,-428.48\"/>\n<polygon fill=\"black\" stroke=\"black\" points=\"637.88,-427.19 631.14,-419.01 631.31,-429.61 637.88,-427.19\"/>\n</g>\n<!-- 17 -->\n<g id=\"node18\" class=\"node\">\n<title>17</title>\n<path fill=\"#e68641\" stroke=\"black\" d=\"M786,-411.5C786,-411.5 708,-411.5 708,-411.5 702,-411.5 696,-405.5 696,-399.5 696,-399.5 696,-370.5 696,-370.5 696,-364.5 702,-358.5 708,-358.5 708,-358.5 786,-358.5 786,-358.5 792,-358.5 798,-364.5 798,-370.5 798,-370.5 798,-399.5 798,-399.5 798,-405.5 792,-411.5 786,-411.5\"/>\n<text text-anchor=\"start\" x=\"715\" y=\"-396.3\" font-family=\"Helvetica,sans-Serif\" font-size=\"14.00\">gini = 0.07</text>\n<text text-anchor=\"start\" x=\"706\" y=\"-381.3\" font-family=\"Helvetica,sans-Serif\" font-size=\"14.00\">samples = 82</text>\n<text text-anchor=\"start\" x=\"704\" y=\"-366.3\" font-family=\"Helvetica,sans-Serif\" font-size=\"14.00\">value = [79, 3]</text>\n</g>\n<!-- 11&#45;&gt;17 -->\n<g id=\"edge17\" class=\"edge\">\n<title>11&#45;&gt;17</title>\n<path fill=\"none\" stroke=\"black\" d=\"M695.19,-526.86C706.32,-496.61 722.71,-452.04 734.07,-421.17\"/>\n<polygon fill=\"black\" stroke=\"black\" points=\"737.39,-422.25 737.56,-411.66 730.82,-419.84 737.39,-422.25\"/>\n</g>\n<!-- 13 -->\n<g id=\"node14\" class=\"node\">\n<title>13</title>\n<path fill=\"#e88e4d\" stroke=\"black\" d=\"M599.5,-243C599.5,-243 506.5,-243 506.5,-243 500.5,-243 494.5,-237 494.5,-231 494.5,-231 494.5,-187 494.5,-187 494.5,-181 500.5,-175 506.5,-175 506.5,-175 599.5,-175 599.5,-175 605.5,-175 611.5,-181 611.5,-187 611.5,-187 611.5,-231 611.5,-231 611.5,-237 605.5,-243 599.5,-243\"/>\n<text text-anchor=\"start\" x=\"507\" y=\"-227.8\" font-family=\"Helvetica,sans-Serif\" font-size=\"14.00\">LogFare ≤ 2.17</text>\n<text text-anchor=\"start\" x=\"521\" y=\"-212.8\" font-family=\"Helvetica,sans-Serif\" font-size=\"14.00\">gini = 0.17</text>\n<text text-anchor=\"start\" x=\"508\" y=\"-197.8\" font-family=\"Helvetica,sans-Serif\" font-size=\"14.00\">samples = 121</text>\n<text text-anchor=\"start\" x=\"502.5\" y=\"-182.8\" font-family=\"Helvetica,sans-Serif\" font-size=\"14.00\">value = [110, 11]</text>\n</g>\n<!-- 12&#45;&gt;13 -->\n<g id=\"edge13\" class=\"edge\">\n<title>12&#45;&gt;13</title>\n<path fill=\"none\" stroke=\"black\" d=\"M606.43,-350.86C595.83,-322.92 580.6,-282.77 569.11,-252.48\"/>\n<polygon fill=\"black\" stroke=\"black\" points=\"572.34,-251.12 565.52,-243.01 565.8,-253.61 572.34,-251.12\"/>\n</g>\n<!-- 16 -->\n<g id=\"node17\" class=\"node\">\n<title>16</title>\n<path fill=\"#eba069\" stroke=\"black\" d=\"M728,-235.5C728,-235.5 642,-235.5 642,-235.5 636,-235.5 630,-229.5 630,-223.5 630,-223.5 630,-194.5 630,-194.5 630,-188.5 636,-182.5 642,-182.5 642,-182.5 728,-182.5 728,-182.5 734,-182.5 740,-188.5 740,-194.5 740,-194.5 740,-223.5 740,-223.5 740,-229.5 734,-235.5 728,-235.5\"/>\n<text text-anchor=\"start\" x=\"653\" y=\"-220.3\" font-family=\"Helvetica,sans-Serif\" font-size=\"14.00\">gini = 0.32</text>\n<text text-anchor=\"start\" x=\"644\" y=\"-205.3\" font-family=\"Helvetica,sans-Serif\" font-size=\"14.00\">samples = 51</text>\n<text text-anchor=\"start\" x=\"638\" y=\"-190.3\" font-family=\"Helvetica,sans-Serif\" font-size=\"14.00\">value = [41, 10]</text>\n</g>\n<!-- 12&#45;&gt;16 -->\n<g id=\"edge16\" class=\"edge\">\n<title>12&#45;&gt;16</title>\n<path fill=\"none\" stroke=\"black\" d=\"M631.57,-350.86C643.04,-320.61 659.95,-276.04 671.66,-245.17\"/>\n<polygon fill=\"black\" stroke=\"black\" points=\"674.99,-246.25 675.27,-235.66 668.45,-243.77 674.99,-246.25\"/>\n</g>\n<!-- 14 -->\n<g id=\"node15\" class=\"node\">\n<title>14</title>\n<path fill=\"#e99457\" stroke=\"black\" d=\"M532,-71.5C532,-71.5 454,-71.5 454,-71.5 448,-71.5 442,-65.5 442,-59.5 442,-59.5 442,-30.5 442,-30.5 442,-24.5 448,-18.5 454,-18.5 454,-18.5 532,-18.5 532,-18.5 538,-18.5 544,-24.5 544,-30.5 544,-30.5 544,-59.5 544,-59.5 544,-65.5 538,-71.5 532,-71.5\"/>\n<text text-anchor=\"start\" x=\"461\" y=\"-56.3\" font-family=\"Helvetica,sans-Serif\" font-size=\"14.00\">gini = 0.23</text>\n<text text-anchor=\"start\" x=\"452\" y=\"-41.3\" font-family=\"Helvetica,sans-Serif\" font-size=\"14.00\">samples = 53</text>\n<text text-anchor=\"start\" x=\"450\" y=\"-26.3\" font-family=\"Helvetica,sans-Serif\" font-size=\"14.00\">value = [46, 7]</text>\n</g>\n<!-- 13&#45;&gt;14 -->\n<g id=\"edge14\" class=\"edge\">\n<title>13&#45;&gt;14</title>\n<path fill=\"none\" stroke=\"black\" d=\"M540.71,-174.83C530.64,-147.62 516.41,-109.2 506.11,-81.4\"/>\n<polygon fill=\"black\" stroke=\"black\" points=\"509.27,-79.84 502.51,-71.68 502.7,-82.28 509.27,-79.84\"/>\n</g>\n<!-- 15 -->\n<g id=\"node16\" class=\"node\">\n<title>15</title>\n<path fill=\"#e78945\" stroke=\"black\" d=\"M652,-71.5C652,-71.5 574,-71.5 574,-71.5 568,-71.5 562,-65.5 562,-59.5 562,-59.5 562,-30.5 562,-30.5 562,-24.5 568,-18.5 574,-18.5 574,-18.5 652,-18.5 652,-18.5 658,-18.5 664,-24.5 664,-30.5 664,-30.5 664,-59.5 664,-59.5 664,-65.5 658,-71.5 652,-71.5\"/>\n<text text-anchor=\"start\" x=\"581\" y=\"-56.3\" font-family=\"Helvetica,sans-Serif\" font-size=\"14.00\">gini = 0.11</text>\n<text text-anchor=\"start\" x=\"572\" y=\"-41.3\" font-family=\"Helvetica,sans-Serif\" font-size=\"14.00\">samples = 68</text>\n<text text-anchor=\"start\" x=\"570\" y=\"-26.3\" font-family=\"Helvetica,sans-Serif\" font-size=\"14.00\">value = [64, 4]</text>\n</g>\n<!-- 13&#45;&gt;15 -->\n<g id=\"edge15\" class=\"edge\">\n<title>13&#45;&gt;15</title>\n<path fill=\"none\" stroke=\"black\" d=\"M565.29,-174.83C575.36,-147.62 589.59,-109.2 599.89,-81.4\"/>\n<polygon fill=\"black\" stroke=\"black\" points=\"603.3,-82.28 603.49,-71.68 596.73,-79.84 603.3,-82.28\"/>\n</g>\n<!-- 19 -->\n<g id=\"node20\" class=\"node\">\n<title>19</title>\n<path fill=\"#f0b78d\" stroke=\"black\" d=\"M858,-587.5C858,-587.5 772,-587.5 772,-587.5 766,-587.5 760,-581.5 760,-575.5 760,-575.5 760,-546.5 760,-546.5 760,-540.5 766,-534.5 772,-534.5 772,-534.5 858,-534.5 858,-534.5 864,-534.5 870,-540.5 870,-546.5 870,-546.5 870,-575.5 870,-575.5 870,-581.5 864,-587.5 858,-587.5\"/>\n<text text-anchor=\"start\" x=\"783\" y=\"-572.3\" font-family=\"Helvetica,sans-Serif\" font-size=\"14.00\">gini = 0.42</text>\n<text text-anchor=\"start\" x=\"774\" y=\"-557.3\" font-family=\"Helvetica,sans-Serif\" font-size=\"14.00\">samples = 77</text>\n<text text-anchor=\"start\" x=\"768\" y=\"-542.3\" font-family=\"Helvetica,sans-Serif\" font-size=\"14.00\">value = [54, 23]</text>\n</g>\n<!-- 18&#45;&gt;19 -->\n<g id=\"edge19\" class=\"edge\">\n<title>18&#45;&gt;19</title>\n<path fill=\"none\" stroke=\"black\" d=\"M815,-702.86C815,-672.87 815,-628.81 815,-597.97\"/>\n<polygon fill=\"black\" stroke=\"black\" points=\"818.5,-597.66 815,-587.66 811.5,-597.66 818.5,-597.66\"/>\n</g>\n<!-- 20 -->\n<g id=\"node21\" class=\"node\">\n<title>20</title>\n<path fill=\"#f8dcc8\" stroke=\"black\" d=\"M986,-587.5C986,-587.5 900,-587.5 900,-587.5 894,-587.5 888,-581.5 888,-575.5 888,-575.5 888,-546.5 888,-546.5 888,-540.5 894,-534.5 900,-534.5 900,-534.5 986,-534.5 986,-534.5 992,-534.5 998,-540.5 998,-546.5 998,-546.5 998,-575.5 998,-575.5 998,-581.5 992,-587.5 986,-587.5\"/>\n<text text-anchor=\"start\" x=\"911\" y=\"-572.3\" font-family=\"Helvetica,sans-Serif\" font-size=\"14.00\">gini = 0.49</text>\n<text text-anchor=\"start\" x=\"902\" y=\"-557.3\" font-family=\"Helvetica,sans-Serif\" font-size=\"14.00\">samples = 50</text>\n<text text-anchor=\"start\" x=\"896\" y=\"-542.3\" font-family=\"Helvetica,sans-Serif\" font-size=\"14.00\">value = [29, 21]</text>\n</g>\n<!-- 18&#45;&gt;20 -->\n<g id=\"edge20\" class=\"edge\">\n<title>18&#45;&gt;20</title>\n<path fill=\"none\" stroke=\"black\" d=\"M839.38,-702.86C861.92,-672.22 895.27,-626.88 918.01,-595.97\"/>\n<polygon fill=\"black\" stroke=\"black\" points=\"921.02,-597.79 924.12,-587.66 915.38,-593.64 921.02,-597.79\"/>\n</g>\n</g>\n</svg>\n",
            "text/plain": [
              "<graphviz.sources.Source at 0x7b85a85d78e0>"
            ]
          },
          "metadata": {},
          "execution_count": 37
        }
      ]
    },
    {
      "cell_type": "code",
      "source": [
        "mean_absolute_error(val_y, model.predict(val_xs))"
      ],
      "metadata": {
        "colab": {
          "base_uri": "https://localhost:8080/"
        },
        "id": "yPQI6ohUYrdl",
        "outputId": "6aa8b433-d72a-46d1-a548-7cf937c1370a"
      },
      "execution_count": 38,
      "outputs": [
        {
          "output_type": "execute_result",
          "data": {
            "text/plain": [
              "0.2062780269058296"
            ]
          },
          "metadata": {},
          "execution_count": 38
        }
      ]
    },
    {
      "cell_type": "code",
      "source": [
        "tst_df[cats] = tst_df[cats].apply(lambda x: x.cat.codes)\n",
        "tst_xs,_ = xs_y(tst_df)"
      ],
      "metadata": {
        "id": "hQhoRqTj0_F_"
      },
      "execution_count": 39,
      "outputs": []
    },
    {
      "cell_type": "markdown",
      "source": [
        "## Moving onto Random Forests"
      ],
      "metadata": {
        "id": "tmC33fMlO4M0"
      }
    },
    {
      "cell_type": "code",
      "source": [
        "# Creating a Random Forest manually, and while we will be selecting a random\n",
        "# sample of data, we will NOT be picking random subsets of columns. So this\n",
        "# won't be a \"pure\" implementation of a random forest.\n",
        "import random\n",
        "\n",
        "def get_tree(prop=0.75):\n",
        "  n = len(trn_y)\n",
        "  idxs = random.choices(range(n), k=int(n*prop)) # This is a fix - Jeremy's NB version throws an error\n",
        "  return DecisionTreeClassifier(min_samples_leaf=5).fit(trn_xs.iloc[idxs], trn_y.iloc[idxs])\n"
      ],
      "metadata": {
        "id": "GEdDbvGOO8y-"
      },
      "execution_count": 40,
      "outputs": []
    },
    {
      "cell_type": "code",
      "source": [
        "trees = [get_tree() for t in range(100)]"
      ],
      "metadata": {
        "id": "wOlTZ8vcxxhM"
      },
      "execution_count": 41,
      "outputs": []
    },
    {
      "cell_type": "code",
      "source": [
        "# Averaging the predictions of the trees above\n",
        "all_probs = [t.predict(val_xs) for t in trees]\n",
        "avg_probs = np.stack(all_probs).mean(0)\n",
        "\n",
        "mean_absolute_error(val_y, avg_probs)"
      ],
      "metadata": {
        "colab": {
          "base_uri": "https://localhost:8080/"
        },
        "id": "WRc4h17UxxwN",
        "outputId": "845ef50d-d487-4f0c-a768-c26f9b78e92a"
      },
      "execution_count": 43,
      "outputs": [
        {
          "output_type": "execute_result",
          "data": {
            "text/plain": [
              "0.19434977578475335"
            ]
          },
          "metadata": {},
          "execution_count": 43
        }
      ]
    },
    {
      "cell_type": "code",
      "source": [
        "# Implementing the same in sklearn\n",
        "from sklearn.ensemble import RandomForestClassifier\n",
        "\n",
        "rf = RandomForestClassifier(100, min_samples_leaf=5)\n",
        "rf.fit(trn_xs, trn_y)\n",
        "mean_absolute_error(val_y, rf.predict(val_xs))"
      ],
      "metadata": {
        "colab": {
          "base_uri": "https://localhost:8080/"
        },
        "id": "VnzWXgpTxx1f",
        "outputId": "b8a71961-54da-4530-a639-dccb89728558"
      },
      "execution_count": 45,
      "outputs": [
        {
          "output_type": "execute_result",
          "data": {
            "text/plain": [
              "0.15695067264573992"
            ]
          },
          "metadata": {},
          "execution_count": 45
        }
      ]
    },
    {
      "cell_type": "markdown",
      "source": [
        "The improvement in predictive performance is significant from where we started\n",
        "off.\n",
        "\n",
        "The final step involves plotting the feature importances of our independent variables."
      ],
      "metadata": {
        "id": "-bchaClA5GFc"
      }
    },
    {
      "cell_type": "code",
      "source": [
        "pd.DataFrame(dict(cols=trn_xs.columns, imp=rf.feature_importances_)).plot('cols', 'imp', 'barh');"
      ],
      "metadata": {
        "colab": {
          "base_uri": "https://localhost:8080/",
          "height": 430
        },
        "id": "flLIM9aoxx63",
        "outputId": "267a6375-b5f6-471c-dd2e-7e77917f9084"
      },
      "execution_count": 48,
      "outputs": [
        {
          "output_type": "display_data",
          "data": {
            "text/plain": [
              "<Figure size 640x480 with 1 Axes>"
            ],
            "image/png": "[encoded data removed]"
          },
          "metadata": {}
        }
      ]
    },
    {
      "cell_type": "code",
      "source": [],
      "metadata": {
        "id": "EDxVBPgIxx-g"
      },
      "execution_count": null,
      "outputs": []
    }
  ],
  "metadata": {
    "colab": {
      "provenance": [],
      "mount_file_id": "1ATgB5ExqEY4NPSaG4mB4PvQI71tIfP1Y",
      "authorship_tag": "ABX9TyOxQq1t35GKRHmmrV2D56cP",
      "include_colab_link": true
    },
    "kernelspec": {
      "display_name": "Python 3",
      "name": "python3"
    },
    "language_info": {
      "name": "python"
    },
    "widgets": {
      "application/vnd.jupyter.widget-state+json": {
        "3942a9fa74eb4c03a5882918007d9a97": {
          "model_module": "@jupyter-widgets/controls",
          "model_name": "VBoxModel",
          "model_module_version": "1.5.0",
          "state": {
            "_dom_classes": [
              "widget-interact"
            ],
            "_model_module": "@jupyter-widgets/controls",
            "_model_module_version": "1.5.0",
            "_model_name": "VBoxModel",
            "_view_count": null,
            "_view_module": "@jupyter-widgets/controls",
            "_view_module_version": "1.5.0",
            "_view_name": "VBoxView",
            "box_style": "",
            "children": [
              "IPY_MODEL_0457daef98b0454bb8fcc87b9e45d194",
              "IPY_MODEL_a6b92d87f8c44c328b8bc1ee8b8da6bf",
              "IPY_MODEL_90ae8d2c48f148ad968917af90e76817"
            ],
            "layout": "IPY_MODEL_28fea5e285e242ecb2bcc49b44f7ec0e"
          }
        },
        "0457daef98b0454bb8fcc87b9e45d194": {
          "model_module": "@jupyter-widgets/controls",
          "model_name": "DropdownModel",
          "model_module_version": "1.5.0",
          "state": {
            "_dom_classes": [],
            "_model_module": "@jupyter-widgets/controls",
            "_model_module_version": "1.5.0",
            "_model_name": "DropdownModel",
            "_options_labels": [
              "Age",
              "SibSp",
              "Parch",
              "LogFare",
              "Pclass"
            ],
            "_view_count": null,
            "_view_module": "@jupyter-widgets/controls",
            "_view_module_version": "1.5.0",
            "_view_name": "DropdownView",
            "description": "nm",
            "description_tooltip": null,
            "disabled": false,
            "index": 0,
            "layout": "IPY_MODEL_52c34298e6bc47fc9de35553e91f9fc3",
            "style": "IPY_MODEL_79ac5191e8f94b6a97d8c708e9bac39f"
          }
        },
        "a6b92d87f8c44c328b8bc1ee8b8da6bf": {
          "model_module": "@jupyter-widgets/controls",
          "model_name": "FloatSliderModel",
          "model_module_version": "1.5.0",
          "state": {
            "_dom_classes": [],
            "_model_module": "@jupyter-widgets/controls",
            "_model_module_version": "1.5.0",
            "_model_name": "FloatSliderModel",
            "_view_count": null,
            "_view_module": "@jupyter-widgets/controls",
            "_view_module_version": "1.5.0",
            "_view_name": "FloatSliderView",
            "continuous_update": true,
            "description": "split",
            "description_tooltip": null,
            "disabled": false,
            "layout": "IPY_MODEL_765aa551b1a74577bbb2827520f17cdd",
            "max": 46.5,
            "min": -15.5,
            "orientation": "horizontal",
            "readout": true,
            "readout_format": ".2f",
            "step": 0.1,
            "style": "IPY_MODEL_28f83cd329454996a83ac8d4fa9fb0d1",
            "value": 15.5
          }
        },
        "90ae8d2c48f148ad968917af90e76817": {
          "model_module": "@jupyter-widgets/output",
          "model_name": "OutputModel",
          "model_module_version": "1.0.0",
          "state": {
            "_dom_classes": [],
            "_model_module": "@jupyter-widgets/output",
            "_model_module_version": "1.0.0",
            "_model_name": "OutputModel",
            "_view_count": null,
            "_view_module": "@jupyter-widgets/output",
            "_view_module_version": "1.0.0",
            "_view_name": "OutputView",
            "layout": "IPY_MODEL_b728eeadbfcc4baaaee0965294f6fb1b",
            "msg_id": "",
            "outputs": [
              {
                "output_type": "display_data",
                "data": {
                  "text/plain": "0.48265753568488207"
                },
                "metadata": {}
              }
            ]
          }
        },
        "28fea5e285e242ecb2bcc49b44f7ec0e": {
          "model_module": "@jupyter-widgets/base",
          "model_name": "LayoutModel",
          "model_module_version": "1.2.0",
          "state": {
            "_model_module": "@jupyter-widgets/base",
            "_model_module_version": "1.2.0",
            "_model_name": "LayoutModel",
            "_view_count": null,
            "_view_module": "@jupyter-widgets/base",
            "_view_module_version": "1.2.0",
            "_view_name": "LayoutView",
            "align_content": null,
            "align_items": null,
            "align_self": null,
            "border": null,
            "bottom": null,
            "display": null,
            "flex": null,
            "flex_flow": null,
            "grid_area": null,
            "grid_auto_columns": null,
            "grid_auto_flow": null,
            "grid_auto_rows": null,
            "grid_column": null,
            "grid_gap": null,
            "grid_row": null,
            "grid_template_areas": null,
            "grid_template_columns": null,
            "grid_template_rows": null,
            "height": null,
            "justify_content": null,
            "justify_items": null,
            "left": null,
            "margin": null,
            "max_height": null,
            "max_width": null,
            "min_height": null,
            "min_width": null,
            "object_fit": null,
            "object_position": null,
            "order": null,
            "overflow": null,
            "overflow_x": null,
            "overflow_y": null,
            "padding": null,
            "right": null,
            "top": null,
            "visibility": null,
            "width": null
          }
        },
        "52c34298e6bc47fc9de35553e91f9fc3": {
          "model_module": "@jupyter-widgets/base",
          "model_name": "LayoutModel",
          "model_module_version": "1.2.0",
          "state": {
            "_model_module": "@jupyter-widgets/base",
            "_model_module_version": "1.2.0",
            "_model_name": "LayoutModel",
            "_view_count": null,
            "_view_module": "@jupyter-widgets/base",
            "_view_module_version": "1.2.0",
            "_view_name": "LayoutView",
            "align_content": null,
            "align_items": null,
            "align_self": null,
            "border": null,
            "bottom": null,
            "display": null,
            "flex": null,
            "flex_flow": null,
            "grid_area": null,
            "grid_auto_columns": null,
            "grid_auto_flow": null,
            "grid_auto_rows": null,
            "grid_column": null,
            "grid_gap": null,
            "grid_row": null,
            "grid_template_areas": null,
            "grid_template_columns": null,
            "grid_template_rows": null,
            "height": null,
            "justify_content": null,
            "justify_items": null,
            "left": null,
            "margin": null,
            "max_height": null,
            "max_width": null,
            "min_height": null,
            "min_width": null,
            "object_fit": null,
            "object_position": null,
            "order": null,
            "overflow": null,
            "overflow_x": null,
            "overflow_y": null,
            "padding": null,
            "right": null,
            "top": null,
            "visibility": null,
            "width": null
          }
        },
        "79ac5191e8f94b6a97d8c708e9bac39f": {
          "model_module": "@jupyter-widgets/controls",
          "model_name": "DescriptionStyleModel",
          "model_module_version": "1.5.0",
          "state": {
            "_model_module": "@jupyter-widgets/controls",
            "_model_module_version": "1.5.0",
            "_model_name": "DescriptionStyleModel",
            "_view_count": null,
            "_view_module": "@jupyter-widgets/base",
            "_view_module_version": "1.2.0",
            "_view_name": "StyleView",
            "description_width": ""
          }
        },
        "765aa551b1a74577bbb2827520f17cdd": {
          "model_module": "@jupyter-widgets/base",
          "model_name": "LayoutModel",
          "model_module_version": "1.2.0",
          "state": {
            "_model_module": "@jupyter-widgets/base",
            "_model_module_version": "1.2.0",
            "_model_name": "LayoutModel",
            "_view_count": null,
            "_view_module": "@jupyter-widgets/base",
            "_view_module_version": "1.2.0",
            "_view_name": "LayoutView",
            "align_content": null,
            "align_items": null,
            "align_self": null,
            "border": null,
            "bottom": null,
            "display": null,
            "flex": null,
            "flex_flow": null,
            "grid_area": null,
            "grid_auto_columns": null,
            "grid_auto_flow": null,
            "grid_auto_rows": null,
            "grid_column": null,
            "grid_gap": null,
            "grid_row": null,
            "grid_template_areas": null,
            "grid_template_columns": null,
            "grid_template_rows": null,
            "height": null,
            "justify_content": null,
            "justify_items": null,
            "left": null,
            "margin": null,
            "max_height": null,
            "max_width": null,
            "min_height": null,
            "min_width": null,
            "object_fit": null,
            "object_position": null,
            "order": null,
            "overflow": null,
            "overflow_x": null,
            "overflow_y": null,
            "padding": null,
            "right": null,
            "top": null,
            "visibility": null,
            "width": null
          }
        },
        "28f83cd329454996a83ac8d4fa9fb0d1": {
          "model_module": "@jupyter-widgets/controls",
          "model_name": "SliderStyleModel",
          "model_module_version": "1.5.0",
          "state": {
            "_model_module": "@jupyter-widgets/controls",
            "_model_module_version": "1.5.0",
            "_model_name": "SliderStyleModel",
            "_view_count": null,
            "_view_module": "@jupyter-widgets/base",
            "_view_module_version": "1.2.0",
            "_view_name": "StyleView",
            "description_width": "",
            "handle_color": null
          }
        },
        "b728eeadbfcc4baaaee0965294f6fb1b": {
          "model_module": "@jupyter-widgets/base",
          "model_name": "LayoutModel",
          "model_module_version": "1.2.0",
          "state": {
            "_model_module": "@jupyter-widgets/base",
            "_model_module_version": "1.2.0",
            "_model_name": "LayoutModel",
            "_view_count": null,
            "_view_module": "@jupyter-widgets/base",
            "_view_module_version": "1.2.0",
            "_view_name": "LayoutView",
            "align_content": null,
            "align_items": null,
            "align_self": null,
            "border": null,
            "bottom": null,
            "display": null,
            "flex": null,
            "flex_flow": null,
            "grid_area": null,
            "grid_auto_columns": null,
            "grid_auto_flow": null,
            "grid_auto_rows": null,
            "grid_column": null,
            "grid_gap": null,
            "grid_row": null,
            "grid_template_areas": null,
            "grid_template_columns": null,
            "grid_template_rows": null,
            "height": null,
            "justify_content": null,
            "justify_items": null,
            "left": null,
            "margin": null,
            "max_height": null,
            "max_width": null,
            "min_height": null,
            "min_width": null,
            "object_fit": null,
            "object_position": null,
            "order": null,
            "overflow": null,
            "overflow_x": null,
            "overflow_y": null,
            "padding": null,
            "right": null,
            "top": null,
            "visibility": null,
            "width": null
          }
        }
      }
    }
  },
  "nbformat": 4,
  "nbformat_minor": 0
}