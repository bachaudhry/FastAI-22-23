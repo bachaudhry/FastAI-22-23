{
  "nbformat": 4,
  "nbformat_minor": 0,
  "metadata": {
    "colab": {
      "provenance": [],
      "machine_shape": "hm",
      "gpuType": "T4",
      "mount_file_id": "1GFmo7hkmEooZUi2Mv_3HsFK2WtVEoyU4",
      "authorship_tag": "ABX9TyNYbTHksevFFtsf0lGIYWuA",
      "include_colab_link": true
    },
    "kernelspec": {
      "name": "python3",
      "display_name": "Python 3"
    },
    "language_info": {
      "name": "python"
    },
    "accelerator": "GPU"
  },
  "cells": [
    {
      "cell_type": "markdown",
      "metadata": {
        "id": "view-in-github",
        "colab_type": "text"
      },
      "source": [
        "<a href=\"https://colab.research.google.com/github/bachaudhry/FastAI-22-23/blob/main/course_part_2/01_Introduction_to_Generative_Modeling.ipynb\" target=\"_parent\"><img src=\"https://colab.research.google.com/assets/colab-badge.svg\" alt=\"Open In Colab\"/></a>"
      ]
    },
    {
      "cell_type": "markdown",
      "source": [
        "# A Hands on Intro to Generative Modeling Using HF Diffusers."
      ],
      "metadata": {
        "id": "eWf8IkOxmHvR"
      }
    },
    {
      "cell_type": "markdown",
      "source": [
        "_Github's renderer tends to break with these output heavy notebooks. So, the versions saved here will have all outputs cleared._\n",
        "\n",
        "_In case I decide to retain outputs, then visit the [NB Viewer](https://nbviewer.org/github/bachaudhry/FastAI-22-23/blob/main/course_part_2/01_Introduction_to_Generative_Modeling.ipynb) link for the notebook."
      ],
      "metadata": {
        "id": "OhOfOFa-hj2-"
      }
    },
    {
      "cell_type": "code",
      "execution_count": null,
      "metadata": {
        "id": "HWN-jE3PMpBD"
      },
      "outputs": [],
      "source": [
        "!pip install -Uq diffusers transformers fastcore"
      ]
    },
    {
      "cell_type": "code",
      "source": [
        "import logging\n",
        "from pathlib import Path\n",
        "\n",
        "import matplotlib.pyplot as plt\n",
        "import torch\n",
        "from diffusers import StableDiffusionPipeline\n",
        "from fastcore.all import concat\n",
        "from huggingface_hub import notebook_login\n",
        "from PIL import Image\n",
        "\n",
        "logging.disable(logging.WARNING)\n",
        "\n",
        "torch.manual_seed(44)\n",
        "if not (Path.home()/'.cache/huggingface' / 'token').exists(): notebook_login()"
      ],
      "metadata": {
        "id": "gAa1iL_SmSyN"
      },
      "execution_count": null,
      "outputs": []
    },
    {
      "cell_type": "markdown",
      "source": [
        "## Setting Up the Stable Diffusion Pipeline"
      ],
      "metadata": {
        "id": "WdcLBW9jpd_M"
      }
    },
    {
      "cell_type": "code",
      "source": [
        "pipe = StableDiffusionPipeline.from_pretrained(\"CompVis/stable-diffusion-v1-4\",\n",
        "                                               variant=\"fp16\",\n",
        "                                               torch_dtype=torch.float16).to(\"cuda\")"
      ],
      "metadata": {
        "id": "JOVz0CClmS2e"
      },
      "execution_count": null,
      "outputs": []
    },
    {
      "cell_type": "code",
      "source": [
        "# Checking location of the model weights\n",
        "!ls ~/.cache/huggingface/hub"
      ],
      "metadata": {
        "id": "5N0H1Kw_mS6r"
      },
      "execution_count": null,
      "outputs": []
    },
    {
      "cell_type": "code",
      "source": [
        "# In case the GPU has insufficient memory\n",
        "# pipe.enable_attention_slicing()"
      ],
      "metadata": {
        "id": "3yo4uqtBmS-t"
      },
      "execution_count": null,
      "outputs": []
    },
    {
      "cell_type": "code",
      "source": [
        "# Testing first prompt\n",
        "prompt = \"a poster of a samurai on a racing motorbike\""
      ],
      "metadata": {
        "id": "a74ajQcTmTCr"
      },
      "execution_count": null,
      "outputs": []
    },
    {
      "cell_type": "code",
      "source": [
        "pipe(prompt).images[0]"
      ],
      "metadata": {
        "id": "S2Gw5pBxmTG3"
      },
      "execution_count": null,
      "outputs": []
    },
    {
      "cell_type": "code",
      "source": [
        "# Using different seed values\n",
        "torch.manual_seed(8161)\n",
        "pipe(prompt).images[0]"
      ],
      "metadata": {
        "id": "y6OLZXh3mTKl"
      },
      "execution_count": null,
      "outputs": []
    },
    {
      "cell_type": "markdown",
      "source": [
        "As diffusion models generate images from random noise after a series of steps, we can play around with the number of steps to see the effects on the model's outputs."
      ],
      "metadata": {
        "id": "4gKTSWLHhzZR"
      }
    },
    {
      "cell_type": "code",
      "source": [
        "# Taking the manual  seed setting from the last cell\n",
        "torch.manual_seed(8161)\n",
        "pipe(prompt, num_inference_steps=3).images[0]"
      ],
      "metadata": {
        "id": "dfu1-nawmTOo"
      },
      "execution_count": null,
      "outputs": []
    },
    {
      "cell_type": "code",
      "source": [
        "# Increase the number of steps to 10\n",
        "torch.manual_seed(8161)\n",
        "pipe(prompt, num_inference_steps=10).images[0]"
      ],
      "metadata": {
        "id": "35pis0e6mTS2"
      },
      "execution_count": null,
      "outputs": []
    },
    {
      "cell_type": "code",
      "source": [
        "# Increase the number of steps to 16\n",
        "torch.manual_seed(8161)\n",
        "pipe(prompt, num_inference_steps=16).images[0]"
      ],
      "metadata": {
        "id": "SiR-df1xmTXi"
      },
      "execution_count": null,
      "outputs": []
    },
    {
      "cell_type": "code",
      "source": [
        "# Let's take it up to 40\n",
        "torch.manual_seed(8161)\n",
        "pipe(prompt, num_inference_steps=40).images[0]"
      ],
      "metadata": {
        "id": "Vkj9P1cTik7x"
      },
      "execution_count": null,
      "outputs": []
    },
    {
      "cell_type": "code",
      "source": [
        "# Cranking to 100\n",
        "torch.manual_seed(8161)\n",
        "pipe(prompt, num_inference_steps=100).images[0]"
      ],
      "metadata": {
        "id": "aLWa96ZQitmN"
      },
      "execution_count": null,
      "outputs": []
    },
    {
      "cell_type": "markdown",
      "source": [
        "## Classifier Free Guidance\n",
        "\n",
        "This method is used to increase adherence of the outputs to the conditioning signal used in the prompts.\n",
        "\n",
        "Larger guidance settings increase adherence at the expense of diversity. The default setting is `7.5`"
      ],
      "metadata": {
        "id": "F5mf4JUCjMlK"
      }
    },
    {
      "cell_type": "code",
      "source": [
        "def image_grid(imgs, rows, cols):\n",
        "  w, h = imgs[0].size\n",
        "  grid = Image.new('RGB', size=(cols * w, rows * h))\n",
        "  for i, img in enumerate(imgs):\n",
        "    grid.paste(img, box=(i % cols * w, i // cols * h))\n",
        "  return grid"
      ],
      "metadata": {
        "id": "0eRBPapRi_VP"
      },
      "execution_count": null,
      "outputs": []
    },
    {
      "cell_type": "code",
      "source": [
        "# Testing guidance parameter settings\n",
        "num_rows, num_cols = 4, 4\n",
        "prompts = [prompt] * num_cols"
      ],
      "metadata": {
        "id": "eNP_c3nojtb9"
      },
      "execution_count": null,
      "outputs": []
    },
    {
      "cell_type": "code",
      "source": [
        "images = concat(pipe(prompts, guidance_scale=g).images for g in [1.1, 4, 10, 20])"
      ],
      "metadata": {
        "id": "W7DD1qFOkMr4"
      },
      "execution_count": null,
      "outputs": []
    },
    {
      "cell_type": "code",
      "source": [
        "image_grid(images, rows=num_rows, cols=num_cols)"
      ],
      "metadata": {
        "id": "iuDQSlUKkPOt"
      },
      "execution_count": null,
      "outputs": []
    },
    {
      "cell_type": "markdown",
      "source": [
        "## Negative Prompts"
      ],
      "metadata": {
        "id": "teDbi3_7lJyr"
      }
    },
    {
      "cell_type": "code",
      "source": [
        "torch.manual_seed(4353)\n",
        "prompt = \"Early morning in the Himalayas\"\n",
        "pipe(prompt).images[0]"
      ],
      "metadata": {
        "id": "3zNG9NRWkPVA"
      },
      "execution_count": null,
      "outputs": []
    },
    {
      "cell_type": "code",
      "source": [
        "torch.manual_seed(4353)\n",
        "pipe(prompt, negative_prompt=\"orange\").images[0]"
      ],
      "metadata": {
        "id": "MBmfMA_3kPbd"
      },
      "execution_count": null,
      "outputs": []
    },
    {
      "cell_type": "code",
      "source": [
        "torch.manual_seed(4353)\n",
        "pipe(prompt, negative_prompt=\"orange\", guidance_scale=15).images[0]"
      ],
      "metadata": {
        "id": "a-Bzln67kPh7"
      },
      "execution_count": null,
      "outputs": []
    },
    {
      "cell_type": "markdown",
      "source": [
        "## Image to Image"
      ],
      "metadata": {
        "id": "SibaK6XrpCHR"
      }
    },
    {
      "cell_type": "code",
      "source": [
        "from diffusers import StableDiffusionImg2ImgPipeline\n",
        "from fastdownload import FastDownload"
      ],
      "metadata": {
        "id": "462z1BbgmbLY"
      },
      "execution_count": null,
      "outputs": []
    },
    {
      "cell_type": "code",
      "source": [
        "pipe = StableDiffusionImg2ImgPipeline.from_pretrained(\n",
        "    \"CompVis/stable-diffusion-v1-4\",\n",
        "    variant=\"fp16\",\n",
        "    torch_dtype=torch.float16,\n",
        ").to(\"cuda\")"
      ],
      "metadata": {
        "id": "4niIBZbTpD3B"
      },
      "execution_count": null,
      "outputs": []
    },
    {
      "cell_type": "code",
      "source": [
        "# Using the lesson example\n",
        "p = FastDownload().download('https://cdn-uploads.huggingface.co/production/uploads/1664665907257-noauth.png')\n",
        "init_image = Image.open(p).convert(\"RGB\")\n",
        "init_image"
      ],
      "metadata": {
        "id": "jTdgt7hLpD8Q"
      },
      "execution_count": null,
      "outputs": []
    },
    {
      "cell_type": "code",
      "source": [
        "torch.manual_seed(1776)\n",
        "prompt = \"Dragon roaring at the moon, photorealistic 4K\"\n",
        "images = pipe(prompt=prompt, num_images_per_prompt=3,\n",
        "              image=init_image, strength=0.8, num_inference_steps=50).images\n",
        "image_grid(images, rows=1, cols=3)"
      ],
      "metadata": {
        "id": "9Oz0hHexqEKm"
      },
      "execution_count": null,
      "outputs": []
    },
    {
      "cell_type": "code",
      "source": [
        "# Selecting a generated image to seed the series of prompts\n",
        "init_image=images[2]\n",
        "\n",
        "torch.manual_seed(776)\n",
        "prompt = \"Comic book art of dragon roaring at the moon.\"\n",
        "images = pipe(prompt=prompt, num_images_per_prompt=3,\n",
        "              image=init_image, strength=1, num_inference_steps=100).images\n",
        "image_grid(images, rows=1, cols=3)"
      ],
      "metadata": {
        "id": "-J-rFYuJpEAE"
      },
      "execution_count": null,
      "outputs": []
    },
    {
      "cell_type": "markdown",
      "source": [
        "## Fine Tuning\n",
        "\n",
        "**Refer to Blog**"
      ],
      "metadata": {
        "id": "rAOmYE5BySmu"
      }
    },
    {
      "cell_type": "code",
      "source": [],
      "metadata": {
        "id": "siAoRayspEEk"
      },
      "execution_count": null,
      "outputs": []
    },
    {
      "cell_type": "markdown",
      "source": [
        "## Textual Inversion\n",
        "\n",
        "Using this technique, we can \"teach\" a new word to the text model and train its embeddings accordingly.\n",
        "\n",
        "The token vocabulary is updated, while the model weights are frozen - apart from the text encoder - and the generator is trained using a sample of representative images."
      ],
      "metadata": {
        "id": "rLPk-pOhzxQH"
      }
    },
    {
      "cell_type": "code",
      "source": [
        "# Using the embeddings from the above link\n",
        "pipe = StableDiffusionPipeline.from_pretrained(\"CompVis/stable-diffusion-v1-4\",\n",
        "                                               variant=\"fp16\",\n",
        "                                               torch_dtype=torch.float16)\n",
        "pipe = pipe.to(\"cuda\")"
      ],
      "metadata": {
        "id": "qsQlVaH3zzsI"
      },
      "execution_count": null,
      "outputs": []
    },
    {
      "cell_type": "code",
      "source": [
        "embeds_url = \"https://huggingface.co/sd-concepts-library/tim-sale/blob/main/learned_embeds.bin\"\n",
        "embeds_path = FastDownload().download(embeds_url)"
      ],
      "metadata": {
        "id": "yjo87Mtxz9dz"
      },
      "execution_count": null,
      "outputs": []
    },
    {
      "cell_type": "code",
      "source": [
        "embeds_dict = torch.load(str(embeds_path), map_location=\"cpu\")"
      ],
      "metadata": {
        "id": "lsfhMxw0z9iC"
      },
      "execution_count": null,
      "outputs": []
    },
    {
      "cell_type": "code",
      "source": [],
      "metadata": {
        "id": "PlxF9UYFz9m5"
      },
      "execution_count": null,
      "outputs": []
    }
  ]
}