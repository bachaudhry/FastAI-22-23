{
 "cells": [
  {
   "cell_type": "markdown",
   "id": "5a90cd78-6177-4c1d-b213-dd9daf3039d9",
   "metadata": {},
   "source": [
    "# Matrix Multiplication From the Foundations"
   ]
  },
  {
   "cell_type": "code",
   "execution_count": 1,
   "id": "28a33a8f-6ca5-4de1-b73a-ff9f02f8d87b",
   "metadata": {},
   "outputs": [],
   "source": [
    "from pathlib import Path\n",
    "import pickle, gzip, math, os, time, shutil, matplotlib as mpl, matplotlib.pyplot as plt"
   ]
  },
  {
   "cell_type": "markdown",
   "id": "70ba52d1-ac48-457d-a392-96f3abdef04f",
   "metadata": {},
   "source": [
    "## Download Data"
   ]
  },
  {
   "cell_type": "code",
   "execution_count": 2,
   "id": "88812f16-3150-4f07-a5da-497874a6342c",
   "metadata": {},
   "outputs": [],
   "source": [
    "# Downloading the MNIST dataset\n",
    "MNIST_URL = 'https://github.com/mnielsen/neural-networks-and-deep-learning/blob/master/data/mnist.pkl.gz?raw=true'\n",
    "path_data = Path('data')\n",
    "path_data.mkdir(exist_ok=True)\n",
    "path_gz = path_data/'mnist.pkl.gz'"
   ]
  },
  {
   "cell_type": "code",
   "execution_count": 3,
   "id": "06f1c049-0fa7-4fa2-9424-70e03d73040b",
   "metadata": {},
   "outputs": [],
   "source": [
    "from urllib.request import urlretrieve\n",
    "if not path_gz.exists(): urlretrieve(MNIST_URL, path_gz)"
   ]
  },
  {
   "cell_type": "code",
   "execution_count": 4,
   "id": "196aaa6f-cef8-4bbd-ab6a-14d7bd7f3faf",
   "metadata": {},
   "outputs": [
    {
     "name": "stdout",
     "output_type": "stream",
     "text": [
      "total 16656\n",
      "-rw-r--r-- 1 bchaudhry bchaudhry 17051982 May 16 17:55 mnist.pkl.gz\n"
     ]
    }
   ],
   "source": [
    "# Double checking the location of download\n",
    "!ls -l data"
   ]
  },
  {
   "cell_type": "code",
   "execution_count": 5,
   "id": "abfb7f96-e870-4275-8050-72a5da31acf4",
   "metadata": {},
   "outputs": [],
   "source": [
    "# Loading the data as a tuple of tuples\n",
    "with gzip.open(path_gz, 'rb') as f:\n",
    "    ((x_train, y_train), (x_valid, y_valid), _) = pickle.load(f, encoding='latin-1')"
   ]
  },
  {
   "cell_type": "code",
   "execution_count": 6,
   "id": "a63318f6-e2ad-497a-971a-8e3424cc4b25",
   "metadata": {},
   "outputs": [
    {
     "data": {
      "text/plain": [
       "((50000, 784), (50000,), (10000, 784), (10000,))"
      ]
     },
     "execution_count": 6,
     "metadata": {},
     "output_type": "execute_result"
    }
   ],
   "source": [
    "x_train.shape, y_train.shape, x_valid.shape, y_valid.shape"
   ]
  },
  {
   "cell_type": "markdown",
   "id": "6d5986c3-0c26-4ee1-a31e-61d48a684ea2",
   "metadata": {},
   "source": [
    "Since we aren't allowed to use Numpy, Pandas, PyTorch this early on, we'll have to work with the standard Python toolkit."
   ]
  },
  {
   "cell_type": "code",
   "execution_count": 7,
   "id": "33748d2c-6812-4217-9099-02f628a7c2d4",
   "metadata": {},
   "outputs": [
    {
     "data": {
      "text/plain": [
       "[0.0,\n",
       " 0.0,\n",
       " 0.0,\n",
       " 0.19140625,\n",
       " 0.9296875,\n",
       " 0.98828125,\n",
       " 0.98828125,\n",
       " 0.98828125,\n",
       " 0.98828125,\n",
       " 0.98828125,\n",
       " 0.98828125,\n",
       " 0.98828125,\n",
       " 0.98828125,\n",
       " 0.98046875,\n",
       " 0.36328125,\n",
       " 0.3203125,\n",
       " 0.3203125,\n",
       " 0.21875,\n",
       " 0.15234375,\n",
       " 0.0,\n",
       " 0.0,\n",
       " 0.0]"
      ]
     },
     "execution_count": 7,
     "metadata": {},
     "output_type": "execute_result"
    }
   ],
   "source": [
    "lst_1 = list(x_train[0])\n",
    "vals = lst_1[200:222]\n",
    "vals"
   ]
  },
  {
   "cell_type": "code",
   "execution_count": 8,
   "id": "bc056d03-60c3-460c-b982-5f11b0d0c34f",
   "metadata": {},
   "outputs": [
    {
     "data": {
      "text/plain": [
       "784"
      ]
     },
     "execution_count": 8,
     "metadata": {},
     "output_type": "execute_result"
    }
   ],
   "source": [
    "len(lst_1)"
   ]
  },
  {
   "cell_type": "markdown",
   "id": "46e072bf-00b6-4968-a571-16690d9ebbb9",
   "metadata": {},
   "source": [
    "Since we can't work with matrices at the moment, we will need to convert our list of 784 elements into lists of 28x28. To do that, we can use `chunks`"
   ]
  },
  {
   "cell_type": "code",
   "execution_count": 9,
   "id": "2561b7c6-f66f-4872-bc4f-8ae50d29bfa7",
   "metadata": {},
   "outputs": [],
   "source": [
    "# Creating a function for chunks\n",
    "def chunks(x, sz):\n",
    "    # Loop through values from 0 to length of the list based on size\n",
    "    # Yield(iterator) allows us to keep returning values till all elements in the\n",
    "    # input have finished.\n",
    "    for i in range(0, len(x), sz): yield x[i:i + sz]"
   ]
  },
  {
   "cell_type": "code",
   "execution_count": 10,
   "id": "163f7b56-da5f-45bb-92e6-ea7fd852e281",
   "metadata": {},
   "outputs": [
    {
     "data": {
      "text/plain": [
       "[[0.0, 0.0, 0.0, 0.19140625, 0.9296875],\n",
       " [0.98828125, 0.98828125, 0.98828125, 0.98828125, 0.98828125],\n",
       " [0.98828125, 0.98828125, 0.98828125, 0.98046875, 0.36328125],\n",
       " [0.3203125, 0.3203125, 0.21875, 0.15234375, 0.0],\n",
       " [0.0, 0.0]]"
      ]
     },
     "execution_count": 10,
     "metadata": {},
     "output_type": "execute_result"
    }
   ],
   "source": [
    "list(chunks(vals, 5))"
   ]
  },
  {
   "cell_type": "code",
   "execution_count": 11,
   "id": "aa68d237-e29f-48ea-9fd7-199edb1833b4",
   "metadata": {},
   "outputs": [
    {
     "data": {
      "image/png": "[encoded data removed]",
      "text/plain": [
       "<Figure size 640x480 with 1 Axes>"
      ]
     },
     "metadata": {},
     "output_type": "display_data"
    }
   ],
   "source": [
    "mpl.rcParams['image.cmap'] = 'gray'\n",
    "plt.imshow(list(chunks(lst_1, 28)));"
   ]
  },
  {
   "cell_type": "markdown",
   "id": "d9393fe5-de25-4d1c-889e-87a32044bd4e",
   "metadata": {},
   "source": [
    "We can continue working with iterators using the library `itertools`"
   ]
  },
  {
   "cell_type": "code",
   "execution_count": 12,
   "id": "2c92eb68-caa5-41aa-b955-2a1ccbc33f74",
   "metadata": {},
   "outputs": [],
   "source": [
    "from itertools import islice"
   ]
  },
  {
   "cell_type": "code",
   "execution_count": 13,
   "id": "151f32a5-9bd5-41fc-ae22-03823f1d925c",
   "metadata": {},
   "outputs": [
    {
     "data": {
      "text/plain": [
       "<itertools.islice at 0x7f80e0dece50>"
      ]
     },
     "execution_count": 13,
     "metadata": {},
     "output_type": "execute_result"
    }
   ],
   "source": [
    "it = iter(vals)\n",
    "islice(it, 5)"
   ]
  },
  {
   "cell_type": "markdown",
   "id": "3f916e57-f5ac-458f-b777-bf314175aa14",
   "metadata": {},
   "source": [
    "`islice` allows us to move through our data chunks based on the step value. Once there is no more data remaining in the chunks, it will return an empty list."
   ]
  },
  {
   "cell_type": "code",
   "execution_count": 14,
   "id": "4a2f1e07-e4d6-43dd-b0e9-b89a037b3938",
   "metadata": {},
   "outputs": [
    {
     "data": {
      "text/plain": [
       "[0.0, 0.0, 0.0, 0.19140625, 0.9296875]"
      ]
     },
     "execution_count": 14,
     "metadata": {},
     "output_type": "execute_result"
    }
   ],
   "source": [
    "list(islice(it, 5))"
   ]
  },
  {
   "cell_type": "code",
   "execution_count": 15,
   "id": "54289bdc-4741-4d57-a08e-f500cc470819",
   "metadata": {},
   "outputs": [
    {
     "data": {
      "text/plain": [
       "[0.98828125, 0.98828125, 0.98828125, 0.98828125, 0.98828125]"
      ]
     },
     "execution_count": 15,
     "metadata": {},
     "output_type": "execute_result"
    }
   ],
   "source": [
    "list(islice(it, 5))"
   ]
  },
  {
   "cell_type": "code",
   "execution_count": 16,
   "id": "42bfab0d-1ef9-4f93-a6ff-3cf356448140",
   "metadata": {},
   "outputs": [
    {
     "data": {
      "text/plain": [
       "[0.98828125, 0.98828125, 0.98828125, 0.98046875, 0.36328125]"
      ]
     },
     "execution_count": 16,
     "metadata": {},
     "output_type": "execute_result"
    }
   ],
   "source": [
    "list(islice(it, 5))"
   ]
  },
  {
   "cell_type": "code",
   "execution_count": 17,
   "id": "d7c1f7ce-6045-4a9a-b299-ee41ce41c16a",
   "metadata": {},
   "outputs": [
    {
     "data": {
      "text/plain": [
       "[0.3203125, 0.3203125, 0.21875, 0.15234375, 0.0]"
      ]
     },
     "execution_count": 17,
     "metadata": {},
     "output_type": "execute_result"
    }
   ],
   "source": [
    "list(islice(it, 5))"
   ]
  },
  {
   "cell_type": "code",
   "execution_count": 18,
   "id": "bc0cfab7-d8c2-43f0-8c77-d942bf6e06ea",
   "metadata": {},
   "outputs": [
    {
     "data": {
      "text/plain": [
       "[0.0, 0.0]"
      ]
     },
     "execution_count": 18,
     "metadata": {},
     "output_type": "execute_result"
    }
   ],
   "source": [
    "list(islice(it, 5))"
   ]
  },
  {
   "cell_type": "code",
   "execution_count": 19,
   "id": "1352d47f-6f5a-47a0-b891-281affd5dc9a",
   "metadata": {},
   "outputs": [
    {
     "data": {
      "text/plain": [
       "[]"
      ]
     },
     "execution_count": 19,
     "metadata": {},
     "output_type": "execute_result"
    }
   ],
   "source": [
    "list(islice(it, 5))"
   ]
  },
  {
   "cell_type": "code",
   "execution_count": 20,
   "id": "f6f5ec8f-1ee7-4f96-a9c0-2e4cea0331d7",
   "metadata": {},
   "outputs": [],
   "source": [
    "it = iter(lst_1)\n",
    "img = list(iter(lambda: list(islice(it, 28)), []))"
   ]
  },
  {
   "cell_type": "code",
   "execution_count": 21,
   "id": "ff29387e-a2b7-4f36-bd6e-3bac278760a5",
   "metadata": {},
   "outputs": [
    {
     "data": {
      "image/png": "[encoded data removed]",
      "text/plain": [
       "<Figure size 640x480 with 1 Axes>"
      ]
     },
     "metadata": {},
     "output_type": "display_data"
    }
   ],
   "source": [
    "plt.imshow(img);"
   ]
  },
  {
   "cell_type": "markdown",
   "id": "022dd602-1bda-43ae-9c9c-96ccef6f7d88",
   "metadata": {},
   "source": [
    "## Creating a Matrix and Tensor"
   ]
  },
  {
   "cell_type": "code",
   "execution_count": 22,
   "id": "d1675681-58a0-4054-a0c5-00259d44a075",
   "metadata": {},
   "outputs": [
    {
     "data": {
      "text/plain": [
       "0.98828125"
      ]
     },
     "execution_count": 22,
     "metadata": {},
     "output_type": "execute_result"
    }
   ],
   "source": [
    "# Indexing into an image for demo purposes\n",
    "img[20][15]"
   ]
  },
  {
   "cell_type": "code",
   "execution_count": 23,
   "id": "927a3167-8450-4b17-871e-b27bbfe6b52e",
   "metadata": {},
   "outputs": [],
   "source": [
    "# Let's create a class to work with matrices\n",
    "# At first, this will only return the first and second indeces of an image\n",
    "class Matrix:\n",
    "    def __init__(self, xs): self.xs = xs\n",
    "    def __getitem__(self, idxs): return self.xs[idxs[0]][idxs[1]]"
   ]
  },
  {
   "cell_type": "code",
   "execution_count": 24,
   "id": "5fe754d4-79e7-4980-938d-fa008a8b3b90",
   "metadata": {},
   "outputs": [
    {
     "data": {
      "text/plain": [
       "0.98828125"
      ]
     },
     "execution_count": 24,
     "metadata": {},
     "output_type": "execute_result"
    }
   ],
   "source": [
    "# Testing\n",
    "m = Matrix(img)\n",
    "m[20, 15]"
   ]
  },
  {
   "cell_type": "markdown",
   "id": "a61295b9-5668-43ce-9d45-588be3258c5b",
   "metadata": {},
   "source": [
    "We are now allowed to use the PyTorch `tensor` feature."
   ]
  },
  {
   "cell_type": "code",
   "execution_count": 26,
   "id": "4419daa6-6600-4193-95d9-f71614ab0b84",
   "metadata": {},
   "outputs": [],
   "source": [
    "from torch import tensor"
   ]
  },
  {
   "cell_type": "code",
   "execution_count": 28,
   "id": "e2318587-bed0-4387-83a3-e144c1d0752c",
   "metadata": {},
   "outputs": [
    {
     "data": {
      "text/plain": [
       "torch.Size([4])"
      ]
     },
     "execution_count": 28,
     "metadata": {},
     "output_type": "execute_result"
    }
   ],
   "source": [
    "# Testing\n",
    "tensor([1,2,3,4])"
   ]
  },
  {
   "cell_type": "code",
   "execution_count": 33,
   "id": "fa2a1cc3-cac7-4772-8728-55c718802003",
   "metadata": {},
   "outputs": [
    {
     "data": {
      "text/plain": [
       "(torch.Size([28, 28]), tensor(0.9883))"
      ]
     },
     "execution_count": 33,
     "metadata": {},
     "output_type": "execute_result"
    }
   ],
   "source": [
    "# Loading image to Tensor\n",
    "tens = tensor(img)\n",
    "tens.shape, tens[20, 15]"
   ]
  },
  {
   "cell_type": "code",
   "execution_count": 34,
   "id": "59b6ce7a-23b1-49d0-9e15-356e7dcb3adf",
   "metadata": {},
   "outputs": [
    {
     "data": {
      "text/plain": [
       "torch.Size([50000, 784])"
      ]
     },
     "execution_count": 34,
     "metadata": {},
     "output_type": "execute_result"
    }
   ],
   "source": [
    "# Mapping train and valid to a tensor\n",
    "x_train, y_train, x_valid, y_valid = map(tensor, (x_train, y_train, x_valid, y_valid))\n",
    "x_train.shape"
   ]
  },
  {
   "cell_type": "code",
   "execution_count": 42,
   "id": "555ad4ed-8977-4d61-9c8c-d539b0725781",
   "metadata": {},
   "outputs": [
    {
     "data": {
      "text/plain": [
       "torch.Size([50000, 28, 28])"
      ]
     },
     "execution_count": 42,
     "metadata": {},
     "output_type": "execute_result"
    }
   ],
   "source": [
    "imgs = x_train.reshape((-1, 28, 28))\n",
    "imgs.shape"
   ]
  },
  {
   "cell_type": "code",
   "execution_count": 43,
   "id": "51498316-fad1-48e2-9577-bfe152bb879d",
   "metadata": {},
   "outputs": [
    {
     "data": {
      "image/png": "[encoded data removed]",
      "text/plain": [
       "<Figure size 640x480 with 1 Axes>"
      ]
     },
     "metadata": {},
     "output_type": "display_data"
    }
   ],
   "source": [
    "plt.imshow(imgs[0]);"
   ]
  },
  {
   "cell_type": "code",
   "execution_count": 44,
   "id": "05c9a3f7-d5bb-47d3-bb4f-d20f9f3a32c9",
   "metadata": {},
   "outputs": [
    {
     "data": {
      "text/plain": [
       "tensor(0.9883)"
      ]
     },
     "execution_count": 44,
     "metadata": {},
     "output_type": "execute_result"
    }
   ],
   "source": [
    "# Indexing into our tensor\n",
    "imgs[0, 20, 15]"
   ]
  },
  {
   "cell_type": "code",
   "execution_count": 48,
   "id": "0f1b6db0-a1f4-46b0-9fcf-7cd7a89025cc",
   "metadata": {},
   "outputs": [
    {
     "data": {
      "text/plain": [
       "(tensor([5, 0, 4,  ..., 8, 4, 8]), torch.Size([50000]))"
      ]
     },
     "execution_count": 48,
     "metadata": {},
     "output_type": "execute_result"
    }
   ],
   "source": [
    "num_imgs, cols = x_train.shape\n",
    "y_train, y_train.shape"
   ]
  },
  {
   "cell_type": "code",
   "execution_count": 51,
   "id": "e5af6ab1-0fc6-4a69-bc14-a28130201aa3",
   "metadata": {},
   "outputs": [
    {
     "name": "stdout",
     "output_type": "stream",
     "text": [
      "CPU times: user 150 ms, sys: 0 ns, total: 150 ms\n",
      "Wall time: 148 ms\n"
     ]
    },
    {
     "data": {
      "text/plain": [
       "(tensor(0), tensor(9))"
      ]
     },
     "execution_count": 51,
     "metadata": {},
     "output_type": "execute_result"
    }
   ],
   "source": [
    "%time min(y_train), max(y_train)"
   ]
  },
  {
   "cell_type": "code",
   "execution_count": 52,
   "id": "4f763068-39c3-4310-9eeb-f0ee6d2e53f1",
   "metadata": {},
   "outputs": [
    {
     "name": "stdout",
     "output_type": "stream",
     "text": [
      "CPU times: user 7.5 ms, sys: 627 µs, total: 8.13 ms\n",
      "Wall time: 829 µs\n"
     ]
    },
    {
     "data": {
      "text/plain": [
       "(tensor(0), tensor(9))"
      ]
     },
     "execution_count": 52,
     "metadata": {},
     "output_type": "execute_result"
    }
   ],
   "source": [
    "%time y_train.min(), y_train.max()"
   ]
  },
  {
   "cell_type": "markdown",
   "id": "644e183b-5064-43bb-81e1-c463bd1789ac",
   "metadata": {},
   "source": [
    "## On Random Numbers\n",
    "\n",
    "Although we can use the random number generator in Python, we will opt to do it the hard way. \n",
    "\n",
    "This is based on the **Wichmann Hill** algorithm."
   ]
  },
  {
   "cell_type": "code",
   "execution_count": 53,
   "id": "38c8ff13-cdc4-4e36-8e42-e82781447fd0",
   "metadata": {},
   "outputs": [],
   "source": [
    "# Creating our custom pseudo random number generator\n",
    "rnd_state = None\n",
    "def seed(a):\n",
    "    global rnd_state\n",
    "    a, x = divmod(a, 30268)\n",
    "    a, y = divmod(a, 30306)\n",
    "    a, z = divmod(a, 30322)\n",
    "    rnd_state = int(x) + 1, int(y) + 1, int(z) + 1"
   ]
  },
  {
   "cell_type": "code",
   "execution_count": 54,
   "id": "975b1d82-2b8a-481d-ae72-f6c8ae5087db",
   "metadata": {},
   "outputs": [
    {
     "data": {
      "text/plain": [
       "(15508, 3633, 9043)"
      ]
     },
     "execution_count": 54,
     "metadata": {},
     "output_type": "execute_result"
    }
   ],
   "source": [
    "# Testing\n",
    "seed(91737649164947)\n",
    "rnd_state"
   ]
  },
  {
   "cell_type": "code",
   "execution_count": 55,
   "id": "9513fefa-738c-422e-abb6-78fe88a618f1",
   "metadata": {},
   "outputs": [],
   "source": [
    "def rand():\n",
    "    global rnd_state\n",
    "    x, y, z = rnd_state\n",
    "    x = (171 * x) % 30269\n",
    "    y = (172 * y) % 30307\n",
    "    z = (170 * z) % 30323\n",
    "    rnd_state = x, y, z\n",
    "    return (x / 30269 + y / 30307 + z / 30323) % 1.0"
   ]
  },
  {
   "cell_type": "code",
   "execution_count": 56,
   "id": "ddb044d8-0315-4be7-9c29-551c98151297",
   "metadata": {},
   "outputs": [
    {
     "data": {
      "text/plain": [
       "(0.9260572151726816, 0.2761706728795734, 0.9273684118432157)"
      ]
     },
     "execution_count": 56,
     "metadata": {},
     "output_type": "execute_result"
    }
   ],
   "source": [
    "rand(), rand(), rand()"
   ]
  },
  {
   "cell_type": "code",
   "execution_count": 58,
   "id": "ec5a1797-8bd0-41c3-a5e1-c1c1180a3aa6",
   "metadata": {},
   "outputs": [
    {
     "name": "stdout",
     "output_type": "stream",
     "text": [
      "In parent: 0.9768276103697152\n",
      "In child: 0.9768276103697152\n"
     ]
    }
   ],
   "source": [
    "# Fork's a process, which returns 0 in the child and the child's process id\n",
    "# in the parent. \n",
    "# Right now, we are seeing similar random numbers because both the parent and the child\n",
    "# are copies of each other.\n",
    "if os.fork(): \n",
    "    print(f'In parent: {rand()}')\n",
    "else:\n",
    "    print(f'In child: {rand()}')\n",
    "    os._exit(os.EX_OK)"
   ]
  },
  {
   "cell_type": "markdown",
   "id": "32a5fdee-162f-425e-9198-460d7864887c",
   "metadata": {},
   "source": [
    "Let's see whether our go to libraries correctly re-initialize the random stream in the forked versions."
   ]
  },
  {
   "cell_type": "code",
   "execution_count": 59,
   "id": "b0941722-99ff-4aa7-b639-a975c446ac99",
   "metadata": {},
   "outputs": [
    {
     "name": "stdout",
     "output_type": "stream",
     "text": [
      "In parent: tensor([0.7244])\n",
      "In child: tensor([0.7244])\n"
     ]
    }
   ],
   "source": [
    "# Checking PyTorch's version.\n",
    "if os.fork(): \n",
    "    print(f'In parent: {torch.rand(1)}')\n",
    "else:\n",
    "    print(f'In child: {torch.rand(1)}')\n",
    "    os._exit(os.EX_OK)"
   ]
  },
  {
   "cell_type": "code",
   "execution_count": 60,
   "id": "f61bc88d-d999-486b-9e2c-defa0a6848db",
   "metadata": {},
   "outputs": [
    {
     "name": "stdout",
     "output_type": "stream",
     "text": [
      "In parent: [0.76058175]\n",
      "In child: [0.76058175]\n"
     ]
    }
   ],
   "source": [
    "# Checking Numpy\n",
    "import numpy as np\n",
    "if os.fork(): \n",
    "    print(f'In parent: {np.random.rand(1)}')\n",
    "else:\n",
    "    print(f'In child: {np.random.rand(1)}')\n",
    "    os._exit(os.EX_OK)"
   ]
  },
  {
   "cell_type": "code",
   "execution_count": 62,
   "id": "3f1076e6-cbf8-4284-b7b4-de891708a2b0",
   "metadata": {},
   "outputs": [
    {
     "name": "stdout",
     "output_type": "stream",
     "text": [
      "In parent: 0.5011186988693281\n",
      "In child: 0.15813953603163355\n"
     ]
    }
   ],
   "source": [
    "# Checking base Python\n",
    "from random import random\n",
    "if os.fork(): \n",
    "    print(f'In parent: {random()}')\n",
    "else:\n",
    "    print(f'In child: {random()}')\n",
    "    os._exit(os.EX_OK)"
   ]
  },
  {
   "cell_type": "markdown",
   "id": "a44d78fc-c9fa-4c7c-99d9-c07b8242ac79",
   "metadata": {},
   "source": [
    "Python's implementation is the only one that gets it right!!"
   ]
  },
  {
   "cell_type": "code",
   "execution_count": 63,
   "id": "596215f6-0d65-49e9-ae0e-6112df2cf7a9",
   "metadata": {},
   "outputs": [
    {
     "data": {
      "image/png": "[encoded data removed]",
      "text/plain": [
       "<Figure size 640x480 with 1 Axes>"
      ]
     },
     "metadata": {},
     "output_type": "display_data"
    }
   ],
   "source": [
    "plt.plot([rand() for _ in range(100)]);"
   ]
  },
  {
   "cell_type": "code",
   "execution_count": 65,
   "id": "67c6ac60-6211-4304-adc3-c029448132d7",
   "metadata": {},
   "outputs": [
    {
     "data": {
      "image/png": "[encoded data removed]",
      "text/plain": [
       "<Figure size 640x480 with 1 Axes>"
      ]
     },
     "metadata": {},
     "output_type": "display_data"
    }
   ],
   "source": [
    "plt.hist([rand() for _ in range(10000)]);"
   ]
  },
  {
   "cell_type": "code",
   "execution_count": 66,
   "id": "58a083e7-0258-40af-ab5a-f51dda74daf5",
   "metadata": {},
   "outputs": [
    {
     "name": "stdout",
     "output_type": "stream",
     "text": [
      "4.43 ms ± 866 µs per loop (mean ± std. dev. of 7 runs, 10 loops each)\n"
     ]
    }
   ],
   "source": [
    "%timeit -n 10 list(chunks([rand() for _ in range(7840)], 10))"
   ]
  },
  {
   "cell_type": "code",
   "execution_count": 67,
   "id": "5ce6c701-0c34-4334-ad7a-84026de2c69b",
   "metadata": {},
   "outputs": [
    {
     "name": "stdout",
     "output_type": "stream",
     "text": [
      "The slowest run took 16.10 times longer than the fastest. This could mean that an intermediate result is being cached.\n",
      "100 µs ± 166 µs per loop (mean ± std. dev. of 7 runs, 10 loops each)\n"
     ]
    }
   ],
   "source": [
    "%timeit -n 10 torch.randn(784, 10)"
   ]
  },
  {
   "cell_type": "code",
   "execution_count": null,
   "id": "be20637b-5351-4de0-bd10-f2848013419a",
   "metadata": {},
   "outputs": [],
   "source": []
  }
 ],
 "metadata": {
  "kernelspec": {
   "display_name": "Python 3 (ipykernel)",
   "language": "python",
   "name": "python3"
  },
  "language_info": {
   "codemirror_mode": {
    "name": "ipython",
    "version": 3
   },
   "file_extension": ".py",
   "mimetype": "text/x-python",
   "name": "python",
   "nbconvert_exporter": "python",
   "pygments_lexer": "ipython3",
   "version": "3.10.14"
  }
 },
 "nbformat": 4,
 "nbformat_minor": 5
}
