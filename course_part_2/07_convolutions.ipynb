{
 "cells": [
  {
   "cell_type": "markdown",
   "id": "7d237ac5-262a-416c-8fd4-d4d52e99960b",
   "metadata": {},
   "source": [
    "# **Diving Into Convolutions**"
   ]
  },
  {
   "cell_type": "code",
   "execution_count": 4,
   "id": "b2867b73-b15c-4f11-9253-08609318d607",
   "metadata": {},
   "outputs": [],
   "source": [
    "import numpy as np\n",
    "import pandas as pd\n",
    "import matplotlib as mpl\n",
    "import matplotlib.pyplot as plt\n",
    "import pickle, gzip, math, os, time, shutil\n",
    "\n",
    "import torch\n",
    "from torch import nn, tensor\n",
    "from torch .utils.data import default_collate, DataLoader\n",
    "from typing import Mapping\n",
    "from pathlib import Path\n",
    "\n",
    "from miniai.training import * # Modules have already been developed in previous NBs\n",
    "from miniai.datasets import * # and, reside in separate Github repo.\n",
    "\n",
    "mpl.rcParams['image.cmap'] = 'gray'"
   ]
  },
  {
   "cell_type": "code",
   "execution_count": 5,
   "id": "c5414573-eb49-4961-928c-8ba901646cec",
   "metadata": {},
   "outputs": [],
   "source": [
    "# Data path, same as earlier NBs\n",
    "path_data = Path('data')\n",
    "path_gz = path_data/'mnist.pkl.gz'\n",
    "\n",
    "with gzip.open(path_gz, 'rb') as f:\n",
    "    ((x_train, y_train), (x_valid, y_valid), _) = pickle.load(f, encoding='latin-1')\n",
    "\n",
    "x_train, y_train, x_valid, y_valid= map(tensor, [x_train, y_train, x_valid, y_valid])"
   ]
  },
  {
   "cell_type": "markdown",
   "id": "25880835-8777-48a5-91a0-8759796de2e0",
   "metadata": {},
   "source": [
    "## **A Primer on Convolutions** (to do - prose)"
   ]
  },
  {
   "cell_type": "code",
   "execution_count": null,
   "id": "40ddfd0e-f6df-4dc6-8da5-65d438f7897e",
   "metadata": {},
   "outputs": [],
   "source": []
  },
  {
   "cell_type": "code",
   "execution_count": 3,
   "id": "a6176385-f985-42aa-bfb2-d5031565eabd",
   "metadata": {},
   "outputs": [
    {
     "data": {
      "text/plain": [
       "(torch.Size([50000, 784]),\n",
       " torch.Size([50000]),\n",
       " torch.Size([10000, 784]),\n",
       " torch.Size([10000]))"
      ]
     },
     "execution_count": 3,
     "metadata": {},
     "output_type": "execute_result"
    }
   ],
   "source": [
    "x_train.shape, y_train.shape, x_valid.shape, y_valid.shape"
   ]
  },
  {
   "cell_type": "code",
   "execution_count": 10,
   "id": "34748f06-5347-479f-97fb-91135abc33d9",
   "metadata": {},
   "outputs": [],
   "source": [
    "# Storing training and validation datasets in tensors with new shapes to match the PIL form.\n",
    "x_imgs = x_train.view(-1, 28, 28)\n",
    "xv_imgs = x_valid.view(-1, 28, 28)"
   ]
  },
  {
   "cell_type": "code",
   "execution_count": 13,
   "id": "96a906c4-68a7-4f1c-a2d0-61b67d51a963",
   "metadata": {},
   "outputs": [],
   "source": [
    "# Set output resolution\n",
    "mpl.rcParams['figure.dpi'] = 40"
   ]
  },
  {
   "cell_type": "code",
   "execution_count": 14,
   "id": "baf7d9e5-164c-45e9-8026-52d331b76b6d",
   "metadata": {},
   "outputs": [
    {
     "data": {
      "image/png": "[encoded data removed]",
      "text/plain": [
       "<Figure size 256x192 with 1 Axes>"
      ]
     },
     "metadata": {},
     "output_type": "display_data"
    }
   ],
   "source": [
    "# Load a single image\n",
    "im3 = x_imgs[7]\n",
    "# Using the same show_image() function we created in nb_06\n",
    "show_image(im3);"
   ]
  },
  {
   "cell_type": "markdown",
   "id": "22b4600a-e3cc-4535-89b2-63ff34d2dc5e",
   "metadata": {},
   "source": [
    "Let's create a 3x3 kernel to demonstrate how convolutions work.\n",
    "\n",
    "For reference, [Wikipedia](https://en.wikipedia.org/wiki/Kernel_method) defines a Kernel method as: \n",
    "\n",
    "> Kernel methods owe their name to the use of kernel functions, which enable them to operate in a high-dimensional, implicit feature space without ever computing the coordinates of the data in that space, but rather by simply computing the inner products between the images of all pairs of data in the feature space. This operation is often computationally cheaper than the explicit computation of the coordinates. This approach is called the \"kernel trick\". Kernel functions have been introduced for sequence data, graphs, text, images, as well as vectors.\n",
    "\n"
   ]
  },
  {
   "cell_type": "code",
   "execution_count": 15,
   "id": "152c9ad8-7c33-45c3-b79c-d52ce0a67197",
   "metadata": {},
   "outputs": [
    {
     "data": {
      "text/plain": [
       "tensor([[-1., -1., -1.],\n",
       "        [ 0.,  0.,  0.],\n",
       "        [ 1.,  1.,  1.]])"
      ]
     },
     "execution_count": 15,
     "metadata": {},
     "output_type": "execute_result"
    }
   ],
   "source": [
    "# Kernel to find / calculate values of top edges in image files\n",
    "top_edge = tensor([[-1, -1, -1],\n",
    "                   [ 0,  0,  0],\n",
    "                   [ 1,  1,  1,]]).float()\n",
    "top_edge"
   ]
  },
  {
   "cell_type": "code",
   "execution_count": 17,
   "id": "71e274c2-165f-4c60-b5b7-11081a7c6317",
   "metadata": {},
   "outputs": [
    {
     "data": {
      "image/png": "[encoded data removed]",
      "text/plain": [
       "<Figure size 256x192 with 1 Axes>"
      ]
     },
     "metadata": {},
     "output_type": "display_data"
    }
   ],
   "source": [
    "# Kernels can be visualized as well\n",
    "show_image(top_edge, noframe=False);"
   ]
  },
  {
   "cell_type": "markdown",
   "id": "d80f34e9-f58e-4dc9-8f22-f35f5bf28ee5",
   "metadata": {},
   "source": [
    "Running a dot product on any window in our images, using this specific kernel can be illustrated as follows:\n",
    "\n",
    "Imagine if ${A}$ is a window in any image:\n",
    "\n",
    "$$\n",
    "\\mathbf{A} = \\begin{bmatrix}\n",
    "a_1 & a_2 & a_3 \\\\\n",
    "a_4 & a_5 & a_6 \\\\\n",
    "a_7 & a_8 & a_9\n",
    "\\end{bmatrix}\n",
    "$$\n",
    "\n",
    "and ${B}$ is the kernel matrix:\n",
    "\n",
    "$$\n",
    "\\mathbf{B} = \\begin{bmatrix}\n",
    "-1 & -1 & -1 \\\\\n",
    "0 & 0 & 0 \\\\\n",
    "1 & 1 & 1\n",
    "\\end{bmatrix}\n",
    "$$\n",
    "\n",
    "The end result will be based on the following values:\n",
    "\n",
    "$-a_1$  $-a_2$ $-a_3$ $a_7$ $a_8$ $+a_9$\n",
    "\n",
    "\n",
    "\n",
    "\n"
   ]
  },
  {
   "cell_type": "code",
   "execution_count": 23,
   "id": "54135c6b-ada6-483d-b718-d64807ab0272",
   "metadata": {},
   "outputs": [
    {
     "data": {
      "text/html": [
       "<style type=\"text/css\">\n",
       "#T_b42a8_row0_col0, #T_b42a8_row0_col1, #T_b42a8_row0_col2, #T_b42a8_row0_col3, #T_b42a8_row0_col4, #T_b42a8_row0_col5, #T_b42a8_row0_col6, #T_b42a8_row0_col7, #T_b42a8_row0_col8, #T_b42a8_row0_col9, #T_b42a8_row0_col10, #T_b42a8_row0_col11, #T_b42a8_row0_col12, #T_b42a8_row0_col13, #T_b42a8_row0_col14, #T_b42a8_row0_col15, #T_b42a8_row0_col16, #T_b42a8_row0_col17, #T_b42a8_row0_col18, #T_b42a8_row0_col19, #T_b42a8_row0_col20, #T_b42a8_row0_col21, #T_b42a8_row0_col22, #T_b42a8_row1_col0, #T_b42a8_row1_col1, #T_b42a8_row1_col2, #T_b42a8_row1_col3, #T_b42a8_row1_col4, #T_b42a8_row1_col5, #T_b42a8_row1_col6, #T_b42a8_row1_col7, #T_b42a8_row1_col8, #T_b42a8_row1_col9, #T_b42a8_row1_col10, #T_b42a8_row1_col11, #T_b42a8_row1_col12, #T_b42a8_row1_col13, #T_b42a8_row1_col14, #T_b42a8_row1_col15, #T_b42a8_row1_col16, #T_b42a8_row1_col17, #T_b42a8_row1_col18, #T_b42a8_row1_col19, #T_b42a8_row1_col20, #T_b42a8_row1_col21, #T_b42a8_row1_col22, #T_b42a8_row2_col0, #T_b42a8_row2_col1, #T_b42a8_row2_col2, #T_b42a8_row2_col3, #T_b42a8_row2_col4, #T_b42a8_row2_col5, #T_b42a8_row2_col6, #T_b42a8_row2_col7, #T_b42a8_row2_col8, #T_b42a8_row2_col9, #T_b42a8_row2_col10, #T_b42a8_row2_col11, #T_b42a8_row2_col12, #T_b42a8_row2_col13, #T_b42a8_row2_col14, #T_b42a8_row2_col15, #T_b42a8_row2_col16, #T_b42a8_row2_col17, #T_b42a8_row2_col18, #T_b42a8_row2_col19, #T_b42a8_row2_col20, #T_b42a8_row2_col21, #T_b42a8_row2_col22, #T_b42a8_row3_col0, #T_b42a8_row3_col1, #T_b42a8_row3_col2, #T_b42a8_row3_col3, #T_b42a8_row3_col4, #T_b42a8_row3_col5, #T_b42a8_row3_col6, #T_b42a8_row3_col7, #T_b42a8_row3_col8, #T_b42a8_row3_col9, #T_b42a8_row3_col10, #T_b42a8_row3_col11, #T_b42a8_row3_col12, #T_b42a8_row3_col13, #T_b42a8_row3_col14, #T_b42a8_row3_col15, #T_b42a8_row3_col16, #T_b42a8_row3_col17, #T_b42a8_row3_col18, #T_b42a8_row3_col19, #T_b42a8_row3_col20, #T_b42a8_row3_col21, #T_b42a8_row3_col22, #T_b42a8_row4_col0, #T_b42a8_row4_col1, #T_b42a8_row4_col2, #T_b42a8_row4_col3, #T_b42a8_row4_col4, #T_b42a8_row4_col5, #T_b42a8_row4_col6, #T_b42a8_row4_col7, #T_b42a8_row4_col8, #T_b42a8_row4_col9, #T_b42a8_row4_col10, #T_b42a8_row4_col11, #T_b42a8_row4_col12, #T_b42a8_row4_col13, #T_b42a8_row4_col14, #T_b42a8_row4_col15, #T_b42a8_row4_col16, #T_b42a8_row4_col17, #T_b42a8_row4_col18, #T_b42a8_row4_col19, #T_b42a8_row4_col20, #T_b42a8_row4_col21, #T_b42a8_row4_col22, #T_b42a8_row5_col0, #T_b42a8_row5_col1, #T_b42a8_row5_col2, #T_b42a8_row5_col3, #T_b42a8_row5_col4, #T_b42a8_row5_col5, #T_b42a8_row5_col6, #T_b42a8_row5_col7, #T_b42a8_row5_col8, #T_b42a8_row5_col9, #T_b42a8_row5_col10, #T_b42a8_row5_col22, #T_b42a8_row6_col0, #T_b42a8_row6_col1, #T_b42a8_row6_col2, #T_b42a8_row6_col3, #T_b42a8_row6_col4, #T_b42a8_row6_col5, #T_b42a8_row6_col6, #T_b42a8_row6_col7, #T_b42a8_row6_col8, #T_b42a8_row7_col0, #T_b42a8_row7_col1, #T_b42a8_row7_col2, #T_b42a8_row7_col3, #T_b42a8_row7_col4, #T_b42a8_row7_col5, #T_b42a8_row7_col6, #T_b42a8_row7_col7, #T_b42a8_row7_col8, #T_b42a8_row8_col0, #T_b42a8_row8_col1, #T_b42a8_row8_col2, #T_b42a8_row8_col3, #T_b42a8_row8_col4, #T_b42a8_row8_col5, #T_b42a8_row8_col6, #T_b42a8_row8_col7, #T_b42a8_row8_col8, #T_b42a8_row9_col0, #T_b42a8_row9_col1, #T_b42a8_row9_col2, #T_b42a8_row9_col3, #T_b42a8_row9_col4, #T_b42a8_row9_col5, #T_b42a8_row9_col6, #T_b42a8_row9_col7, #T_b42a8_row9_col8, #T_b42a8_row9_col13, #T_b42a8_row9_col14, #T_b42a8_row9_col15, #T_b42a8_row9_col16, #T_b42a8_row10_col0, #T_b42a8_row10_col1, #T_b42a8_row10_col2, #T_b42a8_row10_col3, #T_b42a8_row10_col4, #T_b42a8_row10_col5, #T_b42a8_row10_col6, #T_b42a8_row10_col7, #T_b42a8_row10_col8, #T_b42a8_row10_col9, #T_b42a8_row10_col10, #T_b42a8_row10_col11, #T_b42a8_row10_col12, #T_b42a8_row10_col13, #T_b42a8_row10_col14, #T_b42a8_row10_col15, #T_b42a8_row10_col16, #T_b42a8_row10_col22, #T_b42a8_row11_col0, #T_b42a8_row11_col1, #T_b42a8_row11_col2, #T_b42a8_row11_col3, #T_b42a8_row11_col4, #T_b42a8_row11_col5, #T_b42a8_row11_col6, #T_b42a8_row11_col7, #T_b42a8_row11_col8, #T_b42a8_row11_col9, #T_b42a8_row11_col10, #T_b42a8_row11_col11, #T_b42a8_row11_col12, #T_b42a8_row11_col13, #T_b42a8_row11_col14, #T_b42a8_row11_col15, #T_b42a8_row11_col22, #T_b42a8_row12_col0, #T_b42a8_row12_col1, #T_b42a8_row12_col2, #T_b42a8_row12_col3, #T_b42a8_row12_col4, #T_b42a8_row12_col5, #T_b42a8_row12_col6, #T_b42a8_row12_col7, #T_b42a8_row12_col8, #T_b42a8_row12_col9, #T_b42a8_row12_col10, #T_b42a8_row12_col11, #T_b42a8_row12_col12, #T_b42a8_row12_col13, #T_b42a8_row12_col22 {\n",
       "  font-size: 10pt;\n",
       "  background-color: #ffffff;\n",
       "  color: #000000;\n",
       "}\n",
       "#T_b42a8_row5_col11 {\n",
       "  font-size: 10pt;\n",
       "  background-color: #ececec;\n",
       "  color: #000000;\n",
       "}\n",
       "#T_b42a8_row5_col12 {\n",
       "  font-size: 10pt;\n",
       "  background-color: #e8e8e8;\n",
       "  color: #000000;\n",
       "}\n",
       "#T_b42a8_row5_col13 {\n",
       "  font-size: 10pt;\n",
       "  background-color: #b0b0b0;\n",
       "  color: #000000;\n",
       "}\n",
       "#T_b42a8_row5_col14, #T_b42a8_row5_col15, #T_b42a8_row5_col16, #T_b42a8_row5_col17, #T_b42a8_row5_col18, #T_b42a8_row5_col19, #T_b42a8_row6_col13, #T_b42a8_row6_col20, #T_b42a8_row7_col9, #T_b42a8_row7_col10, #T_b42a8_row7_col11, #T_b42a8_row7_col12, #T_b42a8_row7_col13, #T_b42a8_row7_col20, #T_b42a8_row7_col21, #T_b42a8_row7_col22, #T_b42a8_row8_col10, #T_b42a8_row8_col11, #T_b42a8_row8_col20, #T_b42a8_row8_col21, #T_b42a8_row8_col22, #T_b42a8_row9_col20, #T_b42a8_row10_col20, #T_b42a8_row11_col20 {\n",
       "  font-size: 10pt;\n",
       "  background-color: #000000;\n",
       "  color: #f1f1f1;\n",
       "}\n",
       "#T_b42a8_row5_col20 {\n",
       "  font-size: 10pt;\n",
       "  background-color: #626262;\n",
       "  color: #f1f1f1;\n",
       "}\n",
       "#T_b42a8_row5_col21 {\n",
       "  font-size: 10pt;\n",
       "  background-color: #fcfcfc;\n",
       "  color: #000000;\n",
       "}\n",
       "#T_b42a8_row6_col9 {\n",
       "  font-size: 10pt;\n",
       "  background-color: #dbdbdb;\n",
       "  color: #000000;\n",
       "}\n",
       "#T_b42a8_row6_col10 {\n",
       "  font-size: 10pt;\n",
       "  background-color: #878787;\n",
       "  color: #f1f1f1;\n",
       "}\n",
       "#T_b42a8_row6_col11 {\n",
       "  font-size: 10pt;\n",
       "  background-color: #212121;\n",
       "  color: #f1f1f1;\n",
       "}\n",
       "#T_b42a8_row6_col12 {\n",
       "  font-size: 10pt;\n",
       "  background-color: #1e1e1e;\n",
       "  color: #f1f1f1;\n",
       "}\n",
       "#T_b42a8_row6_col14, #T_b42a8_row7_col14 {\n",
       "  font-size: 10pt;\n",
       "  background-color: #020202;\n",
       "  color: #f1f1f1;\n",
       "}\n",
       "#T_b42a8_row6_col15, #T_b42a8_row6_col16, #T_b42a8_row6_col17, #T_b42a8_row6_col18, #T_b42a8_row6_col19, #T_b42a8_row7_col15, #T_b42a8_row7_col16, #T_b42a8_row7_col17, #T_b42a8_row7_col18, #T_b42a8_row7_col19, #T_b42a8_row8_col18, #T_b42a8_row8_col19, #T_b42a8_row9_col19, #T_b42a8_row10_col19, #T_b42a8_row11_col18, #T_b42a8_row11_col19, #T_b42a8_row12_col17, #T_b42a8_row12_col18, #T_b42a8_row12_col19 {\n",
       "  font-size: 10pt;\n",
       "  background-color: #010101;\n",
       "  color: #f1f1f1;\n",
       "}\n",
       "#T_b42a8_row6_col21 {\n",
       "  font-size: 10pt;\n",
       "  background-color: #727272;\n",
       "  color: #f1f1f1;\n",
       "}\n",
       "#T_b42a8_row6_col22 {\n",
       "  font-size: 10pt;\n",
       "  background-color: #dcdcdc;\n",
       "  color: #000000;\n",
       "}\n",
       "#T_b42a8_row8_col9 {\n",
       "  font-size: 10pt;\n",
       "  background-color: #777777;\n",
       "  color: #f1f1f1;\n",
       "}\n",
       "#T_b42a8_row8_col12 {\n",
       "  font-size: 10pt;\n",
       "  background-color: #1a1a1a;\n",
       "  color: #f1f1f1;\n",
       "}\n",
       "#T_b42a8_row8_col13 {\n",
       "  font-size: 10pt;\n",
       "  background-color: #8f8f8f;\n",
       "  color: #f1f1f1;\n",
       "}\n",
       "#T_b42a8_row8_col14, #T_b42a8_row8_col15, #T_b42a8_row8_col16 {\n",
       "  font-size: 10pt;\n",
       "  background-color: #909090;\n",
       "  color: #f1f1f1;\n",
       "}\n",
       "#T_b42a8_row8_col17, #T_b42a8_row11_col17 {\n",
       "  font-size: 10pt;\n",
       "  background-color: #525252;\n",
       "  color: #f1f1f1;\n",
       "}\n",
       "#T_b42a8_row9_col9 {\n",
       "  font-size: 10pt;\n",
       "  background-color: #fdfdfd;\n",
       "  color: #000000;\n",
       "}\n",
       "#T_b42a8_row9_col10, #T_b42a8_row9_col11, #T_b42a8_row9_col22 {\n",
       "  font-size: 10pt;\n",
       "  background-color: #f1f1f1;\n",
       "  color: #000000;\n",
       "}\n",
       "#T_b42a8_row9_col12 {\n",
       "  font-size: 10pt;\n",
       "  background-color: #f4f4f4;\n",
       "  color: #000000;\n",
       "}\n",
       "#T_b42a8_row9_col17, #T_b42a8_row11_col21 {\n",
       "  font-size: 10pt;\n",
       "  background-color: #f8f8f8;\n",
       "  color: #000000;\n",
       "}\n",
       "#T_b42a8_row9_col18 {\n",
       "  font-size: 10pt;\n",
       "  background-color: #1f1f1f;\n",
       "  color: #f1f1f1;\n",
       "}\n",
       "#T_b42a8_row9_col21 {\n",
       "  font-size: 10pt;\n",
       "  background-color: #646464;\n",
       "  color: #f1f1f1;\n",
       "}\n",
       "#T_b42a8_row10_col17 {\n",
       "  font-size: 10pt;\n",
       "  background-color: #c5c5c5;\n",
       "  color: #000000;\n",
       "}\n",
       "#T_b42a8_row10_col18 {\n",
       "  font-size: 10pt;\n",
       "  background-color: #0c0c0c;\n",
       "  color: #f1f1f1;\n",
       "}\n",
       "#T_b42a8_row10_col21 {\n",
       "  font-size: 10pt;\n",
       "  background-color: #828282;\n",
       "  color: #f1f1f1;\n",
       "}\n",
       "#T_b42a8_row11_col16 {\n",
       "  font-size: 10pt;\n",
       "  background-color: #c3c3c3;\n",
       "  color: #000000;\n",
       "}\n",
       "#T_b42a8_row12_col14 {\n",
       "  font-size: 10pt;\n",
       "  background-color: #c1c1c1;\n",
       "  color: #000000;\n",
       "}\n",
       "#T_b42a8_row12_col15 {\n",
       "  font-size: 10pt;\n",
       "  background-color: #323232;\n",
       "  color: #f1f1f1;\n",
       "}\n",
       "#T_b42a8_row12_col16 {\n",
       "  font-size: 10pt;\n",
       "  background-color: #070707;\n",
       "  color: #f1f1f1;\n",
       "}\n",
       "#T_b42a8_row12_col20 {\n",
       "  font-size: 10pt;\n",
       "  background-color: #3c3c3c;\n",
       "  color: #f1f1f1;\n",
       "}\n",
       "#T_b42a8_row12_col21 {\n",
       "  font-size: 10pt;\n",
       "  background-color: #fbfbfb;\n",
       "  color: #000000;\n",
       "}\n",
       "</style>\n",
       "<table id=\"T_b42a8\">\n",
       "  <thead>\n",
       "    <tr>\n",
       "      <th class=\"blank level0\" >&nbsp;</th>\n",
       "      <th id=\"T_b42a8_level0_col0\" class=\"col_heading level0 col0\" >0</th>\n",
       "      <th id=\"T_b42a8_level0_col1\" class=\"col_heading level0 col1\" >1</th>\n",
       "      <th id=\"T_b42a8_level0_col2\" class=\"col_heading level0 col2\" >2</th>\n",
       "      <th id=\"T_b42a8_level0_col3\" class=\"col_heading level0 col3\" >3</th>\n",
       "      <th id=\"T_b42a8_level0_col4\" class=\"col_heading level0 col4\" >4</th>\n",
       "      <th id=\"T_b42a8_level0_col5\" class=\"col_heading level0 col5\" >5</th>\n",
       "      <th id=\"T_b42a8_level0_col6\" class=\"col_heading level0 col6\" >6</th>\n",
       "      <th id=\"T_b42a8_level0_col7\" class=\"col_heading level0 col7\" >7</th>\n",
       "      <th id=\"T_b42a8_level0_col8\" class=\"col_heading level0 col8\" >8</th>\n",
       "      <th id=\"T_b42a8_level0_col9\" class=\"col_heading level0 col9\" >9</th>\n",
       "      <th id=\"T_b42a8_level0_col10\" class=\"col_heading level0 col10\" >10</th>\n",
       "      <th id=\"T_b42a8_level0_col11\" class=\"col_heading level0 col11\" >11</th>\n",
       "      <th id=\"T_b42a8_level0_col12\" class=\"col_heading level0 col12\" >12</th>\n",
       "      <th id=\"T_b42a8_level0_col13\" class=\"col_heading level0 col13\" >13</th>\n",
       "      <th id=\"T_b42a8_level0_col14\" class=\"col_heading level0 col14\" >14</th>\n",
       "      <th id=\"T_b42a8_level0_col15\" class=\"col_heading level0 col15\" >15</th>\n",
       "      <th id=\"T_b42a8_level0_col16\" class=\"col_heading level0 col16\" >16</th>\n",
       "      <th id=\"T_b42a8_level0_col17\" class=\"col_heading level0 col17\" >17</th>\n",
       "      <th id=\"T_b42a8_level0_col18\" class=\"col_heading level0 col18\" >18</th>\n",
       "      <th id=\"T_b42a8_level0_col19\" class=\"col_heading level0 col19\" >19</th>\n",
       "      <th id=\"T_b42a8_level0_col20\" class=\"col_heading level0 col20\" >20</th>\n",
       "      <th id=\"T_b42a8_level0_col21\" class=\"col_heading level0 col21\" >21</th>\n",
       "      <th id=\"T_b42a8_level0_col22\" class=\"col_heading level0 col22\" >22</th>\n",
       "    </tr>\n",
       "  </thead>\n",
       "  <tbody>\n",
       "    <tr>\n",
       "      <th id=\"T_b42a8_level0_row0\" class=\"row_heading level0 row0\" >0</th>\n",
       "      <td id=\"T_b42a8_row0_col0\" class=\"data row0 col0\" >0.00</td>\n",
       "      <td id=\"T_b42a8_row0_col1\" class=\"data row0 col1\" >0.00</td>\n",
       "      <td id=\"T_b42a8_row0_col2\" class=\"data row0 col2\" >0.00</td>\n",
       "      <td id=\"T_b42a8_row0_col3\" class=\"data row0 col3\" >0.00</td>\n",
       "      <td id=\"T_b42a8_row0_col4\" class=\"data row0 col4\" >0.00</td>\n",
       "      <td id=\"T_b42a8_row0_col5\" class=\"data row0 col5\" >0.00</td>\n",
       "      <td id=\"T_b42a8_row0_col6\" class=\"data row0 col6\" >0.00</td>\n",
       "      <td id=\"T_b42a8_row0_col7\" class=\"data row0 col7\" >0.00</td>\n",
       "      <td id=\"T_b42a8_row0_col8\" class=\"data row0 col8\" >0.00</td>\n",
       "      <td id=\"T_b42a8_row0_col9\" class=\"data row0 col9\" >0.00</td>\n",
       "      <td id=\"T_b42a8_row0_col10\" class=\"data row0 col10\" >0.00</td>\n",
       "      <td id=\"T_b42a8_row0_col11\" class=\"data row0 col11\" >0.00</td>\n",
       "      <td id=\"T_b42a8_row0_col12\" class=\"data row0 col12\" >0.00</td>\n",
       "      <td id=\"T_b42a8_row0_col13\" class=\"data row0 col13\" >0.00</td>\n",
       "      <td id=\"T_b42a8_row0_col14\" class=\"data row0 col14\" >0.00</td>\n",
       "      <td id=\"T_b42a8_row0_col15\" class=\"data row0 col15\" >0.00</td>\n",
       "      <td id=\"T_b42a8_row0_col16\" class=\"data row0 col16\" >0.00</td>\n",
       "      <td id=\"T_b42a8_row0_col17\" class=\"data row0 col17\" >0.00</td>\n",
       "      <td id=\"T_b42a8_row0_col18\" class=\"data row0 col18\" >0.00</td>\n",
       "      <td id=\"T_b42a8_row0_col19\" class=\"data row0 col19\" >0.00</td>\n",
       "      <td id=\"T_b42a8_row0_col20\" class=\"data row0 col20\" >0.00</td>\n",
       "      <td id=\"T_b42a8_row0_col21\" class=\"data row0 col21\" >0.00</td>\n",
       "      <td id=\"T_b42a8_row0_col22\" class=\"data row0 col22\" >0.00</td>\n",
       "    </tr>\n",
       "    <tr>\n",
       "      <th id=\"T_b42a8_level0_row1\" class=\"row_heading level0 row1\" >1</th>\n",
       "      <td id=\"T_b42a8_row1_col0\" class=\"data row1 col0\" >0.00</td>\n",
       "      <td id=\"T_b42a8_row1_col1\" class=\"data row1 col1\" >0.00</td>\n",
       "      <td id=\"T_b42a8_row1_col2\" class=\"data row1 col2\" >0.00</td>\n",
       "      <td id=\"T_b42a8_row1_col3\" class=\"data row1 col3\" >0.00</td>\n",
       "      <td id=\"T_b42a8_row1_col4\" class=\"data row1 col4\" >0.00</td>\n",
       "      <td id=\"T_b42a8_row1_col5\" class=\"data row1 col5\" >0.00</td>\n",
       "      <td id=\"T_b42a8_row1_col6\" class=\"data row1 col6\" >0.00</td>\n",
       "      <td id=\"T_b42a8_row1_col7\" class=\"data row1 col7\" >0.00</td>\n",
       "      <td id=\"T_b42a8_row1_col8\" class=\"data row1 col8\" >0.00</td>\n",
       "      <td id=\"T_b42a8_row1_col9\" class=\"data row1 col9\" >0.00</td>\n",
       "      <td id=\"T_b42a8_row1_col10\" class=\"data row1 col10\" >0.00</td>\n",
       "      <td id=\"T_b42a8_row1_col11\" class=\"data row1 col11\" >0.00</td>\n",
       "      <td id=\"T_b42a8_row1_col12\" class=\"data row1 col12\" >0.00</td>\n",
       "      <td id=\"T_b42a8_row1_col13\" class=\"data row1 col13\" >0.00</td>\n",
       "      <td id=\"T_b42a8_row1_col14\" class=\"data row1 col14\" >0.00</td>\n",
       "      <td id=\"T_b42a8_row1_col15\" class=\"data row1 col15\" >0.00</td>\n",
       "      <td id=\"T_b42a8_row1_col16\" class=\"data row1 col16\" >0.00</td>\n",
       "      <td id=\"T_b42a8_row1_col17\" class=\"data row1 col17\" >0.00</td>\n",
       "      <td id=\"T_b42a8_row1_col18\" class=\"data row1 col18\" >0.00</td>\n",
       "      <td id=\"T_b42a8_row1_col19\" class=\"data row1 col19\" >0.00</td>\n",
       "      <td id=\"T_b42a8_row1_col20\" class=\"data row1 col20\" >0.00</td>\n",
       "      <td id=\"T_b42a8_row1_col21\" class=\"data row1 col21\" >0.00</td>\n",
       "      <td id=\"T_b42a8_row1_col22\" class=\"data row1 col22\" >0.00</td>\n",
       "    </tr>\n",
       "    <tr>\n",
       "      <th id=\"T_b42a8_level0_row2\" class=\"row_heading level0 row2\" >2</th>\n",
       "      <td id=\"T_b42a8_row2_col0\" class=\"data row2 col0\" >0.00</td>\n",
       "      <td id=\"T_b42a8_row2_col1\" class=\"data row2 col1\" >0.00</td>\n",
       "      <td id=\"T_b42a8_row2_col2\" class=\"data row2 col2\" >0.00</td>\n",
       "      <td id=\"T_b42a8_row2_col3\" class=\"data row2 col3\" >0.00</td>\n",
       "      <td id=\"T_b42a8_row2_col4\" class=\"data row2 col4\" >0.00</td>\n",
       "      <td id=\"T_b42a8_row2_col5\" class=\"data row2 col5\" >0.00</td>\n",
       "      <td id=\"T_b42a8_row2_col6\" class=\"data row2 col6\" >0.00</td>\n",
       "      <td id=\"T_b42a8_row2_col7\" class=\"data row2 col7\" >0.00</td>\n",
       "      <td id=\"T_b42a8_row2_col8\" class=\"data row2 col8\" >0.00</td>\n",
       "      <td id=\"T_b42a8_row2_col9\" class=\"data row2 col9\" >0.00</td>\n",
       "      <td id=\"T_b42a8_row2_col10\" class=\"data row2 col10\" >0.00</td>\n",
       "      <td id=\"T_b42a8_row2_col11\" class=\"data row2 col11\" >0.00</td>\n",
       "      <td id=\"T_b42a8_row2_col12\" class=\"data row2 col12\" >0.00</td>\n",
       "      <td id=\"T_b42a8_row2_col13\" class=\"data row2 col13\" >0.00</td>\n",
       "      <td id=\"T_b42a8_row2_col14\" class=\"data row2 col14\" >0.00</td>\n",
       "      <td id=\"T_b42a8_row2_col15\" class=\"data row2 col15\" >0.00</td>\n",
       "      <td id=\"T_b42a8_row2_col16\" class=\"data row2 col16\" >0.00</td>\n",
       "      <td id=\"T_b42a8_row2_col17\" class=\"data row2 col17\" >0.00</td>\n",
       "      <td id=\"T_b42a8_row2_col18\" class=\"data row2 col18\" >0.00</td>\n",
       "      <td id=\"T_b42a8_row2_col19\" class=\"data row2 col19\" >0.00</td>\n",
       "      <td id=\"T_b42a8_row2_col20\" class=\"data row2 col20\" >0.00</td>\n",
       "      <td id=\"T_b42a8_row2_col21\" class=\"data row2 col21\" >0.00</td>\n",
       "      <td id=\"T_b42a8_row2_col22\" class=\"data row2 col22\" >0.00</td>\n",
       "    </tr>\n",
       "    <tr>\n",
       "      <th id=\"T_b42a8_level0_row3\" class=\"row_heading level0 row3\" >3</th>\n",
       "      <td id=\"T_b42a8_row3_col0\" class=\"data row3 col0\" >0.00</td>\n",
       "      <td id=\"T_b42a8_row3_col1\" class=\"data row3 col1\" >0.00</td>\n",
       "      <td id=\"T_b42a8_row3_col2\" class=\"data row3 col2\" >0.00</td>\n",
       "      <td id=\"T_b42a8_row3_col3\" class=\"data row3 col3\" >0.00</td>\n",
       "      <td id=\"T_b42a8_row3_col4\" class=\"data row3 col4\" >0.00</td>\n",
       "      <td id=\"T_b42a8_row3_col5\" class=\"data row3 col5\" >0.00</td>\n",
       "      <td id=\"T_b42a8_row3_col6\" class=\"data row3 col6\" >0.00</td>\n",
       "      <td id=\"T_b42a8_row3_col7\" class=\"data row3 col7\" >0.00</td>\n",
       "      <td id=\"T_b42a8_row3_col8\" class=\"data row3 col8\" >0.00</td>\n",
       "      <td id=\"T_b42a8_row3_col9\" class=\"data row3 col9\" >0.00</td>\n",
       "      <td id=\"T_b42a8_row3_col10\" class=\"data row3 col10\" >0.00</td>\n",
       "      <td id=\"T_b42a8_row3_col11\" class=\"data row3 col11\" >0.00</td>\n",
       "      <td id=\"T_b42a8_row3_col12\" class=\"data row3 col12\" >0.00</td>\n",
       "      <td id=\"T_b42a8_row3_col13\" class=\"data row3 col13\" >0.00</td>\n",
       "      <td id=\"T_b42a8_row3_col14\" class=\"data row3 col14\" >0.00</td>\n",
       "      <td id=\"T_b42a8_row3_col15\" class=\"data row3 col15\" >0.00</td>\n",
       "      <td id=\"T_b42a8_row3_col16\" class=\"data row3 col16\" >0.00</td>\n",
       "      <td id=\"T_b42a8_row3_col17\" class=\"data row3 col17\" >0.00</td>\n",
       "      <td id=\"T_b42a8_row3_col18\" class=\"data row3 col18\" >0.00</td>\n",
       "      <td id=\"T_b42a8_row3_col19\" class=\"data row3 col19\" >0.00</td>\n",
       "      <td id=\"T_b42a8_row3_col20\" class=\"data row3 col20\" >0.00</td>\n",
       "      <td id=\"T_b42a8_row3_col21\" class=\"data row3 col21\" >0.00</td>\n",
       "      <td id=\"T_b42a8_row3_col22\" class=\"data row3 col22\" >0.00</td>\n",
       "    </tr>\n",
       "    <tr>\n",
       "      <th id=\"T_b42a8_level0_row4\" class=\"row_heading level0 row4\" >4</th>\n",
       "      <td id=\"T_b42a8_row4_col0\" class=\"data row4 col0\" >0.00</td>\n",
       "      <td id=\"T_b42a8_row4_col1\" class=\"data row4 col1\" >0.00</td>\n",
       "      <td id=\"T_b42a8_row4_col2\" class=\"data row4 col2\" >0.00</td>\n",
       "      <td id=\"T_b42a8_row4_col3\" class=\"data row4 col3\" >0.00</td>\n",
       "      <td id=\"T_b42a8_row4_col4\" class=\"data row4 col4\" >0.00</td>\n",
       "      <td id=\"T_b42a8_row4_col5\" class=\"data row4 col5\" >0.00</td>\n",
       "      <td id=\"T_b42a8_row4_col6\" class=\"data row4 col6\" >0.00</td>\n",
       "      <td id=\"T_b42a8_row4_col7\" class=\"data row4 col7\" >0.00</td>\n",
       "      <td id=\"T_b42a8_row4_col8\" class=\"data row4 col8\" >0.00</td>\n",
       "      <td id=\"T_b42a8_row4_col9\" class=\"data row4 col9\" >0.00</td>\n",
       "      <td id=\"T_b42a8_row4_col10\" class=\"data row4 col10\" >0.00</td>\n",
       "      <td id=\"T_b42a8_row4_col11\" class=\"data row4 col11\" >0.00</td>\n",
       "      <td id=\"T_b42a8_row4_col12\" class=\"data row4 col12\" >0.00</td>\n",
       "      <td id=\"T_b42a8_row4_col13\" class=\"data row4 col13\" >0.00</td>\n",
       "      <td id=\"T_b42a8_row4_col14\" class=\"data row4 col14\" >0.00</td>\n",
       "      <td id=\"T_b42a8_row4_col15\" class=\"data row4 col15\" >0.00</td>\n",
       "      <td id=\"T_b42a8_row4_col16\" class=\"data row4 col16\" >0.00</td>\n",
       "      <td id=\"T_b42a8_row4_col17\" class=\"data row4 col17\" >0.00</td>\n",
       "      <td id=\"T_b42a8_row4_col18\" class=\"data row4 col18\" >0.00</td>\n",
       "      <td id=\"T_b42a8_row4_col19\" class=\"data row4 col19\" >0.00</td>\n",
       "      <td id=\"T_b42a8_row4_col20\" class=\"data row4 col20\" >0.00</td>\n",
       "      <td id=\"T_b42a8_row4_col21\" class=\"data row4 col21\" >0.00</td>\n",
       "      <td id=\"T_b42a8_row4_col22\" class=\"data row4 col22\" >0.00</td>\n",
       "    </tr>\n",
       "    <tr>\n",
       "      <th id=\"T_b42a8_level0_row5\" class=\"row_heading level0 row5\" >5</th>\n",
       "      <td id=\"T_b42a8_row5_col0\" class=\"data row5 col0\" >0.00</td>\n",
       "      <td id=\"T_b42a8_row5_col1\" class=\"data row5 col1\" >0.00</td>\n",
       "      <td id=\"T_b42a8_row5_col2\" class=\"data row5 col2\" >0.00</td>\n",
       "      <td id=\"T_b42a8_row5_col3\" class=\"data row5 col3\" >0.00</td>\n",
       "      <td id=\"T_b42a8_row5_col4\" class=\"data row5 col4\" >0.00</td>\n",
       "      <td id=\"T_b42a8_row5_col5\" class=\"data row5 col5\" >0.00</td>\n",
       "      <td id=\"T_b42a8_row5_col6\" class=\"data row5 col6\" >0.00</td>\n",
       "      <td id=\"T_b42a8_row5_col7\" class=\"data row5 col7\" >0.00</td>\n",
       "      <td id=\"T_b42a8_row5_col8\" class=\"data row5 col8\" >0.00</td>\n",
       "      <td id=\"T_b42a8_row5_col9\" class=\"data row5 col9\" >0.00</td>\n",
       "      <td id=\"T_b42a8_row5_col10\" class=\"data row5 col10\" >0.00</td>\n",
       "      <td id=\"T_b42a8_row5_col11\" class=\"data row5 col11\" >0.15</td>\n",
       "      <td id=\"T_b42a8_row5_col12\" class=\"data row5 col12\" >0.17</td>\n",
       "      <td id=\"T_b42a8_row5_col13\" class=\"data row5 col13\" >0.41</td>\n",
       "      <td id=\"T_b42a8_row5_col14\" class=\"data row5 col14\" >1.00</td>\n",
       "      <td id=\"T_b42a8_row5_col15\" class=\"data row5 col15\" >0.99</td>\n",
       "      <td id=\"T_b42a8_row5_col16\" class=\"data row5 col16\" >0.99</td>\n",
       "      <td id=\"T_b42a8_row5_col17\" class=\"data row5 col17\" >0.99</td>\n",
       "      <td id=\"T_b42a8_row5_col18\" class=\"data row5 col18\" >0.99</td>\n",
       "      <td id=\"T_b42a8_row5_col19\" class=\"data row5 col19\" >0.99</td>\n",
       "      <td id=\"T_b42a8_row5_col20\" class=\"data row5 col20\" >0.68</td>\n",
       "      <td id=\"T_b42a8_row5_col21\" class=\"data row5 col21\" >0.02</td>\n",
       "      <td id=\"T_b42a8_row5_col22\" class=\"data row5 col22\" >0.00</td>\n",
       "    </tr>\n",
       "    <tr>\n",
       "      <th id=\"T_b42a8_level0_row6\" class=\"row_heading level0 row6\" >6</th>\n",
       "      <td id=\"T_b42a8_row6_col0\" class=\"data row6 col0\" >0.00</td>\n",
       "      <td id=\"T_b42a8_row6_col1\" class=\"data row6 col1\" >0.00</td>\n",
       "      <td id=\"T_b42a8_row6_col2\" class=\"data row6 col2\" >0.00</td>\n",
       "      <td id=\"T_b42a8_row6_col3\" class=\"data row6 col3\" >0.00</td>\n",
       "      <td id=\"T_b42a8_row6_col4\" class=\"data row6 col4\" >0.00</td>\n",
       "      <td id=\"T_b42a8_row6_col5\" class=\"data row6 col5\" >0.00</td>\n",
       "      <td id=\"T_b42a8_row6_col6\" class=\"data row6 col6\" >0.00</td>\n",
       "      <td id=\"T_b42a8_row6_col7\" class=\"data row6 col7\" >0.00</td>\n",
       "      <td id=\"T_b42a8_row6_col8\" class=\"data row6 col8\" >0.00</td>\n",
       "      <td id=\"T_b42a8_row6_col9\" class=\"data row6 col9\" >0.17</td>\n",
       "      <td id=\"T_b42a8_row6_col10\" class=\"data row6 col10\" >0.54</td>\n",
       "      <td id=\"T_b42a8_row6_col11\" class=\"data row6 col11\" >0.88</td>\n",
       "      <td id=\"T_b42a8_row6_col12\" class=\"data row6 col12\" >0.88</td>\n",
       "      <td id=\"T_b42a8_row6_col13\" class=\"data row6 col13\" >0.98</td>\n",
       "      <td id=\"T_b42a8_row6_col14\" class=\"data row6 col14\" >0.99</td>\n",
       "      <td id=\"T_b42a8_row6_col15\" class=\"data row6 col15\" >0.98</td>\n",
       "      <td id=\"T_b42a8_row6_col16\" class=\"data row6 col16\" >0.98</td>\n",
       "      <td id=\"T_b42a8_row6_col17\" class=\"data row6 col17\" >0.98</td>\n",
       "      <td id=\"T_b42a8_row6_col18\" class=\"data row6 col18\" >0.98</td>\n",
       "      <td id=\"T_b42a8_row6_col19\" class=\"data row6 col19\" >0.98</td>\n",
       "      <td id=\"T_b42a8_row6_col20\" class=\"data row6 col20\" >0.98</td>\n",
       "      <td id=\"T_b42a8_row6_col21\" class=\"data row6 col21\" >0.62</td>\n",
       "      <td id=\"T_b42a8_row6_col22\" class=\"data row6 col22\" >0.05</td>\n",
       "    </tr>\n",
       "    <tr>\n",
       "      <th id=\"T_b42a8_level0_row7\" class=\"row_heading level0 row7\" >7</th>\n",
       "      <td id=\"T_b42a8_row7_col0\" class=\"data row7 col0\" >0.00</td>\n",
       "      <td id=\"T_b42a8_row7_col1\" class=\"data row7 col1\" >0.00</td>\n",
       "      <td id=\"T_b42a8_row7_col2\" class=\"data row7 col2\" >0.00</td>\n",
       "      <td id=\"T_b42a8_row7_col3\" class=\"data row7 col3\" >0.00</td>\n",
       "      <td id=\"T_b42a8_row7_col4\" class=\"data row7 col4\" >0.00</td>\n",
       "      <td id=\"T_b42a8_row7_col5\" class=\"data row7 col5\" >0.00</td>\n",
       "      <td id=\"T_b42a8_row7_col6\" class=\"data row7 col6\" >0.00</td>\n",
       "      <td id=\"T_b42a8_row7_col7\" class=\"data row7 col7\" >0.00</td>\n",
       "      <td id=\"T_b42a8_row7_col8\" class=\"data row7 col8\" >0.00</td>\n",
       "      <td id=\"T_b42a8_row7_col9\" class=\"data row7 col9\" >0.70</td>\n",
       "      <td id=\"T_b42a8_row7_col10\" class=\"data row7 col10\" >0.98</td>\n",
       "      <td id=\"T_b42a8_row7_col11\" class=\"data row7 col11\" >0.98</td>\n",
       "      <td id=\"T_b42a8_row7_col12\" class=\"data row7 col12\" >0.98</td>\n",
       "      <td id=\"T_b42a8_row7_col13\" class=\"data row7 col13\" >0.98</td>\n",
       "      <td id=\"T_b42a8_row7_col14\" class=\"data row7 col14\" >0.99</td>\n",
       "      <td id=\"T_b42a8_row7_col15\" class=\"data row7 col15\" >0.98</td>\n",
       "      <td id=\"T_b42a8_row7_col16\" class=\"data row7 col16\" >0.98</td>\n",
       "      <td id=\"T_b42a8_row7_col17\" class=\"data row7 col17\" >0.98</td>\n",
       "      <td id=\"T_b42a8_row7_col18\" class=\"data row7 col18\" >0.98</td>\n",
       "      <td id=\"T_b42a8_row7_col19\" class=\"data row7 col19\" >0.98</td>\n",
       "      <td id=\"T_b42a8_row7_col20\" class=\"data row7 col20\" >0.98</td>\n",
       "      <td id=\"T_b42a8_row7_col21\" class=\"data row7 col21\" >0.98</td>\n",
       "      <td id=\"T_b42a8_row7_col22\" class=\"data row7 col22\" >0.23</td>\n",
       "    </tr>\n",
       "    <tr>\n",
       "      <th id=\"T_b42a8_level0_row8\" class=\"row_heading level0 row8\" >8</th>\n",
       "      <td id=\"T_b42a8_row8_col0\" class=\"data row8 col0\" >0.00</td>\n",
       "      <td id=\"T_b42a8_row8_col1\" class=\"data row8 col1\" >0.00</td>\n",
       "      <td id=\"T_b42a8_row8_col2\" class=\"data row8 col2\" >0.00</td>\n",
       "      <td id=\"T_b42a8_row8_col3\" class=\"data row8 col3\" >0.00</td>\n",
       "      <td id=\"T_b42a8_row8_col4\" class=\"data row8 col4\" >0.00</td>\n",
       "      <td id=\"T_b42a8_row8_col5\" class=\"data row8 col5\" >0.00</td>\n",
       "      <td id=\"T_b42a8_row8_col6\" class=\"data row8 col6\" >0.00</td>\n",
       "      <td id=\"T_b42a8_row8_col7\" class=\"data row8 col7\" >0.00</td>\n",
       "      <td id=\"T_b42a8_row8_col8\" class=\"data row8 col8\" >0.00</td>\n",
       "      <td id=\"T_b42a8_row8_col9\" class=\"data row8 col9\" >0.43</td>\n",
       "      <td id=\"T_b42a8_row8_col10\" class=\"data row8 col10\" >0.98</td>\n",
       "      <td id=\"T_b42a8_row8_col11\" class=\"data row8 col11\" >0.98</td>\n",
       "      <td id=\"T_b42a8_row8_col12\" class=\"data row8 col12\" >0.90</td>\n",
       "      <td id=\"T_b42a8_row8_col13\" class=\"data row8 col13\" >0.52</td>\n",
       "      <td id=\"T_b42a8_row8_col14\" class=\"data row8 col14\" >0.52</td>\n",
       "      <td id=\"T_b42a8_row8_col15\" class=\"data row8 col15\" >0.52</td>\n",
       "      <td id=\"T_b42a8_row8_col16\" class=\"data row8 col16\" >0.52</td>\n",
       "      <td id=\"T_b42a8_row8_col17\" class=\"data row8 col17\" >0.74</td>\n",
       "      <td id=\"T_b42a8_row8_col18\" class=\"data row8 col18\" >0.98</td>\n",
       "      <td id=\"T_b42a8_row8_col19\" class=\"data row8 col19\" >0.98</td>\n",
       "      <td id=\"T_b42a8_row8_col20\" class=\"data row8 col20\" >0.98</td>\n",
       "      <td id=\"T_b42a8_row8_col21\" class=\"data row8 col21\" >0.98</td>\n",
       "      <td id=\"T_b42a8_row8_col22\" class=\"data row8 col22\" >0.23</td>\n",
       "    </tr>\n",
       "    <tr>\n",
       "      <th id=\"T_b42a8_level0_row9\" class=\"row_heading level0 row9\" >9</th>\n",
       "      <td id=\"T_b42a8_row9_col0\" class=\"data row9 col0\" >0.00</td>\n",
       "      <td id=\"T_b42a8_row9_col1\" class=\"data row9 col1\" >0.00</td>\n",
       "      <td id=\"T_b42a8_row9_col2\" class=\"data row9 col2\" >0.00</td>\n",
       "      <td id=\"T_b42a8_row9_col3\" class=\"data row9 col3\" >0.00</td>\n",
       "      <td id=\"T_b42a8_row9_col4\" class=\"data row9 col4\" >0.00</td>\n",
       "      <td id=\"T_b42a8_row9_col5\" class=\"data row9 col5\" >0.00</td>\n",
       "      <td id=\"T_b42a8_row9_col6\" class=\"data row9 col6\" >0.00</td>\n",
       "      <td id=\"T_b42a8_row9_col7\" class=\"data row9 col7\" >0.00</td>\n",
       "      <td id=\"T_b42a8_row9_col8\" class=\"data row9 col8\" >0.00</td>\n",
       "      <td id=\"T_b42a8_row9_col9\" class=\"data row9 col9\" >0.02</td>\n",
       "      <td id=\"T_b42a8_row9_col10\" class=\"data row9 col10\" >0.11</td>\n",
       "      <td id=\"T_b42a8_row9_col11\" class=\"data row9 col11\" >0.11</td>\n",
       "      <td id=\"T_b42a8_row9_col12\" class=\"data row9 col12\" >0.09</td>\n",
       "      <td id=\"T_b42a8_row9_col13\" class=\"data row9 col13\" >0.00</td>\n",
       "      <td id=\"T_b42a8_row9_col14\" class=\"data row9 col14\" >0.00</td>\n",
       "      <td id=\"T_b42a8_row9_col15\" class=\"data row9 col15\" >0.00</td>\n",
       "      <td id=\"T_b42a8_row9_col16\" class=\"data row9 col16\" >0.00</td>\n",
       "      <td id=\"T_b42a8_row9_col17\" class=\"data row9 col17\" >0.05</td>\n",
       "      <td id=\"T_b42a8_row9_col18\" class=\"data row9 col18\" >0.88</td>\n",
       "      <td id=\"T_b42a8_row9_col19\" class=\"data row9 col19\" >0.98</td>\n",
       "      <td id=\"T_b42a8_row9_col20\" class=\"data row9 col20\" >0.98</td>\n",
       "      <td id=\"T_b42a8_row9_col21\" class=\"data row9 col21\" >0.67</td>\n",
       "      <td id=\"T_b42a8_row9_col22\" class=\"data row9 col22\" >0.03</td>\n",
       "    </tr>\n",
       "    <tr>\n",
       "      <th id=\"T_b42a8_level0_row10\" class=\"row_heading level0 row10\" >10</th>\n",
       "      <td id=\"T_b42a8_row10_col0\" class=\"data row10 col0\" >0.00</td>\n",
       "      <td id=\"T_b42a8_row10_col1\" class=\"data row10 col1\" >0.00</td>\n",
       "      <td id=\"T_b42a8_row10_col2\" class=\"data row10 col2\" >0.00</td>\n",
       "      <td id=\"T_b42a8_row10_col3\" class=\"data row10 col3\" >0.00</td>\n",
       "      <td id=\"T_b42a8_row10_col4\" class=\"data row10 col4\" >0.00</td>\n",
       "      <td id=\"T_b42a8_row10_col5\" class=\"data row10 col5\" >0.00</td>\n",
       "      <td id=\"T_b42a8_row10_col6\" class=\"data row10 col6\" >0.00</td>\n",
       "      <td id=\"T_b42a8_row10_col7\" class=\"data row10 col7\" >0.00</td>\n",
       "      <td id=\"T_b42a8_row10_col8\" class=\"data row10 col8\" >0.00</td>\n",
       "      <td id=\"T_b42a8_row10_col9\" class=\"data row10 col9\" >0.00</td>\n",
       "      <td id=\"T_b42a8_row10_col10\" class=\"data row10 col10\" >0.00</td>\n",
       "      <td id=\"T_b42a8_row10_col11\" class=\"data row10 col11\" >0.00</td>\n",
       "      <td id=\"T_b42a8_row10_col12\" class=\"data row10 col12\" >0.00</td>\n",
       "      <td id=\"T_b42a8_row10_col13\" class=\"data row10 col13\" >0.00</td>\n",
       "      <td id=\"T_b42a8_row10_col14\" class=\"data row10 col14\" >0.00</td>\n",
       "      <td id=\"T_b42a8_row10_col15\" class=\"data row10 col15\" >0.00</td>\n",
       "      <td id=\"T_b42a8_row10_col16\" class=\"data row10 col16\" >0.00</td>\n",
       "      <td id=\"T_b42a8_row10_col17\" class=\"data row10 col17\" >0.33</td>\n",
       "      <td id=\"T_b42a8_row10_col18\" class=\"data row10 col18\" >0.95</td>\n",
       "      <td id=\"T_b42a8_row10_col19\" class=\"data row10 col19\" >0.98</td>\n",
       "      <td id=\"T_b42a8_row10_col20\" class=\"data row10 col20\" >0.98</td>\n",
       "      <td id=\"T_b42a8_row10_col21\" class=\"data row10 col21\" >0.56</td>\n",
       "      <td id=\"T_b42a8_row10_col22\" class=\"data row10 col22\" >0.00</td>\n",
       "    </tr>\n",
       "    <tr>\n",
       "      <th id=\"T_b42a8_level0_row11\" class=\"row_heading level0 row11\" >11</th>\n",
       "      <td id=\"T_b42a8_row11_col0\" class=\"data row11 col0\" >0.00</td>\n",
       "      <td id=\"T_b42a8_row11_col1\" class=\"data row11 col1\" >0.00</td>\n",
       "      <td id=\"T_b42a8_row11_col2\" class=\"data row11 col2\" >0.00</td>\n",
       "      <td id=\"T_b42a8_row11_col3\" class=\"data row11 col3\" >0.00</td>\n",
       "      <td id=\"T_b42a8_row11_col4\" class=\"data row11 col4\" >0.00</td>\n",
       "      <td id=\"T_b42a8_row11_col5\" class=\"data row11 col5\" >0.00</td>\n",
       "      <td id=\"T_b42a8_row11_col6\" class=\"data row11 col6\" >0.00</td>\n",
       "      <td id=\"T_b42a8_row11_col7\" class=\"data row11 col7\" >0.00</td>\n",
       "      <td id=\"T_b42a8_row11_col8\" class=\"data row11 col8\" >0.00</td>\n",
       "      <td id=\"T_b42a8_row11_col9\" class=\"data row11 col9\" >0.00</td>\n",
       "      <td id=\"T_b42a8_row11_col10\" class=\"data row11 col10\" >0.00</td>\n",
       "      <td id=\"T_b42a8_row11_col11\" class=\"data row11 col11\" >0.00</td>\n",
       "      <td id=\"T_b42a8_row11_col12\" class=\"data row11 col12\" >0.00</td>\n",
       "      <td id=\"T_b42a8_row11_col13\" class=\"data row11 col13\" >0.00</td>\n",
       "      <td id=\"T_b42a8_row11_col14\" class=\"data row11 col14\" >0.00</td>\n",
       "      <td id=\"T_b42a8_row11_col15\" class=\"data row11 col15\" >0.00</td>\n",
       "      <td id=\"T_b42a8_row11_col16\" class=\"data row11 col16\" >0.34</td>\n",
       "      <td id=\"T_b42a8_row11_col17\" class=\"data row11 col17\" >0.74</td>\n",
       "      <td id=\"T_b42a8_row11_col18\" class=\"data row11 col18\" >0.98</td>\n",
       "      <td id=\"T_b42a8_row11_col19\" class=\"data row11 col19\" >0.98</td>\n",
       "      <td id=\"T_b42a8_row11_col20\" class=\"data row11 col20\" >0.98</td>\n",
       "      <td id=\"T_b42a8_row11_col21\" class=\"data row11 col21\" >0.05</td>\n",
       "      <td id=\"T_b42a8_row11_col22\" class=\"data row11 col22\" >0.00</td>\n",
       "    </tr>\n",
       "    <tr>\n",
       "      <th id=\"T_b42a8_level0_row12\" class=\"row_heading level0 row12\" >12</th>\n",
       "      <td id=\"T_b42a8_row12_col0\" class=\"data row12 col0\" >0.00</td>\n",
       "      <td id=\"T_b42a8_row12_col1\" class=\"data row12 col1\" >0.00</td>\n",
       "      <td id=\"T_b42a8_row12_col2\" class=\"data row12 col2\" >0.00</td>\n",
       "      <td id=\"T_b42a8_row12_col3\" class=\"data row12 col3\" >0.00</td>\n",
       "      <td id=\"T_b42a8_row12_col4\" class=\"data row12 col4\" >0.00</td>\n",
       "      <td id=\"T_b42a8_row12_col5\" class=\"data row12 col5\" >0.00</td>\n",
       "      <td id=\"T_b42a8_row12_col6\" class=\"data row12 col6\" >0.00</td>\n",
       "      <td id=\"T_b42a8_row12_col7\" class=\"data row12 col7\" >0.00</td>\n",
       "      <td id=\"T_b42a8_row12_col8\" class=\"data row12 col8\" >0.00</td>\n",
       "      <td id=\"T_b42a8_row12_col9\" class=\"data row12 col9\" >0.00</td>\n",
       "      <td id=\"T_b42a8_row12_col10\" class=\"data row12 col10\" >0.00</td>\n",
       "      <td id=\"T_b42a8_row12_col11\" class=\"data row12 col11\" >0.00</td>\n",
       "      <td id=\"T_b42a8_row12_col12\" class=\"data row12 col12\" >0.00</td>\n",
       "      <td id=\"T_b42a8_row12_col13\" class=\"data row12 col13\" >0.00</td>\n",
       "      <td id=\"T_b42a8_row12_col14\" class=\"data row12 col14\" >0.36</td>\n",
       "      <td id=\"T_b42a8_row12_col15\" class=\"data row12 col15\" >0.83</td>\n",
       "      <td id=\"T_b42a8_row12_col16\" class=\"data row12 col16\" >0.96</td>\n",
       "      <td id=\"T_b42a8_row12_col17\" class=\"data row12 col17\" >0.98</td>\n",
       "      <td id=\"T_b42a8_row12_col18\" class=\"data row12 col18\" >0.98</td>\n",
       "      <td id=\"T_b42a8_row12_col19\" class=\"data row12 col19\" >0.98</td>\n",
       "      <td id=\"T_b42a8_row12_col20\" class=\"data row12 col20\" >0.80</td>\n",
       "      <td id=\"T_b42a8_row12_col21\" class=\"data row12 col21\" >0.04</td>\n",
       "      <td id=\"T_b42a8_row12_col22\" class=\"data row12 col22\" >0.00</td>\n",
       "    </tr>\n",
       "  </tbody>\n",
       "</table>\n"
      ],
      "text/plain": [
       "<pandas.io.formats.style.Styler at 0x7f2f8af21c30>"
      ]
     },
     "execution_count": 23,
     "metadata": {},
     "output_type": "execute_result"
    }
   ],
   "source": [
    "# Grabbing the first 13 rows and 23 cols of the image and visualizing them for effect.\n",
    "df = pd.DataFrame(im3[:13, :23])\n",
    "df.style.format(precision=2).set_properties(**{'font-size': '10pt'}).background_gradient('Greys')"
   ]
  },
  {
   "cell_type": "markdown",
   "id": "dd6ae0b6-1c47-46c2-8133-0f095afb1e6a",
   "metadata": {},
   "source": [
    "Running a direct product on any 3x3 window and summing up will result in a large value."
   ]
  },
  {
   "cell_type": "code",
   "execution_count": 25,
   "id": "31cec811-78e5-493a-8c2a-79cbc8e5ccc8",
   "metadata": {},
   "outputs": [
    {
     "data": {
      "text/plain": [
       "tensor(2.9727)"
      ]
     },
     "execution_count": 25,
     "metadata": {},
     "output_type": "execute_result"
    }
   ],
   "source": [
    "# Take rows 3 to 5 and cols 14 to 16, multiply with the top_edge kernel and sum the results\n",
    "(im3[3:6, 14:17] * top_edge).sum()"
   ]
  },
  {
   "cell_type": "code",
   "execution_count": 26,
   "id": "b85021c1-b6e7-42e3-8306-dae9fddef193",
   "metadata": {},
   "outputs": [
    {
     "data": {
      "text/plain": [
       "tensor(-2.9570)"
      ]
     },
     "execution_count": 26,
     "metadata": {},
     "output_type": "execute_result"
    }
   ],
   "source": [
    "# Take rows 7 to 9 and cols 14 to 16, repeat the calculation\n",
    "(im3[7:10, 14:17] * top_edge).sum()"
   ]
  },
  {
   "cell_type": "code",
   "execution_count": 41,
   "id": "02975258-43c9-40b2-8cc5-d69b6eb8006c",
   "metadata": {},
   "outputs": [],
   "source": [
    "# Create a function which can replicate the calculation for any part of the image\n",
    "def apply_kernel(row, col, kernel): return (im3[row-1:row+2, col-1:col+2] * kernel).sum()"
   ]
  },
  {
   "cell_type": "code",
   "execution_count": 42,
   "id": "f36262ca-c0e9-4597-8b00-c466e0609a62",
   "metadata": {},
   "outputs": [
    {
     "data": {
      "text/plain": [
       "tensor(2.9727)"
      ]
     },
     "execution_count": 42,
     "metadata": {},
     "output_type": "execute_result"
    }
   ],
   "source": [
    "# Apply kernel to the center of the grid\n",
    "apply_kernel(4, 15, top_edge)"
   ]
  },
  {
   "cell_type": "markdown",
   "id": "0a39774a-d84c-44d9-a9bb-bed1e6c3683b",
   "metadata": {},
   "source": [
    "The kernel calculations needs to take place over a sliding window in this instance.\n",
    "\n",
    "![title](imgs/3-3-kernel.png)\n",
    "\n",
    "Another handy way of representing the sliding window calculations is to use a nested list comprehension, which happens to be a very handy idiom:\n",
    "\n"
   ]
  },
  {
   "cell_type": "code",
   "execution_count": 49,
   "id": "5301ad96-6fe6-4e0e-af5a-b4d7d4e7b5d4",
   "metadata": {},
   "outputs": [
    {
     "data": {
      "text/plain": [
       "[[(0, 0), (0, 1), (0, 2), (0, 3), (0, 4)],\n",
       " [(1, 0), (1, 1), (1, 2), (1, 3), (1, 4)],\n",
       " [(2, 0), (2, 1), (2, 2), (2, 3), (2, 4)],\n",
       " [(3, 0), (3, 1), (3, 2), (3, 3), (3, 4)],\n",
       " [(4, 0), (4, 1), (4, 2), (4, 3), (4, 4)]]"
      ]
     },
     "execution_count": 49,
     "metadata": {},
     "output_type": "execute_result"
    }
   ],
   "source": [
    "[[(i, j) for j in range(5)] for i in range(5)]"
   ]
  },
  {
   "cell_type": "code",
   "execution_count": 50,
   "id": "52053579-3aa3-4934-addd-6c9e624408c2",
   "metadata": {},
   "outputs": [
    {
     "data": {
      "image/png": "[encoded data removed]",
      "text/plain": [
       "<Figure size 256x192 with 1 Axes>"
      ]
     },
     "metadata": {},
     "output_type": "display_data"
    }
   ],
   "source": [
    "# Lets highlight the top edges, using a sliding window.\n",
    "rng = range(1, 27) # dimensions\n",
    "top_edge3 = tensor([[apply_kernel(i, j, top_edge) for j in rng] for i in rng])\n",
    "show_image(top_edge3);"
   ]
  },
  {
   "cell_type": "markdown",
   "id": "56f90ead-9586-4597-adbe-cd2b64c503fe",
   "metadata": {},
   "source": [
    "We can experiment with passing in a `left_edge` tensor as well."
   ]
  },
  {
   "cell_type": "code",
   "execution_count": 51,
   "id": "ffd38f3d-d010-4f89-9136-0d7b6043c101",
   "metadata": {},
   "outputs": [
    {
     "data": {
      "image/png": "[encoded data removed]",
      "text/plain": [
       "<Figure size 256x192 with 1 Axes>"
      ]
     },
     "metadata": {},
     "output_type": "display_data"
    }
   ],
   "source": [
    "# Create left_edge tensor\n",
    "left_edge = tensor([[-1, 0, 1],\n",
    "                    [-1, 0, 1],\n",
    "                    [-1, 0, 1]]).float()\n",
    "\n",
    "show_image(left_edge, noframe=False);"
   ]
  },
  {
   "cell_type": "code",
   "execution_count": 52,
   "id": "e6749139-d9ee-4d2f-b8b0-d018d074fd50",
   "metadata": {},
   "outputs": [
    {
     "data": {
      "image/png": "[encoded data removed]",
      "text/plain": [
       "<Figure size 256x192 with 1 Axes>"
      ]
     },
     "metadata": {},
     "output_type": "display_data"
    }
   ],
   "source": [
    "# Running the sliding window convolution from before\n",
    "left_edge3 = tensor([[apply_kernel(i, j, left_edge) for j in rng] for i in rng])\n",
    "show_image(left_edge3);"
   ]
  },
  {
   "cell_type": "code",
   "execution_count": null,
   "id": "79b72aff-27ac-4625-8bdf-581f5c794da1",
   "metadata": {},
   "outputs": [],
   "source": []
  },
  {
   "cell_type": "code",
   "execution_count": null,
   "id": "cfadc749-1ceb-4fe4-a011-8b258d63fe65",
   "metadata": {},
   "outputs": [],
   "source": []
  }
 ],
 "metadata": {
  "kernelspec": {
   "display_name": "Python 3 (ipykernel)",
   "language": "python",
   "name": "python3"
  },
  "language_info": {
   "codemirror_mode": {
    "name": "ipython",
    "version": 3
   },
   "file_extension": ".py",
   "mimetype": "text/x-python",
   "name": "python",
   "nbconvert_exporter": "python",
   "pygments_lexer": "ipython3",
   "version": "3.10.14"
  },
  "widgets": {
   "application/vnd.jupyter.widget-state+json": {
    "state": {},
    "version_major": 2,
    "version_minor": 0
   }
  }
 },
 "nbformat": 4,
 "nbformat_minor": 5
}
