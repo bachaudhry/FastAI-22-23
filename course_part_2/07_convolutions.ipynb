{
 "cells": [
  {
   "cell_type": "markdown",
   "id": "7d237ac5-262a-416c-8fd4-d4d52e99960b",
   "metadata": {},
   "source": [
    "# **Diving Into Convolutions**"
   ]
  },
  {
   "cell_type": "code",
   "execution_count": 3,
   "id": "b2867b73-b15c-4f11-9253-08609318d607",
   "metadata": {},
   "outputs": [],
   "source": [
    "import numpy as np\n",
    "import pandas as pd\n",
    "import matplotlib as mpl\n",
    "import matplotlib.pyplot as plt\n",
    "import pickle, gzip, math, os, time, shutil\n",
    "\n",
    "import torch\n",
    "from torch import nn, tensor\n",
    "from torch .utils.data import default_collate, DataLoader\n",
    "from typing import Mapping\n",
    "from pathlib import Path\n",
    "\n",
    "mpl.rcParams['image.cmap'] = 'gray'"
   ]
  },
  {
   "cell_type": "code",
   "execution_count": 4,
   "id": "c5414573-eb49-4961-928c-8ba901646cec",
   "metadata": {},
   "outputs": [],
   "source": [
    "# Data path, same as earlier NBs\n",
    "path_data = Path('data')\n",
    "path_gz = path_data/'mnist.pkl.gz'\n",
    "\n",
    "with gzip.open(path_gz, 'rb') as f:\n",
    "    ((x_train, y_train), (x_valid, y_valid), _) = pickle.load(f, encoding='latin-1')\n",
    "\n",
    "x_train, y_train, x_valid, y_valid= map(tensor, [x_train, y_train, x_valid, y_valid])"
   ]
  },
  {
   "cell_type": "code",
   "execution_count": null,
   "id": "866e7b57-1cb4-4248-bf4c-36b570f22b08",
   "metadata": {},
   "outputs": [],
   "source": []
  },
  {
   "cell_type": "code",
   "execution_count": null,
   "id": "a6176385-f985-42aa-bfb2-d5031565eabd",
   "metadata": {},
   "outputs": [],
   "source": []
  },
  {
   "cell_type": "code",
   "execution_count": null,
   "id": "f50a724f-e136-4421-996e-287d4b57959c",
   "metadata": {},
   "outputs": [],
   "source": []
  },
  {
   "cell_type": "code",
   "execution_count": null,
   "id": "34748f06-5347-479f-97fb-91135abc33d9",
   "metadata": {},
   "outputs": [],
   "source": []
  },
  {
   "cell_type": "code",
   "execution_count": null,
   "id": "96a906c4-68a7-4f1c-a2d0-61b67d51a963",
   "metadata": {},
   "outputs": [],
   "source": []
  },
  {
   "cell_type": "code",
   "execution_count": null,
   "id": "baf7d9e5-164c-45e9-8026-52d331b76b6d",
   "metadata": {},
   "outputs": [],
   "source": []
  },
  {
   "cell_type": "code",
   "execution_count": null,
   "id": "6a92d607-6945-4002-8451-d0ab2d4c2377",
   "metadata": {},
   "outputs": [],
   "source": []
  },
  {
   "cell_type": "code",
   "execution_count": null,
   "id": "152c9ad8-7c33-45c3-b79c-d52ce0a67197",
   "metadata": {},
   "outputs": [],
   "source": []
  },
  {
   "cell_type": "code",
   "execution_count": null,
   "id": "71e274c2-165f-4c60-b5b7-11081a7c6317",
   "metadata": {},
   "outputs": [],
   "source": []
  },
  {
   "cell_type": "code",
   "execution_count": null,
   "id": "2d3e5fcd-5f25-4a7d-bd66-9ddb102a8b64",
   "metadata": {},
   "outputs": [],
   "source": []
  },
  {
   "cell_type": "code",
   "execution_count": null,
   "id": "54135c6b-ada6-483d-b718-d64807ab0272",
   "metadata": {},
   "outputs": [],
   "source": []
  },
  {
   "cell_type": "code",
   "execution_count": null,
   "id": "1de48654-b19e-4f4c-95d4-d24040700aa6",
   "metadata": {},
   "outputs": [],
   "source": []
  },
  {
   "cell_type": "code",
   "execution_count": null,
   "id": "b85021c1-b6e7-42e3-8306-dae9fddef193",
   "metadata": {},
   "outputs": [],
   "source": []
  },
  {
   "cell_type": "code",
   "execution_count": null,
   "id": "02975258-43c9-40b2-8cc5-d69b6eb8006c",
   "metadata": {},
   "outputs": [],
   "source": []
  },
  {
   "cell_type": "code",
   "execution_count": null,
   "id": "f36262ca-c0e9-4597-8b00-c466e0609a62",
   "metadata": {},
   "outputs": [],
   "source": []
  },
  {
   "cell_type": "code",
   "execution_count": null,
   "id": "415c88ba-1c54-4490-ab19-485ab314564a",
   "metadata": {},
   "outputs": [],
   "source": []
  },
  {
   "cell_type": "code",
   "execution_count": null,
   "id": "f1380c38-03a9-417b-85ee-ee8467a52344",
   "metadata": {},
   "outputs": [],
   "source": []
  },
  {
   "cell_type": "code",
   "execution_count": null,
   "id": "c23b9f34-8be2-45bc-912c-9817573d49cc",
   "metadata": {},
   "outputs": [],
   "source": []
  },
  {
   "cell_type": "code",
   "execution_count": null,
   "id": "ffd38f3d-d010-4f89-9136-0d7b6043c101",
   "metadata": {},
   "outputs": [],
   "source": []
  },
  {
   "cell_type": "code",
   "execution_count": null,
   "id": "e6749139-d9ee-4d2f-b8b0-d018d074fd50",
   "metadata": {},
   "outputs": [],
   "source": []
  },
  {
   "cell_type": "code",
   "execution_count": null,
   "id": "79b72aff-27ac-4625-8bdf-581f5c794da1",
   "metadata": {},
   "outputs": [],
   "source": []
  },
  {
   "cell_type": "code",
   "execution_count": null,
   "id": "cfadc749-1ceb-4fe4-a011-8b258d63fe65",
   "metadata": {},
   "outputs": [],
   "source": []
  }
 ],
 "metadata": {
  "kernelspec": {
   "display_name": "Python 3 (ipykernel)",
   "language": "python",
   "name": "python3"
  },
  "language_info": {
   "codemirror_mode": {
    "name": "ipython",
    "version": 3
   },
   "file_extension": ".py",
   "mimetype": "text/x-python",
   "name": "python",
   "nbconvert_exporter": "python",
   "pygments_lexer": "ipython3",
   "version": "3.10.14"
  },
  "widgets": {
   "application/vnd.jupyter.widget-state+json": {
    "state": {},
    "version_major": 2,
    "version_minor": 0
   }
  }
 },
 "nbformat": 4,
 "nbformat_minor": 5
}
