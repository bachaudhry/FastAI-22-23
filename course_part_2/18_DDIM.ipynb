{
 "cells": [
  {
   "cell_type": "markdown",
   "id": "c0d3007a-6c2d-4587-aae6-771a18a1bcd5",
   "metadata": {},
   "source": [
    "# **Denoising Diffusion Implicit Models - DDIM**"
   ]
  },
  {
   "cell_type": "code",
   "execution_count": 1,
   "id": "7c71c282-2e09-491b-8826-abac820386ef",
   "metadata": {
    "editable": true,
    "slideshow": {
     "slide_type": ""
    },
    "tags": []
   },
   "outputs": [],
   "source": [
    "import pickle,gzip,math,os,time,shutil,torch,random,logging\n",
    "import fastcore.all as fc\n",
    "import numpy as np\n",
    "import matplotlib as mpl, matplotlib.pyplot as plt\n",
    "from collections.abc import Mapping\n",
    "from pathlib import Path\n",
    "from functools import partial\n",
    "\n",
    "from fastcore.foundation import L\n",
    "import torchvision.transforms.functional as TF,torch.nn.functional as F\n",
    "from torch import tensor,nn,optim\n",
    "from torch.utils.data import DataLoader,default_collate\n",
    "from torch.nn import init\n",
    "from torch.optim import lr_scheduler\n",
    "\n",
    "from miniai.datasets import *\n",
    "from miniai.conv import *\n",
    "from miniai.learner import *\n",
    "from miniai.activations import *\n",
    "from miniai.init import *\n",
    "from miniai.sgd import *\n",
    "from miniai.resnet import *\n",
    "from miniai.augment import *\n",
    "from miniai.accel import *\n",
    "from miniai.fid import *"
   ]
  },
  {
   "cell_type": "code",
   "execution_count": 2,
   "id": "01606a50-2939-47fc-8c76-5233729ec289",
   "metadata": {
    "editable": true,
    "slideshow": {
     "slide_type": ""
    },
    "tags": []
   },
   "outputs": [],
   "source": [
    "from fastprogress.fastprogress import progress_bar"
   ]
  },
  {
   "cell_type": "code",
   "execution_count": 3,
   "id": "df9e455a-0db2-4e3d-bc7a-11217d91c2cf",
   "metadata": {
    "editable": true,
    "slideshow": {
     "slide_type": ""
    },
    "tags": []
   },
   "outputs": [],
   "source": [
    "from torcheval.metrics import MulticlassAccuracy\n",
    "from datasets import load_dataset,load_dataset_builder\n",
    "\n",
    "mpl.rcParams['image.cmap'] = 'gray_r'\n",
    "logging.disable(logging.WARNING)"
   ]
  },
  {
   "cell_type": "code",
   "execution_count": 4,
   "id": "9c7d182f-1215-4948-b96e-38a80e043db3",
   "metadata": {
    "editable": true,
    "slideshow": {
     "slide_type": ""
    },
    "tags": []
   },
   "outputs": [],
   "source": [
    "xl,yl = 'image','label'\n",
    "name = \"fashion_mnist\"\n",
    "dsd = load_dataset(name)"
   ]
  },
  {
   "cell_type": "code",
   "execution_count": 5,
   "id": "048c05a4-fba7-4488-9c62-c1ffe65959d3",
   "metadata": {},
   "outputs": [],
   "source": [
    "# Given that we have built the entire DDPM pipeline from scratch,\n",
    "# using the HF diffusers library for the pre-built pipeline is now allowed\n",
    "from diffusers import UNet2DModel, DDPMPipeline, DDPMScheduler, DDIMPipeline, DDIMScheduler"
   ]
  },
  {
   "cell_type": "markdown",
   "id": "237821f4-d18a-465c-a24c-32642358f903",
   "metadata": {},
   "source": [
    "When implementing [DDIM](https://arxiv.org/abs/2010.02502), we won't need to retain our model and will be working on optimizing and / or modifying the de-noising and sampling steps to speed up the inference process. The paper summary states:\n",
    "\n",
    "> (DDPMs) require simulating a Markov chain for many steps to produce a sample. To accelerate sampling, we present denoising diffusion implicit models (DDIMs), a more efficient class of iterative implicit probabilistic models with the same training procedure as DDPMs.\n",
    ">\n",
    "> In DDPMs, the generative process is defined as the reverse of a Markovian diffusion process. We construct a class of non-Markovian diffusion processes that lead to the same training objective, but whose reverse process can be much faster to sample from. We empirically demonstrate that DDIMs can produce high quality samples 10× to 50× faster in terms of wall-clock time compared to DDPMs, allow us to trade off computation for sample quality, and can perform semantically meaningful image interpolation directly in the latent space. \n"
   ]
  },
  {
   "cell_type": "markdown",
   "id": "481b851a-be3a-4178-9a0c-783c32e40281",
   "metadata": {},
   "source": [
    "## **Pre-Built Diffusers DDPM Scheduler**"
   ]
  },
  {
   "cell_type": "code",
   "execution_count": 6,
   "id": "d389194d-c25a-4cf7-aae7-b3d0b614c18c",
   "metadata": {},
   "outputs": [],
   "source": [
    "class UNet(UNet2DModel): pass"
   ]
  },
  {
   "cell_type": "code",
   "execution_count": 8,
   "id": "0b14e11d-6d34-4265-86f6-93ee48ce8499",
   "metadata": {},
   "outputs": [],
   "source": [
    "model = torch.load('models/fashion_ddpm3_25.pkl').cuda()"
   ]
  },
  {
   "cell_type": "code",
   "execution_count": 9,
   "id": "bc850ae4-6e37-4a28-8e9c-3463f1cf9bd6",
   "metadata": {},
   "outputs": [],
   "source": [
    "sched = DDPMScheduler(beta_end=0.01)"
   ]
  },
  {
   "cell_type": "code",
   "execution_count": 10,
   "id": "f7cb1d8e-9f1b-4345-b064-cbdd08c44cf6",
   "metadata": {},
   "outputs": [],
   "source": [
    "x_t = torch.randn((32, 1, 32, 32)).cuda()"
   ]
  },
  {
   "cell_type": "code",
   "execution_count": 11,
   "id": "c5f7f33f-0c42-49d8-a37e-68439943cb1f",
   "metadata": {},
   "outputs": [
    {
     "name": "stderr",
     "output_type": "stream",
     "text": [
      "/home/bchaudhry/miniforge3/envs/miniai/lib/python3.11/site-packages/torch/nn/modules/conv.py:459: UserWarning: Applied workaround for CuDNN issue, install nvrtc.so (Triggered internally at /opt/conda/conda-bld/pytorch_1682343995622/work/aten/src/ATen/native/cudnn/Conv_v8.cpp:80.)\n",
      "  return F.conv2d(input, weight, bias, self.stride,\n"
     ]
    }
   ],
   "source": [
    "t = 999\n",
    "t_batch = torch.full((len(x_t), ), t, device=x_t.device, dtype=torch.long)\n",
    "\n",
    "with torch.no_grad(): noise = model(x_t, t_batch).sample"
   ]
  },
  {
   "cell_type": "code",
   "execution_count": 12,
   "id": "1a4bb4bb-b844-4788-a739-8b9ae310f3d4",
   "metadata": {},
   "outputs": [],
   "source": [
    "res = sched.step(noise, t, x_t)"
   ]
  },
  {
   "cell_type": "code",
   "execution_count": 13,
   "id": "3b7423a7-2ea8-487d-8b14-e930f94148ca",
   "metadata": {},
   "outputs": [
    {
     "data": {
      "text/plain": [
       "torch.Size([32, 1, 32, 32])"
      ]
     },
     "execution_count": 13,
     "metadata": {},
     "output_type": "execute_result"
    }
   ],
   "source": [
    "res.prev_sample.shape"
   ]
  },
  {
   "cell_type": "code",
   "execution_count": 14,
   "id": "f3bb726f-b207-42eb-9cc7-847f2f05eff5",
   "metadata": {},
   "outputs": [],
   "source": [
    "sz = (2048, 1, 32, 32)"
   ]
  },
  {
   "cell_type": "code",
   "execution_count": 15,
   "id": "6deec690-b59b-4752-9676-65435b2a5000",
   "metadata": {},
   "outputs": [
    {
     "data": {
      "text/html": [
       "\n",
       "<style>\n",
       "    /* Turns off some styling */\n",
       "    progress {\n",
       "        /* gets rid of default border in Firefox and Opera. */\n",
       "        border: none;\n",
       "        /* Needs to be in here for Safari polyfill so background images work as expected. */\n",
       "        background-size: auto;\n",
       "    }\n",
       "    progress:not([value]), progress:not([value])::-webkit-progress-bar {\n",
       "        background: repeating-linear-gradient(45deg, #7e7e7e, #7e7e7e 10px, #5c5c5c 10px, #5c5c5c 20px);\n",
       "    }\n",
       "    .progress-bar-interrupted, .progress-bar-interrupted::-webkit-progress-bar {\n",
       "        background: #F44336;\n",
       "    }\n",
       "</style>\n"
      ],
      "text/plain": [
       "<IPython.core.display.HTML object>"
      ]
     },
     "metadata": {},
     "output_type": "display_data"
    },
    {
     "data": {
      "text/html": [
       "\n",
       "    <div>\n",
       "      <progress value='1000' class='' max='1000' style='width:300px; height:20px; vertical-align: middle;'></progress>\n",
       "      100.00% [1000/1000 24:59&lt;00:00]\n",
       "    </div>\n",
       "    "
      ],
      "text/plain": [
       "<IPython.core.display.HTML object>"
      ]
     },
     "metadata": {},
     "output_type": "display_data"
    },
    {
     "name": "stdout",
     "output_type": "stream",
     "text": [
      "CPU times: user 22min 56s, sys: 16 s, total: 23min 12s\n",
      "Wall time: 24min 59s\n"
     ]
    }
   ],
   "source": [
    "%%time \n",
    "x_t = torch.randn(sz).cuda()\n",
    "preds = []\n",
    "\n",
    "for t in progress_bar(sched.timesteps):\n",
    "    with torch.no_grad(): noise = model(x_t, t).sample\n",
    "    x_t = sched.step(noise, t, x_t).prev_sample\n",
    "    preds.append(x_t.float().cpu())    "
   ]
  },
  {
   "cell_type": "code",
   "execution_count": 16,
   "id": "17da37d8-640e-4385-bd53-14510baa193c",
   "metadata": {},
   "outputs": [],
   "source": [
    "s = preds[-1].clamp(-0.5, 0.5)*2"
   ]
  },
  {
   "cell_type": "code",
   "execution_count": 17,
   "id": "04663d0b-5c4c-4f98-ba4c-993d32032c47",
   "metadata": {
    "editable": true,
    "slideshow": {
     "slide_type": ""
    },
    "tags": []
   },
   "outputs": [
    {
     "data": {
      "image/png": "[encoded data removed]",
      "text/plain": [
       "<Figure size 750x750 with 25 Axes>"
      ]
     },
     "metadata": {},
     "output_type": "display_data"
    }
   ],
   "source": [
    "show_images(s[:25], imsize=1.5)"
   ]
  },
  {
   "cell_type": "code",
   "execution_count": 18,
   "id": "ede4747d-5288-4afe-b447-238945ff73bb",
   "metadata": {},
   "outputs": [],
   "source": [
    "cmodel = torch.load('models/data_aug2.pkl')\n",
    "del(cmodel[8])\n",
    "del(cmodel[7])"
   ]
  },
  {
   "cell_type": "code",
   "execution_count": null,
   "id": "65c2e085-ee77-4448-b1a5-6d9755690361",
   "metadata": {},
   "outputs": [],
   "source": [
    "clean_mem()"
   ]
  },
  {
   "cell_type": "code",
   "execution_count": null,
   "id": "134779e7-cd63-4eca-88ec-13d7d21a3609",
   "metadata": {
    "editable": true,
    "slideshow": {
     "slide_type": ""
    },
    "tags": []
   },
   "outputs": [],
   "source": [
    "@inplace\n",
    "def transformi(b): b[xl] = [F.pad(TF.to_tensor(0), (2,2,2,2))*2-1 for o in b[xl]]\n",
    "\n",
    "bs = 2048\n",
    "tds = dsd.with_transform(transformi)\n",
    "dls = DataLoaders.from_dd(tds, bs, num_workers=fc.defaults.cpus)\n",
    "\n",
    "dt = dls.train\n",
    "xb, yb = next(iter(dt))\n",
    "\n",
    "ie = ImageEval(cmodel, dls, cbs=[DeviceCB()])"
   ]
  },
  {
   "cell_type": "code",
   "execution_count": null,
   "id": "5fd0f40a-de9e-4e02-8347-b192f862e546",
   "metadata": {},
   "outputs": [],
   "source": [
    "ie.fid(s), ie.kid(s)"
   ]
  },
  {
   "cell_type": "code",
   "execution_count": null,
   "id": "0c0088b3-37ef-44df-9feb-3665edb1b9a9",
   "metadata": {},
   "outputs": [],
   "source": [
    "ie.fid(xb), ie.kid(xb)"
   ]
  },
  {
   "cell_type": "markdown",
   "id": "d1c59003-0b49-4019-bf90-1c82dc609488",
   "metadata": {},
   "source": [
    "## **Pre-Built Diffusers DDIM Scheduler**"
   ]
  },
  {
   "cell_type": "code",
   "execution_count": null,
   "id": "344327b6-4d6b-4f3f-a513-8f2e973e869b",
   "metadata": {},
   "outputs": [],
   "source": [
    "sched = DDIMScheduler(beta_end=0.01)\n",
    "sched.set_timesteps(333)"
   ]
  },
  {
   "cell_type": "code",
   "execution_count": null,
   "id": "59bf157b-b59e-4d22-a391-6e75dabd03db",
   "metadata": {},
   "outputs": [],
   "source": [
    "def diff_sample(model, sz, sched, **kwargs):\n",
    "    x_t = torch.randn(sz).cuda()\n",
    "    preds = []\n",
    "    for t in progress_bar(sched.timesteps):\n",
    "        with torch.no_grad(): noise = model(x_t, t).sample\n",
    "        x_t = sched.step(noise, t, x_t, **kwargs).prev_sample\n",
    "        preds.append(x_t.float().cpu())\n",
    "    return preds"
   ]
  },
  {
   "cell_type": "code",
   "execution_count": null,
   "id": "5036ecda-49f9-4b1b-a614-f411d4ca5351",
   "metadata": {},
   "outputs": [],
   "source": [
    "preds = diff_sample(model, sz, sched, eta=1.)\n",
    "s = (preds[-1]*2).clamp(-1, 1)"
   ]
  },
  {
   "cell_type": "code",
   "execution_count": null,
   "id": "ee1c7135-f4a1-4c35-841b-ad61ddf9652e",
   "metadata": {},
   "outputs": [],
   "source": [
    "show_images(s[:25], imsize=1.5)"
   ]
  },
  {
   "cell_type": "code",
   "execution_count": null,
   "id": "c2cff589-ff88-4946-975f-95eae8a023bd",
   "metadata": {},
   "outputs": [],
   "source": [
    "ie.fid(s), ie.kid(s)"
   ]
  },
  {
   "cell_type": "code",
   "execution_count": null,
   "id": "214dc2be-a212-4e59-9e4c-7b3c7de7e354",
   "metadata": {},
   "outputs": [],
   "source": [
    "sched.set_timesteps(200)\n",
    "preds = diff_sample(model, sz, sched, eta=1.)\n",
    "s = (preds[-1]*2).clamp(-1, 1)\n",
    "ie.fid(s), ie.kid(s)"
   ]
  },
  {
   "cell_type": "code",
   "execution_count": null,
   "id": "1e126ec1-8cbd-4f8e-9c7b-114d3af56abd",
   "metadata": {},
   "outputs": [],
   "source": [
    "show_images(s[:25], imsize=1.5)"
   ]
  },
  {
   "cell_type": "code",
   "execution_count": null,
   "id": "1a1fd460-b320-4d9e-b0a6-e5425f223cfe",
   "metadata": {},
   "outputs": [],
   "source": [
    "sched.set_timesteps(100)\n",
    "preds = diff_sample(model, sz, sched, eta=1.)"
   ]
  },
  {
   "cell_type": "code",
   "execution_count": null,
   "id": "0680bba9-dea2-4baf-92be-10a65149ddb7",
   "metadata": {},
   "outputs": [],
   "source": [
    "s = (preds[-1]*2).clamp(-1, 1)"
   ]
  },
  {
   "cell_type": "code",
   "execution_count": null,
   "id": "36f728e7-fbaf-4449-9872-3c360420270d",
   "metadata": {},
   "outputs": [],
   "source": [
    "ie.fid(s), ie.kid(s)"
   ]
  },
  {
   "cell_type": "code",
   "execution_count": null,
   "id": "c6a9a9f2-9a51-4ee9-8b1d-549557f6da76",
   "metadata": {},
   "outputs": [],
   "source": [
    "show_images(s[:25], imsize=1.5)"
   ]
  },
  {
   "cell_type": "code",
   "execution_count": null,
   "id": "2d8687c9-6952-487f-a039-ab92ad685d2b",
   "metadata": {
    "editable": true,
    "slideshow": {
     "slide_type": ""
    },
    "tags": []
   },
   "outputs": [],
   "source": [
    "sched.set_timesteps(50)\n",
    "preds = diff_sample(model, sz, sched, eta=1.)\n",
    "s = (preds[-1]*2).clamp(-1,1)\n",
    "ie.fid(s),ie.kid(s)"
   ]
  },
  {
   "cell_type": "code",
   "execution_count": null,
   "id": "d4d61e66-5f19-4788-b22f-a1399d3eba71",
   "metadata": {
    "editable": true,
    "slideshow": {
     "slide_type": ""
    },
    "tags": []
   },
   "outputs": [],
   "source": [
    "show_images(s[:25], imsize=1.5)"
   ]
  },
  {
   "cell_type": "code",
   "execution_count": null,
   "id": "71faa916-fee1-4376-b369-66411bf6b139",
   "metadata": {
    "editable": true,
    "slideshow": {
     "slide_type": ""
    },
    "tags": []
   },
   "outputs": [],
   "source": [
    "sched.set_timesteps(25)\n",
    "preds = diff_sample(model, sz, sched, eta=1.)\n",
    "s = (preds[-1]*2).clamp(-1,1)\n",
    "ie.fid(s),ie.kid(s)"
   ]
  },
  {
   "cell_type": "code",
   "execution_count": null,
   "id": "fb3f883d-a5a3-484c-b0ea-851701839385",
   "metadata": {
    "editable": true,
    "slideshow": {
     "slide_type": ""
    },
    "tags": []
   },
   "outputs": [],
   "source": [
    "show_images(s[:25], imsize=1.5)"
   ]
  },
  {
   "cell_type": "code",
   "execution_count": null,
   "id": "57c28cd7-78e5-45f5-9c82-96ae5b96b6c7",
   "metadata": {},
   "outputs": [],
   "source": []
  }
 ],
 "metadata": {
  "kernelspec": {
   "display_name": "Python 3 (ipykernel)",
   "language": "python",
   "name": "python3"
  },
  "language_info": {
   "codemirror_mode": {
    "name": "ipython",
    "version": 3
   },
   "file_extension": ".py",
   "mimetype": "text/x-python",
   "name": "python",
   "nbconvert_exporter": "python",
   "pygments_lexer": "ipython3",
   "version": "3.11.6"
  },
  "widgets": {
   "application/vnd.jupyter.widget-state+json": {
    "state": {},
    "version_major": 2,
    "version_minor": 0
   }
  }
 },
 "nbformat": 4,
 "nbformat_minor": 5
}
