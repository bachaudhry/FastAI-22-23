{
 "cells": [
  {
   "cell_type": "markdown",
   "id": "1cd727a1-5b21-4aa5-8bcb-d37cfec26b51",
   "metadata": {},
   "source": [
    "# **Initializations**"
   ]
  },
  {
   "cell_type": "code",
   "execution_count": null,
   "id": "fdf83cfd-e8e8-4d37-b376-ee1bcc45c4bf",
   "metadata": {},
   "outputs": [],
   "source": [
    "import pickle,gzip,math,os,time,shutil,torch\n",
    "import matplotlib as mpl\n",
    "import matplotlib.pyplot as plt\n",
    "import numpy as np\n",
    "import sys,gc,traceback\n",
    "import fastcore.all as fc\n",
    "from collections.abc import Mapping\n",
    "from pathlib import Path\n",
    "from operator import attrgetter,itemgetter\n",
    "from functools import partial\n",
    "from copy import copy\n",
    "from contextlib import contextmanager\n",
    "\n",
    "import torchvision.transforms.functional as TF\n",
    "import torch.nn.functional as F\n",
    "from torch import tensor,nn,optim\n",
    "from torch.utils.data import DataLoader,default_collate\n",
    "from torch.nn import init\n",
    "from torcheval.metrics import MulticlassAccuracy\n",
    "from datasets import load_dataset,load_dataset_builder\n",
    "\n",
    "from miniai.datasets import *\n",
    "from miniai.conv import *\n",
    "from miniai.learner import *\n",
    "from miniai.activations import *"
   ]
  },
  {
   "cell_type": "code",
   "execution_count": null,
   "id": "8a501962-8a07-4499-8fcb-02ffbd9e34ff",
   "metadata": {},
   "outputs": [],
   "source": [
    "from fastcore.test import test_close\n",
    "\n",
    "torch.set_printoptions(precision=2, linewidth=140, sci_mode=False)\n",
    "torch.manual_seed(1)\n",
    "\n",
    "import logging\n",
    "logging.disable(logging.WARNING)\n",
    "\n",
    "#set_seed(42)"
   ]
  },
  {
   "cell_type": "markdown",
   "id": "39d67b6b-ae50-494b-895b-2113a65aa459",
   "metadata": {},
   "source": [
    "## **Recreating the Case of Faulty Initializations**"
   ]
  },
  {
   "cell_type": "markdown",
   "id": "8f820dc1-e73d-4827-a4a4-78690197caf8",
   "metadata": {},
   "source": [
    "Recall that in the previous NB, `10_activations`,  we were able to use Hooks to visualize the layerwise activations of a simple baseline CNN which uses a `MomentumLearner`. This proved to be a powerful technique to identify and diagnose any issues during the early stages of the training process.\n",
    "\n",
    "We also established that while the baseline model had improved loss and accuracy metrics when compared to the standard `Learner`, it still began training incorrectly. This could be observed in the poor activation stats for its different layers. \n",
    "\n",
    "Let's proceed to recreate the faulty CNN to see how the issue can be fixed."
   ]
  },
  {
   "cell_type": "code",
   "execution_count": null,
   "id": "4a5898cb-7aac-4032-8ba3-9aec7613e3e9",
   "metadata": {},
   "outputs": [],
   "source": [
    "# Load Data and run inplace transformations\n",
    "xl, yl = 'image', 'label'\n",
    "name = \"fashion_mnist\"\n",
    "dsd = load_dataset(name)\n",
    "\n",
    "@inplace\n",
    "def transformi(b): b[xl] = [TF.to_tensor(o) for o in b[xl]]\n",
    "\n",
    "# Batch size and transforms\n",
    "bs = 1024\n",
    "tds = dsd.with_transform(transformi)"
   ]
  },
  {
   "cell_type": "code",
   "execution_count": null,
   "id": "a64960b2-d4ca-4380-9211-19d6b5226f6d",
   "metadata": {},
   "outputs": [],
   "source": [
    "# Load the data onto Dataloader and create batches\n",
    "dls = DataLoaders.from_dd(tds, bs, num_workers=4)\n",
    "dt = dls.train\n",
    "xb, yb = next(iter(dt))\n",
    "xb.shape, yb[:10]"
   ]
  },
  {
   "cell_type": "code",
   "execution_count": null,
   "id": "e31ac9b9-4b43-43c2-9ce0-de17889a060a",
   "metadata": {},
   "outputs": [],
   "source": [
    "# Setup model\n",
    "def get_model():\n",
    "    return nn.Sequential(conv(1, 8), \n",
    "                         conv(8, 16),\n",
    "                         conv(16, 32),\n",
    "                         conv(32, 64),\n",
    "                         conv(64, 10, act=False),\n",
    "                         nn.Flatten()).to(def_device)"
   ]
  },
  {
   "cell_type": "code",
   "execution_count": null,
   "id": "7a3782cb-2422-4c0c-951d-4c0ced7b85d7",
   "metadata": {},
   "outputs": [],
   "source": [
    "# Find a good learning rate using the LR Finder\n",
    "MomentumLearner(get_model(), dls, F.cross_entropy, cbs=[DeviceCB()]).lr_find(gamma=1.1, start_lr=1e-2)"
   ]
  },
  {
   "cell_type": "code",
   "execution_count": null,
   "id": "939d959e-acbb-463b-9f3d-259f844f26e0",
   "metadata": {},
   "outputs": [],
   "source": [
    "# Setup metrics, activation stats, callbacks and learner\n",
    "metrics = MetricsCB(accuracy=MulticlassAccuracy())\n",
    "astats = ActivationStats(fc.risinstance(nn.ReLU))\n",
    "cbs = [DeviceCB(), metrics, ProgressCB(plot=True), astats]\n",
    "learn = MomentumLearner(get_model(), dls, F.cross_entropy, lr=0.2, cbs=cbs)"
   ]
  },
  {
   "cell_type": "code",
   "execution_count": null,
   "id": "def296c9-b934-4350-8836-49fab3ac13e1",
   "metadata": {},
   "outputs": [],
   "source": [
    "# Fit one epoch\n",
    "learn.fit(1)"
   ]
  },
  {
   "cell_type": "code",
   "execution_count": null,
   "id": "c3ce4dc4-5bea-4cbe-b50a-2d148cd5b5fd",
   "metadata": {},
   "outputs": [],
   "source": [
    "# Activation stats for the model's layers following one epoch of training\n",
    "astats.color_dim();"
   ]
  },
  {
   "cell_type": "code",
   "execution_count": null,
   "id": "a231b7c7-b6f7-40f6-a151-9f8af2e9dd6c",
   "metadata": {},
   "outputs": [],
   "source": [
    "# Means and Standard Deviations of activations\n",
    "astats.plot_stats();"
   ]
  },
  {
   "cell_type": "markdown",
   "id": "fb16ddaf-aae6-4834-ae83-4e591263cffe",
   "metadata": {},
   "source": [
    "### **Some Extra Functionality**  "
   ]
  },
  {
   "cell_type": "markdown",
   "id": "02a1847d-0c6b-4d66-8945-b0a9a0f3f518",
   "metadata": {},
   "source": [
    "The following functions allow us to clean and recover both GPU and system memory without having to restart the notebook kernel.\n",
    "\n",
    "`clean_ipython_hist()` is designed to clean the history of commands in an active IPython session."
   ]
  },
  {
   "cell_type": "code",
   "execution_count": 1,
   "id": "798e2449-672d-4a0f-bf3d-620234ef4eeb",
   "metadata": {},
   "outputs": [],
   "source": [
    "def clean_ipython_hist():\n",
    "    # Copied mainly from IPython source\n",
    "    if not 'get_ipython' in globals(): return\n",
    "    ip = get_ipython() # Currently running IPython instance\n",
    "    user_ns = ip.user_ns # Namespace (dictionary) where user variables are stored\n",
    "    pc = ip.displayhook.prompt_count + 1 # Number of commands/cells executed in the current session \n",
    "    # Cycle through inputs in the namespace, and clear the stored input history\n",
    "    # None ensures no error is raised if a key doesn't exist\n",
    "    for n in range(1, pc): user_ns.pop('_i' + repr(n), None) \n",
    "    # Set the last 3 inputs in the session to empty to clear references\n",
    "    user_ns.update(dict(_i='', _ii='', _iii=''))\n",
    "    # hm is the history manager of any given session\n",
    "    hm = ip.history_manager\n",
    "    hm.input_hist_parsed[:] = [''] * pc # Clear parsed input history\n",
    "    hm.input_hist_raw[:] = [''] * pc # Clear raw input history\n",
    "    hm._i = hm._ii = hm._iii = hm._i00 = '' # Clear last few inputs from hm."
   ]
  },
  {
   "cell_type": "markdown",
   "id": "7a84cfd6-07b3-4273-91a3-46cac976358f",
   "metadata": {},
   "source": [
    "Next, `clean_tb()` is meant to free up resources and preventing memory leaks after an exception has occurred by clearing the last traceback's frames to free up memory."
   ]
  },
  {
   "cell_type": "code",
   "execution_count": 3,
   "id": "16d3332e-cf34-431d-a40f-39ea0a69216a",
   "metadata": {},
   "outputs": [],
   "source": [
    "def clean_tb():\n",
    "    if hasattr(sys, 'last_traceback'): # Check for last_traceback attribute in the event of an unhandled exception\n",
    "        # Remove references to local variables and free up memory\n",
    "        traceback.clear_frames(sys.last_traceback) \n",
    "        delattr(sys, 'last_traceback')\n",
    "    if hasattr(sys, 'last_type'): delattr(sys, 'last_type') # Remove last exception's type\n",
    "    if hasattr(sys, 'last_value'): delattr(sys, 'last_value') # Remove last exception's actual value"
   ]
  },
  {
   "cell_type": "code",
   "execution_count": null,
   "id": "83a2cbf2-a1b2-4486-a563-c9547be3eac9",
   "metadata": {},
   "outputs": [],
   "source": [
    "# Function to run memory cleaning ops\n",
    "def clean_mem():\n",
    "    clean_tb()\n",
    "    clean_ipython_hist()\n",
    "    gc.collect()\n",
    "    torch.cuda.empty_cache"
   ]
  },
  {
   "cell_type": "code",
   "execution_count": null,
   "id": "5c392a26-1e7d-4f3d-be49-a840660d7ba2",
   "metadata": {},
   "outputs": [],
   "source": []
  },
  {
   "cell_type": "code",
   "execution_count": null,
   "id": "d431a3ef-b5f6-4c3c-89db-e55a98581db1",
   "metadata": {},
   "outputs": [],
   "source": []
  },
  {
   "cell_type": "code",
   "execution_count": null,
   "id": "a6ed88fe-55d3-4b34-969c-905568ea3f3a",
   "metadata": {},
   "outputs": [],
   "source": []
  },
  {
   "cell_type": "code",
   "execution_count": null,
   "id": "7c07365d-28c7-44d4-8363-79f732a1c4e4",
   "metadata": {},
   "outputs": [],
   "source": []
  },
  {
   "cell_type": "code",
   "execution_count": null,
   "id": "d0698318-308e-4cd7-b956-026a4a6ad5a0",
   "metadata": {},
   "outputs": [],
   "source": []
  },
  {
   "cell_type": "code",
   "execution_count": null,
   "id": "6319520a-7fdf-48c6-bd05-5151024fe512",
   "metadata": {},
   "outputs": [],
   "source": []
  },
  {
   "cell_type": "code",
   "execution_count": null,
   "id": "7bbdc6b8-9a71-4a41-9230-70fcdd7ec03f",
   "metadata": {},
   "outputs": [],
   "source": []
  },
  {
   "cell_type": "code",
   "execution_count": null,
   "id": "115fc241-70e4-4153-ae7b-34db8a75660d",
   "metadata": {},
   "outputs": [],
   "source": []
  },
  {
   "cell_type": "code",
   "execution_count": null,
   "id": "70ef62de-0bbe-44a7-9726-539635ad3e4b",
   "metadata": {},
   "outputs": [],
   "source": []
  },
  {
   "cell_type": "code",
   "execution_count": null,
   "id": "7de9f1d5-5df9-42f0-b554-cf19311da1f4",
   "metadata": {},
   "outputs": [],
   "source": []
  },
  {
   "cell_type": "code",
   "execution_count": null,
   "id": "70173ec7-eec3-4c99-a3b5-b19674937914",
   "metadata": {},
   "outputs": [],
   "source": []
  },
  {
   "cell_type": "code",
   "execution_count": null,
   "id": "d621bdef-08c1-4c8e-9603-948275c37698",
   "metadata": {},
   "outputs": [],
   "source": []
  }
 ],
 "metadata": {
  "kernelspec": {
   "display_name": "Python 3 (ipykernel)",
   "language": "python",
   "name": "python3"
  },
  "language_info": {
   "codemirror_mode": {
    "name": "ipython",
    "version": 3
   },
   "file_extension": ".py",
   "mimetype": "text/x-python",
   "name": "python",
   "nbconvert_exporter": "python",
   "pygments_lexer": "ipython3",
   "version": "3.11.6"
  },
  "widgets": {
   "application/vnd.jupyter.widget-state+json": {
    "state": {},
    "version_major": 2,
    "version_minor": 0
   }
  }
 },
 "nbformat": 4,
 "nbformat_minor": 5
}
