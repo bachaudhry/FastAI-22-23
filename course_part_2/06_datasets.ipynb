{
 "cells": [
  {
   "cell_type": "markdown",
   "id": "a7ae38e7-5ea6-4a4d-b2c0-189ebd0af2bd",
   "metadata": {},
   "source": [
    "# **Exploring HuggingFace Datasets**"
   ]
  },
  {
   "cell_type": "code",
   "execution_count": 2,
   "id": "d149271c-930f-4ffc-88ca-e1a8336ba0df",
   "metadata": {},
   "outputs": [],
   "source": [
    "from __future__ import annotations\n",
    "from operator import itemgetter\n",
    "from itertools import zip_longest\n",
    "import fastcore.all as fc\n",
    "import pickle, gzip, math, os, time, shutil, logging, os\n",
    "\n",
    "from pathlib import Path\n",
    "import numpy as np\n",
    "import matplotlib as mpl\n",
    "import matplotlib.pyplot as plt\n",
    "import torch\n",
    "from torch import tensor, nn, optim\n",
    "from torch.utils.data import DataLoader, default_collate\n",
    "import torch.nn.functional as F\n",
    "import torchvision.transforms.functional as TF\n",
    "from fastcore.test import  test_close\n",
    "from datasets import load_dataset, load_dataset_builder\n",
    "\n",
    "# Configs\n",
    "torch.manual_seed(1)\n",
    "mpl.rcParams['image.cmap'] = 'gray'\n",
    "torch.set_printoptions(precision=3, linewidth=125, sci_mode=False)\n",
    "np.set_printoptions(precision=3, linewidth=125)"
   ]
  },
  {
   "cell_type": "code",
   "execution_count": 3,
   "id": "649c7b76-f740-4792-8de7-31304e35f1a7",
   "metadata": {},
   "outputs": [],
   "source": [
    "logging.disable(logging.WARNING)"
   ]
  },
  {
   "cell_type": "markdown",
   "id": "4c60660a-24d4-4e13-bba7-9ee258d35fa8",
   "metadata": {},
   "source": [
    "## **Accessing HuggingFace Datasets**"
   ]
  },
  {
   "cell_type": "markdown",
   "id": "b944fc8a-6dc0-47cf-9aa9-c3f331a791d1",
   "metadata": {},
   "source": [
    "Alongside the hub and spaces, HuggingFace also has a very large repository of datasets which can be used for experimentation, practice or portfolio building."
   ]
  },
  {
   "cell_type": "code",
   "execution_count": 5,
   "id": "cbed4a0e-ee66-464a-9589-dfd1288d0053",
   "metadata": {},
   "outputs": [
    {
     "name": "stdout",
     "output_type": "stream",
     "text": [
      "Fashion-MNIST is a dataset of Zalando's article images—consisting of a training set of\n",
      "60,000 examples and a test set of 10,000 examples. Each example is a 28x28 grayscale image,\n",
      "associated with a label from 10 classes. We intend Fashion-MNIST to serve as a direct drop-in\n",
      "replacement for the original MNIST dataset for benchmarking machine learning algorithms.\n",
      "It shares the same image size and structure of training and testing splits.\n",
      "\n"
     ]
    }
   ],
   "source": [
    "name  = \"fashion_mnist\"\n",
    "ds_builder = load_dataset_builder(name)\n",
    "print(ds_builder.info.description) # This provides handy meta data for the dataset."
   ]
  },
  {
   "cell_type": "code",
   "execution_count": 6,
   "id": "ce22e321-5df1-4f00-83eb-b29952a42ea2",
   "metadata": {},
   "outputs": [
    {
     "data": {
      "text/plain": [
       "{'image': Image(mode=None, decode=True, id=None),\n",
       " 'label': ClassLabel(names=['T - shirt / top', 'Trouser', 'Pullover', 'Dress', 'Coat', 'Sandal', 'Shirt', 'Sneaker', 'Bag', 'Ankle boot'], id=None)}"
      ]
     },
     "execution_count": 6,
     "metadata": {},
     "output_type": "execute_result"
    }
   ],
   "source": [
    "# We can dive deeper into the dataset features\n",
    "ds_builder.info.features"
   ]
  },
  {
   "cell_type": "code",
   "execution_count": 7,
   "id": "ba6957d5-5cdf-45a8-a6d9-fba8b2e62336",
   "metadata": {},
   "outputs": [
    {
     "data": {
      "text/plain": [
       "{'train': SplitInfo(name='train', num_bytes=31296655, num_examples=60000, shard_lengths=None, dataset_name=None),\n",
       " 'test': SplitInfo(name='test', num_bytes=5233818, num_examples=10000, shard_lengths=None, dataset_name=None)}"
      ]
     },
     "execution_count": 7,
     "metadata": {},
     "output_type": "execute_result"
    }
   ],
   "source": [
    "# We can also get the training and test splits\n",
    "ds_builder.info.splits"
   ]
  },
  {
   "cell_type": "code",
   "execution_count": 8,
   "id": "54a08ed0-11db-4d79-a457-06ab55c8fd80",
   "metadata": {},
   "outputs": [
    {
     "data": {
      "application/vnd.jupyter.widget-view+json": {
       "model_id": "d9ce901d71d14dc6aef5b9a8b7069b51",
       "version_major": 2,
       "version_minor": 0
      },
      "text/plain": [
       "Downloading data:   0%|          | 0.00/26.4M [00:00<?, ?B/s]"
      ]
     },
     "metadata": {},
     "output_type": "display_data"
    },
    {
     "data": {
      "application/vnd.jupyter.widget-view+json": {
       "model_id": "e43747f469a342c9a47098e95eca5c37",
       "version_major": 2,
       "version_minor": 0
      },
      "text/plain": [
       "Downloading data:   0%|          | 0.00/29.5k [00:00<?, ?B/s]"
      ]
     },
     "metadata": {},
     "output_type": "display_data"
    },
    {
     "data": {
      "application/vnd.jupyter.widget-view+json": {
       "model_id": "a9e7a36db52644e3a1683a5f6675ec94",
       "version_major": 2,
       "version_minor": 0
      },
      "text/plain": [
       "Downloading data:   0%|          | 0.00/4.42M [00:00<?, ?B/s]"
      ]
     },
     "metadata": {},
     "output_type": "display_data"
    },
    {
     "data": {
      "application/vnd.jupyter.widget-view+json": {
       "model_id": "844ea2fde9cc4d88827952ee39eb6003",
       "version_major": 2,
       "version_minor": 0
      },
      "text/plain": [
       "Downloading data:   0%|          | 0.00/5.15k [00:00<?, ?B/s]"
      ]
     },
     "metadata": {},
     "output_type": "display_data"
    },
    {
     "data": {
      "application/vnd.jupyter.widget-view+json": {
       "model_id": "d598504172fe4e439b53c9e7a8bd1221",
       "version_major": 2,
       "version_minor": 0
      },
      "text/plain": [
       "Generating train split:   0%|          | 0/60000 [00:00<?, ? examples/s]"
      ]
     },
     "metadata": {},
     "output_type": "display_data"
    },
    {
     "data": {
      "application/vnd.jupyter.widget-view+json": {
       "model_id": "b556245df35d447c8230dc1bbbbe2be8",
       "version_major": 2,
       "version_minor": 0
      },
      "text/plain": [
       "Generating test split:   0%|          | 0/10000 [00:00<?, ? examples/s]"
      ]
     },
     "metadata": {},
     "output_type": "display_data"
    },
    {
     "data": {
      "text/plain": [
       "DatasetDict({\n",
       "    train: Dataset({\n",
       "        features: ['image', 'label'],\n",
       "        num_rows: 60000\n",
       "    })\n",
       "    test: Dataset({\n",
       "        features: ['image', 'label'],\n",
       "        num_rows: 10000\n",
       "    })\n",
       "})"
      ]
     },
     "execution_count": 8,
     "metadata": {},
     "output_type": "execute_result"
    }
   ],
   "source": [
    "# Once we're sure about the dataset in question, we can download them directly into a local object.\n",
    "dsd = load_dataset(name)\n",
    "dsd"
   ]
  },
  {
   "cell_type": "markdown",
   "id": "0fa6bb3e-bc28-4eaf-8941-bb3162212b3c",
   "metadata": {},
   "source": [
    "The fact that we're getting everything organized and split by training and test sets, plus feature labels, is really cool. This functionality is similar to what was done in the previous notebook i.e. [06_mini_batch_training](https://github.com/bachaudhry/FastAI-22-23/blob/main/course_part_2/05_minibatch_training.ipynb).\n",
    "\n",
    "The key difference is that we're now working with dictionaries instead of tuples."
   ]
  },
  {
   "cell_type": "code",
   "execution_count": 9,
   "id": "21e373fa-d30a-455f-9e4e-021782d799f1",
   "metadata": {},
   "outputs": [
    {
     "data": {
      "text/plain": [
       "{'image': <PIL.PngImagePlugin.PngImageFile image mode=L size=28x28>,\n",
       " 'label': 9}"
      ]
     },
     "execution_count": 9,
     "metadata": {},
     "output_type": "execute_result"
    }
   ],
   "source": [
    "train, test = dsd['train'], dsd['test']\n",
    "train[0]"
   ]
  },
  {
   "cell_type": "code",
   "execution_count": 13,
   "id": "f0951546-ba4a-41ce-ace4-86a6d5169c86",
   "metadata": {},
   "outputs": [
    {
     "data": {
      "image/jpeg": "[encoded data removed]",
      "image/png": "[encoded data removed]",
      "text/plain": [
       "<PIL.PngImagePlugin.PngImageFile image mode=L size=28x28>"
      ]
     },
     "execution_count": 13,
     "metadata": {},
     "output_type": "execute_result"
    }
   ],
   "source": [
    "# Storing labels as variables to reduce repetition.\n",
    "#x, y = 'image', 'label'\n",
    "# This is much cleaner.\n",
    "x, y = ds_builder.info.features\n",
    "img = train[0][x]\n",
    "img"
   ]
  },
  {
   "cell_type": "code",
   "execution_count": 16,
   "id": "d6322dba-b4cc-48e7-b01a-4a1ee8d82e3d",
   "metadata": {},
   "outputs": [
    {
     "data": {
      "text/plain": [
       "[9, 0, 0, 3, 0]"
      ]
     },
     "execution_count": 16,
     "metadata": {},
     "output_type": "execute_result"
    }
   ],
   "source": [
    "# Grabbing the first 5 images and labels\n",
    "xb = train[:5][x]\n",
    "yb = train[:5][y]\n",
    "yb"
   ]
  },
  {
   "cell_type": "code",
   "execution_count": 19,
   "id": "dcb94ab9-33dc-4065-b5c3-5d4ea908a81c",
   "metadata": {},
   "outputs": [
    {
     "data": {
      "text/plain": [
       "ClassLabel(names=['T - shirt / top', 'Trouser', 'Pullover', 'Dress', 'Coat', 'Sandal', 'Shirt', 'Sneaker', 'Bag', 'Ankle boot'], id=None)"
      ]
     },
     "execution_count": 19,
     "metadata": {},
     "output_type": "execute_result"
    }
   ],
   "source": [
    "# Get class mappings from features\n",
    "feat = train.features[y]\n",
    "feat"
   ]
  },
  {
   "cell_type": "code",
   "execution_count": 27,
   "id": "37641a9f-5b16-45f9-a1ef-c96611c18aaf",
   "metadata": {},
   "outputs": [
    {
     "data": {
      "text/plain": [
       "(['Ankle boot',\n",
       "  'T - shirt / top',\n",
       "  'T - shirt / top',\n",
       "  'Dress',\n",
       "  'T - shirt / top'],\n",
       " [9, 0, 0, 3, 0])"
      ]
     },
     "execution_count": 27,
     "metadata": {},
     "output_type": "execute_result"
    }
   ],
   "source": [
    "# Direct class mappings on samples\n",
    "feat.int2str(yb), train['label'][:5]"
   ]
  },
  {
   "cell_type": "markdown",
   "id": "5c0d8fd6-cd03-4d17-8fb3-3030d458673f",
   "metadata": {},
   "source": [
    "Now that we have our datasets, moving onto model training should be pretty straight forward.\n",
    "\n",
    "Let's move onto the collate function which will be slighlty different as compared to the previous NB. This approach allows us to reduce the amount of abstraction which was typically necessary for previous iterations dataloaders. So `collate_fn()` will:\n",
    "\n",
    "1. Loop through the each batch.\n",
    "2. Convert items to Tensors.\n",
    "3. Stack them up.\n",
    "\n",
    "...in one go."
   ]
  },
  {
   "cell_type": "code",
   "execution_count": 28,
   "id": "61d696b0-8810-4715-9a09-fe7d219d87d0",
   "metadata": {},
   "outputs": [],
   "source": [
    "def collate_fn(b):\n",
    "    # This will return a dictionary instead of a tuple in order to align with HuggingFace's approach.\n",
    "    return {x: torch.stack([TF.to_tensor(o[x]) for o in b]),\n",
    "            y: tensor([o[y] for o in b])} # This stacks on integers so we don't need to call torch.stack() explicitly"
   ]
  },
  {
   "cell_type": "code",
   "execution_count": 33,
   "id": "e744fd04-c9d5-46ad-948a-b9d08074752c",
   "metadata": {},
   "outputs": [
    {
     "data": {
      "text/plain": [
       "(torch.Size([16, 1, 28, 28]),\n",
       " tensor([9, 0, 0, 3, 0, 2, 7, 2, 5, 5, 0, 9, 5, 5, 7, 9]))"
      ]
     },
     "execution_count": 33,
     "metadata": {},
     "output_type": "execute_result"
    }
   ],
   "source": [
    "# Creating DataLoader\n",
    "dl = DataLoader(train, collate_fn=collate_fn, batch_size=16)\n",
    "b = next(iter(dl))\n",
    "# The batch has 16 images with each image being 28x28\n",
    "b[x].shape, b[y]"
   ]
  },
  {
   "cell_type": "markdown",
   "id": "b3d9363a-7fc1-4890-879d-fe7ec4d9db92",
   "metadata": {},
   "source": [
    "HuggingFace also allows us to move away from collation functions for simplified and flexible custom functionality. "
   ]
  },
  {
   "cell_type": "code",
   "execution_count": 34,
   "id": "4339f010-b778-446f-8197-09e76d62ae06",
   "metadata": {},
   "outputs": [],
   "source": [
    "def transforms(b):\n",
    "    # Within each batch, replace the PIL images with tensors\n",
    "    b[x] = [TF.to_tensor(o) for o in b[x]]\n",
    "    return b"
   ]
  },
  {
   "cell_type": "markdown",
   "id": "cf0e8021-2af7-48cf-8bef-ccb0a3c2e79a",
   "metadata": {},
   "source": [
    "HuggingFace's `with_transform()` applies the transformation on the fly when `__getitem__()` is called."
   ]
  },
  {
   "cell_type": "code",
   "execution_count": 36,
   "id": "a45491f6-3f22-4bd4-8429-8102fd8c4c6a",
   "metadata": {},
   "outputs": [
    {
     "data": {
      "text/plain": [
       "(torch.Size([16, 1, 28, 28]),\n",
       " tensor([9, 0, 0, 3, 0, 2, 7, 2, 5, 5, 0, 9, 5, 5, 7, 9]))"
      ]
     },
     "execution_count": 36,
     "metadata": {},
     "output_type": "execute_result"
    }
   ],
   "source": [
    "# Using with_transform() applies the custom transformation\n",
    "tds = train.with_transform(transforms)\n",
    "dl = DataLoader(tds, batch_size=16) # Now we don't need a collate function\n",
    "b = next(iter(dl))\n",
    "\n",
    "b[x].shape, b[y]"
   ]
  },
  {
   "cell_type": "markdown",
   "id": "96602d45-cf22-4203-b9e6-08faba2fa58e",
   "metadata": {},
   "source": [
    "However, as Jeremy pointed out, having `transforms()` return an object requires extra code that can be avoided. We can write a custom transformation function which runs inplace and can be stored as a callable object."
   ]
  },
  {
   "cell_type": "code",
   "execution_count": 40,
   "id": "87c2962e-4f80-4099-85eb-5dae087fe008",
   "metadata": {},
   "outputs": [],
   "source": [
    "# Creating transformation which can run inplace\n",
    "def _transformi(b): b[x] = [torch.flatten(TF.to_tensor(o)) for o in b[x]]"
   ]
  },
  {
   "cell_type": "code",
   "execution_count": 41,
   "id": "520fca97-7ccf-47eb-962a-0ecbc9dec9da",
   "metadata": {},
   "outputs": [],
   "source": [
    "# Now we can create an additional function which runs the inplace operation\n",
    "def inplace(f):\n",
    "    def _f(b):\n",
    "        f(b)\n",
    "        return b\n",
    "    return _f"
   ]
  },
  {
   "cell_type": "code",
   "execution_count": 43,
   "id": "0f22b0a8-0f98-4cff-b5e6-aa76170c054c",
   "metadata": {},
   "outputs": [],
   "source": [
    "# Calling the inplace transformation using our \"function generating function\"\n",
    "# func     = _func    (_func)\n",
    "transformi = inplace(_transformi)"
   ]
  },
  {
   "cell_type": "code",
   "execution_count": 45,
   "id": "ffe2c4b1-df75-411e-900d-be891fe46d11",
   "metadata": {},
   "outputs": [
    {
     "data": {
      "text/plain": [
       "(torch.Size([784]), 9)"
      ]
     },
     "execution_count": 45,
     "metadata": {},
     "output_type": "execute_result"
    }
   ],
   "source": [
    "# Rerunning with_transform() which returns the same result as the more verbose version above.\n",
    "r = train.with_transform(transformi)[0]\n",
    "r[x].shape, r[y]"
   ]
  },
  {
   "cell_type": "markdown",
   "id": "b79c8340-811b-479a-9d2c-766b125b084d",
   "metadata": {},
   "source": [
    "The fun part is that what we just implemented above i.e. using `transformi = inplace(_transformi)` where a function generates other functions, mirrors the functionality of Python **decorators**."
   ]
  },
  {
   "cell_type": "code",
   "execution_count": 46,
   "id": "da829295-84c4-4896-b955-bd0b3bc6ced4",
   "metadata": {},
   "outputs": [],
   "source": [
    "# Calling inplace as a decorator and redefining the transform function.\n",
    "@inplace\n",
    "def transformi(b): b[x] = [torch.flatten(TF.to_tensor(o)) for o in b[x]]"
   ]
  },
  {
   "cell_type": "code",
   "execution_count": 47,
   "id": "2850596b-5b90-459e-a08b-dc134752fabf",
   "metadata": {},
   "outputs": [
    {
     "data": {
      "text/plain": [
       "(torch.Size([784]), 9)"
      ]
     },
     "execution_count": 47,
     "metadata": {},
     "output_type": "execute_result"
    }
   ],
   "source": [
    "# Our results will be the same as before\n",
    "tdsf = train.with_transform(transformi)\n",
    "r = tdsf[0]\n",
    "\n",
    "r[x].shape, r[y]"
   ]
  },
  {
   "cell_type": "markdown",
   "id": "40be73a6-4902-421e-9671-717273eff55d",
   "metadata": {},
   "source": [
    "Moving on, we can also play around with the dynamic and highly flexible design of Python to add to the functionality of libraries like HuggingFace.\n",
    "\n",
    "The `itemgetter()` function is a great example of this concept at work."
   ]
  },
  {
   "cell_type": "code",
   "execution_count": 50,
   "id": "7e6edd54-4fa1-4acd-9943-23130a537b08",
   "metadata": {},
   "outputs": [
    {
     "data": {
      "text/plain": [
       "(1, 3)"
      ]
     },
     "execution_count": 50,
     "metadata": {},
     "output_type": "execute_result"
    }
   ],
   "source": [
    "d = dict(a=1, b=2, c=3)\n",
    "# Apply itemgetter to the dict above\n",
    "ig = itemgetter('a', 'c')\n",
    "ig(d)"
   ]
  },
  {
   "cell_type": "code",
   "execution_count": 51,
   "id": "95151f6f-f03e-41d8-ae3a-a725b0c33a56",
   "metadata": {},
   "outputs": [],
   "source": [
    "# This can be extended to classes as well.\n",
    "class D:\n",
    "    def __getitem__(self, k): return 1 if k=='a' else 2 if k=='b' else 3"
   ]
  },
  {
   "cell_type": "code",
   "execution_count": 58,
   "id": "819b112e-635f-47e4-891a-87edea2409ae",
   "metadata": {},
   "outputs": [
    {
     "data": {
      "text/plain": [
       "(1, 3)"
      ]
     },
     "execution_count": 58,
     "metadata": {},
     "output_type": "execute_result"
    }
   ],
   "source": [
    "d = D()\n",
    "ig(d)"
   ]
  },
  {
   "cell_type": "code",
   "execution_count": 59,
   "id": "96777c21-69b6-43b9-902a-84c15ea15874",
   "metadata": {},
   "outputs": [
    {
     "data": {
      "text/plain": [
       "['image', 'label']"
      ]
     },
     "execution_count": 59,
     "metadata": {},
     "output_type": "execute_result"
    }
   ],
   "source": [
    "list(tdsf.features)"
   ]
  },
  {
   "cell_type": "markdown",
   "id": "b17c87d0-1602-48b7-a0a5-66acc49ad29f",
   "metadata": {},
   "source": [
    "...continuing on the thread of flexibility, we can also experiment with Python's `default_collate()` function, which works exactly as the name implies."
   ]
  },
  {
   "cell_type": "code",
   "execution_count": 60,
   "id": "6c72a77e-053f-438a-95a1-44f64e655fba",
   "metadata": {},
   "outputs": [
    {
     "data": {
      "text/plain": [
       "({'a': [1], 'b': [2]}, {'a': [3], 'b': [4]})"
      ]
     },
     "execution_count": 60,
     "metadata": {},
     "output_type": "execute_result"
    }
   ],
   "source": [
    "batch = dict(a=[1], b=[2]), dict(a=[3], b=[4])\n",
    "batch"
   ]
  },
  {
   "cell_type": "markdown",
   "id": "1ef05350-70cd-43d5-b7b8-d64319fc477e",
   "metadata": {},
   "source": [
    "Let's see what the documentation for `default_collate` says."
   ]
  },
  {
   "cell_type": "code",
   "execution_count": 63,
   "id": "82628981-71e0-44b0-bdcf-3729111d7ac5",
   "metadata": {},
   "outputs": [
    {
     "data": {
      "text/plain": [
       "\u001b[0;31mSignature:\u001b[0m \u001b[0mdefault_collate\u001b[0m\u001b[0;34m(\u001b[0m\u001b[0mbatch\u001b[0m\u001b[0;34m)\u001b[0m\u001b[0;34m\u001b[0m\u001b[0;34m\u001b[0m\u001b[0m\n",
       "\u001b[0;31mDocstring:\u001b[0m\n",
       "Take in a batch of data and put the elements within the batch into a tensor with an additional outer dimension - batch size.\n",
       "\n",
       "The exact output type can be a :class:`torch.Tensor`, a `Sequence` of :class:`torch.Tensor`, a\n",
       "Collection of :class:`torch.Tensor`, or left unchanged, depending on the input type.\n",
       "This is used as the default function for collation when\n",
       "`batch_size` or `batch_sampler` is defined in :class:`~torch.utils.data.DataLoader`.\n",
       "\n",
       "Here is the general input type (based on the type of the element within the batch) to output type mapping:\n",
       "\n",
       "    * :class:`torch.Tensor` -> :class:`torch.Tensor` (with an added outer dimension batch size)\n",
       "    * NumPy Arrays -> :class:`torch.Tensor`\n",
       "    * `float` -> :class:`torch.Tensor`\n",
       "    * `int` -> :class:`torch.Tensor`\n",
       "    * `str` -> `str` (unchanged)\n",
       "    * `bytes` -> `bytes` (unchanged)\n",
       "    * `Mapping[K, V_i]` -> `Mapping[K, default_collate([V_1, V_2, ...])]`\n",
       "    * `NamedTuple[V1_i, V2_i, ...]` -> `NamedTuple[default_collate([V1_1, V1_2, ...]),\n",
       "      default_collate([V2_1, V2_2, ...]), ...]`\n",
       "    * `Sequence[V1_i, V2_i, ...]` -> `Sequence[default_collate([V1_1, V1_2, ...]),\n",
       "      default_collate([V2_1, V2_2, ...]), ...]`\n",
       "\n",
       "Args:\n",
       "    batch: a single batch to be collated\n",
       "\n",
       "Examples:\n",
       "    >>> # xdoctest: +SKIP\n",
       "    >>> # Example with a batch of `int`s:\n",
       "    >>> default_collate([0, 1, 2, 3])\n",
       "    tensor([0, 1, 2, 3])\n",
       "    >>> # Example with a batch of `str`s:\n",
       "    >>> default_collate(['a', 'b', 'c'])\n",
       "    ['a', 'b', 'c']\n",
       "    >>> # Example with `Map` inside the batch:\n",
       "    >>> default_collate([{'A': 0, 'B': 1}, {'A': 100, 'B': 100}])\n",
       "    {'A': tensor([  0, 100]), 'B': tensor([  1, 100])}\n",
       "    >>> # Example with `NamedTuple` inside the batch:\n",
       "    >>> Point = namedtuple('Point', ['x', 'y'])\n",
       "    >>> default_collate([Point(0, 0), Point(1, 1)])\n",
       "    Point(x=tensor([0, 1]), y=tensor([0, 1]))\n",
       "    >>> # Example with `Tuple` inside the batch:\n",
       "    >>> default_collate([(0, 1), (2, 3)])\n",
       "    [tensor([0, 2]), tensor([1, 3])]\n",
       "    >>> # Example with `List` inside the batch:\n",
       "    >>> default_collate([[0, 1], [2, 3]])\n",
       "    [tensor([0, 2]), tensor([1, 3])]\n",
       "    >>> # Two options to extend `default_collate` to handle specific type\n",
       "    >>> # Option 1: Write custom collate function and invoke `default_collate`\n",
       "    >>> def custom_collate(batch):\n",
       "    ...     elem = batch[0]\n",
       "    ...     if isinstance(elem, CustomType):  # Some custom condition\n",
       "    ...         return ...\n",
       "    ...     else:  # Fall back to `default_collate`\n",
       "    ...         return default_collate(batch)\n",
       "    >>> # Option 2: In-place modify `default_collate_fn_map`\n",
       "    >>> def collate_customtype_fn(batch, *, collate_fn_map=None):\n",
       "    ...     return ...\n",
       "    >>> default_collate_fn_map.update(CustoType, collate_customtype_fn)\n",
       "    >>> default_collate(batch)  # Handle `CustomType` automatically\n",
       "\u001b[0;31mFile:\u001b[0m      ~/miniforge3/lib/python3.10/site-packages/torch/utils/data/_utils/collate.py\n",
       "\u001b[0;31mType:\u001b[0m      function"
      ]
     },
     "metadata": {},
     "output_type": "display_data"
    }
   ],
   "source": [
    "default_collate?"
   ]
  },
  {
   "cell_type": "code",
   "execution_count": 62,
   "id": "04da340e-d3fd-41d5-89c5-dd8316f2aea4",
   "metadata": {},
   "outputs": [
    {
     "data": {
      "text/plain": [
       "{'a': [tensor([1, 3])], 'b': [tensor([2, 4])]}"
      ]
     },
     "execution_count": 62,
     "metadata": {},
     "output_type": "execute_result"
    }
   ],
   "source": [
    "default_collate(batch)"
   ]
  },
  {
   "cell_type": "markdown",
   "id": "afe5962d-9abc-4535-9f97-a03f77ca9f61",
   "metadata": {},
   "source": [
    "We can now create a function called `collate_dict()` which will take a dataset and create an `itemgetter()` function for the features i.e. images and labels. This function will then call `default_collate()` in place to collate these items for us."
   ]
  },
  {
   "cell_type": "code",
   "execution_count": 66,
   "id": "69ab23a7-f2d0-4948-80f8-dfdf514b5409",
   "metadata": {},
   "outputs": [],
   "source": [
    "def collate_dict(ds):\n",
    "    # Takes a dictionary and collates it into a tuple.\n",
    "    get = itemgetter(*ds.features)\n",
    "    def _f(b): return get(default_collate(b))\n",
    "    return _f"
   ]
  },
  {
   "cell_type": "code",
   "execution_count": 65,
   "id": "3e59c99b-fc57-4b4b-9c1b-267a43ed7f13",
   "metadata": {},
   "outputs": [
    {
     "data": {
      "text/plain": [
       "(torch.Size([4, 784]), [9, 0, 0, 3, 0])"
      ]
     },
     "execution_count": 65,
     "metadata": {},
     "output_type": "execute_result"
    }
   ],
   "source": [
    "# Calling collate_dict() inside the collate_fn for the DataLoader\n",
    "dlf = DataLoader(tdsf, batch_size=4, collate_fn=collate_dict(tdsf))\n",
    "xb, yby = next(iter(dlf))\n",
    "xb.shape, yb"
   ]
  },
  {
   "cell_type": "markdown",
   "id": "7a1bc147-f802-46d1-adec-5340d47835a3",
   "metadata": {},
   "source": [
    "This sort of flexibility allows us to easily move between HuggingFace and PyTorch, where data objects are usually stored as dictionaries for the prior and tuples in the case of the latter.|"
   ]
  },
  {
   "cell_type": "code",
   "execution_count": null,
   "id": "90c9715d-e093-42eb-acd9-1c7c67ee8f9b",
   "metadata": {},
   "outputs": [],
   "source": []
  }
 ],
 "metadata": {
  "kernelspec": {
   "display_name": "Python 3 (ipykernel)",
   "language": "python",
   "name": "python3"
  },
  "language_info": {
   "codemirror_mode": {
    "name": "ipython",
    "version": 3
   },
   "file_extension": ".py",
   "mimetype": "text/x-python",
   "name": "python",
   "nbconvert_exporter": "python",
   "pygments_lexer": "ipython3",
   "version": "3.10.14"
  },
  "widgets": {
   "application/vnd.jupyter.widget-state+json": {
    "state": {
     "0275b17b6383423fb0d6d129e5865178": {
      "model_module": "@jupyter-widgets/controls",
      "model_module_version": "2.0.0",
      "model_name": "HTMLStyleModel",
      "state": {
       "description_width": "",
       "font_size": null,
       "text_color": null
      }
     },
     "02a638c1499347b0a6254fc78ce632f4": {
      "model_module": "@jupyter-widgets/base",
      "model_module_version": "2.0.0",
      "model_name": "LayoutModel",
      "state": {}
     },
     "0353ac67b52741f99e57fc9c0da5c9f5": {
      "model_module": "@jupyter-widgets/controls",
      "model_module_version": "2.0.0",
      "model_name": "FloatProgressModel",
      "state": {
       "bar_style": "success",
       "layout": "IPY_MODEL_7d68f9bb7da040b3a89eb240ce683002",
       "max": 8845,
       "style": "IPY_MODEL_70edd92efc974cd1b0be74387ce37ba0",
       "value": 8845
      }
     },
     "05b7539d05a14e888e1dcae2189005ee": {
      "model_module": "@jupyter-widgets/base",
      "model_module_version": "2.0.0",
      "model_name": "LayoutModel",
      "state": {}
     },
     "05c4d1e2754b48f39e1cb20f03036709": {
      "model_module": "@jupyter-widgets/base",
      "model_module_version": "2.0.0",
      "model_name": "LayoutModel",
      "state": {}
     },
     "0727312080a145f8bc44422aab073eaa": {
      "model_module": "@jupyter-widgets/base",
      "model_module_version": "2.0.0",
      "model_name": "LayoutModel",
      "state": {}
     },
     "08995d6eb1324aed9c75511527e9a9f6": {
      "model_module": "@jupyter-widgets/base",
      "model_module_version": "2.0.0",
      "model_name": "LayoutModel",
      "state": {}
     },
     "0d936e3d066d4286b9528ab83611d1de": {
      "model_module": "@jupyter-widgets/controls",
      "model_module_version": "2.0.0",
      "model_name": "HTMLStyleModel",
      "state": {
       "description_width": "",
       "font_size": null,
       "text_color": null
      }
     },
     "1081332e4e264710bc1c1e7c85f3d334": {
      "model_module": "@jupyter-widgets/controls",
      "model_module_version": "2.0.0",
      "model_name": "ProgressStyleModel",
      "state": {
       "description_width": ""
      }
     },
     "108fb0c526684b2ba9476fee05d21e7d": {
      "model_module": "@jupyter-widgets/controls",
      "model_module_version": "2.0.0",
      "model_name": "HTMLModel",
      "state": {
       "layout": "IPY_MODEL_3db076398f2140bd9f1dfb285f30e66b",
       "style": "IPY_MODEL_c4056388247c4294aa01bc25509caaf0",
       "value": " 26.4M/26.4M [00:11&lt;00:00, 2.82MB/s]"
      }
     },
     "11befc0b8aa543a6bc649558129aff41": {
      "model_module": "@jupyter-widgets/base",
      "model_module_version": "2.0.0",
      "model_name": "LayoutModel",
      "state": {}
     },
     "240db6fd60d54c6c924fedc137911f10": {
      "model_module": "@jupyter-widgets/controls",
      "model_module_version": "2.0.0",
      "model_name": "HTMLModel",
      "state": {
       "layout": "IPY_MODEL_ad9fccbcdad44d4ea70e9dd885506e39",
       "style": "IPY_MODEL_855107e935ef474c9b41e964808b9eeb",
       "value": "Generating test split: 100%"
      }
     },
     "2ad621dc9d354b4b978286a5c644df2c": {
      "model_module": "@jupyter-widgets/controls",
      "model_module_version": "2.0.0",
      "model_name": "FloatProgressModel",
      "state": {
       "bar_style": "success",
       "layout": "IPY_MODEL_ab5559e781724967b3ae48a62288d3e1",
       "max": 4422102,
       "style": "IPY_MODEL_1081332e4e264710bc1c1e7c85f3d334",
       "value": 4422102
      }
     },
     "2cd7eb6d7fca444fb411bf3b2f872943": {
      "model_module": "@jupyter-widgets/controls",
      "model_module_version": "2.0.0",
      "model_name": "HTMLStyleModel",
      "state": {
       "description_width": "",
       "font_size": null,
       "text_color": null
      }
     },
     "30c6a15f0dc94852bc6f2f74810769bd": {
      "model_module": "@jupyter-widgets/controls",
      "model_module_version": "2.0.0",
      "model_name": "HBoxModel",
      "state": {
       "children": [
        "IPY_MODEL_a8a26ca73bba402581b1206270ab29db",
        "IPY_MODEL_befbcc887d6e4e548c593b61e9a87f21",
        "IPY_MODEL_eb942480486b4f4ea50cacca046620ea"
       ],
       "layout": "IPY_MODEL_05b7539d05a14e888e1dcae2189005ee"
      }
     },
     "368c720e585b41e29cf350539f236292": {
      "model_module": "@jupyter-widgets/controls",
      "model_module_version": "2.0.0",
      "model_name": "HTMLModel",
      "state": {
       "layout": "IPY_MODEL_08995d6eb1324aed9c75511527e9a9f6",
       "style": "IPY_MODEL_af287ed65595458388f2fdab6f728d67",
       "value": "Downloading data: 100%"
      }
     },
     "36f82badc9ed4db8a7f52c7e85f19d6d": {
      "model_module": "@jupyter-widgets/controls",
      "model_module_version": "2.0.0",
      "model_name": "ProgressStyleModel",
      "state": {
       "description_width": ""
      }
     },
     "3939cf31d2cd46ac8b99e4dfa0b44400": {
      "model_module": "@jupyter-widgets/base",
      "model_module_version": "2.0.0",
      "model_name": "LayoutModel",
      "state": {}
     },
     "3db076398f2140bd9f1dfb285f30e66b": {
      "model_module": "@jupyter-widgets/base",
      "model_module_version": "2.0.0",
      "model_name": "LayoutModel",
      "state": {}
     },
     "3e783de63e8242bb9789e10bd0d6ae3d": {
      "model_module": "@jupyter-widgets/controls",
      "model_module_version": "2.0.0",
      "model_name": "HTMLModel",
      "state": {
       "layout": "IPY_MODEL_d28961fa216a46b8a3b787bb0f6619a8",
       "style": "IPY_MODEL_8919b1a35c554da895e859a5459b2798",
       "value": " 4/4 [00:00&lt;00:00, 1322.71it/s]"
      }
     },
     "49cc575262e448cb9b6dad715d339b70": {
      "model_module": "@jupyter-widgets/base",
      "model_module_version": "2.0.0",
      "model_name": "LayoutModel",
      "state": {}
     },
     "4abace4afda54350961c71b5326233b4": {
      "model_module": "@jupyter-widgets/controls",
      "model_module_version": "2.0.0",
      "model_name": "HTMLStyleModel",
      "state": {
       "description_width": "",
       "font_size": null,
       "text_color": null
      }
     },
     "4bef9b2fbcc54432be07e86d8784a402": {
      "model_module": "@jupyter-widgets/controls",
      "model_module_version": "2.0.0",
      "model_name": "ProgressStyleModel",
      "state": {
       "description_width": ""
      }
     },
     "4d5d972ce7414e1ba718b0b3ac5b712a": {
      "model_module": "@jupyter-widgets/base",
      "model_module_version": "2.0.0",
      "model_name": "LayoutModel",
      "state": {}
     },
     "4f5152577be644e894e7aac906edfcb6": {
      "model_module": "@jupyter-widgets/controls",
      "model_module_version": "2.0.0",
      "model_name": "ProgressStyleModel",
      "state": {
       "description_width": ""
      }
     },
     "53065426c0194abbb5bc8b123077fe3f": {
      "model_module": "@jupyter-widgets/controls",
      "model_module_version": "2.0.0",
      "model_name": "HTMLStyleModel",
      "state": {
       "description_width": "",
       "font_size": null,
       "text_color": null
      }
     },
     "58e8367d5c90470d942dc9b6c9b629ee": {
      "model_module": "@jupyter-widgets/controls",
      "model_module_version": "2.0.0",
      "model_name": "HTMLModel",
      "state": {
       "layout": "IPY_MODEL_b80565228fff4078a1dbea9dbfd9415d",
       "style": "IPY_MODEL_0d936e3d066d4286b9528ab83611d1de",
       "value": "Generating train split: 100%"
      }
     },
     "5f81b7b2d19f4252ad18372b40572542": {
      "model_module": "@jupyter-widgets/base",
      "model_module_version": "2.0.0",
      "model_name": "LayoutModel",
      "state": {}
     },
     "63f51e289ba6490a957d88535814c0d9": {
      "model_module": "@jupyter-widgets/controls",
      "model_module_version": "2.0.0",
      "model_name": "FloatProgressModel",
      "state": {
       "bar_style": "success",
       "layout": "IPY_MODEL_fa6d359b58be44e6b2e1367e8809fc21",
       "max": 4,
       "style": "IPY_MODEL_d664ac1a02be453ea42a5e84a0ecdaba",
       "value": 4
      }
     },
     "64ed85b257b34a3c84f424fddf315e61": {
      "model_module": "@jupyter-widgets/base",
      "model_module_version": "2.0.0",
      "model_name": "LayoutModel",
      "state": {}
     },
     "6a6c737fbe8d467fa2ae0907fa05e5b6": {
      "model_module": "@jupyter-widgets/controls",
      "model_module_version": "2.0.0",
      "model_name": "HTMLStyleModel",
      "state": {
       "description_width": "",
       "font_size": null,
       "text_color": null
      }
     },
     "6aba6f6091674f3c82af9d60cbec8e6e": {
      "model_module": "@jupyter-widgets/base",
      "model_module_version": "2.0.0",
      "model_name": "LayoutModel",
      "state": {}
     },
     "6feb5d55fe394364b7fc263e227a1549": {
      "model_module": "@jupyter-widgets/controls",
      "model_module_version": "2.0.0",
      "model_name": "HTMLStyleModel",
      "state": {
       "description_width": "",
       "font_size": null,
       "text_color": null
      }
     },
     "70edd92efc974cd1b0be74387ce37ba0": {
      "model_module": "@jupyter-widgets/controls",
      "model_module_version": "2.0.0",
      "model_name": "ProgressStyleModel",
      "state": {
       "description_width": ""
      }
     },
     "75bfe5c29de74d798d579b563eaec004": {
      "model_module": "@jupyter-widgets/controls",
      "model_module_version": "2.0.0",
      "model_name": "HTMLStyleModel",
      "state": {
       "description_width": "",
       "font_size": null,
       "text_color": null
      }
     },
     "77e3c14fb5564476854e695119c930b9": {
      "model_module": "@jupyter-widgets/controls",
      "model_module_version": "2.0.0",
      "model_name": "HTMLModel",
      "state": {
       "layout": "IPY_MODEL_4d5d972ce7414e1ba718b0b3ac5b712a",
       "style": "IPY_MODEL_75bfe5c29de74d798d579b563eaec004",
       "value": " 4.42M/4.42M [00:03&lt;00:00, 1.87MB/s]"
      }
     },
     "7c2264caa26c49a4a692637d411a06f9": {
      "model_module": "@jupyter-widgets/controls",
      "model_module_version": "2.0.0",
      "model_name": "HTMLModel",
      "state": {
       "layout": "IPY_MODEL_c48201e24ab54665bc358789e73d9bf2",
       "style": "IPY_MODEL_9ea263a05b7f43ddbd7eb95ef5c03346",
       "value": " 8.85k/8.85k [00:00&lt;00:00, 774kB/s]"
      }
     },
     "7d19feb3fb5c4e0da1068291672ce450": {
      "model_module": "@jupyter-widgets/controls",
      "model_module_version": "2.0.0",
      "model_name": "HTMLModel",
      "state": {
       "layout": "IPY_MODEL_fd5ae0a22bad4dd88ec963acaacbbc44",
       "style": "IPY_MODEL_d9df6ab77155458ea9da7801e5b2d01e",
       "value": " 29.5k/29.5k [00:00&lt;00:00, 1.38MB/s]"
      }
     },
     "7d68f9bb7da040b3a89eb240ce683002": {
      "model_module": "@jupyter-widgets/base",
      "model_module_version": "2.0.0",
      "model_name": "LayoutModel",
      "state": {}
     },
     "7d7d78c7d3b64ff786b04fe0dedf5cd8": {
      "model_module": "@jupyter-widgets/base",
      "model_module_version": "2.0.0",
      "model_name": "LayoutModel",
      "state": {}
     },
     "844ea2fde9cc4d88827952ee39eb6003": {
      "model_module": "@jupyter-widgets/controls",
      "model_module_version": "2.0.0",
      "model_name": "HBoxModel",
      "state": {
       "children": [
        "IPY_MODEL_9a1e2a556b25473094842822365e5478",
        "IPY_MODEL_bdcb2154b4de4c14a62b71e582330cb2",
        "IPY_MODEL_d9753bfa6c79441fbe94bba8b8a38d9d"
       ],
       "layout": "IPY_MODEL_ad7960c44cdb49cf8ed24aac785c4fd6"
      }
     },
     "855107e935ef474c9b41e964808b9eeb": {
      "model_module": "@jupyter-widgets/controls",
      "model_module_version": "2.0.0",
      "model_name": "HTMLStyleModel",
      "state": {
       "description_width": "",
       "font_size": null,
       "text_color": null
      }
     },
     "8919b1a35c554da895e859a5459b2798": {
      "model_module": "@jupyter-widgets/controls",
      "model_module_version": "2.0.0",
      "model_name": "HTMLStyleModel",
      "state": {
       "description_width": "",
       "font_size": null,
       "text_color": null
      }
     },
     "89da025f30c845fe8fde511133411d60": {
      "model_module": "@jupyter-widgets/base",
      "model_module_version": "2.0.0",
      "model_name": "LayoutModel",
      "state": {}
     },
     "8b3e90c700bf4e6faa757a98444c2762": {
      "model_module": "@jupyter-widgets/controls",
      "model_module_version": "2.0.0",
      "model_name": "HTMLModel",
      "state": {
       "layout": "IPY_MODEL_e16ac01c303f4048a8d3666c3adfef97",
       "style": "IPY_MODEL_e146850386ff4497adb713e786053c0f",
       "value": "Downloading data: 100%"
      }
     },
     "8cfe4bb2717a47878e77b868b8894e5c": {
      "model_module": "@jupyter-widgets/base",
      "model_module_version": "2.0.0",
      "model_name": "LayoutModel",
      "state": {}
     },
     "8e8fda6c542844cdb26960a6a0f77b05": {
      "model_module": "@jupyter-widgets/controls",
      "model_module_version": "2.0.0",
      "model_name": "ProgressStyleModel",
      "state": {
       "description_width": ""
      }
     },
     "8ed0f9e4f4084f688bb17a95c7dea7be": {
      "model_module": "@jupyter-widgets/controls",
      "model_module_version": "2.0.0",
      "model_name": "HBoxModel",
      "state": {
       "children": [
        "IPY_MODEL_e0e2e018475046bdbc81898555979b21",
        "IPY_MODEL_63f51e289ba6490a957d88535814c0d9",
        "IPY_MODEL_3e783de63e8242bb9789e10bd0d6ae3d"
       ],
       "layout": "IPY_MODEL_02a638c1499347b0a6254fc78ce632f4"
      }
     },
     "8f52d45690ef4f7cb2107f1d99f07a92": {
      "model_module": "@jupyter-widgets/controls",
      "model_module_version": "2.0.0",
      "model_name": "HBoxModel",
      "state": {
       "children": [
        "IPY_MODEL_d051488a473141b7b02650cf63cdc5cd",
        "IPY_MODEL_0353ac67b52741f99e57fc9c0da5c9f5",
        "IPY_MODEL_7c2264caa26c49a4a692637d411a06f9"
       ],
       "layout": "IPY_MODEL_dc09647b89a649cbb107f7f48147943d"
      }
     },
     "8fce025ea9c8463ab5b2e277e7f6846e": {
      "model_module": "@jupyter-widgets/controls",
      "model_module_version": "2.0.0",
      "model_name": "HTMLModel",
      "state": {
       "layout": "IPY_MODEL_fb7efd693f714428bec64dee14310907",
       "style": "IPY_MODEL_4abace4afda54350961c71b5326233b4",
       "value": "Downloading data: 100%"
      }
     },
     "95896ed2fa1b48049d76c538dd712eda": {
      "model_module": "@jupyter-widgets/controls",
      "model_module_version": "2.0.0",
      "model_name": "HTMLModel",
      "state": {
       "layout": "IPY_MODEL_ad9d39616a4142e0abb1e6b2ff6c7eaa",
       "style": "IPY_MODEL_ba9d8fd9598f428faf8bd36545c06455",
       "value": " 60000/60000 [00:04&lt;00:00, 13559.56 examples/s]"
      }
     },
     "9a1e2a556b25473094842822365e5478": {
      "model_module": "@jupyter-widgets/controls",
      "model_module_version": "2.0.0",
      "model_name": "HTMLModel",
      "state": {
       "layout": "IPY_MODEL_8cfe4bb2717a47878e77b868b8894e5c",
       "style": "IPY_MODEL_0275b17b6383423fb0d6d129e5865178",
       "value": "Downloading data: 100%"
      }
     },
     "9ea263a05b7f43ddbd7eb95ef5c03346": {
      "model_module": "@jupyter-widgets/controls",
      "model_module_version": "2.0.0",
      "model_name": "HTMLStyleModel",
      "state": {
       "description_width": "",
       "font_size": null,
       "text_color": null
      }
     },
     "a228953c000c44deb4a590c2e97f6537": {
      "model_module": "@jupyter-widgets/controls",
      "model_module_version": "2.0.0",
      "model_name": "ProgressStyleModel",
      "state": {
       "description_width": ""
      }
     },
     "a59b76b7ba9f499e91bed025975cd67e": {
      "model_module": "@jupyter-widgets/base",
      "model_module_version": "2.0.0",
      "model_name": "LayoutModel",
      "state": {}
     },
     "a7aefb51257d45b692668e4c1d19b7a5": {
      "model_module": "@jupyter-widgets/controls",
      "model_module_version": "2.0.0",
      "model_name": "HTMLStyleModel",
      "state": {
       "description_width": "",
       "font_size": null,
       "text_color": null
      }
     },
     "a89016f84dde4254b16ec0e64342d724": {
      "model_module": "@jupyter-widgets/base",
      "model_module_version": "2.0.0",
      "model_name": "LayoutModel",
      "state": {}
     },
     "a8a26ca73bba402581b1206270ab29db": {
      "model_module": "@jupyter-widgets/controls",
      "model_module_version": "2.0.0",
      "model_name": "HTMLModel",
      "state": {
       "layout": "IPY_MODEL_f4a02a8c6c5d467daab8f8bd87eb2033",
       "style": "IPY_MODEL_6a6c737fbe8d467fa2ae0907fa05e5b6",
       "value": "Downloading builder script: 100%"
      }
     },
     "a9e7a36db52644e3a1683a5f6675ec94": {
      "model_module": "@jupyter-widgets/controls",
      "model_module_version": "2.0.0",
      "model_name": "HBoxModel",
      "state": {
       "children": [
        "IPY_MODEL_8fce025ea9c8463ab5b2e277e7f6846e",
        "IPY_MODEL_2ad621dc9d354b4b978286a5c644df2c",
        "IPY_MODEL_77e3c14fb5564476854e695119c930b9"
       ],
       "layout": "IPY_MODEL_f736225149c547d3a0953268be8c476a"
      }
     },
     "ab5559e781724967b3ae48a62288d3e1": {
      "model_module": "@jupyter-widgets/base",
      "model_module_version": "2.0.0",
      "model_name": "LayoutModel",
      "state": {}
     },
     "ab70034e366441c1b4d74485e3766c48": {
      "model_module": "@jupyter-widgets/controls",
      "model_module_version": "2.0.0",
      "model_name": "HTMLModel",
      "state": {
       "layout": "IPY_MODEL_64ed85b257b34a3c84f424fddf315e61",
       "style": "IPY_MODEL_a7aefb51257d45b692668e4c1d19b7a5",
       "value": " 10000/10000 [00:00&lt;00:00, 12596.12 examples/s]"
      }
     },
     "ad440c517bb24d53897667d1f29af8ff": {
      "model_module": "@jupyter-widgets/base",
      "model_module_version": "2.0.0",
      "model_name": "LayoutModel",
      "state": {}
     },
     "ad7960c44cdb49cf8ed24aac785c4fd6": {
      "model_module": "@jupyter-widgets/base",
      "model_module_version": "2.0.0",
      "model_name": "LayoutModel",
      "state": {}
     },
     "ad9d39616a4142e0abb1e6b2ff6c7eaa": {
      "model_module": "@jupyter-widgets/base",
      "model_module_version": "2.0.0",
      "model_name": "LayoutModel",
      "state": {}
     },
     "ad9fccbcdad44d4ea70e9dd885506e39": {
      "model_module": "@jupyter-widgets/base",
      "model_module_version": "2.0.0",
      "model_name": "LayoutModel",
      "state": {}
     },
     "af287ed65595458388f2fdab6f728d67": {
      "model_module": "@jupyter-widgets/controls",
      "model_module_version": "2.0.0",
      "model_name": "HTMLStyleModel",
      "state": {
       "description_width": "",
       "font_size": null,
       "text_color": null
      }
     },
     "b556245df35d447c8230dc1bbbbe2be8": {
      "model_module": "@jupyter-widgets/controls",
      "model_module_version": "2.0.0",
      "model_name": "HBoxModel",
      "state": {
       "children": [
        "IPY_MODEL_240db6fd60d54c6c924fedc137911f10",
        "IPY_MODEL_ec93b80c7232474b914a4eec14a39f82",
        "IPY_MODEL_ab70034e366441c1b4d74485e3766c48"
       ],
       "layout": "IPY_MODEL_7d7d78c7d3b64ff786b04fe0dedf5cd8"
      }
     },
     "b5f400fd16034d66abdbf679cf479fec": {
      "model_module": "@jupyter-widgets/controls",
      "model_module_version": "2.0.0",
      "model_name": "HTMLStyleModel",
      "state": {
       "description_width": "",
       "font_size": null,
       "text_color": null
      }
     },
     "b80565228fff4078a1dbea9dbfd9415d": {
      "model_module": "@jupyter-widgets/base",
      "model_module_version": "2.0.0",
      "model_name": "LayoutModel",
      "state": {}
     },
     "ba9d8fd9598f428faf8bd36545c06455": {
      "model_module": "@jupyter-widgets/controls",
      "model_module_version": "2.0.0",
      "model_name": "HTMLStyleModel",
      "state": {
       "description_width": "",
       "font_size": null,
       "text_color": null
      }
     },
     "bb30731bb5794033a2857794f61e63a1": {
      "model_module": "@jupyter-widgets/base",
      "model_module_version": "2.0.0",
      "model_name": "LayoutModel",
      "state": {}
     },
     "bdcb2154b4de4c14a62b71e582330cb2": {
      "model_module": "@jupyter-widgets/controls",
      "model_module_version": "2.0.0",
      "model_name": "FloatProgressModel",
      "state": {
       "bar_style": "success",
       "layout": "IPY_MODEL_49cc575262e448cb9b6dad715d339b70",
       "max": 5148,
       "style": "IPY_MODEL_a228953c000c44deb4a590c2e97f6537",
       "value": 5148
      }
     },
     "befbcc887d6e4e548c593b61e9a87f21": {
      "model_module": "@jupyter-widgets/controls",
      "model_module_version": "2.0.0",
      "model_name": "FloatProgressModel",
      "state": {
       "bar_style": "success",
       "layout": "IPY_MODEL_3939cf31d2cd46ac8b99e4dfa0b44400",
       "max": 4833,
       "style": "IPY_MODEL_4f5152577be644e894e7aac906edfcb6",
       "value": 4833
      }
     },
     "c4056388247c4294aa01bc25509caaf0": {
      "model_module": "@jupyter-widgets/controls",
      "model_module_version": "2.0.0",
      "model_name": "HTMLStyleModel",
      "state": {
       "description_width": "",
       "font_size": null,
       "text_color": null
      }
     },
     "c48201e24ab54665bc358789e73d9bf2": {
      "model_module": "@jupyter-widgets/base",
      "model_module_version": "2.0.0",
      "model_name": "LayoutModel",
      "state": {}
     },
     "d051488a473141b7b02650cf63cdc5cd": {
      "model_module": "@jupyter-widgets/controls",
      "model_module_version": "2.0.0",
      "model_name": "HTMLModel",
      "state": {
       "layout": "IPY_MODEL_a59b76b7ba9f499e91bed025975cd67e",
       "style": "IPY_MODEL_2cd7eb6d7fca444fb411bf3b2f872943",
       "value": "Downloading readme: 100%"
      }
     },
     "d28961fa216a46b8a3b787bb0f6619a8": {
      "model_module": "@jupyter-widgets/base",
      "model_module_version": "2.0.0",
      "model_name": "LayoutModel",
      "state": {}
     },
     "d598504172fe4e439b53c9e7a8bd1221": {
      "model_module": "@jupyter-widgets/controls",
      "model_module_version": "2.0.0",
      "model_name": "HBoxModel",
      "state": {
       "children": [
        "IPY_MODEL_58e8367d5c90470d942dc9b6c9b629ee",
        "IPY_MODEL_d6fbcdf56dd2461bb06c2270b514bf3c",
        "IPY_MODEL_95896ed2fa1b48049d76c538dd712eda"
       ],
       "layout": "IPY_MODEL_05c4d1e2754b48f39e1cb20f03036709"
      }
     },
     "d664ac1a02be453ea42a5e84a0ecdaba": {
      "model_module": "@jupyter-widgets/controls",
      "model_module_version": "2.0.0",
      "model_name": "ProgressStyleModel",
      "state": {
       "description_width": ""
      }
     },
     "d6fbcdf56dd2461bb06c2270b514bf3c": {
      "model_module": "@jupyter-widgets/controls",
      "model_module_version": "2.0.0",
      "model_name": "FloatProgressModel",
      "state": {
       "bar_style": "success",
       "layout": "IPY_MODEL_89da025f30c845fe8fde511133411d60",
       "max": 60000,
       "style": "IPY_MODEL_36f82badc9ed4db8a7f52c7e85f19d6d",
       "value": 60000
      }
     },
     "d9753bfa6c79441fbe94bba8b8a38d9d": {
      "model_module": "@jupyter-widgets/controls",
      "model_module_version": "2.0.0",
      "model_name": "HTMLModel",
      "state": {
       "layout": "IPY_MODEL_ad440c517bb24d53897667d1f29af8ff",
       "style": "IPY_MODEL_53065426c0194abbb5bc8b123077fe3f",
       "value": " 5.15k/5.15k [00:00&lt;00:00, 924kB/s]"
      }
     },
     "d9ce901d71d14dc6aef5b9a8b7069b51": {
      "model_module": "@jupyter-widgets/controls",
      "model_module_version": "2.0.0",
      "model_name": "HBoxModel",
      "state": {
       "children": [
        "IPY_MODEL_368c720e585b41e29cf350539f236292",
        "IPY_MODEL_edfa144f83c0451c9148f2e1b938a473",
        "IPY_MODEL_108fb0c526684b2ba9476fee05d21e7d"
       ],
       "layout": "IPY_MODEL_bb30731bb5794033a2857794f61e63a1"
      }
     },
     "d9df6ab77155458ea9da7801e5b2d01e": {
      "model_module": "@jupyter-widgets/controls",
      "model_module_version": "2.0.0",
      "model_name": "HTMLStyleModel",
      "state": {
       "description_width": "",
       "font_size": null,
       "text_color": null
      }
     },
     "dc09647b89a649cbb107f7f48147943d": {
      "model_module": "@jupyter-widgets/base",
      "model_module_version": "2.0.0",
      "model_name": "LayoutModel",
      "state": {}
     },
     "e0e2e018475046bdbc81898555979b21": {
      "model_module": "@jupyter-widgets/controls",
      "model_module_version": "2.0.0",
      "model_name": "HTMLModel",
      "state": {
       "layout": "IPY_MODEL_5f81b7b2d19f4252ad18372b40572542",
       "style": "IPY_MODEL_6feb5d55fe394364b7fc263e227a1549",
       "value": "Computing checksums: 100%"
      }
     },
     "e146850386ff4497adb713e786053c0f": {
      "model_module": "@jupyter-widgets/controls",
      "model_module_version": "2.0.0",
      "model_name": "HTMLStyleModel",
      "state": {
       "description_width": "",
       "font_size": null,
       "text_color": null
      }
     },
     "e16ac01c303f4048a8d3666c3adfef97": {
      "model_module": "@jupyter-widgets/base",
      "model_module_version": "2.0.0",
      "model_name": "LayoutModel",
      "state": {}
     },
     "e43747f469a342c9a47098e95eca5c37": {
      "model_module": "@jupyter-widgets/controls",
      "model_module_version": "2.0.0",
      "model_name": "HBoxModel",
      "state": {
       "children": [
        "IPY_MODEL_8b3e90c700bf4e6faa757a98444c2762",
        "IPY_MODEL_e4c646a52c9d419aa2df9eff07a6ccd5",
        "IPY_MODEL_7d19feb3fb5c4e0da1068291672ce450"
       ],
       "layout": "IPY_MODEL_a89016f84dde4254b16ec0e64342d724"
      }
     },
     "e4c646a52c9d419aa2df9eff07a6ccd5": {
      "model_module": "@jupyter-widgets/controls",
      "model_module_version": "2.0.0",
      "model_name": "FloatProgressModel",
      "state": {
       "bar_style": "success",
       "layout": "IPY_MODEL_0727312080a145f8bc44422aab073eaa",
       "max": 29515,
       "style": "IPY_MODEL_8e8fda6c542844cdb26960a6a0f77b05",
       "value": 29515
      }
     },
     "eb942480486b4f4ea50cacca046620ea": {
      "model_module": "@jupyter-widgets/controls",
      "model_module_version": "2.0.0",
      "model_name": "HTMLModel",
      "state": {
       "layout": "IPY_MODEL_11befc0b8aa543a6bc649558129aff41",
       "style": "IPY_MODEL_b5f400fd16034d66abdbf679cf479fec",
       "value": " 4.83k/4.83k [00:00&lt;00:00, 301kB/s]"
      }
     },
     "ec93b80c7232474b914a4eec14a39f82": {
      "model_module": "@jupyter-widgets/controls",
      "model_module_version": "2.0.0",
      "model_name": "FloatProgressModel",
      "state": {
       "bar_style": "success",
       "layout": "IPY_MODEL_6aba6f6091674f3c82af9d60cbec8e6e",
       "max": 10000,
       "style": "IPY_MODEL_f3b7ce40e6c94d9eaf88c7ab370f3c0c",
       "value": 10000
      }
     },
     "edfa144f83c0451c9148f2e1b938a473": {
      "model_module": "@jupyter-widgets/controls",
      "model_module_version": "2.0.0",
      "model_name": "FloatProgressModel",
      "state": {
       "bar_style": "success",
       "layout": "IPY_MODEL_fe90346b9f06477295c405d4762312a8",
       "max": 26421880,
       "style": "IPY_MODEL_4bef9b2fbcc54432be07e86d8784a402",
       "value": 26421880
      }
     },
     "f3b7ce40e6c94d9eaf88c7ab370f3c0c": {
      "model_module": "@jupyter-widgets/controls",
      "model_module_version": "2.0.0",
      "model_name": "ProgressStyleModel",
      "state": {
       "description_width": ""
      }
     },
     "f4a02a8c6c5d467daab8f8bd87eb2033": {
      "model_module": "@jupyter-widgets/base",
      "model_module_version": "2.0.0",
      "model_name": "LayoutModel",
      "state": {}
     },
     "f736225149c547d3a0953268be8c476a": {
      "model_module": "@jupyter-widgets/base",
      "model_module_version": "2.0.0",
      "model_name": "LayoutModel",
      "state": {}
     },
     "fa6d359b58be44e6b2e1367e8809fc21": {
      "model_module": "@jupyter-widgets/base",
      "model_module_version": "2.0.0",
      "model_name": "LayoutModel",
      "state": {}
     },
     "fb7efd693f714428bec64dee14310907": {
      "model_module": "@jupyter-widgets/base",
      "model_module_version": "2.0.0",
      "model_name": "LayoutModel",
      "state": {}
     },
     "fd5ae0a22bad4dd88ec963acaacbbc44": {
      "model_module": "@jupyter-widgets/base",
      "model_module_version": "2.0.0",
      "model_name": "LayoutModel",
      "state": {}
     },
     "fe90346b9f06477295c405d4762312a8": {
      "model_module": "@jupyter-widgets/base",
      "model_module_version": "2.0.0",
      "model_name": "LayoutModel",
      "state": {}
     }
    },
    "version_major": 2,
    "version_minor": 0
   }
  }
 },
 "nbformat": 4,
 "nbformat_minor": 5
}
