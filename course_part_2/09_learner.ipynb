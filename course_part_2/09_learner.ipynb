{
 "cells": [
  {
   "cell_type": "markdown",
   "id": "b8ee44bc-b0b5-4e5d-b265-78d5b2259714",
   "metadata": {},
   "source": [
    "# **Framework Improvements - Adding The Learner Class**"
   ]
  },
  {
   "cell_type": "code",
   "execution_count": 1,
   "id": "7626147a-95e7-48a0-b3fc-a7748fbb5a26",
   "metadata": {},
   "outputs": [],
   "source": [
    "import numpy as np\n",
    "import pandas as pd\n",
    "import matplotlib as mpl\n",
    "import matplotlib.pyplot as plt\n",
    "import pickle, gzip, math, os, time, shutil\n",
    "import fastcore.all as fc\n",
    "from operator import attrgetter, itemgetter\n",
    "from functools import partial\n",
    "from collections.abc import Mapping\n",
    "from contextlib import contextmanager\n",
    "from pathlib import Path\n",
    "from copy import copy\n",
    "\n",
    "import torch\n",
    "from torch import nn, tensor, optim\n",
    "from torch.utils.data import default_collate, DataLoader\n",
    "import torch.nn.functional as F\n",
    "import torchvision.transforms.functional as TF\n",
    "from datasets import load_dataset, load_dataset_builder\n",
    "\n",
    "from miniai.training import * # Modules have already been developed in previous NBs\n",
    "from miniai.datasets import * # and, reside in separate Github repo.\n",
    "from miniai.conv import *\n",
    "from fastprogress import progress_bar, master_bar"
   ]
  },
  {
   "cell_type": "code",
   "execution_count": 2,
   "id": "be4bd243-490a-4aaf-9a68-89f72a159e9b",
   "metadata": {},
   "outputs": [],
   "source": [
    "from fastcore.test import test_close\n",
    "\n",
    "torch.set_printoptions(precision=2, linewidth=14, sci_mode=False)\n",
    "torch.manual_seed(1)\n",
    "mpl.rcParams['image.cmap'] = 'gray'\n",
    "\n",
    "import logging \n",
    "logging.disable(logging.WARNING)"
   ]
  },
  {
   "cell_type": "markdown",
   "id": "46b5f496-d6a1-4529-9f15-62a377d18388",
   "metadata": {},
   "source": [
    "## **The Learner**"
   ]
  },
  {
   "cell_type": "markdown",
   "id": "119f4c15-77e7-4bae-bd1f-452095705faf",
   "metadata": {},
   "source": [
    "The objective of this new class will be to:\n",
    "1. Enable rapid testing of new approaches wrt the modeling process, especially on the training and inference fronts.\n",
    "2. Constantly build on-top of the existing learner's functionality.\n",
    "3. Allow improved inspection, optimized CUDA implementations etc.\n",
    "\n",
    "So, let's get the HuggingFace `Fashion_MNIST` dataset again."
   ]
  },
  {
   "cell_type": "code",
   "execution_count": 3,
   "id": "328812bd-3ddb-4952-9ca6-60c5aa858e42",
   "metadata": {},
   "outputs": [],
   "source": [
    "x, y = 'image', 'label'\n",
    "name  = \"fashion_mnist\"\n",
    "dsd = load_dataset(name)"
   ]
  },
  {
   "cell_type": "code",
   "execution_count": 4,
   "id": "54e37bc4-a30a-476a-aa15-d06f993e5d06",
   "metadata": {},
   "outputs": [
    {
     "data": {
      "text/plain": [
       "DatasetDict({\n",
       "    train: Dataset({\n",
       "        features: ['image', 'label'],\n",
       "        num_rows: 60000\n",
       "    })\n",
       "    test: Dataset({\n",
       "        features: ['image', 'label'],\n",
       "        num_rows: 10000\n",
       "    })\n",
       "})"
      ]
     },
     "execution_count": 4,
     "metadata": {},
     "output_type": "execute_result"
    }
   ],
   "source": [
    "dsd"
   ]
  },
  {
   "cell_type": "code",
   "execution_count": 5,
   "id": "5677ecc6-9d25-4604-9a76-720665644ffd",
   "metadata": {},
   "outputs": [],
   "source": [
    "@inplace\n",
    "def transformi(b): b[x] = [torch.flatten(TF.to_tensor(o)) for o in b[x]]"
   ]
  },
  {
   "cell_type": "code",
   "execution_count": 6,
   "id": "5c4f24ab-2fe2-4c94-b6bc-3d1c03c9f8d7",
   "metadata": {},
   "outputs": [],
   "source": [
    "bs = 1024\n",
    "tds = dsd.with_transform(transformi)"
   ]
  },
  {
   "cell_type": "code",
   "execution_count": 7,
   "id": "90d22483-b3d8-4130-a3c8-2db3a6f16b56",
   "metadata": {},
   "outputs": [
    {
     "data": {
      "text/plain": [
       "(torch.Size([1024, 784]),\n",
       " tensor([5, 4,\n",
       "         9, 4,\n",
       "         3, 0,\n",
       "         6, 5,\n",
       "         7, 6]))"
      ]
     },
     "execution_count": 7,
     "metadata": {},
     "output_type": "execute_result"
    }
   ],
   "source": [
    "dls = DataLoaders.from_dd(tds, bs, num_workers=4)\n",
    "dt = dls.train\n",
    "xb, yb = next(iter(dt))\n",
    "xb.shape, yb[:10]"
   ]
  },
  {
   "cell_type": "markdown",
   "id": "83d4ce87-45f3-4f42-8c13-2703c3ca6078",
   "metadata": {},
   "source": [
    "Prose"
   ]
  },
  {
   "cell_type": "code",
   "execution_count": 8,
   "id": "a888baa4-93cc-482b-a217-0590ad15d4be",
   "metadata": {},
   "outputs": [],
   "source": [
    "class Learner:\n",
    "    def __init__(self, model, dls, loss_func, lr, opt_func=optim.SGD): \n",
    "        # fastcore store_attr() reduces the amount of boilerplate that usually goes\n",
    "        # into an __init__()\n",
    "        fc.store_attr()\n",
    "\n",
    "    def one_batch(self):\n",
    "        self.xb, self.yb = to_device(self.batch)\n",
    "        self.preds = self.model(self.xb)\n",
    "        self.loss = self.loss_func(self.preds, self.yb)\n",
    "        if self.model.training:\n",
    "            self.loss.backward()\n",
    "            self.opt.step()\n",
    "            self.opt.zero_grad()\n",
    "        with torch.no_grad(): self.calc_stats()\n",
    "\n",
    "    def calc_stats(self):\n",
    "        acc = (self.preds.argmax(dim=1)==self.yb).float().sum()\n",
    "        self.accs.append(acc)\n",
    "        n = len(self.xb)\n",
    "        self.losses.append(self.loss*n)\n",
    "        self.ns.append(n)\n",
    "\n",
    "    def one_epoch(self, train):\n",
    "        self.model.training = train\n",
    "        dl = self.dls.train if train else self.dls.valid\n",
    "        for self.num,self.batch in enumerate(dl): self.one_batch()\n",
    "        n = sum(self.ns)\n",
    "        print(self.epoch, self.model.training, sum(self.losses).item()/n, sum(self.accs).item()/n)\n",
    "    \n",
    "    def fit(self, n_epochs):\n",
    "        self.accs, self.losses,self.ns = [],[],[]\n",
    "        self.model.to(def_device)\n",
    "        self.opt = self.opt_func(self.model.parameters(), self.lr)\n",
    "        self.n_epochs = n_epochs\n",
    "        for self.epoch in range(n_epochs):\n",
    "            self.one_epoch(True)\n",
    "            with torch.no_grad(): self.one_epoch(False)"
   ]
  },
  {
   "cell_type": "markdown",
   "id": "2bfa528c-3a94-4298-bbac-60f5489663ec",
   "metadata": {},
   "source": [
    "We can test the new learner on the simple MLP. Also, note that we can now add `num_workers` to the DataLoader to improve the performance of collate functions."
   ]
  },
  {
   "cell_type": "code",
   "execution_count": 9,
   "id": "bbbc6a91-e541-4ca3-b8e2-d8b33a836c7d",
   "metadata": {},
   "outputs": [],
   "source": [
    "m, nh = 28*28, 50\n",
    "model = nn.Sequential(nn.Linear(m, nh), nn.ReLU(), nn.Linear(nh, 10))"
   ]
  },
  {
   "cell_type": "code",
   "execution_count": 10,
   "id": "a0ea56d7-fd95-4f9d-9f45-a0d17538f772",
   "metadata": {},
   "outputs": [
    {
     "name": "stdout",
     "output_type": "stream",
     "text": [
      "0 True 1.1753046875 0.5986833333333333\n",
      "0 False 1.1203290178571428 0.6135285714285714\n"
     ]
    }
   ],
   "source": [
    "learn = Learner(model, dls, F.cross_entropy, lr=0.2)\n",
    "learn.fit(1)"
   ]
  },
  {
   "cell_type": "markdown",
   "id": "82986276-52f0-486f-bfec-2f99e64f86dc",
   "metadata": {},
   "source": [
    "## **Basic Callbacks Learner**"
   ]
  },
  {
   "cell_type": "code",
   "execution_count": 11,
   "id": "fc19b2a7-f804-4fc8-bccf-97c9366545c3",
   "metadata": {},
   "outputs": [],
   "source": [
    "class CancelFitException(Exception): pass\n",
    "class CancelBatchException(Exception): pass\n",
    "class CancelEpochException(Exception): pass"
   ]
  },
  {
   "cell_type": "code",
   "execution_count": 12,
   "id": "108089f9-3b77-487d-b325-8a148f86452d",
   "metadata": {},
   "outputs": [],
   "source": [
    "class Callback(): order = 0"
   ]
  },
  {
   "cell_type": "code",
   "execution_count": 13,
   "id": "83781953-1167-44a8-866c-a60646fc6a72",
   "metadata": {},
   "outputs": [],
   "source": [
    "def run_cbs(cbs, method_nm, learn=None):\n",
    "    for cb in sorted(cbs, key=attrgetter('order')):\n",
    "        method = getattr(cb, method_nm, None)\n",
    "        if method is not None: method(learn)"
   ]
  },
  {
   "cell_type": "code",
   "execution_count": 14,
   "id": "847d1f75-9db0-4614-9e34-44696deaff89",
   "metadata": {},
   "outputs": [],
   "source": [
    "class CompletionCB(Callback):\n",
    "    def before_fit(self, learn): self.count = 0\n",
    "    def after_batch(self, learn): self.count += 1\n",
    "    def after_fit(self, learn): print(f'Completed {self.count} batches')"
   ]
  },
  {
   "cell_type": "code",
   "execution_count": 15,
   "id": "77023853-1fb2-42a3-84d3-eca4f5bcd03f",
   "metadata": {},
   "outputs": [
    {
     "name": "stdout",
     "output_type": "stream",
     "text": [
      "Completed 1 batches\n"
     ]
    }
   ],
   "source": [
    "cbs = [CompletionCB()]\n",
    "run_cbs(cbs, 'before_fit')\n",
    "run_cbs(cbs, 'after_batch')\n",
    "run_cbs(cbs, 'after_fit')"
   ]
  },
  {
   "cell_type": "markdown",
   "id": "e0da7d5c-5581-4b65-9973-8853ec096dd2",
   "metadata": {},
   "source": [
    "Introducing additional callbacks for demonstrative purposes. The Learner's code will be changed accordingly."
   ]
  },
  {
   "cell_type": "code",
   "execution_count": 16,
   "id": "2e157855-f893-4c32-a1f9-9fd9554a4bb2",
   "metadata": {},
   "outputs": [],
   "source": [
    "class Learner():\n",
    "    def __init__(self, model, dls, loss_func, lr, cbs, opt_func=optim.SGD): fc.store_attr()\n",
    "\n",
    "    def one_batch(self):\n",
    "        self.preds = self.model(self.batch[0])\n",
    "        self.loss = self.loss_func(self.preds, self.batch[1])\n",
    "        if self.model.training:\n",
    "            self.loss.backward()\n",
    "            self.opt.step()\n",
    "            self.opt.zero_grad()\n",
    "\n",
    "    def one_epoch(self, train):\n",
    "        self.model.train(train)\n",
    "        self.dl = self.dls.train if train else self.dls.valid\n",
    "        try:\n",
    "            self.callback('before_epoch')\n",
    "            for self.iter,self.batch in enumerate(self.dl):\n",
    "                try:\n",
    "                    self.callback('before_batch')\n",
    "                    self.one_batch()\n",
    "                    self.callback('after_batch')\n",
    "                except CancelBatchException: pass\n",
    "            self.callback('after_epoch')\n",
    "        except CancelEpochException: pass\n",
    "    \n",
    "    def fit(self, n_epochs):\n",
    "        self.n_epochs = n_epochs\n",
    "        self.epochs = range(n_epochs)\n",
    "        self.opt = self.opt_func(self.model.parameters(), self.lr)\n",
    "        try:\n",
    "            self.callback('before_fit')\n",
    "            for self.epoch in self.epochs:\n",
    "                self.one_epoch(True)\n",
    "                self.one_epoch(False)\n",
    "            self.callback('after_fit')\n",
    "        except CancelFitException: pass\n",
    "\n",
    "    def callback(self, method_nm): run_cbs(self.cbs, method_nm, self)"
   ]
  },
  {
   "cell_type": "code",
   "execution_count": 17,
   "id": "7392471c-1092-49f8-a63b-80a899153605",
   "metadata": {},
   "outputs": [],
   "source": [
    "m, nh = 28*28, 50\n",
    "def get_model(): return nn.Sequential(nn.Linear(m, nh), nn.ReLU(), nn.Linear(nh, 10))"
   ]
  },
  {
   "cell_type": "code",
   "execution_count": 19,
   "id": "8c2071e3-cc30-4767-9fca-6c133e3cf20b",
   "metadata": {},
   "outputs": [
    {
     "name": "stdout",
     "output_type": "stream",
     "text": [
      "Completed 64 batches\n"
     ]
    }
   ],
   "source": [
    "model = get_model()\n",
    "learn = Learner(model, dls, F.cross_entropy, lr=0.2, cbs=[CompletionCB()])\n",
    "learn.fit(1)"
   ]
  },
  {
   "cell_type": "code",
   "execution_count": 20,
   "id": "b3f1d55a-0cc9-4c67-a578-f899b86147d5",
   "metadata": {},
   "outputs": [],
   "source": [
    "class SingleBatchCB(Callback):\n",
    "    order = 1\n",
    "    def after_batch(self, learn): raise CancelFitException()"
   ]
  },
  {
   "cell_type": "code",
   "execution_count": 21,
   "id": "c7276bfa-6431-49b3-8960-98e5a0d80bd9",
   "metadata": {},
   "outputs": [],
   "source": [
    "learn = Learner(get_model(), dls, F.cross_entropy, lr=0.2, cbs=[SingleBatchCB(), CompletionCB()])\n",
    "learn.fit(1)"
   ]
  },
  {
   "cell_type": "markdown",
   "id": "01eef682-5573-4278-a81d-371e59f4f7dc",
   "metadata": {},
   "source": [
    "## **Metrics**"
   ]
  },
  {
   "cell_type": "markdown",
   "id": "50e5d9cc-a86f-4681-8b3f-06e6fe6f7e08",
   "metadata": {},
   "source": [
    "As the framework begins to take shape, we won't be working exclusively with `Cross Entropy` loss. This is because the framework is supposed to be flexible for a wide range of deep learning problems, be they generative or otherwise.\n",
    "\n",
    "With this in mind, let's create a `Metrics` class. Here, we will also introduce the concept of [Sub-classing](https://llego.dev/posts/in-depth-guide-superclasses-subclasses-python/), which in short is:\n",
    "\n",
    "> Superclasses and subclasses are key concepts in object-oriented programming that allow code reuse through inheritance. A superclass, also called a base class or parent class, contains attributes and methods that are common to a set of related classes. A subclass, also known as a derived class or child class, inherits from the superclass and specializes or extends its capabilities."
   ]
  },
  {
   "cell_type": "code",
   "execution_count": 28,
   "id": "2adf63ab-3077-451e-b7c1-b66984f371cc",
   "metadata": {},
   "outputs": [],
   "source": [
    "class Metric:\n",
    "    def __init__(self): self.reset()\n",
    "\n",
    "    def reset(self): self.vals, self.ns = [], []\n",
    "\n",
    "    def add(self, inp, targ=None, n=1): # n = number of items in the mini-batch\n",
    "        self.last = self.calc(inp, targ)\n",
    "        self.vals.append(self.last)\n",
    "        self.ns.append(n)\n",
    "\n",
    "    @property\n",
    "    def value(self):\n",
    "        ns = tensor(self.ns)\n",
    "        return (tensor(self.vals)*ns).sum() / ns.sum()\n",
    "\n",
    "    def calc(self, inps, targ): return inps"
   ]
  },
  {
   "cell_type": "markdown",
   "id": "c99c36e0-bcfc-4afc-ba23-0c104c8a757d",
   "metadata": {},
   "source": [
    "Here, `Accuracy` is the subclass of `Metric`. Whats happening under the hood is that `calc()`, when it is called in `Accuracy`, basically uses the code from the `Metric` class and runs its own version of the function instead of the parent / super-class's version."
   ]
  },
  {
   "cell_type": "code",
   "execution_count": 26,
   "id": "734025df-05b1-4042-ac69-a5515692d4dc",
   "metadata": {},
   "outputs": [],
   "source": [
    "class Accuracy(Metric):\n",
    "    # The sub-class runs this version of calc() instead of the parent's version.\n",
    "    def calc(self, inps, targs): return  (inps==targs).float().mean()"
   ]
  },
  {
   "cell_type": "code",
   "execution_count": 27,
   "id": "2e6687dc-15f6-4dc4-85e3-f54ca0f61903",
   "metadata": {},
   "outputs": [
    {
     "data": {
      "text/plain": [
       "tensor(0.45)"
      ]
     },
     "execution_count": 27,
     "metadata": {},
     "output_type": "execute_result"
    }
   ],
   "source": [
    "# For demonstration purposes, creating some random inputs and predictions\n",
    "acc = Accuracy()\n",
    "# Each call to add() stores the  inputs and predictions\n",
    "acc.add(tensor([0, 1, 2, 0, 1, 2]), tensor([0, 1, 1, 2, 1, 0]))\n",
    "acc.add(tensor([1, 1, 2, 0, 1]), tensor([0, 1, 1, 2, 1]))\n",
    "# Here value is a property of Metric\n",
    "acc.value"
   ]
  },
  {
   "cell_type": "code",
   "execution_count": 25,
   "id": "e1a4877c-942f-4d10-95be-e34f3ff6f2c8",
   "metadata": {},
   "outputs": [
    {
     "data": {
      "text/plain": [
       "(tensor(0.62), 0.62)"
      ]
     },
     "execution_count": 25,
     "metadata": {},
     "output_type": "execute_result"
    }
   ],
   "source": [
    "# In contrast to Accuracy(), Metric() will calculate whatever is passed.\n",
    "loss = Metric()\n",
    "loss.add(0.6, n=32)\n",
    "loss.add(0.9, n=2)\n",
    "\n",
    "loss.value, round((0.6*32 + 0.9*2) / (32+2), 2)"
   ]
  },
  {
   "cell_type": "code",
   "execution_count": null,
   "id": "61d16112-21d7-45bc-8f7b-2a3e2fa5dc46",
   "metadata": {},
   "outputs": [],
   "source": []
  },
  {
   "cell_type": "code",
   "execution_count": null,
   "id": "7116e844-bd8a-4396-b6f4-30c359cb3729",
   "metadata": {},
   "outputs": [],
   "source": []
  },
  {
   "cell_type": "code",
   "execution_count": null,
   "id": "ef37b53d-86f3-4e36-b45d-306c326fb2fa",
   "metadata": {},
   "outputs": [],
   "source": []
  },
  {
   "cell_type": "code",
   "execution_count": null,
   "id": "8904be64-e979-49f9-bbf1-720ef4e49026",
   "metadata": {},
   "outputs": [],
   "source": []
  },
  {
   "cell_type": "code",
   "execution_count": null,
   "id": "a2ebd9ae-0b53-4589-952d-f6aac726f31a",
   "metadata": {},
   "outputs": [],
   "source": []
  },
  {
   "cell_type": "code",
   "execution_count": null,
   "id": "d5f9740b-9d3e-4c7f-9526-2734687321fa",
   "metadata": {},
   "outputs": [],
   "source": []
  },
  {
   "cell_type": "code",
   "execution_count": null,
   "id": "889b736a-e787-426a-83a4-c1ad79b4f70c",
   "metadata": {},
   "outputs": [],
   "source": []
  }
 ],
 "metadata": {
  "kernelspec": {
   "display_name": "Python 3 (ipykernel)",
   "language": "python",
   "name": "python3"
  },
  "language_info": {
   "codemirror_mode": {
    "name": "ipython",
    "version": 3
   },
   "file_extension": ".py",
   "mimetype": "text/x-python",
   "name": "python",
   "nbconvert_exporter": "python",
   "pygments_lexer": "ipython3",
   "version": "3.10.14"
  },
  "widgets": {
   "application/vnd.jupyter.widget-state+json": {
    "state": {},
    "version_major": 2,
    "version_minor": 0
   }
  }
 },
 "nbformat": 4,
 "nbformat_minor": 5
}
