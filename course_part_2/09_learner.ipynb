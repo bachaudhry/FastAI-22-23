{
 "cells": [
  {
   "cell_type": "markdown",
   "id": "b8ee44bc-b0b5-4e5d-b265-78d5b2259714",
   "metadata": {},
   "source": [
    "# **Framework Improvements - Adding The Learner Class**"
   ]
  },
  {
   "cell_type": "code",
   "execution_count": 3,
   "id": "7626147a-95e7-48a0-b3fc-a7748fbb5a26",
   "metadata": {},
   "outputs": [],
   "source": [
    "import numpy as np\n",
    "import pandas as pd\n",
    "import matplotlib as mpl\n",
    "import matplotlib.pyplot as plt\n",
    "import pickle, gzip, math, os, time, shutil\n",
    "import fastcore.all as fc\n",
    "from operator import attrgetter, itemgetter\n",
    "from functools import partial\n",
    "from collections.abc import Mapping\n",
    "from contextlib import contextmanager\n",
    "from pathlib import Path\n",
    "from copy import copy\n",
    "\n",
    "import torch\n",
    "from torch import nn, tensor, optim\n",
    "from torch.utils.data import default_collate, DataLoader\n",
    "import torch.nn.functional as F\n",
    "import torchvision.transforms.functional as TF\n",
    "from datasets import load_dataset, load_dataset_builder\n",
    "\n",
    "from miniai.training import * # Modules have already been developed in previous NBs\n",
    "from miniai.datasets import * # and, reside in separate Github repo.\n",
    "from miniai.conv import *\n",
    "from fastprogress import progress_bar, master_bar"
   ]
  },
  {
   "cell_type": "code",
   "execution_count": 2,
   "id": "be4bd243-490a-4aaf-9a68-89f72a159e9b",
   "metadata": {},
   "outputs": [],
   "source": [
    "from fastcore.test import test_close\n",
    "\n",
    "torch.set_printoptions(precision=2, linewidth=14, sci_mode=False)\n",
    "torch.manual_seed(1)\n",
    "mpl.rcParams['image.cmap'] = 'gray'\n",
    "\n",
    "import logging \n",
    "logging.disable(logging.WARNING)"
   ]
  },
  {
   "cell_type": "markdown",
   "id": "46b5f496-d6a1-4529-9f15-62a377d18388",
   "metadata": {},
   "source": [
    "## **The Learner**"
   ]
  },
  {
   "cell_type": "markdown",
   "id": "119f4c15-77e7-4bae-bd1f-452095705faf",
   "metadata": {},
   "source": [
    "The objective of this new class will be to:\n",
    "1. Enable rapid testing of new approaches wrt the modeling process, especially on the training and inference fronts.\n",
    "2. Constantly build on-top of the existing learner's functionality.\n",
    "3. Allow improved inspection, optimized CUDA implementations etc.\n",
    "\n",
    "So, let's get the HuggingFace `Fashion_MNIST` dataset again."
   ]
  },
  {
   "cell_type": "code",
   "execution_count": 4,
   "id": "328812bd-3ddb-4952-9ca6-60c5aa858e42",
   "metadata": {},
   "outputs": [],
   "source": [
    "x, y = 'image', 'label'\n",
    "name  = \"fashion_mnist\"\n",
    "dsd = load_dataset(name)"
   ]
  },
  {
   "cell_type": "code",
   "execution_count": 5,
   "id": "54e37bc4-a30a-476a-aa15-d06f993e5d06",
   "metadata": {},
   "outputs": [
    {
     "data": {
      "text/plain": [
       "DatasetDict({\n",
       "    train: Dataset({\n",
       "        features: ['image', 'label'],\n",
       "        num_rows: 60000\n",
       "    })\n",
       "    test: Dataset({\n",
       "        features: ['image', 'label'],\n",
       "        num_rows: 10000\n",
       "    })\n",
       "})"
      ]
     },
     "execution_count": 5,
     "metadata": {},
     "output_type": "execute_result"
    }
   ],
   "source": [
    "dsd"
   ]
  },
  {
   "cell_type": "code",
   "execution_count": 6,
   "id": "5677ecc6-9d25-4604-9a76-720665644ffd",
   "metadata": {},
   "outputs": [],
   "source": [
    "@inplace\n",
    "def transformi(b): b[x] = [torch.flatten(TF.to_tensor(o)) for o in b[x]]"
   ]
  },
  {
   "cell_type": "code",
   "execution_count": 7,
   "id": "5c4f24ab-2fe2-4c94-b6bc-3d1c03c9f8d7",
   "metadata": {},
   "outputs": [],
   "source": [
    "bs = 1024\n",
    "tds = dsd.with_transform(transformi)"
   ]
  },
  {
   "cell_type": "code",
   "execution_count": 8,
   "id": "90d22483-b3d8-4130-a3c8-2db3a6f16b56",
   "metadata": {},
   "outputs": [
    {
     "data": {
      "text/plain": [
       "(torch.Size([1024, 784]),\n",
       " tensor([5, 4,\n",
       "         9, 4,\n",
       "         3, 0,\n",
       "         6, 5,\n",
       "         7, 6]))"
      ]
     },
     "execution_count": 8,
     "metadata": {},
     "output_type": "execute_result"
    }
   ],
   "source": [
    "dls = DataLoaders.from_dd(tds, bs, num_workers=4)\n",
    "dt = dls.train\n",
    "xb, yb = next(iter(dt))\n",
    "xb.shape, yb[:10]"
   ]
  },
  {
   "cell_type": "markdown",
   "id": "83d4ce87-45f3-4f42-8c13-2703c3ca6078",
   "metadata": {},
   "source": [
    "Prose"
   ]
  },
  {
   "cell_type": "code",
   "execution_count": 20,
   "id": "a888baa4-93cc-482b-a217-0590ad15d4be",
   "metadata": {},
   "outputs": [],
   "source": [
    "class Learner:\n",
    "    def __init__(self, model, dls, loss_func, lr, opt_func=optim.SGD): \n",
    "        # fastcore store_attr() reduces the amount of boilerplate that usually goes\n",
    "        # into an __init__()\n",
    "        fc.store_attr()\n",
    "\n",
    "    def one_batch(self):\n",
    "        self.xb, self.yb = to_device(self.batch)\n",
    "        self.preds = self.model(self.xb)\n",
    "        self.loss = self.loss_func(self.preds, self.yb)\n",
    "        if self.model.training:\n",
    "            self.loss.backward()\n",
    "            self.opt.step()\n",
    "            self.opt.zero_grad()\n",
    "        with torch.no_grad(): self.calc_stats()\n",
    "\n",
    "    def calc_stats(self):\n",
    "        acc = (self.preds.argmax(dim=1)==self.yb).float().sum()\n",
    "        self.accs.append(acc)\n",
    "        n = len(self.xb)\n",
    "        self.losses.append(self.loss*n)\n",
    "        self.ns.append(n)\n",
    "\n",
    "    def one_epoch(self, train):\n",
    "        self.model.training = train\n",
    "        dl = self.dls.train if train else self.dls.valid\n",
    "        for self.num,self.batch in enumerate(dl): self.one_batch()\n",
    "        n = sum(self.ns)\n",
    "        print(self.epoch, self.model.training, sum(self.losses).item()/n, sum(self.accs).item()/n)\n",
    "    \n",
    "    def fit(self, n_epochs):\n",
    "        self.accs, self.losses,self.ns = [],[],[]\n",
    "        self.model.to(def_device)\n",
    "        self.opt = self.opt_func(self.model.parameters(), self.lr)\n",
    "        self.n_epochs = n_epochs\n",
    "        for self.epoch in range(n_epochs):\n",
    "            self.one_epoch(True)\n",
    "            with torch.no_grad(): self.one_epoch(False)"
   ]
  },
  {
   "cell_type": "markdown",
   "id": "2bfa528c-3a94-4298-bbac-60f5489663ec",
   "metadata": {},
   "source": [
    "We can test the new learner on the simple MLP. Also, note that we can now add `num_workers` to the DataLoader to improve the performance of collate functions."
   ]
  },
  {
   "cell_type": "code",
   "execution_count": 17,
   "id": "bbbc6a91-e541-4ca3-b8e2-d8b33a836c7d",
   "metadata": {},
   "outputs": [],
   "source": [
    "m, nh = 28*28, 50\n",
    "model = nn.Sequential(nn.Linear(m, nh), nn.ReLU(), nn.Linear(nh, 10))"
   ]
  },
  {
   "cell_type": "code",
   "execution_count": 18,
   "id": "a0ea56d7-fd95-4f9d-9f45-a0d17538f772",
   "metadata": {},
   "outputs": [
    {
     "name": "stdout",
     "output_type": "stream",
     "text": [
      "0 True 1.1632997395833333 0.6137666666666667\n",
      "0 False 1.1239921875 0.6265\n"
     ]
    }
   ],
   "source": [
    "learn = Learner(model, dls, F.cross_entropy, lr=0.2)\n",
    "learn.fit(1)"
   ]
  },
  {
   "cell_type": "code",
   "execution_count": null,
   "id": "45c1fee7-8c35-49ce-92c9-893ac366df5a",
   "metadata": {},
   "outputs": [],
   "source": []
  },
  {
   "cell_type": "code",
   "execution_count": null,
   "id": "fc19b2a7-f804-4fc8-bccf-97c9366545c3",
   "metadata": {},
   "outputs": [],
   "source": []
  },
  {
   "cell_type": "code",
   "execution_count": null,
   "id": "108089f9-3b77-487d-b325-8a148f86452d",
   "metadata": {},
   "outputs": [],
   "source": []
  },
  {
   "cell_type": "code",
   "execution_count": null,
   "id": "83781953-1167-44a8-866c-a60646fc6a72",
   "metadata": {},
   "outputs": [],
   "source": []
  },
  {
   "cell_type": "code",
   "execution_count": null,
   "id": "847d1f75-9db0-4614-9e34-44696deaff89",
   "metadata": {},
   "outputs": [],
   "source": []
  },
  {
   "cell_type": "code",
   "execution_count": null,
   "id": "77023853-1fb2-42a3-84d3-eca4f5bcd03f",
   "metadata": {},
   "outputs": [],
   "source": []
  },
  {
   "cell_type": "code",
   "execution_count": null,
   "id": "2e157855-f893-4c32-a1f9-9fd9554a4bb2",
   "metadata": {},
   "outputs": [],
   "source": []
  },
  {
   "cell_type": "code",
   "execution_count": null,
   "id": "7392471c-1092-49f8-a63b-80a899153605",
   "metadata": {},
   "outputs": [],
   "source": []
  },
  {
   "cell_type": "code",
   "execution_count": null,
   "id": "8c2071e3-cc30-4767-9fca-6c133e3cf20b",
   "metadata": {},
   "outputs": [],
   "source": []
  }
 ],
 "metadata": {
  "kernelspec": {
   "display_name": "Python 3 (ipykernel)",
   "language": "python",
   "name": "python3"
  },
  "language_info": {
   "codemirror_mode": {
    "name": "ipython",
    "version": 3
   },
   "file_extension": ".py",
   "mimetype": "text/x-python",
   "name": "python",
   "nbconvert_exporter": "python",
   "pygments_lexer": "ipython3",
   "version": "3.10.14"
  },
  "widgets": {
   "application/vnd.jupyter.widget-state+json": {
    "state": {},
    "version_major": 2,
    "version_minor": 0
   }
  }
 },
 "nbformat": 4,
 "nbformat_minor": 5
}
