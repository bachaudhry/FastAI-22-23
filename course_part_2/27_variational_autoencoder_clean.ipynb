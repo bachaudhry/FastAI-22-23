{
 "cells": [
  {
   "cell_type": "markdown",
   "id": "c57d3a95-e0fb-43c1-a7bf-bb905fd45aaa",
   "metadata": {},
   "source": [
    "# **Variational Auto-Encoder**"
   ]
  },
  {
   "cell_type": "code",
   "execution_count": 1,
   "id": "4ad84649-a1e9-4140-9ca3-21f83449990c",
   "metadata": {},
   "outputs": [],
   "source": [
    "import os, timm, torch, random, datasets, math, fastcore.all as fc\n",
    "import numpy as np, matplotlib as mpl, matplotlib.pyplot as plt\n",
    "import k_diffusion as K, torchvision.transforms as T\n",
    "import torchvision.transforms.functional as TF,torch.nn.functional as F\n",
    "\n",
    "from torch.utils.data import DataLoader,default_collate\n",
    "from pathlib import Path\n",
    "from torch.nn import init\n",
    "from fastcore.foundation import L\n",
    "from torch import nn,tensor\n",
    "from datasets import load_dataset\n",
    "from operator import itemgetter\n",
    "from torcheval.metrics import MulticlassAccuracy,Mean,Metric\n",
    "from functools import partial\n",
    "from torch.optim import lr_scheduler\n",
    "from torch import optim\n",
    "from einops import rearrange\n",
    "\n",
    "from miniai.datasets import *\n",
    "from miniai.conv import *\n",
    "from miniai.learner import *\n",
    "from miniai.activations import *\n",
    "from miniai.training import *\n",
    "from miniai.init import *\n",
    "from miniai.sgd import *\n",
    "from miniai.resnet import *\n",
    "from miniai.augment import *\n",
    "from miniai.accel import *"
   ]
  },
  {
   "cell_type": "code",
   "execution_count": 4,
   "id": "306169b4-d423-46b3-9512-17cf89b38e8b",
   "metadata": {
    "editable": true,
    "slideshow": {
     "slide_type": ""
    },
    "tags": []
   },
   "outputs": [],
   "source": [
    "torch.set_printoptions(precision=4, linewidth=140, sci_mode=False)\n",
    "torch.manual_seed(1)\n",
    "mpl.rcParams['image.cmap'] = 'gray_r'\n",
    "mpl.rcParams['figure.dpi'] = 80\n",
    "\n",
    "import logging\n",
    "logging.disable(logging.WARNING)\n",
    "\n",
    "set_seed(42)\n",
    "if fc.defaults.cpus > 8: fc.defaults.cpus=8"
   ]
  },
  {
   "cell_type": "code",
   "execution_count": 5,
   "id": "1125a80a-d057-422a-8a07-a5681199bdae",
   "metadata": {
    "editable": true,
    "slideshow": {
     "slide_type": ""
    },
    "tags": []
   },
   "outputs": [],
   "source": [
    "xl, yl = 'image', 'label'\n",
    "name = \"fashion_mnist\"\n",
    "bs = 256\n",
    "dsd = load_dataset(name)"
   ]
  },
  {
   "cell_type": "code",
   "execution_count": 6,
   "id": "2ad6b8a7-7e98-4d1c-af9c-333f773b3f1d",
   "metadata": {},
   "outputs": [],
   "source": [
    "@inplace\n",
    "def transformi(b):\n",
    "    img = [TF.to_tensor(o).flatten() for o in b[xl]]\n",
    "    b[yl] = b[xl] = img\n",
    "\n",
    "tds = dsd.with_transform(transformi)\n",
    "dls = DataLoaders.from_dd(tds, bs, num_workers=8)"
   ]
  },
  {
   "cell_type": "code",
   "execution_count": 7,
   "id": "108c7081-036d-4df1-82bc-3841741abcea",
   "metadata": {},
   "outputs": [],
   "source": [
    "dl = dls.valid\n",
    "xb, yb = b = next(iter(dl))"
   ]
  },
  {
   "cell_type": "code",
   "execution_count": null,
   "id": "5ffb6ef9-4232-427c-893f-ca58a31b0ff0",
   "metadata": {},
   "outputs": [],
   "source": []
  }
 ],
 "metadata": {
  "kernelspec": {
   "display_name": "Python 3 (ipykernel)",
   "language": "python",
   "name": "python3"
  },
  "language_info": {
   "codemirror_mode": {
    "name": "ipython",
    "version": 3
   },
   "file_extension": ".py",
   "mimetype": "text/x-python",
   "name": "python",
   "nbconvert_exporter": "python",
   "pygments_lexer": "ipython3",
   "version": "3.11.11"
  }
 },
 "nbformat": 4,
 "nbformat_minor": 5
}
