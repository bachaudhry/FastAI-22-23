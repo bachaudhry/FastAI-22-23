{
 "cells": [
  {
   "cell_type": "markdown",
   "id": "c57d3a95-e0fb-43c1-a7bf-bb905fd45aaa",
   "metadata": {},
   "source": [
    "# **Variational Auto-Encoder**"
   ]
  },
  {
   "cell_type": "markdown",
   "id": "da739d67-abe2-48ec-914f-8fde6cce7b64",
   "metadata": {},
   "source": [
    "For our final set of NBs, we will be wrapping up our work on unconditional stable diffusion models. To do this we will be introducing the concept of Variational Auto Encoders to generate our required latents (because Stable Diffusion is, in effect, a _Latent Diffusion_ model).\n",
    "\n",
    "Perplexity defines VAEs as:\n",
    "\n",
    "> Variational Autoencoders (VAEs) are a class of generative models in machine learning that combine principles from deep learning and probabilistic graphical models. Introduced by Diederik P. Kingma and Max Welling in 2013, VAEs are designed to learn complex data distributions and generate new data points that resemble the training data.\n",
    ">\n",
    "> ### **Architecture of VAEs**\n",
    ">\n",
    "> VAEs consist of two main components:\n",
    ">\n",
    "> **Encoder**: This neural network compresses input data into a latent representation. Instead of producing a single point in the latent space, the encoder outputs parameters for a probability distribution (typically Gaussian), which describes the latent variables. This probabilistic approach allows VAEs to capture the uncertainty in the data representation1\n",
    ">\n",
    "> **Decoder**: The decoder takes samples from the latent distribution and reconstructs the original input data. By sampling from the learned distribution, the decoder can generate new instances of data that are similar but not identical to the training samples.\n",
    ">\n",
    "> ### **How VAEs Generate Latents**\n",
    "> The process of generating latents in VAEs involves several steps:\n",
    ">\n",
    "> **Input Data Encoding**: The encoder transforms input data into a probabilistic latent space, represented as **$q(z∣x)$**, where $z$ denotes latent variables and $x$ is the input data.\n",
    "> \n",
    "> **Sampling**: From this distribution, a sample zz is drawn, typically using techniques like reparameterization, which allows gradients to flow through the stochastic part of the model during training.\n",
    ">\n",
    "> **Data Reconstruction**: The sampled latent vector zz is fed into the decoder, which reconstructs the input data, aiming to minimize reconstruction loss while adhering to a specified prior distribution (often a standard normal distribution).\n",
    "\n",
    "The VAE will convert the 256x256, 3 channel images into 32x32x4 latent representations."
   ]
  },
  {
   "cell_type": "code",
   "execution_count": 1,
   "id": "4ad84649-a1e9-4140-9ca3-21f83449990c",
   "metadata": {},
   "outputs": [],
   "source": [
    "import os, timm, torch, random, datasets, math, fastcore.all as fc\n",
    "import numpy as np, matplotlib as mpl, matplotlib.pyplot as plt\n",
    "import k_diffusion as K, torchvision.transforms as T\n",
    "import torchvision.transforms.functional as TF,torch.nn.functional as F\n",
    "\n",
    "from torch.utils.data import DataLoader,default_collate\n",
    "from pathlib import Path\n",
    "from torch.nn import init\n",
    "from fastcore.foundation import L\n",
    "from torch import nn,tensor\n",
    "from datasets import load_dataset\n",
    "from operator import itemgetter\n",
    "from torcheval.metrics import MulticlassAccuracy,Mean,Metric\n",
    "from functools import partial\n",
    "from torch.optim import lr_scheduler\n",
    "from torch import optim\n",
    "from einops import rearrange\n",
    "\n",
    "from miniai.datasets import *\n",
    "from miniai.conv import *\n",
    "from miniai.learner import *\n",
    "from miniai.activations import *\n",
    "from miniai.training import *\n",
    "from miniai.init import *\n",
    "from miniai.sgd import *\n",
    "from miniai.resnet import *\n",
    "from miniai.augment import *\n",
    "from miniai.accel import *"
   ]
  },
  {
   "cell_type": "code",
   "execution_count": 2,
   "id": "306169b4-d423-46b3-9512-17cf89b38e8b",
   "metadata": {
    "editable": true,
    "slideshow": {
     "slide_type": ""
    },
    "tags": []
   },
   "outputs": [],
   "source": [
    "torch.set_printoptions(precision=4, linewidth=140, sci_mode=False)\n",
    "torch.manual_seed(1)\n",
    "mpl.rcParams['image.cmap'] = 'gray_r'\n",
    "mpl.rcParams['figure.dpi'] = 80\n",
    "\n",
    "import logging\n",
    "logging.disable(logging.WARNING)\n",
    "\n",
    "set_seed(42)\n",
    "if fc.defaults.cpus > 8: fc.defaults.cpus=8"
   ]
  },
  {
   "cell_type": "code",
   "execution_count": 3,
   "id": "1125a80a-d057-422a-8a07-a5681199bdae",
   "metadata": {
    "editable": true,
    "slideshow": {
     "slide_type": ""
    },
    "tags": []
   },
   "outputs": [],
   "source": [
    "xl, yl = 'image', 'label'\n",
    "name = \"fashion_mnist\"\n",
    "bs = 256\n",
    "dsd = load_dataset(name)"
   ]
  },
  {
   "cell_type": "code",
   "execution_count": 4,
   "id": "2ad6b8a7-7e98-4d1c-af9c-333f773b3f1d",
   "metadata": {},
   "outputs": [],
   "source": [
    "@inplace\n",
    "def transformi(b):\n",
    "    img = [TF.to_tensor(o).flatten() for o in b[xl]] # Flatten input pixels into a vector\n",
    "    b[yl] = b[xl] = img\n",
    "\n",
    "tds = dsd.with_transform(transformi)\n",
    "dls = DataLoaders.from_dd(tds, bs, num_workers=8)"
   ]
  },
  {
   "cell_type": "code",
   "execution_count": 5,
   "id": "108c7081-036d-4df1-82bc-3841741abcea",
   "metadata": {},
   "outputs": [],
   "source": [
    "dl = dls.valid\n",
    "xb, yb = b = next(iter(dl))"
   ]
  },
  {
   "cell_type": "markdown",
   "id": "1efe27ab-9297-4070-b1c5-e7803ddd5184",
   "metadata": {
    "editable": true,
    "slideshow": {
     "slide_type": ""
    },
    "tags": []
   },
   "source": [
    "## **Setting Up The AutoEncoder**"
   ]
  },
  {
   "cell_type": "code",
   "execution_count": 6,
   "id": "a5d2b1d4-6ccf-4352-96e9-15c33be73ff0",
   "metadata": {},
   "outputs": [],
   "source": [
    "# Architecture for the autoencoder, featuring number of hidden (nh), number of inputs (ni) \n",
    "# and number of outputs i.e. 200. \n",
    "ni, nh, nl = 784, 400, 200"
   ]
  },
  {
   "cell_type": "code",
   "execution_count": 7,
   "id": "78d086c7-e91a-4864-9be2-3a4a9d9cb7e9",
   "metadata": {},
   "outputs": [],
   "source": [
    "# Setup a basic linear layer\n",
    "def lin(ni, nf, act=nn.SiLU, norm=nn.BatchNorm1d, bias=True):\n",
    "    layers = nn.Sequential(nn.Linear(ni, nf, bias=bias))\n",
    "    if act : layers.append(act())\n",
    "    if norm: layers.append(norm(nf))\n",
    "    return layers"
   ]
  },
  {
   "cell_type": "code",
   "execution_count": 8,
   "id": "03306833-5f24-452e-affa-abe092a5b7cb",
   "metadata": {},
   "outputs": [],
   "source": [
    "# Update init_weights to initialize linear layers as well\n",
    "def init_weights(m, leaky=0.):\n",
    "    if isinstance(m, (nn.Conv1d, nn.Conv2d, nn.Conv3d, nn.Linear)): init.kaiming_normal_(m.weight, a=leaky)"
   ]
  },
  {
   "cell_type": "code",
   "execution_count": 9,
   "id": "80c40826-707c-4621-8949-5853c0029f89",
   "metadata": {},
   "outputs": [],
   "source": [
    "iw = partial(init_weights, leaky=0.2)"
   ]
  },
  {
   "cell_type": "code",
   "execution_count": 10,
   "id": "8ec4b26b-db6e-45cb-8505-31f5056f06e6",
   "metadata": {},
   "outputs": [],
   "source": [
    "# Creating a regular autoencoder\n",
    "class Autoenc(nn.Module):\n",
    "    def __init__(self):\n",
    "        super().__init__()\n",
    "        self.enc = nn.Sequential(lin(ni, nh), lin(nh, nh), lin(nh, nl)) # generates latents\n",
    "        self.dec = nn.Sequential(lin(nl, nh), lin(nh, nh), lin(nh, ni, act=None)) # latents decoded to 784 inputs\n",
    "        iw(self)\n",
    "\n",
    "    def forward(self, x):\n",
    "        x = self.enc(x)\n",
    "        return self.dec(x)"
   ]
  },
  {
   "cell_type": "code",
   "execution_count": 11,
   "id": "2b0bb14d-a078-4265-ad0a-36d7bf57ff30",
   "metadata": {},
   "outputs": [],
   "source": [
    "opt_func = partial(optim.Adam, eps=1e-5)"
   ]
  },
  {
   "cell_type": "code",
   "execution_count": 12,
   "id": "cdcc5770-0de6-4f2b-a92d-59216095408d",
   "metadata": {},
   "outputs": [
    {
     "data": {
      "image/png": "[encoded data removed]",
      "text/plain": [
       "<Figure size 512x384 with 1 Axes>"
      ]
     },
     "metadata": {},
     "output_type": "display_data"
    }
   ],
   "source": [
    "Learner(Autoenc(), dls, nn.BCEWithLogitsLoss(), cbs=[DeviceCB(), MixedPrecision()], opt_func=opt_func).lr_find()"
   ]
  },
  {
   "cell_type": "code",
   "execution_count": null,
   "id": "0f02f3ff-ddac-40f9-afbb-991f0ebaef52",
   "metadata": {},
   "outputs": [],
   "source": [
    "#del(learn)"
   ]
  },
  {
   "cell_type": "code",
   "execution_count": 13,
   "id": "a9b2043d-04ea-4f0c-a64e-20d781dc6293",
   "metadata": {},
   "outputs": [],
   "source": [
    "lr = 3e-2\n",
    "epochs = 20\n",
    "tmax = epochs * len(dls.train)\n",
    "sched = partial(lr_scheduler.OneCycleLR, max_lr=lr, total_steps=tmax)\n",
    "cbs = [DeviceCB(), ProgressCB(plot=True), MetricsCB(), BatchSchedCB(sched), MixedPrecision()]\n",
    "model = Autoenc()\n",
    "learn = Learner(Autoenc(), dls, nn.BCEWithLogitsLoss(), cbs=cbs, opt_func=opt_func)"
   ]
  },
  {
   "cell_type": "code",
   "execution_count": 14,
   "id": "b928cdc0-f8fa-47fe-8dcc-2fe66d4738cd",
   "metadata": {},
   "outputs": [
    {
     "data": {
      "text/html": [
       "\n",
       "<style>\n",
       "    /* Turns off some styling */\n",
       "    progress {\n",
       "        /* gets rid of default border in Firefox and Opera. */\n",
       "        border: none;\n",
       "        /* Needs to be in here for Safari polyfill so background images work as expected. */\n",
       "        background-size: auto;\n",
       "    }\n",
       "    progress:not([value]), progress:not([value])::-webkit-progress-bar {\n",
       "        background: repeating-linear-gradient(45deg, #7e7e7e, #7e7e7e 10px, #5c5c5c 10px, #5c5c5c 20px);\n",
       "    }\n",
       "    .progress-bar-interrupted, .progress-bar-interrupted::-webkit-progress-bar {\n",
       "        background: #F44336;\n",
       "    }\n",
       "</style>\n"
      ],
      "text/plain": [
       "<IPython.core.display.HTML object>"
      ]
     },
     "metadata": {},
     "output_type": "display_data"
    },
    {
     "data": {
      "text/html": [
       "<table border=\"1\" class=\"dataframe\">\n",
       "  <thead>\n",
       "    <tr style=\"text-align: left;\">\n",
       "      <th>loss</th>\n",
       "      <th>epoch</th>\n",
       "      <th>train</th>\n",
       "    </tr>\n",
       "  </thead>\n",
       "  <tbody>\n",
       "    <tr>\n",
       "      <td>0.528</td>\n",
       "      <td>0</td>\n",
       "      <td>train</td>\n",
       "    </tr>\n",
       "    <tr>\n",
       "      <td>0.462</td>\n",
       "      <td>0</td>\n",
       "      <td>eval</td>\n",
       "    </tr>\n",
       "    <tr>\n",
       "      <td>0.400</td>\n",
       "      <td>1</td>\n",
       "      <td>train</td>\n",
       "    </tr>\n",
       "    <tr>\n",
       "      <td>0.348</td>\n",
       "      <td>1</td>\n",
       "      <td>eval</td>\n",
       "    </tr>\n",
       "    <tr>\n",
       "      <td>0.316</td>\n",
       "      <td>2</td>\n",
       "      <td>train</td>\n",
       "    </tr>\n",
       "    <tr>\n",
       "      <td>0.300</td>\n",
       "      <td>2</td>\n",
       "      <td>eval</td>\n",
       "    </tr>\n",
       "    <tr>\n",
       "      <td>0.286</td>\n",
       "      <td>3</td>\n",
       "      <td>train</td>\n",
       "    </tr>\n",
       "    <tr>\n",
       "      <td>0.284</td>\n",
       "      <td>3</td>\n",
       "      <td>eval</td>\n",
       "    </tr>\n",
       "    <tr>\n",
       "      <td>0.276</td>\n",
       "      <td>4</td>\n",
       "      <td>train</td>\n",
       "    </tr>\n",
       "    <tr>\n",
       "      <td>0.277</td>\n",
       "      <td>4</td>\n",
       "      <td>eval</td>\n",
       "    </tr>\n",
       "    <tr>\n",
       "      <td>0.271</td>\n",
       "      <td>5</td>\n",
       "      <td>train</td>\n",
       "    </tr>\n",
       "    <tr>\n",
       "      <td>0.274</td>\n",
       "      <td>5</td>\n",
       "      <td>eval</td>\n",
       "    </tr>\n",
       "    <tr>\n",
       "      <td>0.268</td>\n",
       "      <td>6</td>\n",
       "      <td>train</td>\n",
       "    </tr>\n",
       "    <tr>\n",
       "      <td>0.269</td>\n",
       "      <td>6</td>\n",
       "      <td>eval</td>\n",
       "    </tr>\n",
       "    <tr>\n",
       "      <td>0.266</td>\n",
       "      <td>7</td>\n",
       "      <td>train</td>\n",
       "    </tr>\n",
       "    <tr>\n",
       "      <td>0.267</td>\n",
       "      <td>7</td>\n",
       "      <td>eval</td>\n",
       "    </tr>\n",
       "    <tr>\n",
       "      <td>0.265</td>\n",
       "      <td>8</td>\n",
       "      <td>train</td>\n",
       "    </tr>\n",
       "    <tr>\n",
       "      <td>0.266</td>\n",
       "      <td>8</td>\n",
       "      <td>eval</td>\n",
       "    </tr>\n",
       "    <tr>\n",
       "      <td>0.264</td>\n",
       "      <td>9</td>\n",
       "      <td>train</td>\n",
       "    </tr>\n",
       "    <tr>\n",
       "      <td>0.266</td>\n",
       "      <td>9</td>\n",
       "      <td>eval</td>\n",
       "    </tr>\n",
       "    <tr>\n",
       "      <td>0.263</td>\n",
       "      <td>10</td>\n",
       "      <td>train</td>\n",
       "    </tr>\n",
       "    <tr>\n",
       "      <td>0.264</td>\n",
       "      <td>10</td>\n",
       "      <td>eval</td>\n",
       "    </tr>\n",
       "    <tr>\n",
       "      <td>0.262</td>\n",
       "      <td>11</td>\n",
       "      <td>train</td>\n",
       "    </tr>\n",
       "    <tr>\n",
       "      <td>0.264</td>\n",
       "      <td>11</td>\n",
       "      <td>eval</td>\n",
       "    </tr>\n",
       "    <tr>\n",
       "      <td>0.262</td>\n",
       "      <td>12</td>\n",
       "      <td>train</td>\n",
       "    </tr>\n",
       "    <tr>\n",
       "      <td>0.263</td>\n",
       "      <td>12</td>\n",
       "      <td>eval</td>\n",
       "    </tr>\n",
       "    <tr>\n",
       "      <td>0.261</td>\n",
       "      <td>13</td>\n",
       "      <td>train</td>\n",
       "    </tr>\n",
       "    <tr>\n",
       "      <td>0.262</td>\n",
       "      <td>13</td>\n",
       "      <td>eval</td>\n",
       "    </tr>\n",
       "    <tr>\n",
       "      <td>0.260</td>\n",
       "      <td>14</td>\n",
       "      <td>train</td>\n",
       "    </tr>\n",
       "    <tr>\n",
       "      <td>0.261</td>\n",
       "      <td>14</td>\n",
       "      <td>eval</td>\n",
       "    </tr>\n",
       "    <tr>\n",
       "      <td>0.260</td>\n",
       "      <td>15</td>\n",
       "      <td>train</td>\n",
       "    </tr>\n",
       "    <tr>\n",
       "      <td>0.261</td>\n",
       "      <td>15</td>\n",
       "      <td>eval</td>\n",
       "    </tr>\n",
       "    <tr>\n",
       "      <td>0.260</td>\n",
       "      <td>16</td>\n",
       "      <td>train</td>\n",
       "    </tr>\n",
       "    <tr>\n",
       "      <td>0.260</td>\n",
       "      <td>16</td>\n",
       "      <td>eval</td>\n",
       "    </tr>\n",
       "    <tr>\n",
       "      <td>0.259</td>\n",
       "      <td>17</td>\n",
       "      <td>train</td>\n",
       "    </tr>\n",
       "    <tr>\n",
       "      <td>0.260</td>\n",
       "      <td>17</td>\n",
       "      <td>eval</td>\n",
       "    </tr>\n",
       "    <tr>\n",
       "      <td>0.259</td>\n",
       "      <td>18</td>\n",
       "      <td>train</td>\n",
       "    </tr>\n",
       "    <tr>\n",
       "      <td>0.260</td>\n",
       "      <td>18</td>\n",
       "      <td>eval</td>\n",
       "    </tr>\n",
       "    <tr>\n",
       "      <td>0.259</td>\n",
       "      <td>19</td>\n",
       "      <td>train</td>\n",
       "    </tr>\n",
       "    <tr>\n",
       "      <td>0.260</td>\n",
       "      <td>19</td>\n",
       "      <td>eval</td>\n",
       "    </tr>\n",
       "  </tbody>\n",
       "</table>"
      ],
      "text/plain": [
       "<IPython.core.display.HTML object>"
      ]
     },
     "metadata": {},
     "output_type": "display_data"
    },
    {
     "data": {
      "image/png": "[encoded data removed]",
      "text/plain": [
       "<Figure size 480x320 with 1 Axes>"
      ]
     },
     "metadata": {},
     "output_type": "display_data"
    }
   ],
   "source": [
    "learn.fit(epochs)"
   ]
  },
  {
   "cell_type": "code",
   "execution_count": null,
   "id": "f885e4aa-246b-4e18-bc11-bcd9a6500337",
   "metadata": {},
   "outputs": [],
   "source": []
  },
  {
   "cell_type": "code",
   "execution_count": null,
   "id": "8904da22-6c84-4727-abe4-3757796f3e11",
   "metadata": {},
   "outputs": [],
   "source": []
  },
  {
   "cell_type": "code",
   "execution_count": null,
   "id": "467633ee-a915-421d-8236-eb7f900b7ce4",
   "metadata": {},
   "outputs": [],
   "source": []
  },
  {
   "cell_type": "code",
   "execution_count": null,
   "id": "0994ea54-6fb1-4939-ae2b-11d31c686b4f",
   "metadata": {},
   "outputs": [],
   "source": []
  },
  {
   "cell_type": "code",
   "execution_count": null,
   "id": "9cf25698-0e64-4158-ade0-4a4d466f0d2c",
   "metadata": {},
   "outputs": [],
   "source": []
  }
 ],
 "metadata": {
  "kernelspec": {
   "display_name": "Python 3 (ipykernel)",
   "language": "python",
   "name": "python3"
  },
  "language_info": {
   "codemirror_mode": {
    "name": "ipython",
    "version": 3
   },
   "file_extension": ".py",
   "mimetype": "text/x-python",
   "name": "python",
   "nbconvert_exporter": "python",
   "pygments_lexer": "ipython3",
   "version": "3.11.11"
  }
 },
 "nbformat": 4,
 "nbformat_minor": 5
}
