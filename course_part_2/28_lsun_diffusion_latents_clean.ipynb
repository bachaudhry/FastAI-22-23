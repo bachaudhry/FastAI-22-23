{
 "cells": [
  {
   "cell_type": "markdown",
   "id": "187828e5-96fe-401b-9fe3-dc73b878ae0e",
   "metadata": {},
   "source": [
    "# **Training on LSUN (Large Scale Understanding) Bedrooms Data Set**"
   ]
  },
  {
   "cell_type": "code",
   "execution_count": null,
   "id": "37072405-ef21-45c3-ac72-329c61a4710d",
   "metadata": {},
   "outputs": [],
   "source": []
  },
  {
   "cell_type": "code",
   "execution_count": 1,
   "id": "856c15f6-7d46-4d80-96c1-60e56e9f43a1",
   "metadata": {},
   "outputs": [],
   "source": [
    "import os\n",
    "from miniai.imports import *\n",
    "from miniai.diffusion import *\n",
    "from diffusers import UNet2DModel, UNet2DConditionModel, AutoencoderKL\n",
    "from fastprogress import progress_bar\n",
    "from glob import glob\n",
    "from copy import deepcopy\n",
    "import timm"
   ]
  },
  {
   "cell_type": "code",
   "execution_count": 2,
   "id": "ea903cc7-b368-45da-a744-ef2519437589",
   "metadata": {},
   "outputs": [],
   "source": [
    "torch.set_printoptions(precision=4, linewidth=140, sci_mode=False)\n",
    "torch.manual_seed(1)\n",
    "mpl.rcParams['image.cmap'] = 'gray_r'\n",
    "mpl.rcParams['figure.dpi'] = 70\n",
    "\n",
    "set_seed(42)\n",
    "if fc.defaults.cpus>8: fc.defaults.cpus=8"
   ]
  },
  {
   "cell_type": "markdown",
   "id": "8577d620-1eed-4cbf-ae99-ff0729e33399",
   "metadata": {},
   "source": [
    "## **Download and Process Data**"
   ]
  },
  {
   "cell_type": "code",
   "execution_count": null,
   "id": "84c60734-a6b9-4ec0-a96b-822ce347b220",
   "metadata": {},
   "outputs": [],
   "source": [
    "path_data = Path('data')\n",
    "path_data.mkdir(exist_ok=True)\n",
    "path = path_data/'bedroom'"
   ]
  },
  {
   "cell_type": "code",
   "execution_count": null,
   "id": "18d9c5fb-842b-4095-98f3-7eed9c2f804e",
   "metadata": {},
   "outputs": [],
   "source": [
    "url = 'https://s3.amazonaws.com/fast-ai-imageclas/bedroom.tgz'\n",
    "if not path.exists():\n",
    "    path_zip = fc.urlsave(url, path_data)\n",
    "    shutil.unpack_archive('data/bedroom.tgz', 'data')"
   ]
  },
  {
   "cell_type": "code",
   "execution_count": null,
   "id": "b1302f9b-c8d9-4187-857f-bafa397fd315",
   "metadata": {},
   "outputs": [],
   "source": [
    "bs = 64"
   ]
  },
  {
   "cell_type": "code",
   "execution_count": null,
   "id": "6e442329-0c2a-4cb7-9f18-7af298e6d345",
   "metadata": {},
   "outputs": [],
   "source": [
    "def to_img(f): return read_image(f, mode=ImageReadMode.RGB)/255"
   ]
  },
  {
   "cell_type": "code",
   "execution_count": null,
   "id": "38cef2b4-df90-4f55-901d-8da280f3ef98",
   "metadata": {},
   "outputs": [],
   "source": [
    "class ImagesDS:\n",
    "    def __init__(self, spec):\n",
    "        self.path = Path(path)\n",
    "        self.files = glob(str(spec), recursive=True)\n",
    "\n",
    "    def __len__(self): return len(self.files)\n",
    "\n",
    "    def __getitem__(self, i): return to_img(self.files[i])[:, :256, :256]"
   ]
  },
  {
   "cell_type": "code",
   "execution_count": null,
   "id": "62c39dde-f9e4-4fad-a807-57ec9431ea9f",
   "metadata": {},
   "outputs": [],
   "source": [
    "ds = ImageDS(path/f'**/*.jpg')"
   ]
  },
  {
   "cell_type": "code",
   "execution_count": null,
   "id": "9b8f7894-9dfb-40c3-a6ad-cd457d83976b",
   "metadata": {},
   "outputs": [],
   "source": [
    "dl = DataLoader(ds, batch_size=bs, num_workers=fc.defaults.cpus)\n",
    "xb = next(iter(dl))\n",
    "show_images(xb[:16], imsize=2)"
   ]
  },
  {
   "cell_type": "code",
   "execution_count": null,
   "id": "8677a1cf-04a1-4ae4-bb3a-706bb8798249",
   "metadata": {},
   "outputs": [],
   "source": [
    "xb[:16].shape"
   ]
  },
  {
   "cell_type": "code",
   "execution_count": 3,
   "id": "024ae9f6-fbc4-417b-a859-4dd6b1ecb5ff",
   "metadata": {},
   "outputs": [
    {
     "data": {
      "text/plain": [
       "3145728"
      ]
     },
     "execution_count": 3,
     "metadata": {},
     "output_type": "execute_result"
    }
   ],
   "source": [
    "16*3*256*256"
   ]
  },
  {
   "cell_type": "markdown",
   "id": "04155b0c-bcf7-4d36-aaf0-1d70306298e5",
   "metadata": {},
   "source": [
    "## **Using a Pre-Trained VAE**"
   ]
  },
  {
   "cell_type": "code",
   "execution_count": null,
   "id": "7596eda2-00c4-40ed-945a-664336cddc9d",
   "metadata": {},
   "outputs": [],
   "source": [
    "vae = AutoencoderKL.from_pretrained(\"stabilityai/sd-vae-ft-ema\").cuda().requires_grad_(False)"
   ]
  },
  {
   "cell_type": "code",
   "execution_count": null,
   "id": "2b210ad2-e382-4488-a30a-43fdfd2dd171",
   "metadata": {},
   "outputs": [],
   "source": []
  },
  {
   "cell_type": "code",
   "execution_count": null,
   "id": "53a416d9-90f1-430b-a7d1-29a0c6345bee",
   "metadata": {},
   "outputs": [],
   "source": []
  },
  {
   "cell_type": "code",
   "execution_count": null,
   "id": "bceb3ed6-fb40-4402-a57e-ec17a74f9e88",
   "metadata": {},
   "outputs": [],
   "source": []
  },
  {
   "cell_type": "code",
   "execution_count": null,
   "id": "79e231ae-f7ef-439b-8f17-7ccff43ba860",
   "metadata": {},
   "outputs": [],
   "source": []
  },
  {
   "cell_type": "code",
   "execution_count": null,
   "id": "c407f242-2be4-4fbd-8edb-8a3277a1525f",
   "metadata": {},
   "outputs": [],
   "source": []
  },
  {
   "cell_type": "code",
   "execution_count": null,
   "id": "4f3f1a3a-eb51-465a-8ad7-939c11f2947d",
   "metadata": {},
   "outputs": [],
   "source": []
  },
  {
   "cell_type": "code",
   "execution_count": null,
   "id": "de70f88f-4766-49bb-b2fd-87d01c7f83c7",
   "metadata": {},
   "outputs": [],
   "source": []
  }
 ],
 "metadata": {
  "kernelspec": {
   "display_name": "Python 3 (ipykernel)",
   "language": "python",
   "name": "python3"
  },
  "language_info": {
   "codemirror_mode": {
    "name": "ipython",
    "version": 3
   },
   "file_extension": ".py",
   "mimetype": "text/x-python",
   "name": "python",
   "nbconvert_exporter": "python",
   "pygments_lexer": "ipython3",
   "version": "3.11.11"
  }
 },
 "nbformat": 4,
 "nbformat_minor": 5
}
