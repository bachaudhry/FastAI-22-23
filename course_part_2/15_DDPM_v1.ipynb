{
 "cells": [
  {
   "cell_type": "markdown",
   "id": "8f800602-cc4e-4aad-94fd-0f2f5a3d057f",
   "metadata": {},
   "source": [
    "# **Denoising Diffusion Probabilistic Models with MiniAi**"
   ]
  },
  {
   "cell_type": "markdown",
   "id": "c5a5ed1c-239e-4609-89d4-1722a1db82c0",
   "metadata": {},
   "source": [
    "Our custom training library should now allow us to begin building Stable Diffusion from scratch.\n",
    "\n",
    "We'll be working with the seminal 2020 paper [Denoising Diffusion Probabilistic Models](https://arxiv.org/abs/2006.11239) (DDPM) which greatly simplified the training and generation process for these models which were [originally invented in 2015](https://arxiv.org/abs/1503.03585)."
   ]
  },
  {
   "cell_type": "code",
   "execution_count": 3,
   "id": "c378e95b-9c73-4080-9921-3615aa43f466",
   "metadata": {},
   "outputs": [],
   "source": [
    "import pickle,gzip,math,os,time,shutil,random,logging\n",
    "import fastcore.all as fc\n",
    "import matplotlib as mpl\n",
    "import matplotlib.pyplot as plt\n",
    "import numpy as np\n",
    "from collections.abc import Mapping\n",
    "from pathlib import Path\n",
    "from operator import attrgetter,itemgetter\n",
    "from functools import partial\n",
    "from copy import copy\n",
    "from contextlib import contextmanager\n",
    "\n",
    "from fastcore.foundation import L\n",
    "import torch\n",
    "import torchvision.transforms.functional as TF\n",
    "import torch.nn.functional as F\n",
    "from torch import tensor,nn,optim\n",
    "from torch.utils.data import DataLoader,default_collate\n",
    "from torch.nn import init\n",
    "from torch.optim import lr_scheduler\n",
    "from torcheval.metrics import MulticlassAccuracy\n",
    "from datasets import load_dataset,load_dataset_builder\n",
    "\n",
    "from miniai.datasets import *\n",
    "from miniai.conv import *\n",
    "from miniai.learner import *\n",
    "from miniai.activations import *\n",
    "from miniai.init import *\n",
    "from miniai.sgd import *\n",
    "from miniai.resnet import *\n",
    "from miniai.augment import *"
   ]
  },
  {
   "cell_type": "code",
   "execution_count": 5,
   "id": "1c975238-ca42-4733-a5ca-81ab8f68a7b0",
   "metadata": {},
   "outputs": [],
   "source": [
    "mpl.rcParams['image.cmap'] = 'gray'\n",
    "logging.disable(logging.WARNING)"
   ]
  },
  {
   "cell_type": "markdown",
   "id": "9863dc37-7181-4850-b662-93de9d3fa0b3",
   "metadata": {},
   "source": [
    "## **Load Dataset**"
   ]
  },
  {
   "cell_type": "code",
   "execution_count": 6,
   "id": "cbfd79e4-c703-4bdc-98b2-8492bfb3e02b",
   "metadata": {},
   "outputs": [],
   "source": [
    "x, y = 'image', 'label'\n",
    "name = \"fashion_mnist\"\n",
    "dsd = load_dataset(name)"
   ]
  },
  {
   "cell_type": "markdown",
   "id": "67b41bde-afba-4c04-90ae-d3a5672a2c4b",
   "metadata": {},
   "source": [
    "We will resize the `28x28` images to `32x32` to make life easier with regard to model architecures."
   ]
  },
  {
   "cell_type": "code",
   "execution_count": 7,
   "id": "b9fc820c-d32f-47ca-ab4c-0c5d27d24ee0",
   "metadata": {},
   "outputs": [],
   "source": [
    "@inplace\n",
    "def transformi(b): b[x] = [TF.resize(TF.to_tensor(o), (32, 32)) for o in b[x]]"
   ]
  },
  {
   "cell_type": "code",
   "execution_count": null,
   "id": "d159cdca-9afa-4f26-928c-6bb48248866b",
   "metadata": {},
   "outputs": [],
   "source": []
  },
  {
   "cell_type": "code",
   "execution_count": null,
   "id": "b8930666-68c1-40ab-92f1-39179da0ee50",
   "metadata": {},
   "outputs": [],
   "source": []
  },
  {
   "cell_type": "code",
   "execution_count": null,
   "id": "5ea09583-de30-43d8-a8a1-4d61eb130d53",
   "metadata": {},
   "outputs": [],
   "source": []
  },
  {
   "cell_type": "code",
   "execution_count": null,
   "id": "2cd58a6d-159a-4a18-8eb7-78a685614617",
   "metadata": {},
   "outputs": [],
   "source": []
  },
  {
   "cell_type": "code",
   "execution_count": null,
   "id": "4057fd08-9748-4993-8075-4f01292db448",
   "metadata": {},
   "outputs": [],
   "source": []
  },
  {
   "cell_type": "code",
   "execution_count": null,
   "id": "7007dc65-a640-4553-b594-624d55be41cc",
   "metadata": {},
   "outputs": [],
   "source": []
  },
  {
   "cell_type": "code",
   "execution_count": null,
   "id": "e5773e17-d408-4af3-afb8-cc0712a65c6e",
   "metadata": {},
   "outputs": [],
   "source": []
  }
 ],
 "metadata": {
  "kernelspec": {
   "display_name": "Python 3 (ipykernel)",
   "language": "python",
   "name": "python3"
  },
  "language_info": {
   "codemirror_mode": {
    "name": "ipython",
    "version": 3
   },
   "file_extension": ".py",
   "mimetype": "text/x-python",
   "name": "python",
   "nbconvert_exporter": "python",
   "pygments_lexer": "ipython3",
   "version": "3.11.6"
  },
  "widgets": {
   "application/vnd.jupyter.widget-state+json": {
    "state": {},
    "version_major": 2,
    "version_minor": 0
   }
  }
 },
 "nbformat": 4,
 "nbformat_minor": 5
}
