{
 "cells": [
  {
   "cell_type": "markdown",
   "id": "7d15cf5d-d302-4e4f-8632-0e199a3595e9",
   "metadata": {},
   "source": [
    "# **A Revision of Some Fundamentals**"
   ]
  },
  {
   "cell_type": "code",
   "execution_count": 1,
   "id": "dfd5598a-4423-4d1b-a74d-8095b0dcf09c",
   "metadata": {},
   "outputs": [],
   "source": [
    "import torch\n",
    "import matplotlib.pyplot as plt\n",
    "import random"
   ]
  },
  {
   "cell_type": "markdown",
   "id": "b54d2ca0-5910-41c7-b665-e76ac4d26f88",
   "metadata": {},
   "source": [
    "## Callbacks"
   ]
  },
  {
   "cell_type": "markdown",
   "id": "682205b9-e183-4927-8479-0fe5cbfa5be7",
   "metadata": {},
   "source": [
    "### Callbacks as GUI Events"
   ]
  },
  {
   "cell_type": "code",
   "execution_count": 2,
   "id": "6dddbe19-fc22-43c1-9d9b-fc9ddf657943",
   "metadata": {},
   "outputs": [],
   "source": [
    "import ipywidgets as widgets"
   ]
  },
  {
   "cell_type": "code",
   "execution_count": 3,
   "id": "90e186f3-8304-4e59-b1f5-441512ddb4c8",
   "metadata": {},
   "outputs": [],
   "source": [
    "w = widgets.Button(description='Click here')\n",
    "output = widgets.Output()"
   ]
  },
  {
   "cell_type": "code",
   "execution_count": 4,
   "id": "a4b94511-de37-4db3-98db-20fb6fdb2de2",
   "metadata": {},
   "outputs": [
    {
     "data": {
      "application/vnd.jupyter.widget-view+json": {
       "model_id": "12b96fcda6174f229bc471e6c7d05c57",
       "version_major": 2,
       "version_minor": 0
      },
      "text/plain": [
       "Button(description='Click here', style=ButtonStyle())"
      ]
     },
     "execution_count": 4,
     "metadata": {},
     "output_type": "execute_result"
    }
   ],
   "source": [
    "w"
   ]
  },
  {
   "cell_type": "code",
   "execution_count": 5,
   "id": "b03581e4-ce7f-4c36-baef-191127237fd7",
   "metadata": {},
   "outputs": [],
   "source": [
    "# Adding clickable call back\n",
    "def f(o): \n",
    "    with output:\n",
    "        print(\"Yep, that's a click.\")\n",
    "\n",
    "w.on_click(f)"
   ]
  },
  {
   "cell_type": "code",
   "execution_count": 6,
   "id": "4494d000-06f3-462a-aed0-c204437d9d46",
   "metadata": {},
   "outputs": [
    {
     "data": {
      "application/vnd.jupyter.widget-view+json": {
       "model_id": "12b96fcda6174f229bc471e6c7d05c57",
       "version_major": 2,
       "version_minor": 0
      },
      "text/plain": [
       "Button(description='Click here', style=ButtonStyle())"
      ]
     },
     "metadata": {},
     "output_type": "display_data"
    },
    {
     "data": {
      "application/vnd.jupyter.widget-view+json": {
       "model_id": "0d3c1b94febc43578e067b679d243adc",
       "version_major": 2,
       "version_minor": 0
      },
      "text/plain": [
       "Output(outputs=({'name': 'stdout', 'text': \"Yep, that's a click.\\n\", 'output_type': 'stream'},))"
      ]
     },
     "metadata": {},
     "output_type": "display_data"
    }
   ],
   "source": [
    "display(w, output)"
   ]
  },
  {
   "cell_type": "markdown",
   "id": "50ee76ac-d176-4f5e-ac52-566728bb678f",
   "metadata": {},
   "source": [
    "## Creating Custom Callbacks"
   ]
  },
  {
   "cell_type": "code",
   "execution_count": 7,
   "id": "b459359c-2f3f-47fd-89e2-142e0cb9cfe0",
   "metadata": {},
   "outputs": [],
   "source": [
    "from time import sleep"
   ]
  },
  {
   "cell_type": "code",
   "execution_count": 10,
   "id": "44e5317a-c04d-4a9a-9f6b-2589fc64459b",
   "metadata": {},
   "outputs": [],
   "source": [
    "def slow_calculation():\n",
    "    res = 0\n",
    "    for i in range(5):\n",
    "        res += i*i\n",
    "        print(res)\n",
    "        sleep(2)\n",
    "    return res"
   ]
  },
  {
   "cell_type": "code",
   "execution_count": 11,
   "id": "c14e2e26-0380-4855-b616-1592c845f63a",
   "metadata": {},
   "outputs": [
    {
     "name": "stdout",
     "output_type": "stream",
     "text": [
      "0\n",
      "1\n",
      "5\n",
      "14\n",
      "30\n",
      "CPU times: user 18 ms, sys: 2.4 ms, total: 20.4 ms\n",
      "Wall time: 10 s\n"
     ]
    },
    {
     "data": {
      "text/plain": [
       "30"
      ]
     },
     "execution_count": 11,
     "metadata": {},
     "output_type": "execute_result"
    }
   ],
   "source": [
    "%time slow_calculation()"
   ]
  },
  {
   "cell_type": "code",
   "execution_count": 12,
   "id": "51caae38-174c-43d3-a541-ab36f7fdfaa0",
   "metadata": {},
   "outputs": [],
   "source": [
    "# Adding a callback with a print out after each cycle\n",
    "def slow_calculation(cb=None):\n",
    "    res = 0\n",
    "    for i in range(5):\n",
    "        res += i*i\n",
    "        print(res)\n",
    "        sleep(2)\n",
    "        if cb: cb(i)\n",
    "    return res"
   ]
  },
  {
   "cell_type": "code",
   "execution_count": 13,
   "id": "37a17a0a-c88d-4aaf-8600-56d93a97969f",
   "metadata": {},
   "outputs": [],
   "source": [
    "# Callback function\n",
    "def show_progress(epoch): print(f\"Epoch {epoch} completed!\")"
   ]
  },
  {
   "cell_type": "code",
   "execution_count": 15,
   "id": "45842c2e-3c39-4f02-974c-2946b659bc07",
   "metadata": {},
   "outputs": [
    {
     "name": "stdout",
     "output_type": "stream",
     "text": [
      "0\n",
      "Epoch 0 completed!\n",
      "1\n",
      "Epoch 1 completed!\n",
      "5\n",
      "Epoch 2 completed!\n",
      "14\n",
      "Epoch 3 completed!\n",
      "30\n",
      "Epoch 4 completed!\n",
      "CPU times: user 22.8 ms, sys: 0 ns, total: 22.8 ms\n",
      "Wall time: 10 s\n"
     ]
    },
    {
     "data": {
      "text/plain": [
       "30"
      ]
     },
     "execution_count": 15,
     "metadata": {},
     "output_type": "execute_result"
    }
   ],
   "source": [
    "%time slow_calculation(show_progress)"
   ]
  },
  {
   "cell_type": "markdown",
   "id": "aa59453a-8ae3-45af-9830-af4092577ef2",
   "metadata": {},
   "source": [
    "## Lambdas and Partials"
   ]
  },
  {
   "cell_type": "code",
   "execution_count": null,
   "id": "19b253c4-f8f7-446d-8653-0d7d94078262",
   "metadata": {},
   "outputs": [],
   "source": []
  },
  {
   "cell_type": "code",
   "execution_count": null,
   "id": "c135ee03-7f08-44ee-b5a6-b0f053276f92",
   "metadata": {},
   "outputs": [],
   "source": []
  }
 ],
 "metadata": {
  "kernelspec": {
   "display_name": "Python 3 (ipykernel)",
   "language": "python",
   "name": "python3"
  },
  "language_info": {
   "codemirror_mode": {
    "name": "ipython",
    "version": 3
   },
   "file_extension": ".py",
   "mimetype": "text/x-python",
   "name": "python",
   "nbconvert_exporter": "python",
   "pygments_lexer": "ipython3",
   "version": "3.10.14"
  },
  "widgets": {
   "application/vnd.jupyter.widget-state+json": {
    "state": {
     "0d3c1b94febc43578e067b679d243adc": {
      "model_module": "@jupyter-widgets/output",
      "model_module_version": "1.0.0",
      "model_name": "OutputModel",
      "state": {
       "layout": "IPY_MODEL_ff79066cc4cc40f4a5fc66ed7ac218b4",
       "outputs": [
        {
         "name": "stdout",
         "output_type": "stream",
         "text": "Yep, that's a click.\nYep, that's a click.\nYep, that's a click.\n"
        }
       ]
      }
     },
     "12b96fcda6174f229bc471e6c7d05c57": {
      "model_module": "@jupyter-widgets/controls",
      "model_module_version": "2.0.0",
      "model_name": "ButtonModel",
      "state": {
       "description": "Click here",
       "layout": "IPY_MODEL_12c3d8e5838a4433818b6653daaa0430",
       "style": "IPY_MODEL_fac8f280b6ed46278d09e04b543d6676",
       "tooltip": null
      }
     },
     "12c3d8e5838a4433818b6653daaa0430": {
      "model_module": "@jupyter-widgets/base",
      "model_module_version": "2.0.0",
      "model_name": "LayoutModel",
      "state": {}
     },
     "fac8f280b6ed46278d09e04b543d6676": {
      "model_module": "@jupyter-widgets/controls",
      "model_module_version": "2.0.0",
      "model_name": "ButtonStyleModel",
      "state": {
       "font_family": null,
       "font_size": null,
       "font_style": null,
       "font_variant": null,
       "font_weight": null,
       "text_color": null,
       "text_decoration": null
      }
     },
     "ff79066cc4cc40f4a5fc66ed7ac218b4": {
      "model_module": "@jupyter-widgets/base",
      "model_module_version": "2.0.0",
      "model_name": "LayoutModel",
      "state": {}
     }
    },
    "version_major": 2,
    "version_minor": 0
   }
  }
 },
 "nbformat": 4,
 "nbformat_minor": 5
}
