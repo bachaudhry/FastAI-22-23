{
 "cells": [
  {
   "cell_type": "markdown",
   "id": "c26be9e2-a35f-4de5-893e-c9201ba39cdf",
   "metadata": {},
   "source": [
    "# **Creating an Autoencoder**"
   ]
  },
  {
   "cell_type": "code",
   "execution_count": 1,
   "id": "f4c4c095-598d-4b57-9c11-813329aad553",
   "metadata": {},
   "outputs": [],
   "source": [
    "import numpy as np\n",
    "import pandas as pd\n",
    "import matplotlib as mpl\n",
    "import matplotlib.pyplot as plt\n",
    "import pickle, gzip, math, os, time, shutil\n",
    "import fastcore.all as fc\n",
    "from operator import attrgetter, itemgetter\n",
    "from functools import partial\n",
    "from collections.abc import Mapping\n",
    "from pathlib import Path\n",
    "\n",
    "import torch\n",
    "from torch import nn, tensor, optim\n",
    "from torch.utils.data import default_collate, DataLoader\n",
    "import torch.nn.functional as F\n",
    "import torchvision.transforms.functional as TF\n",
    "from datasets import load_dataset, load_dataset_builder\n",
    "\n",
    "from miniai.training import * # Modules have already been developed in previous NBs\n",
    "from miniai.datasets import * # and, reside in separate Github repo.\n",
    "from miniai.conv import *\n",
    "from fastprogress import progress_bar, master_bar"
   ]
  },
  {
   "cell_type": "code",
   "execution_count": 2,
   "id": "99cffddc-20bc-4f6e-b6cd-019ef6752416",
   "metadata": {},
   "outputs": [],
   "source": [
    "from fastcore.test import test_close\n",
    "\n",
    "torch.set_printoptions(precision=2, linewidth=14, sci_mode=False)\n",
    "torch.manual_seed(1)\n",
    "mpl.rcParams['image.cmap'] = 'gray'\n",
    "\n",
    "import logging \n",
    "logging.disable(logging.WARNING)"
   ]
  },
  {
   "cell_type": "markdown",
   "id": "eef73b94-41eb-40c5-99c4-f4779da1e247",
   "metadata": {},
   "source": [
    "## **Load Hugging Face Fashion MNIST Data**"
   ]
  },
  {
   "cell_type": "markdown",
   "id": "f91a9af0-c9dd-48dd-8043-67830688b80f",
   "metadata": {},
   "source": [
    "Building on what we worked on in [NB 06_datasets](https://github.com/bachaudhry/FastAI-22-23/blob/main/course_part_2/06_datasets.ipynb), it is time to build models using the HuggingFace Fashion MNIST dataset."
   ]
  },
  {
   "cell_type": "code",
   "execution_count": 3,
   "id": "adcdc2c2-05f9-4f0c-9f8b-8a20490f689a",
   "metadata": {},
   "outputs": [
    {
     "name": "stdout",
     "output_type": "stream",
     "text": [
      "Fashion-MNIST is a dataset of Zalando's article images—consisting of a training set of\n",
      "60,000 examples and a test set of 10,000 examples. Each example is a 28x28 grayscale image,\n",
      "associated with a label from 10 classes. We intend Fashion-MNIST to serve as a direct drop-in\n",
      "replacement for the original MNIST dataset for benchmarking machine learning algorithms.\n",
      "It shares the same image size and structure of training and testing splits.\n",
      "\n"
     ]
    }
   ],
   "source": [
    "name  = \"fashion_mnist\"\n",
    "ds_builder = load_dataset_builder(name)\n",
    "print(ds_builder.info.description) # This provides handy meta data for the dataset."
   ]
  },
  {
   "cell_type": "code",
   "execution_count": 4,
   "id": "8cb936f9-5319-40f2-9f76-e754bf9b0eae",
   "metadata": {},
   "outputs": [
    {
     "data": {
      "text/plain": [
       "{'train': SplitInfo(name='train', num_bytes=31296607, num_examples=60000, shard_lengths=None, dataset_name='fashion_mnist'),\n",
       " 'test': SplitInfo(name='test', num_bytes=5233810, num_examples=10000, shard_lengths=None, dataset_name='fashion_mnist')}"
      ]
     },
     "execution_count": 4,
     "metadata": {},
     "output_type": "execute_result"
    }
   ],
   "source": [
    "ds_builder.info.splits"
   ]
  },
  {
   "cell_type": "code",
   "execution_count": 5,
   "id": "c805ca87-2333-4ff9-b76b-e5bb482dfd35",
   "metadata": {},
   "outputs": [
    {
     "data": {
      "text/plain": [
       "{'image': Image(mode=None, decode=True, id=None),\n",
       " 'label': ClassLabel(names=['T - shirt / top', 'Trouser', 'Pullover', 'Dress', 'Coat', 'Sandal', 'Shirt', 'Sneaker', 'Bag', 'Ankle boot'], id=None)}"
      ]
     },
     "execution_count": 5,
     "metadata": {},
     "output_type": "execute_result"
    }
   ],
   "source": [
    "ds_builder.info.features"
   ]
  },
  {
   "cell_type": "code",
   "execution_count": 6,
   "id": "26cff394-e74a-4f21-b26d-1fa1864c24fb",
   "metadata": {},
   "outputs": [
    {
     "data": {
      "text/plain": [
       "DatasetDict({\n",
       "    train: Dataset({\n",
       "        features: ['image', 'label'],\n",
       "        num_rows: 60000\n",
       "    })\n",
       "    test: Dataset({\n",
       "        features: ['image', 'label'],\n",
       "        num_rows: 10000\n",
       "    })\n",
       "})"
      ]
     },
     "execution_count": 6,
     "metadata": {},
     "output_type": "execute_result"
    }
   ],
   "source": [
    "# Preset image and label\n",
    "x, y = 'image', 'label'\n",
    "dsd = load_dataset(name)\n",
    "dsd"
   ]
  },
  {
   "cell_type": "markdown",
   "id": "c80449ad-9ee6-492c-9579-1ffffc02f3ac",
   "metadata": {},
   "source": [
    "We need to convert each image into a tensor, so let's run the transformation using the `@inplace` decorator."
   ]
  },
  {
   "cell_type": "code",
   "execution_count": 7,
   "id": "f766d7cb-6cbe-4ba0-a656-8c6cca275032",
   "metadata": {},
   "outputs": [],
   "source": [
    "# Using our decorator from the same NB\n",
    "@inplace\n",
    "def transform_i(b): b[x] = [TF.to_tensor(o) for o in b[x]]"
   ]
  },
  {
   "cell_type": "code",
   "execution_count": 8,
   "id": "fc465e3a-bcea-46fc-b789-cb303dba86e2",
   "metadata": {},
   "outputs": [],
   "source": [
    "# Set Batch size and run transformation inplace\n",
    "bs = 256\n",
    "tds = dsd.with_transform(transform_i)"
   ]
  },
  {
   "cell_type": "code",
   "execution_count": 9,
   "id": "dd0ae2d4-eac3-425a-9909-5fafaae83a1c",
   "metadata": {},
   "outputs": [
    {
     "data": {
      "image/png": "[encoded data removed]",
      "text/plain": [
       "<Figure size 200x200 with 1 Axes>"
      ]
     },
     "metadata": {},
     "output_type": "display_data"
    }
   ],
   "source": [
    "ds = tds['train']\n",
    "img = ds[0]['image']\n",
    "show_image(img, figsize=(2,2));"
   ]
  },
  {
   "cell_type": "code",
   "execution_count": 10,
   "id": "9a532ad1-5ccf-4074-9d57-478c2b3d02c4",
   "metadata": {},
   "outputs": [],
   "source": [
    "# Collate func\n",
    "# Take in a batch of data and put the elements within the batch into a tensor with an additional outer dimension - batch size\n",
    "cf = collate_dict(ds)"
   ]
  },
  {
   "cell_type": "code",
   "execution_count": 11,
   "id": "d3ad10e4-cf4d-454c-86d3-69a306c2ec46",
   "metadata": {},
   "outputs": [],
   "source": [
    "# Using the collate function with the to_device() function from nb-07\n",
    "def collate_(b): return to_device(cf(b))\n",
    "# Create the Dataloader function, which goes through each item in the dataset dict(dsd) and \n",
    "# creates a dict of dataloaders\n",
    "# num workers added after slow CNN performance\n",
    "def data_loaders(dsd, bs, **kwargs): return {k:DataLoader(v, bs,**kwargs) for k, v in dsd.items()}"
   ]
  },
  {
   "cell_type": "code",
   "execution_count": 12,
   "id": "b12d8b62-97c7-4315-9abf-c0d1009c5052",
   "metadata": {},
   "outputs": [
    {
     "data": {
      "text/plain": [
       "{'train': <torch.utils.data.dataloader.DataLoader at 0x7fa8f08eba90>,\n",
       " 'test': <torch.utils.data.dataloader.DataLoader at 0x7fa8f08ebf70>}"
      ]
     },
     "execution_count": 12,
     "metadata": {},
     "output_type": "execute_result"
    }
   ],
   "source": [
    "dls = data_loaders(tds, bs, collate_fn=collate_)\n",
    "dls"
   ]
  },
  {
   "cell_type": "code",
   "execution_count": 13,
   "id": "83cfb8cd-ff3e-4f02-8d10-4549837137e2",
   "metadata": {},
   "outputs": [],
   "source": [
    "# Dataloaders for training and validation\n",
    "dt = dls['train']\n",
    "dv = dls['test']\n",
    "# Grab x and y batches\n",
    "xb, yb = next(iter(dt))"
   ]
  },
  {
   "cell_type": "code",
   "execution_count": 14,
   "id": "c0365915-2546-4796-ab05-c8b4a84a52be",
   "metadata": {},
   "outputs": [
    {
     "data": {
      "text/plain": [
       "['T - shirt / top',\n",
       " 'Trouser',\n",
       " 'Pullover',\n",
       " 'Dress',\n",
       " 'Coat',\n",
       " 'Sandal',\n",
       " 'Shirt',\n",
       " 'Sneaker',\n",
       " 'Bag',\n",
       " 'Ankle boot']"
      ]
     },
     "execution_count": 14,
     "metadata": {},
     "output_type": "execute_result"
    }
   ],
   "source": [
    "# Get names for the features\n",
    "labels = ds.features[y].names\n",
    "labels"
   ]
  },
  {
   "cell_type": "code",
   "execution_count": 15,
   "id": "eb42263b-1498-4357-98b3-dcef7507522d",
   "metadata": {},
   "outputs": [],
   "source": [
    "# Make a label getter and grab a minibatch of 16 imgs\n",
    "lbl_getter = itemgetter(*yb[:16])\n",
    "titles = lbl_getter(labels)"
   ]
  },
  {
   "cell_type": "code",
   "execution_count": 16,
   "id": "bae7148a-c8b6-4ac4-865d-887fcf35ca31",
   "metadata": {},
   "outputs": [
    {
     "data": {
      "image/png": "[encoded data removed]",
      "text/plain": [
       "<Figure size 576x576 with 16 Axes>"
      ]
     },
     "metadata": {},
     "output_type": "display_data"
    }
   ],
   "source": [
    "# View minibatch samples with labels\n",
    "mpl.rcParams['figure.dpi'] = 80\n",
    "show_images(xb[:16], imsize=1.8, titles=titles);"
   ]
  },
  {
   "cell_type": "markdown",
   "id": "21a0fd14-3b34-409a-b367-c8878e56e791",
   "metadata": {},
   "source": [
    "## **Create a Simple CNN Classifier**"
   ]
  },
  {
   "cell_type": "code",
   "execution_count": 17,
   "id": "76d66ef0-d750-4d28-b806-dcd567c1f1ec",
   "metadata": {},
   "outputs": [],
   "source": [
    "bs = 256\n",
    "lr = 0.4"
   ]
  },
  {
   "cell_type": "code",
   "execution_count": 18,
   "id": "25cb83ef-052b-4053-8c4b-eb4cd796bf0e",
   "metadata": {},
   "outputs": [],
   "source": [
    "# Setup NN using the conv() function from nb07 with 3x3 ks and stride-2\n",
    "cnn = nn.Sequential(\n",
    "    conv(1, 4),              #14x14\n",
    "    conv(4, 8),              #7x7\n",
    "    conv(8, 16),             #4x4\n",
    "    conv(16, 16),            #2x2\n",
    "    conv(16, 10, act=False), #1x1\n",
    "    nn.Flatten()\n",
    ").to(def_device)"
   ]
  },
  {
   "cell_type": "code",
   "execution_count": 19,
   "id": "e82c0c65-8e03-43e8-8d78-9e5d56551a3f",
   "metadata": {},
   "outputs": [
    {
     "name": "stdout",
     "output_type": "stream",
     "text": [
      "0 0.781072154045105 0.7108\n",
      "1 0.5751161855220794 0.7923\n",
      "2 0.5067703869342804 0.8187\n",
      "3 0.4936272106647491 0.8239\n",
      "4 0.47966703510284425 0.8321\n",
      "CPU times: user 23.6 s, sys: 288 ms, total: 23.9 s\n",
      "Wall time: 24.2 s\n"
     ]
    }
   ],
   "source": [
    "opt = optim.SGD(cnn.parameters(), lr=lr)\n",
    "\n",
    "%time loss, acc = fit(5, cnn, F.cross_entropy, opt, dt, dv)"
   ]
  },
  {
   "cell_type": "code",
   "execution_count": 20,
   "id": "caeecc03-0d79-49cb-84bb-189996c1d984",
   "metadata": {},
   "outputs": [
    {
     "data": {
      "text/plain": [
       "{'image': <PIL.PngImagePlugin.PngImageFile image mode=L size=28x28>,\n",
       " 'label': 9}"
      ]
     },
     "execution_count": 20,
     "metadata": {},
     "output_type": "execute_result"
    }
   ],
   "source": [
    "# Grabbing a single training sample\n",
    "dsd['train'][0]"
   ]
  },
  {
   "cell_type": "markdown",
   "id": "3110062e-d67f-4d5e-b16b-a229c76e3940",
   "metadata": {},
   "source": [
    "The sequential model is pretty slowly, especially when compared to the standard MNIST dataset used in NB-07. And the accuracy is pretty low, compared to the leaderboard on the [papers with code](https://paperswithcode.com/sota/image-classification-on-fashion-mnist) site.\n",
    "\n",
    "Sticking to the issue of speed, the reason for the slower performance is due to fact the MNIST was loaded onto the GPU memory as a single, large tensor block. But the HuggingFace training set consists of separate PNG images, which aren't pre-converted into a single format. So the dataloader has to spend extra time decoding the images, which is very CPU intensive, as so is a bottle-neck.\n",
    "\n",
    "Adding the `num_workers`argument, set to a higher value, also throws an error due to the way the collate function works. So, in short we would have to rewrite the `fit()` function to handle these extra wrinkles."
   ]
  },
  {
   "cell_type": "code",
   "execution_count": null,
   "id": "e75722be-8acf-4856-9c7e-74f639193dee",
   "metadata": {},
   "outputs": [],
   "source": []
  }
 ],
 "metadata": {
  "kernelspec": {
   "display_name": "Python 3 (ipykernel)",
   "language": "python",
   "name": "python3"
  },
  "language_info": {
   "codemirror_mode": {
    "name": "ipython",
    "version": 3
   },
   "file_extension": ".py",
   "mimetype": "text/x-python",
   "name": "python",
   "nbconvert_exporter": "python",
   "pygments_lexer": "ipython3",
   "version": "3.10.14"
  },
  "widgets": {
   "application/vnd.jupyter.widget-state+json": {
    "state": {},
    "version_major": 2,
    "version_minor": 0
   }
  }
 },
 "nbformat": 4,
 "nbformat_minor": 5
}
