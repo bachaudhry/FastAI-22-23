{
 "cells": [
  {
   "cell_type": "markdown",
   "id": "8f60b333-aa9f-41c7-8bb3-d3b19b7923d0",
   "metadata": {},
   "source": [
    "# **Clustering**"
   ]
  },
  {
   "cell_type": "markdown",
   "id": "b2942aa7-092a-4052-b0ac-f825b337ddad",
   "metadata": {},
   "source": [
    "In this NB, we will apply what was learnt about tensor operations in the `01_matmul` notebook to classical ML algorithms - specifically unsupervised learning techniques like Clustering. \n",
    "\n",
    "The homework at the end of the course NB is the key to this lesson. We should be able to extend tensor operations to other unsupervised algorithms such as dbscan, k-means clustering , fast nearest neighbours _while utilizing our GPU._ Implementing in APL is the bonus.\n",
    "\n",
    "According to Jeremy, this is akin to knowing our times tables. So \"time\" to get cracking!"
   ]
  },
  {
   "cell_type": "code",
   "execution_count": 1,
   "id": "ab82e95d-e55b-45c0-85cd-542292a1588a",
   "metadata": {},
   "outputs": [],
   "source": [
    "import math, matplotlib.pyplot as plt, operator, torch\n",
    "from functools import partial"
   ]
  },
  {
   "cell_type": "code",
   "execution_count": 2,
   "id": "e8dd8be9-3d8f-44d2-8c7e-1adb3ab9c63b",
   "metadata": {},
   "outputs": [],
   "source": [
    "torch.manual_seed(42)\n",
    "torch.set_printoptions(precision=3, linewidth=140, sci_mode=False)"
   ]
  },
  {
   "cell_type": "markdown",
   "id": "b82a452b-79f9-425a-9fea-2eef704e2fc4",
   "metadata": {},
   "source": [
    "## Create Synthetic Data"
   ]
  },
  {
   "cell_type": "code",
   "execution_count": 3,
   "id": "e4f4cd8c-8363-426a-9398-703afb2bd6bb",
   "metadata": {},
   "outputs": [],
   "source": [
    "n_clusters = 6\n",
    "n_samples = 500"
   ]
  },
  {
   "cell_type": "markdown",
   "id": "a77575e5-4af1-4fc5-acc6-afb9f40c4ea0",
   "metadata": {},
   "source": [
    "We will pick 6 random points aka centroids and for each we will generate 500 random observations."
   ]
  },
  {
   "cell_type": "code",
   "execution_count": 4,
   "id": "575bdece-474d-4815-bde4-2b0cd7adf65d",
   "metadata": {},
   "outputs": [],
   "source": [
    "# Create random clusters by 2 for x and y coordinates\n",
    "centroids = torch.rand(n_clusters, 2) * 70-35"
   ]
  },
  {
   "cell_type": "code",
   "execution_count": 5,
   "id": "3dc7db95-265f-4318-99eb-f8d79a374c94",
   "metadata": {},
   "outputs": [
    {
     "data": {
      "text/plain": [
       "tensor([[ 26.759,  29.050],\n",
       "        [ -8.200,  32.151],\n",
       "        [ -7.669,   7.063],\n",
       "        [-17.040,  20.555],\n",
       "        [ 30.854, -25.677],\n",
       "        [ 30.422,   6.551]])"
      ]
     },
     "execution_count": 5,
     "metadata": {},
     "output_type": "execute_result"
    }
   ],
   "source": [
    "centroids"
   ]
  },
  {
   "cell_type": "code",
   "execution_count": 6,
   "id": "10d4ac98-29f9-41ba-a5ca-482922b6107d",
   "metadata": {},
   "outputs": [],
   "source": [
    "from torch.distributions.multivariate_normal import MultivariateNormal\n",
    "from torch import tensor"
   ]
  },
  {
   "cell_type": "code",
   "execution_count": 12,
   "id": "96f718b3-c653-4748-a59e-a41f75a06e2b",
   "metadata": {},
   "outputs": [],
   "source": [
    "# Sample will run on each of the 6 centroids\n",
    "def sample(m): \n",
    "    # Returns normally distributed, multivariate data with means for x and y\n",
    "    # The standard deviation and mean will be 5 for these clusters. \n",
    "    # torch.diag() will create a covariance matrix since we have multivariate data.\n",
    "    # finally, get the number of samples which we want.\n",
    "    return MultivariateNormal(m, torch.diag(tensor([5., 5.]))).sample((n_samples,)) # Comma ensures output is a tuple"
   ]
  },
  {
   "cell_type": "markdown",
   "id": "dede07fc-3909-4e17-b4b0-6cd34f44f18d",
   "metadata": {},
   "source": [
    "**`NOTE`** \n",
    "\n",
    "With regard to `.sample(n_samples,)`, here are some additional details with regard to ChatGPT.\n",
    "\n",
    "> The sample method can take a shape argument to specify how many samples you want to draw. By passing `(n_samples,)`, you're specifying that you want to draw `n_samples` samples from the distribution, and the comma makes this a tuple. In Python, a single-element tuple _must_ have a comma after the element to distinguish it from a regular parenthesized expression.\n",
    "\n",
    "> Without the comma, `(n_samples)` would just be interpreted as n_samples itself, rather than a tuple containing n_samples. Using a tuple ensures that the sample method interprets the argument correctly and returns the desired number of samples."
   ]
  },
  {
   "cell_type": "code",
   "execution_count": 13,
   "id": "e05314cd-345d-4fc8-8c32-0e66ec0cd052",
   "metadata": {},
   "outputs": [
    {
     "data": {
      "text/plain": [
       "torch.Size([3000, 2])"
      ]
     },
     "execution_count": 13,
     "metadata": {},
     "output_type": "execute_result"
    }
   ],
   "source": [
    "slices = [sample(c) for c in centroids]\n",
    "data = torch.cat(slices)\n",
    "data.shape"
   ]
  },
  {
   "cell_type": "code",
   "execution_count": 14,
   "id": "7ffd73dd-2c62-43a8-956d-0a99cc279474",
   "metadata": {},
   "outputs": [
    {
     "data": {
      "text/plain": [
       "\u001b[0;31mDocstring:\u001b[0m\n",
       "cat(tensors, dim=0, *, out=None) -> Tensor\n",
       "\n",
       "Concatenates the given sequence of :attr:`seq` tensors in the given dimension.\n",
       "All tensors must either have the same shape (except in the concatenating\n",
       "dimension) or be a 1-D empty tensor with size ``(0,)``.\n",
       "\n",
       ":func:`torch.cat` can be seen as an inverse operation for :func:`torch.split`\n",
       "and :func:`torch.chunk`.\n",
       "\n",
       ":func:`torch.cat` can be best understood via examples.\n",
       "\n",
       ".. seealso::\n",
       "\n",
       "    :func:`torch.stack` concatenates the given sequence along a new dimension.\n",
       "\n",
       "Args:\n",
       "    tensors (sequence of Tensors): any python sequence of tensors of the same type.\n",
       "        Non-empty tensors provided must have the same shape, except in the\n",
       "        cat dimension.\n",
       "    dim (int, optional): the dimension over which the tensors are concatenated\n",
       "\n",
       "Keyword args:\n",
       "    out (Tensor, optional): the output tensor.\n",
       "\n",
       "Example::\n",
       "\n",
       "    >>> x = torch.randn(2, 3)\n",
       "    >>> x\n",
       "    tensor([[ 0.6580, -1.0969, -0.4614],\n",
       "            [-0.1034, -0.5790,  0.1497]])\n",
       "    >>> torch.cat((x, x, x), 0)\n",
       "    tensor([[ 0.6580, -1.0969, -0.4614],\n",
       "            [-0.1034, -0.5790,  0.1497],\n",
       "            [ 0.6580, -1.0969, -0.4614],\n",
       "            [-0.1034, -0.5790,  0.1497],\n",
       "            [ 0.6580, -1.0969, -0.4614],\n",
       "            [-0.1034, -0.5790,  0.1497]])\n",
       "    >>> torch.cat((x, x, x), 1)\n",
       "    tensor([[ 0.6580, -1.0969, -0.4614,  0.6580, -1.0969, -0.4614,  0.6580,\n",
       "             -1.0969, -0.4614],\n",
       "            [-0.1034, -0.5790,  0.1497, -0.1034, -0.5790,  0.1497, -0.1034,\n",
       "             -0.5790,  0.1497]])\n",
       "\u001b[0;31mType:\u001b[0m      builtin_function_or_method"
      ]
     },
     "metadata": {},
     "output_type": "display_data"
    }
   ],
   "source": [
    "torch.cat?"
   ]
  },
  {
   "cell_type": "code",
   "execution_count": 10,
   "id": "d97a9460-b40b-45a9-a859-f5c822a44242",
   "metadata": {},
   "outputs": [],
   "source": [
    "def plot_data(centroids, data, n_samples, ax=None):\n",
    "    if ax is None: \n",
    "        _, ax = plt.subplots()\n",
    "    for i, centroid in enumerate(centroids):\n",
    "        #Grab samples in order for i to i+1\n",
    "        samples = data[i*n_samples: (i+1)*n_samples]\n",
    "        ax.scatter(samples[:, 0], samples[:, 1], s=1)\n",
    "        ax.plot(*centroid, markersize=10, marker=\"x\", color=\"k\", mew=5) # Large black X\n",
    "        ax.plot(*centroid, markersize=5, marker=\"x\", color=\"m\", mew=2) # Smaller magenta X"
   ]
  },
  {
   "cell_type": "code",
   "execution_count": 11,
   "id": "4b672931-6f7a-4685-8013-7cccbe50cc2c",
   "metadata": {},
   "outputs": [
    {
     "data": {
      "image/png": "[encoded data removed]",
      "text/plain": [
       "<Figure size 640x480 with 1 Axes>"
      ]
     },
     "metadata": {},
     "output_type": "display_data"
    }
   ],
   "source": [
    "plot_data(centroids, data, n_samples)"
   ]
  },
  {
   "cell_type": "markdown",
   "id": "ea8fa164-5a9e-4263-9733-258b11acab10",
   "metadata": {},
   "source": [
    "## Mean Shift Algorithm"
   ]
  },
  {
   "cell_type": "markdown",
   "id": "1c8dea07-1e80-4581-94fe-6594a1baf003",
   "metadata": {},
   "source": [
    "> Most people that have come across clustering algorithms have learnt about k-means. Mean shift clustering is a newer and less well-known approach, but it has some important advantages:\n",
    "> - It doesn't require selecting the number of clusters in advance, but instead just requires a bandwidth to be specified, which can be easily chosen automatically\n",
    "> - It can handle clusters of any shape, whereas k-means (without using special extensions) requires that clusters be roughly ball shaped.\n",
    "\n",
    "> The algorithm is as follows:\n",
    "\n",
    "> - For each data point x in the sample X, find the distance between that point x and every other point in X\n",
    "> - Create weights for each point in X by using the Gaussian kernel of that point's distance to x\n",
    "> - This weighting approach penalizes points further away from x\n",
    "> - The rate at which the weights fall to zero is determined by the bandwidth, which is the standard deviation of the Gaussian\n",
    "> - Update x as the weighted average of all other points in X, weighted based on the previous step\n",
    "\n",
    ">This will iteratively push points that are close together even closer until they are next to each other.\n"
   ]
  },
  {
   "cell_type": "code",
   "execution_count": 16,
   "id": "d43de0d5-4bd4-47f7-b999-7932439f43ec",
   "metadata": {},
   "outputs": [
    {
     "data": {
      "text/plain": [
       "tensor([ 9.180, 11.603])"
      ]
     },
     "execution_count": 16,
     "metadata": {},
     "output_type": "execute_result"
    }
   ],
   "source": [
    "# Taking the mean gives us the middle point of the variable space\n",
    "# This is not the result we want. Our interest lies in taking a weighted average\n",
    "midp = data.mean(0)\n",
    "midp"
   ]
  },
  {
   "cell_type": "code",
   "execution_count": 17,
   "id": "34018ec2-059c-4815-bf60-ec32d45685a8",
   "metadata": {},
   "outputs": [
    {
     "data": {
      "image/png": "[encoded data removed]",
      "text/plain": [
       "<Figure size 640x480 with 1 Axes>"
      ]
     },
     "metadata": {},
     "output_type": "display_data"
    }
   ],
   "source": [
    "plot_data([midp]*6, data, n_samples)"
   ]
  },
  {
   "cell_type": "markdown",
   "id": "402b9028-fa00-4d03-a364-3d0b39824399",
   "metadata": {},
   "source": [
    "We require a weighted average of the data points for each cluster. Each point's weights are assigned using the Gaussian Kernel."
   ]
  },
  {
   "cell_type": "code",
   "execution_count": 25,
   "id": "990cd107-f172-4357-ad15-bb3c4166ef6c",
   "metadata": {},
   "outputs": [],
   "source": [
    "def gaussian(d, bw):\n",
    "    # Computes the value of a Gaussian distribution's PDF\n",
    "    # d=distance and bw=bandwidth\n",
    "    # d/bw normalizes the distance by bw - which acts as a scaling factor\n",
    "    \n",
    "    # (-0.5*((d/bw)**2)) computes the exponent in the Gaussian function.\n",
    "    # Squaring the normalized distance ensures a non-negative result. -0.5 changes the sign.\n",
    "\n",
    "    #The term math.sqrt(2 * math.pi) is a constant that ensures the integral of the Gaussian function \n",
    "    # over all space equals 1, making it a valid probability density function. \n",
    "    return torch.exp(-0.5*((d/bw))**2) / (bw*math.sqrt(2*math.pi))"
   ]
  },
  {
   "cell_type": "code",
   "execution_count": 19,
   "id": "1059649a-4e81-471d-9080-df4a8fc758cf",
   "metadata": {},
   "outputs": [],
   "source": [
    "def plot_func(f):\n",
    "    x = torch.linspace(0, 10, 100)\n",
    "    plt.plot(x, f(x))"
   ]
  },
  {
   "cell_type": "code",
   "execution_count": 24,
   "id": "5d52f152-7df0-4489-83f5-520855bf9a67",
   "metadata": {},
   "outputs": [
    {
     "data": {
      "image/png": "[encoded data removed]",
      "text/plain": [
       "<Figure size 640x480 with 1 Axes>"
      ]
     },
     "metadata": {},
     "output_type": "display_data"
    }
   ],
   "source": [
    "# We can use partial() to simplify the plotting of the function below\n",
    "plot_func(partial(gaussian, bw=2.5))"
   ]
  },
  {
   "cell_type": "markdown",
   "id": "335544ef-a6ff-4336-aac8-97b720ff4b7b",
   "metadata": {},
   "source": [
    "Setting `bw` or `bandwidth` to 2.5 is a rule of thumb which allows us to cover 75% of the data.\n",
    "\n",
    "A simpler alternative is to use triangular weighting for setting the bandwidth."
   ]
  },
  {
   "cell_type": "code",
   "execution_count": 26,
   "id": "8fd81789-8cb2-46d9-9869-5fd49e5f2a9d",
   "metadata": {},
   "outputs": [],
   "source": [
    "def tri(d, i):\n",
    "    return (-d+i).clamp_min(0)/i"
   ]
  },
  {
   "cell_type": "code",
   "execution_count": 27,
   "id": "2de7b79d-fbd2-44a9-96a2-0c48a3dcee57",
   "metadata": {},
   "outputs": [
    {
     "data": {
      "image/png": "[encoded data removed]",
      "text/plain": [
       "<Figure size 640x480 with 1 Axes>"
      ]
     },
     "metadata": {},
     "output_type": "display_data"
    }
   ],
   "source": [
    "plot_func(partial(tri, i=8))"
   ]
  },
  {
   "cell_type": "code",
   "execution_count": 50,
   "id": "07d29cc3-0600-4818-8b76-c04bee9a4d7b",
   "metadata": {},
   "outputs": [],
   "source": [
    "# Cloning the data by creating matrix X\n",
    "X = data.clone()\n",
    "x = data[0]"
   ]
  },
  {
   "cell_type": "code",
   "execution_count": 51,
   "id": "dc22cf6b-c206-4df0-9d66-e87f0ccbafa9",
   "metadata": {},
   "outputs": [
    {
     "data": {
      "text/plain": [
       "tensor([26.070, 31.756])"
      ]
     },
     "execution_count": 51,
     "metadata": {},
     "output_type": "execute_result"
    }
   ],
   "source": [
    "# A simple rank 1 tensor which will be used to calculate the distances from x and y\n",
    "x"
   ]
  },
  {
   "cell_type": "code",
   "execution_count": 52,
   "id": "cb753fc7-2833-46e5-b199-a920518fcd65",
   "metadata": {},
   "outputs": [
    {
     "data": {
      "text/plain": [
       "(torch.Size([2]), torch.Size([3000, 2]), torch.Size([1, 2]))"
      ]
     },
     "execution_count": 52,
     "metadata": {},
     "output_type": "execute_result"
    }
   ],
   "source": [
    "# Tensors and then adding a unit column to x\n",
    "x.shape, X.shape, x[None].shape"
   ]
  },
  {
   "cell_type": "markdown",
   "id": "c1ec7bdc-e30b-427a-8315-4450592e9cdd",
   "metadata": {},
   "source": [
    "Applying what was learnt in the last NB wrt Broadcasting rules."
   ]
  },
  {
   "cell_type": "code",
   "execution_count": 53,
   "id": "64688ed9-037f-4482-ae31-296dcd073fec",
   "metadata": {},
   "outputs": [
    {
     "data": {
      "text/plain": [
       "tensor([[ 0.000,  0.000],\n",
       "        [ 4.271,  7.051],\n",
       "        [-2.848,  1.672],\n",
       "        [ 2.488,  2.145],\n",
       "        [-1.644,  3.903],\n",
       "        [ 1.433,  2.529],\n",
       "        [-2.395,  0.646],\n",
       "        [ 0.785,  2.151]])"
      ]
     },
     "execution_count": 53,
     "metadata": {},
     "output_type": "execute_result"
    }
   ],
   "source": [
    "(x[None]-X)[:8]"
   ]
  },
  {
   "cell_type": "code",
   "execution_count": 54,
   "id": "c79630a0-5f08-4412-b951-b974c385f3f0",
   "metadata": {},
   "outputs": [
    {
     "data": {
      "text/plain": [
       "tensor([[ 0.000,  0.000],\n",
       "        [ 4.271,  7.051],\n",
       "        [-2.848,  1.672],\n",
       "        [ 2.488,  2.145],\n",
       "        [-1.644,  3.903],\n",
       "        [ 1.433,  2.529],\n",
       "        [-2.395,  0.646],\n",
       "        [ 0.785,  2.151]])"
      ]
     },
     "execution_count": 54,
     "metadata": {},
     "output_type": "execute_result"
    }
   ],
   "source": [
    "(x-X)[:8] # Same result as before since our tensors have compatible unit axes"
   ]
  },
  {
   "cell_type": "code",
   "execution_count": 55,
   "id": "e012f764-ddcf-41f5-8840-84836fd19cec",
   "metadata": {},
   "outputs": [
    {
     "data": {
      "text/plain": [
       "tensor([0.000, 8.244, 3.302, 3.285, 4.236, 2.907, 2.481, 2.290])"
      ]
     },
     "execution_count": 55,
     "metadata": {},
     "output_type": "execute_result"
    }
   ],
   "source": [
    "# Taking the Euclidean distance \n",
    "dist_1 = ((x-X)**2).sum(1).sqrt()\n",
    "dist_1[:8]"
   ]
  },
  {
   "cell_type": "markdown",
   "id": "844ca4bd-7d56-4701-bf55-07fa422d484a",
   "metadata": {},
   "source": [
    "**HOMEWORK**: Lets rewrite the above using Einsum to speed up operations."
   ]
  },
  {
   "cell_type": "code",
   "execution_count": 58,
   "id": "a620d3af-1e7a-42bf-9dbe-2d4c9872ef3c",
   "metadata": {},
   "outputs": [
    {
     "data": {
      "text/plain": [
       "tensor([0.000, 8.244, 3.302, 3.285, 4.236, 2.907, 2.481, 2.290])"
      ]
     },
     "execution_count": 58,
     "metadata": {},
     "output_type": "execute_result"
    }
   ],
   "source": [
    "# Einsum implementation\n",
    "# Compute the squared differences, take their sum and then the square root.\n",
    "ein_dist = torch.einsum('ij, ij -> i', (X-x), (X-x)).sqrt()\n",
    "ein_dist[:8]"
   ]
  },
  {
   "cell_type": "code",
   "execution_count": 62,
   "id": "de808f01-62c3-43c0-aa55-88b051d58101",
   "metadata": {},
   "outputs": [],
   "source": [
    "# Calculating the weights, using both the standard and the einsum versions\n",
    "weight_1 = gaussian(dist, 2.5)\n",
    "weight_2 = gaussian(ein_dist, 2.5)"
   ]
  },
  {
   "cell_type": "code",
   "execution_count": 60,
   "id": "37de2fa7-9899-4f8a-b200-9b395254039e",
   "metadata": {},
   "outputs": [
    {
     "data": {
      "text/plain": [
       "(torch.Size([3000]), torch.Size([3000]), torch.Size([3000, 2]))"
      ]
     },
     "execution_count": 60,
     "metadata": {},
     "output_type": "execute_result"
    }
   ],
   "source": [
    "# We will calculate the weighted average of the data X using the weights we just calculated.\n",
    "weight_1.shape, weight_2.shape ,X.shape"
   ]
  },
  {
   "cell_type": "code",
   "execution_count": 61,
   "id": "a2fdab63-d1e6-4cbd-a49d-fdda94b4380e",
   "metadata": {},
   "outputs": [
    {
     "data": {
      "text/plain": [
       "(torch.Size([3000, 1]), torch.Size([3000, 1]))"
      ]
     },
     "execution_count": 61,
     "metadata": {},
     "output_type": "execute_result"
    }
   ],
   "source": [
    "# To make the tensors compatible for operations requires a unit axis\n",
    "weight_1[:, None].shape, weight_2[:, None].shape"
   ]
  },
  {
   "cell_type": "code",
   "execution_count": 63,
   "id": "4fdd77d7-7228-4081-bfb7-63512512ee59",
   "metadata": {},
   "outputs": [
    {
     "data": {
      "text/plain": [
       "(tensor([[4.160, 5.068],\n",
       "         [0.015, 0.017],\n",
       "         [1.929, 2.006],\n",
       "         [1.587, 1.993],\n",
       "         [1.053, 1.058],\n",
       "         [2.000, 2.372],\n",
       "         [2.776, 3.034],\n",
       "         [2.652, 3.105]]),\n",
       " tensor([[4.160, 5.068],\n",
       "         [0.015, 0.017],\n",
       "         [1.929, 2.006],\n",
       "         [1.587, 1.993],\n",
       "         [1.053, 1.058],\n",
       "         [2.000, 2.372],\n",
       "         [2.776, 3.034],\n",
       "         [2.652, 3.105]]))"
      ]
     },
     "execution_count": 63,
     "metadata": {},
     "output_type": "execute_result"
    }
   ],
   "source": [
    "(weight_1[:, None]*X)[:8], (weight_2[:, None]*X)[:8]"
   ]
  },
  {
   "cell_type": "markdown",
   "id": "6419d058-c6ad-423b-ae0f-64e7a7756328",
   "metadata": {},
   "source": [
    "Thankfully, both the **standard** and the **einsum** versions appear to have similar values.\n",
    "\n",
    "Now that we have iteratively figured out how to get the individual pieces of the mean shift algorithm to work, its time to put it into one function.\n",
    "\n",
    "Additionally, we can compare the difference in performance for both versions of our weight calculations."
   ]
  },
  {
   "cell_type": "code",
   "execution_count": 64,
   "id": "d4ecfdd2-9230-4863-b5b6-3442fcd411c0",
   "metadata": {},
   "outputs": [],
   "source": [
    "def one_update(X, calc=None):\n",
    "    for i, x in enumerate(X):\n",
    "        if calc =='einsum':  dist = torch.einsum('ij, ij -> i', (X-x), (X-x)).sqrt()\n",
    "        else:                dist = torch.sqrt(((x-X)**2).sum(1))\n",
    "        # We can use the gaussian or the triangular weighting since the results will be the same.\n",
    "        #weight = gaussian(dist, 2.5) # where d is dist\n",
    "        weight = tri(dist, 8)\n",
    "        X[i] = (weight[:, None] * X).sum(0) / weight.sum()"
   ]
  },
  {
   "cell_type": "code",
   "execution_count": 65,
   "id": "21a5c447-476a-47d6-a720-43bce70c9eba",
   "metadata": {},
   "outputs": [],
   "source": [
    "def mean_shift(data, calc=None):\n",
    "    X = data.clone()\n",
    "    for it in range(5): one_update(X, calc=calc)\n",
    "    return X"
   ]
  },
  {
   "cell_type": "code",
   "execution_count": 69,
   "id": "262a1347-2e8d-419e-98ff-512700a5a491",
   "metadata": {},
   "outputs": [
    {
     "name": "stdout",
     "output_type": "stream",
     "text": [
      "CPU times: user 11.3 s, sys: 179 ms, total: 11.5 s\n",
      "Wall time: 1.15 s\n"
     ]
    }
   ],
   "source": [
    "%time X = mean_shift(data)"
   ]
  },
  {
   "cell_type": "code",
   "execution_count": 70,
   "id": "9f1c7b60-7135-4f1d-987c-3f455d0490f9",
   "metadata": {},
   "outputs": [
    {
     "name": "stdout",
     "output_type": "stream",
     "text": [
      "CPU times: user 13.7 s, sys: 208 ms, total: 13.9 s\n",
      "Wall time: 1.39 s\n"
     ]
    }
   ],
   "source": [
    "%time X = mean_shift(data, calc='einsum')"
   ]
  },
  {
   "cell_type": "markdown",
   "id": "c4970db5-3819-41d3-bda0-8836e6d187b4",
   "metadata": {},
   "source": [
    "Interestingly, the **einsum** version is slower than the standard version."
   ]
  },
  {
   "cell_type": "code",
   "execution_count": 68,
   "id": "d76aa447-7009-48f7-ae21-5293fb8459ff",
   "metadata": {},
   "outputs": [
    {
     "data": {
      "image/png": "[encoded data removed]",
      "text/plain": [
       "<Figure size 640x480 with 1 Axes>"
      ]
     },
     "metadata": {},
     "output_type": "display_data"
    }
   ],
   "source": [
    "# We will move the centroids by 2 points to see them better\n",
    "plot_data(centroids + 2, X, n_samples)"
   ]
  },
  {
   "cell_type": "markdown",
   "id": "4def619b-3278-47bc-a80b-03d46fdb17c9",
   "metadata": {},
   "source": [
    "## Animating the Training / Optimization Steps"
   ]
  },
  {
   "cell_type": "code",
   "execution_count": null,
   "id": "3eb309a1-6cc2-41a0-a16b-946b816cd6e8",
   "metadata": {},
   "outputs": [],
   "source": [
    "from matplotlib.animation import FuncAnimation\n",
    "from IPython.display import HTML"
   ]
  },
  {
   "cell_type": "code",
   "execution_count": null,
   "id": "43f2e2f5-f3b5-4246-aa9f-9d30c6dd71f9",
   "metadata": {},
   "outputs": [],
   "source": [
    "def one_step(d):\n",
    "    if d: one_update(X)\n",
    "    # Adding clear() so that outputs don't overlap\n",
    "    ax.clear() \n",
    "    plot_data(centroids+2, X, n_samples, ax=ax)"
   ]
  },
  {
   "cell_type": "code",
   "execution_count": null,
   "id": "2adb094e-0b4a-48c1-8413-977e391a021d",
   "metadata": {},
   "outputs": [],
   "source": [
    "# Creating an animation of the optimization steps\n",
    "X = data.clone()\n",
    "fig, ax = plt.subplots()\n",
    "ani = FuncAnimation(fig, one_step, frames=5, interval=500, repeat=False)\n",
    "plt.close()\n",
    "HTML(ani.to_jshtml())"
   ]
  },
  {
   "cell_type": "markdown",
   "id": "27bf360a-0fe4-4c25-9272-cb8474919267",
   "metadata": {},
   "source": [
    "## Speeding Up Operations Using GPU Batched Algorithm"
   ]
  },
  {
   "cell_type": "markdown",
   "id": "de813084-8e76-45b5-9382-163c75478206",
   "metadata": {},
   "source": [
    "Before moving the algorithm's operations over to the GPU, we need to be aware of the considerable communications overhead between the flow of data between the CPU and GPU. This is called the **Kernel Launch Overhead** and more details on this topic can be found in this [paper](https://www.hpcs.cs.tsukuba.ac.jp/icpp2019/data/posters/Poster17-abst.pdf).\n",
    "\n",
    "Functionally, we will do away with the model's loop and replace it with broadcasting."
   ]
  },
  {
   "cell_type": "code",
   "execution_count": null,
   "id": "2011f2d5-f889-42e8-b1c5-106e6a297aab",
   "metadata": {},
   "outputs": [],
   "source": [
    "# Create a batch size\n",
    "bs = 5\n",
    "X = data.clone()\n",
    "# Small x will be used for testing the number of items based on the batch size.\n",
    "# Starting off with 5\n",
    "x = X[:bs]\n",
    "x.shape, X.shape"
   ]
  },
  {
   "cell_type": "markdown",
   "id": "62f51c49-d23d-4add-850f-ec86647da93d",
   "metadata": {},
   "source": [
    "We need to rework our distance calculation which can return a matrix containing item-wise distances. Bear in mind that matrix compatibility needs to be considered before running these calculations."
   ]
  },
  {
   "cell_type": "code",
   "execution_count": null,
   "id": "7f5df717-e266-4377-9408-b568de30fb33",
   "metadata": {},
   "outputs": [],
   "source": [
    "# Unit axes need to be added for compatibility\n",
    "# x[None] == x[None, :]\n",
    "x[None].shape, X[:, None].shape, (x[None, :] - X[:, None]).shape"
   ]
  },
  {
   "cell_type": "code",
   "execution_count": null,
   "id": "2e290f32-738d-41c4-a37b-38cb0f7fcf5e",
   "metadata": {},
   "outputs": [],
   "source": [
    "# Now that our matrices align, lets define the distance function\n",
    "def dist_b(a, b):\n",
    "    return (((a[None] - b[:, None])**2).sum(2)).sqrt()"
   ]
  },
  {
   "cell_type": "code",
   "execution_count": null,
   "id": "06ed1ff6-d036-4611-b01f-1384dc5766f3",
   "metadata": {},
   "outputs": [],
   "source": [
    "dist_b(X, x)"
   ]
  },
  {
   "cell_type": "code",
   "execution_count": null,
   "id": "2267e124-5bf3-4eed-8827-842dc8d59986",
   "metadata": {},
   "outputs": [],
   "source": [
    "dist_b(X, x).shape"
   ]
  },
  {
   "cell_type": "code",
   "execution_count": null,
   "id": "f66193f5-0f3f-4b55-b4d9-2eaf4831b2c1",
   "metadata": {},
   "outputs": [],
   "source": [
    "# Using the Gaussian function from before\n",
    "weight = gaussian(dist_b(X, x), 2)\n",
    "weight"
   ]
  },
  {
   "cell_type": "code",
   "execution_count": null,
   "id": "56f3a6e0-0922-4372-a3d6-3abf045215eb",
   "metadata": {},
   "outputs": [],
   "source": [
    "weight.shape, X.shape"
   ]
  },
  {
   "cell_type": "code",
   "execution_count": null,
   "id": "b2dff3bb-bcce-4b9d-bc1a-508a77db9f83",
   "metadata": {},
   "outputs": [],
   "source": [
    "# Adding unit axes\n",
    "weight[..., None].shape, X[None].shape"
   ]
  },
  {
   "cell_type": "code",
   "execution_count": null,
   "id": "841f04f2-404e-4f49-ab89-8e34455cf71e",
   "metadata": {},
   "outputs": [],
   "source": [
    "# Testing the output of the matrix multiplication\n",
    "# Numerator for the weighted average\n",
    "num = (weight[..., None] * X[None]).sum(1)\n",
    "num.shape"
   ]
  },
  {
   "cell_type": "code",
   "execution_count": null,
   "id": "71cfb753-5721-427d-82ef-f6f0772aab0c",
   "metadata": {},
   "outputs": [],
   "source": [
    "num"
   ]
  },
  {
   "cell_type": "markdown",
   "id": "cdd6e887-a57c-4262-a427-370bd0de9bd5",
   "metadata": {},
   "source": [
    "Since we're working with products and sums, we can use Einsum for cleaner code. Here we need to remember that:\n",
    "- `weight` which is (5, 3000) will be `ij`.\n",
    "- `X` is (3000, 2) will be `jk`.\n",
    "- `ik` is the result."
   ]
  },
  {
   "cell_type": "code",
   "execution_count": null,
   "id": "73cf0397-12aa-4deb-92e8-06c1edd1cb07",
   "metadata": {},
   "outputs": [],
   "source": [
    "torch.einsum('ij, jk -> ik', weight, X)"
   ]
  },
  {
   "cell_type": "code",
   "execution_count": null,
   "id": "bbce2024-bc29-4bbc-b64f-e9e0b1eaaef7",
   "metadata": {},
   "outputs": [],
   "source": [
    "# PyTorch operations are cleaner still\n",
    "weight @ X"
   ]
  },
  {
   "cell_type": "code",
   "execution_count": null,
   "id": "38d1aa4f-fc50-48f5-b1d4-b895c32f8ce7",
   "metadata": {},
   "outputs": [],
   "source": [
    "# The denominator for weighted avg. here is the sum of the weights\n",
    "div = weight.sum(1, keepdim=True)\n",
    "div"
   ]
  },
  {
   "cell_type": "code",
   "execution_count": null,
   "id": "28b0d755-ccb8-4985-a103-f4dafb5ddd2a",
   "metadata": {},
   "outputs": [],
   "source": [
    "# Weighted average, all cleaned up\n",
    "num / div"
   ]
  },
  {
   "cell_type": "code",
   "execution_count": null,
   "id": "62754c6c-c78c-44c5-84a6-c40d59632d1c",
   "metadata": {},
   "outputs": [],
   "source": [
    "def meanshift(data, bs=500):\n",
    "    n = len(data)\n",
    "    X = data.clone()\n",
    "    for it in range(5):\n",
    "        for i in range(0, n, bs):\n",
    "            # Slicing the batches for repeated ops\n",
    "            s = slice(i, min(i+bs, n))\n",
    "            weight = gaussian(dist_b(X, X[s]), 2.5)\n",
    "            # This time we won't be using triangular \n",
    "        #   weight = tri(dist_b(X, X[s]), 8)\n",
    "            div = weight.sum(1, keepdim=True)\n",
    "            X[s] = weight@X / div\n",
    "    return X"
   ]
  },
  {
   "cell_type": "code",
   "execution_count": null,
   "id": "26929208-f2a5-4470-974e-637ea9e80d71",
   "metadata": {},
   "outputs": [],
   "source": [
    "# Moving things over to cuda\n",
    "data = data.cuda()"
   ]
  },
  {
   "cell_type": "code",
   "execution_count": null,
   "id": "44401d5e-e6c6-4253-9217-99e9f2a3b3a0",
   "metadata": {},
   "outputs": [],
   "source": [
    "X = meanshift(data).cpu()"
   ]
  },
  {
   "cell_type": "code",
   "execution_count": null,
   "id": "faa89c18-abb3-418a-b087-3a232b5d4ff9",
   "metadata": {},
   "outputs": [],
   "source": [
    "# Testing various batch sizes\n",
    "%timeit -n 5 _= meanshift(data, 20).cpu()"
   ]
  },
  {
   "cell_type": "code",
   "execution_count": null,
   "id": "7a5df695-a968-493d-9c7e-9802dcf7f494",
   "metadata": {},
   "outputs": [],
   "source": [
    "# Testing various batch sizes\n",
    "%timeit -n 5 _= meanshift(data, 100).cpu()"
   ]
  },
  {
   "cell_type": "code",
   "execution_count": null,
   "id": "3540498d-094a-4ff0-a934-1cfcc2d276d3",
   "metadata": {},
   "outputs": [],
   "source": [
    "# Testing various batch sizes\n",
    "%timeit -n 5 _= meanshift(data, 500).cpu()"
   ]
  },
  {
   "cell_type": "code",
   "execution_count": null,
   "id": "ae0a8a8d-6c6b-4ddc-806f-c70a5f46e30c",
   "metadata": {},
   "outputs": [],
   "source": [
    "# Testing various batch sizes\n",
    "%timeit -n 5 _= meanshift(data, 1000).cpu()"
   ]
  },
  {
   "cell_type": "code",
   "execution_count": null,
   "id": "d2e24ef4-fe15-4910-bd67-69212cc017c8",
   "metadata": {},
   "outputs": [],
   "source": [
    "# Testing various batch sizes\n",
    "%timeit -n 5 _= meanshift(data, 3000).cpu()"
   ]
  },
  {
   "cell_type": "code",
   "execution_count": null,
   "id": "102632ea-a1a4-4cd4-88b0-0ce10787a4a5",
   "metadata": {},
   "outputs": [],
   "source": [
    "plot_data(centroids+2, X, n_samples)"
   ]
  },
  {
   "cell_type": "code",
   "execution_count": null,
   "id": "280f17a4-0059-4815-9702-481b1814fc0f",
   "metadata": {},
   "outputs": [],
   "source": []
  }
 ],
 "metadata": {
  "kernelspec": {
   "display_name": "Python 3 (ipykernel)",
   "language": "python",
   "name": "python3"
  },
  "language_info": {
   "codemirror_mode": {
    "name": "ipython",
    "version": 3
   },
   "file_extension": ".py",
   "mimetype": "text/x-python",
   "name": "python",
   "nbconvert_exporter": "python",
   "pygments_lexer": "ipython3",
   "version": "3.10.14"
  },
  "widgets": {
   "application/vnd.jupyter.widget-state+json": {
    "state": {},
    "version_major": 2,
    "version_minor": 0
   }
  }
 },
 "nbformat": 4,
 "nbformat_minor": 5
}
