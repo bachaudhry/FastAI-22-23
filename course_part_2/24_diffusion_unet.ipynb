{
 "cells": [
  {
   "cell_type": "markdown",
   "id": "a1f39363-6601-41c6-8e11-5f214ce26c41",
   "metadata": {},
   "source": [
    "# **Setting Up A Diffusion UNet**"
   ]
  },
  {
   "cell_type": "markdown",
   "id": "b2744b50-e0bc-45c8-b701-908f8eaf73c7",
   "metadata": {},
   "source": [
    "In this NB, we will train an unconditional diffusion model from scratch which will mostly be built using the pipeline components we've already built for this course - in addition to the model specific components from the **Karras Implementation NB i.e. 21_karras_implementation**. "
   ]
  },
  {
   "cell_type": "markdown",
   "id": "3625af93-a79c-4d6f-a622-65a23580d131",
   "metadata": {},
   "source": [
    "## **Setup**"
   ]
  },
  {
   "cell_type": "code",
   "execution_count": 1,
   "id": "733fe828-c21c-475f-8331-b85d0e6324bd",
   "metadata": {},
   "outputs": [],
   "source": [
    "import os, timm, torch, random, datasets, math, fastcore.all as fc\n",
    "import numpy as np, matplotlib as mpl, matplotlib.pyplot as plt\n",
    "import k_diffusion as K, torchvision.transforms as T\n",
    "import torchvision.transforms.functional as TF, torch.nn.functional as F\n",
    "\n",
    "from torch.utils.data import DataLoader, default_collate\n",
    "from pathlib import Path\n",
    "from torch.nn import init\n",
    "from fastcore.foundation import L\n",
    "from torch import nn, tensor\n",
    "from datasets import load_dataset\n",
    "from operator import itemgetter\n",
    "from torcheval.metrics import MulticlassAccuracy\n",
    "from functools import partial\n",
    "from torch.optim import lr_scheduler\n",
    "from torch import optim\n",
    "\n",
    "from miniai.datasets import *\n",
    "from miniai.conv import *\n",
    "from miniai.learner import *\n",
    "from miniai.activations import *\n",
    "from miniai.init import *\n",
    "from miniai.sgd import *\n",
    "from miniai.resnet import *\n",
    "from miniai.augment import *\n",
    "from miniai.accel import *\n",
    "\n",
    "import logging\n",
    "logging.disable(logging.WARNING)\n",
    "\n",
    "set_seed(42)\n",
    "if fc.defaults.cpus>8 : fc.defaults.cpus=8"
   ]
  },
  {
   "cell_type": "code",
   "execution_count": 2,
   "id": "b56369d6-aa68-4812-addb-92895f9a2f2e",
   "metadata": {},
   "outputs": [],
   "source": [
    "from fastprogress import progress_bar\n",
    "from diffusers import UNet2DModel, DDIMPipeline, DDPMPipeline, DDIMScheduler, DDPMScheduler"
   ]
  },
  {
   "cell_type": "code",
   "execution_count": 3,
   "id": "90098a47-1cc4-491c-bf4a-a91aabf48d96",
   "metadata": {},
   "outputs": [],
   "source": [
    "torch.set_printoptions(precision=5, linewidth=140, sci_mode=False)\n",
    "torch.manual_seed(1)\n",
    "mpl.rcParams['image.cmap'] = 'gray_r'\n",
    "mpl.rcParams['figure.dpi'] = 70"
   ]
  },
  {
   "cell_type": "markdown",
   "id": "358b28fc-3344-4b0c-af41-8adf68d8b22c",
   "metadata": {},
   "source": [
    "## **Load Data**"
   ]
  },
  {
   "cell_type": "code",
   "execution_count": 4,
   "id": "6ddd713d-4fa3-42a8-b18f-19bdbf32431a",
   "metadata": {},
   "outputs": [],
   "source": [
    "xl, yl = 'image', 'label'\n",
    "name = \"fashion_mnist\"\n",
    "n_steps = 1000\n",
    "bs = 512\n",
    "dsd = load_dataset(name)"
   ]
  },
  {
   "cell_type": "code",
   "execution_count": 5,
   "id": "339b3828-05e2-402f-a72d-3346ab7f7057",
   "metadata": {},
   "outputs": [],
   "source": [
    "# Taking the standard deviation of the input data as sigma. Bear in mind that the inplace tfms\n",
    "# will have an impact on this value.\n",
    "sig_data = 0.66"
   ]
  },
  {
   "cell_type": "code",
   "execution_count": 6,
   "id": "1fa6375c-e684-4012-b020-3b70d234574a",
   "metadata": {},
   "outputs": [],
   "source": [
    "@inplace\n",
    "def transformi(b): b[xl] = [F.pad(TF.to_tensor(o), (2, 2, 2, 2))*2-1 for o in b[xl]]\n",
    "\n",
    "def scalings(sig):\n",
    "    # Total variance at a particular level of sigma\n",
    "    totvar = sig**2 + sig_data**2\n",
    "           #c_skip           , # c_out                   , #c_in\n",
    "    return sig_data**2/totvar, sig*sig_data/totvar.sqrt(), 1/totvar.sqrt()\n",
    "\n",
    "def noisify(x0):\n",
    "    device = x0.device\n",
    "    # Log normal distribution of sigmas\n",
    "    sig = (torch.randn([len(x0)])*1.2-1.2).exp().to(x0).reshape(-1, 1, 1, 1)\n",
    "    noise = torch.randn_like(x0, device=device)\n",
    "    # Calculate values to pick an input between a clean image and pure noise\n",
    "    c_skip, c_out, c_in = scalings(sig)\n",
    "    noised_input = x0 + noise*sig\n",
    "    # The target is based on a mixture of both noise and clean images with scaling\n",
    "    # being done by c_out\n",
    "    target = (x0 - c_skip*noised_input) / c_out\n",
    "    # Noised input is scaled up or down using c_in\n",
    "    return (noised_input*c_in, sig.squeeze()), target\n",
    "\n",
    "def collate_ddpm(b): return noisify(default_collate(b)[xl])\n",
    "def dl_ddpm(ds)    : return DataLoader(ds, batch_size=bs, collate_fn=collate_ddpm, num_workers=0)"
   ]
  },
  {
   "cell_type": "code",
   "execution_count": 7,
   "id": "97e0ee17-f414-4832-ae2e-0d037670522b",
   "metadata": {},
   "outputs": [],
   "source": [
    "tds = dsd.with_transform(transformi)\n",
    "dls = DataLoaders(dl_ddpm(tds['train']), dl_ddpm(tds['test']))"
   ]
  },
  {
   "cell_type": "code",
   "execution_count": 8,
   "id": "8d244907-184f-42a6-a1c6-ffd6b585fd7e",
   "metadata": {},
   "outputs": [
    {
     "data": {
      "text/plain": [
       "{'train': (60000, 2), 'test': (10000, 2)}"
      ]
     },
     "execution_count": 8,
     "metadata": {},
     "output_type": "execute_result"
    }
   ],
   "source": [
    "tds.shape"
   ]
  },
  {
   "cell_type": "markdown",
   "id": "7409f0d7-5a37-4f9f-8295-6d1d3c85b53a",
   "metadata": {},
   "source": [
    "## **Train Model**"
   ]
  },
  {
   "cell_type": "markdown",
   "id": "aae42937-14ed-4a0c-905a-5692fd0bee0f",
   "metadata": {},
   "source": [
    "The unconditional model will be trained using the UNet architecture from previous NBs and the **Diffusers** library.\n",
    "\n",
    "Additionally, we will be using the [SiLU](https://mlarchive.com/machine-learning/activation-functions-all-you-need-to-know/) or the Sigmoid Activation Function.\n",
    "\n",
    "![title](imgs/SiLU.png)"
   ]
  },
  {
   "cell_type": "markdown",
   "id": "d44938d6-c8c4-493b-abba-3f18423f778e",
   "metadata": {},
   "source": [
    "Using the same convolution as the one from Tiny Imagenet, which is also called the **pre-activation convolution**. \n",
    "\n",
    "Preactivation convolution refers to a specific architectural design in NNs where the batch normalization and activation functions are applied before the convolution operation. This approach is primarily associated with enhancing the performance of deep learning models, particularly in residual networks (ResNets)."
   ]
  },
  {
   "cell_type": "code",
   "execution_count": 9,
   "id": "966e5564-dc54-40ef-b51b-e186943bbb92",
   "metadata": {},
   "outputs": [],
   "source": [
    "def unet_conv(ni, nf, ks=3, stride=1, act=nn.SiLU, norm=None, bias=True):\n",
    "    layers = nn.Sequential()\n",
    "    if norm: layers.append(norm(ni))\n",
    "    if act : layers.append(act())\n",
    "    layers.append(nn.Conv2d(ni, nf, stride=stride, kernel_size=ks, padding=ks//2, bias=bias))\n",
    "    return layers"
   ]
  },
  {
   "cell_type": "code",
   "execution_count": 10,
   "id": "f51d20a7-eed2-4d90-9999-61c72714b45b",
   "metadata": {},
   "outputs": [],
   "source": [
    "# The structure is same as previous ResNet blocks with the exception that there is no option\n",
    "# for down sampling and strides. That will be featured in the down_block(). This approach is similar\n",
    "# to the one used in Diffusers.\n",
    "class UnetResBlock(nn.Module):\n",
    "    def __init__(self, ni, nf=None, ks=3, act=nn.SiLU, norm=nn.BatchNorm2d):\n",
    "        super().__init__()\n",
    "        if nf is None: nf = ni\n",
    "        self.convs = nn.Sequential(unet_conv(ni, nf, ks, act=act, norm=norm),\n",
    "                                   unet_conv(nf, nf, ks, act=act, norm=norm))\n",
    "        self.idconv = fc.noop if ni==nf else nn.Conv2d(ni, nf, 1)\n",
    "\n",
    "    def forward(self, x): return self.convs(x) + self.idconv(x)"
   ]
  },
  {
   "cell_type": "markdown",
   "id": "82ea2acc-dee4-48a2-ab29-f95ef03267f7",
   "metadata": {},
   "source": [
    "By not adding _stride_ and _down-sampling_ to `UnetResBlock()`, we are ensuring that our approach is similar to the one used in the original `DDPM` architecture.\n",
    "\n",
    "We will try to simplify how different down-sampling blocks can be incorporated into UNets. One way to do this is to introduce the `SavedResBlock()` and `SavedConv()` modules. These two components have similar functionality as ResBlock() and Conv(), but are also able to store the activations. This makes the activations accessible as we develop the model architecture."
   ]
  },
  {
   "cell_type": "code",
   "execution_count": 11,
   "id": "9c8137ff-3e4a-4e03-b3a5-a4362ea5531f",
   "metadata": {},
   "outputs": [],
   "source": [
    "class SaveModule:\n",
    "    # Calls forward to grab the ResBlock and Conv results and stores them.\n",
    "    def forward(self, x, *args, **kwargs):\n",
    "        # Using Mixin which contains methods for use by other classes (multiple inheritance)\n",
    "        # without having to be the parent class of those other classes.\n",
    "        self.saved = super().forward(x, *args, **kwargs) \n",
    "        return self.saved\n",
    "\n",
    "# These classes only carry out Mixin ops for the target classes.\n",
    "class SavedResBlock(SaveModule, UnetResBlock): pass # multiple inheritance, First call is used with the second argument \n",
    "class SavedConv(SaveModule, nn.Conv2d): pass        # same as above. This allows UnetResBlock and Conv2d outputs to be saved."
   ]
  },
  {
   "cell_type": "code",
   "execution_count": 12,
   "id": "a306d4f8-9f94-45d3-9e37-9e394ca55176",
   "metadata": {},
   "outputs": [],
   "source": [
    "def down_block(ni, nf, add_down=True, num_layers=1):\n",
    "    # SaveModule ops used Sequentially.\n",
    "    res = nn.Sequential(*[SavedResBlock(ni=ni if i==0 else nf, nf=nf)\n",
    "                         for i in range(num_layers)])\n",
    "    # Carry out down sampling if needed.\n",
    "    if add_down: res.append(SavedConv(nf, nf, 3, stride=2, padding=1))\n",
    "    return res"
   ]
  },
  {
   "cell_type": "code",
   "execution_count": 13,
   "id": "97f8fa75-3ace-4513-a49a-2fdbe97cfa94",
   "metadata": {},
   "outputs": [],
   "source": [
    "# Upsampling will be done with a sequence of upsampling layers - followed by a simple 3x3 conv.\n",
    "# Again this approach is the one preferred by the Stable Diffusion team.\n",
    "def upsample(nf): return nn.Sequential(nn.Upsample(scale_factor=2.), nn.Conv2d(nf, nf, 3, padding=1))"
   ]
  },
  {
   "cell_type": "code",
   "execution_count": 14,
   "id": "22060054-e096-4f4f-bc3f-21f43d2e545c",
   "metadata": {},
   "outputs": [],
   "source": [
    "class UpBlock(nn.Module):\n",
    "    # Storing previous number of filters (activations and filters stored in prev_nf)\n",
    "    def __init__(self, ni, prev_nf, nf, add_up=True, num_layers=2):\n",
    "        super().__init__()\n",
    "        # Using the saved results in the upsampling path\n",
    "        self.resnets = nn.ModuleList(\n",
    "            [UnetResBlock((prev_nf if i==0 else nf) + (ni if (i==num_layers-1) else nf), nf)\n",
    "             for i in range(num_layers)])\n",
    "        # Add an upsampling layer if asked.\n",
    "        self.up = upsample(nf) if add_up else nn.Identity()\n",
    "\n",
    "    def forward(self, x, ups):\n",
    "        # Call each resnet as we progress in the upsampling path. Concatenate downsampling activations with each upsampling\n",
    "        # layer at the end.\n",
    "        for resnet in self.resnets: x = resnet(torch.cat([x, ups.pop()], dim=1)) # Concatenate\n",
    "        return self.up(x)"
   ]
  },
  {
   "cell_type": "markdown",
   "id": "6230e27e-b57f-4c09-aa84-033326fff106",
   "metadata": {},
   "source": [
    "The `UNet2dModel` class is pretty similar to our earlier approach. However, we will need to be able to store the activations from the downsampling blocks so that they may be used during upsampling. Also, there is the addition of a `self.mid_block` resblock in the downsampling path."
   ]
  },
  {
   "cell_type": "code",
   "execution_count": 15,
   "id": "3e2ab45b-6326-4a9d-aa3b-0c4a1f4863a1",
   "metadata": {},
   "outputs": [],
   "source": [
    "class UNet2DModel(nn.Module):\n",
    "    # Setting up input and output channels for RGB images. NFS are the same as the unconditional Stable Diffusion model.\n",
    "    def __init__(self, in_channels=3, out_channels=3, nfs=(224, 448, 672, 896), num_layers=1):\n",
    "        super().__init__()\n",
    "        # The create of a larger computational space, using nfs[0] is not particularly efficient.\n",
    "        self.conv_in = nn.Conv2d(in_channels, nfs[0], kernel_size=3, padding=1)\n",
    "        nf = nfs[0]\n",
    "        self.downs = nn.Sequential()\n",
    "        for i in range(len(nfs)):\n",
    "            ni = nf\n",
    "            nf = nfs[i]\n",
    "            # The last down block doesn't have down sampling. Hence the condition.\n",
    "            self.downs.append(down_block(ni, nf, add_down=i!=len(nfs)-1, num_layers=num_layers))\n",
    "        # Adding an additional resblock during downsampling.\n",
    "        self.mid_block = UnetResBlock(nfs[-1])\n",
    "        # Setup the up-sampling path by reversal.\n",
    "        rev_nfs = list(reversed(nfs))\n",
    "        nf = rev_nfs[0]\n",
    "        self.ups = nn.ModuleList()\n",
    "        for i in range(len(nfs)):\n",
    "            prev_nf = nf\n",
    "            nf = rev_nfs[i]\n",
    "            ni = rev_nfs[min(i+1, len(nfs)-1)]\n",
    "            self.ups.append(UpBlock(ni, prev_nf, nf, add_up=i!=len(nfs)-1, num_layers=num_layers+1))\n",
    "        # Final convolution to turn 224 channels to 3 channels.\n",
    "        self.conv_out = unet_conv(nfs[0], out_channels, act=nn.SiLU, norm=nn.BatchNorm2d)\n",
    "\n",
    "    def forward(self, inp):\n",
    "        # Stores all the layes in `saved`\n",
    "        x = self.conv_in(inp[0])\n",
    "        saved = [x]\n",
    "        # Call sequential model and grab the saved activations.\n",
    "        x = self.downs(x)\n",
    "        saved += [p.saved for o in self.downs for p in o]\n",
    "        x = self.mid_block(x)\n",
    "        # pop activations from saved blocks.\n",
    "        for block in self.ups: x = block(x, saved)\n",
    "        return self.conv_out(x)"
   ]
  },
  {
   "cell_type": "code",
   "execution_count": 16,
   "id": "d50cf3ae-fe0e-4573-bf95-cc1c57a78b15",
   "metadata": {},
   "outputs": [],
   "source": [
    "# Simplifying the model since we are using fashion MNIST\n",
    "# For the upsampling block, there will be 3 layers since the UNet2DModel has -->\n",
    "# self.ups.append(UpBlock(ni, prev_nf, nf, add_up=i!=len(nfs)-1, num_layers=num_layers+1))\n",
    "# This aligns with Diffusers and ends up saving the output of the downsampling.\n",
    "model = UNet2DModel(in_channels=1, out_channels=1, nfs=(32, 64, 128, 256), num_layers=2)"
   ]
  },
  {
   "cell_type": "code",
   "execution_count": 18,
   "id": "6e8bd51a-8371-4f62-8ecc-b8fff43c537b",
   "metadata": {},
   "outputs": [],
   "source": [
    "lr = 3e-3\n",
    "epochs = 25\n",
    "opt_func = partial(optim.Adam, eps=1e-5)\n",
    "tmax = epochs * len(dls.train)\n",
    "sched = partial(lr_scheduler.OneCycleLR, max_lr=lr, total_steps=tmax)\n",
    "cbs = [DeviceCB(), MixedPrecision(), ProgressCB(plot=True), MetricsCB(), BatchSchedCB(sched)]\n",
    "learn = Learner(model, dls, nn.MSELoss(), lr=lr, cbs=cbs, opt_func=opt_func)"
   ]
  },
  {
   "cell_type": "code",
   "execution_count": 19,
   "id": "4752b31c-e2dd-4422-9f2d-4af8c34d6a4f",
   "metadata": {},
   "outputs": [],
   "source": [
    "learn.fit(epochs) # Pending migration to Colab."
   ]
  },
  {
   "cell_type": "markdown",
   "id": "7a09becb-d838-445c-8981-4fbebd3631b3",
   "metadata": {},
   "source": [
    "This model leaves the **Time Embedding** and **Attention** modules. Lets work towards now."
   ]
  },
  {
   "cell_type": "markdown",
   "id": "88ba2196-8c71-4821-b235-90ec0808db63",
   "metadata": {},
   "source": [
    "## **Building Upto A Time Step Model**\n",
    "\n",
    "We will work towards building a resblock with embeddings where `forward()` not only results in activations, but also in an additional parameter `t`. `t` is a vector which represents the embeddings of each time step aka temporal steps. These embeddings are similar to ones in NLP. Here each timestep will have its own vector representation. This idea applies to both discrete and continuous time steps _(Karras et al. used continuous sigmas)_. It should also be noted that two sigmas with similar values should have the same embeddings."
   ]
  },
  {
   "cell_type": "markdown",
   "id": "abf5a12d-e98d-481a-aeab-7c63d8c4c2de",
   "metadata": {},
   "source": [
    "### **A Note On (Sinusoidal) Time Steps / Time Embeddings**"
   ]
  },
  {
   "cell_type": "code",
   "execution_count": 45,
   "id": "42e69315-1c1a-44b5-b581-899d0ed47d9c",
   "metadata": {},
   "outputs": [],
   "source": [
    "emb_dim = 16 # Embedding dimension size\n",
    "tsteps = torch.linspace(-10, 10, 100) # Timesteps though we won't have negative sigmas in practice.\n",
    "max_period = 10000 # Largest timestep. Also aligns with the max sequence length chosen by researchers"
   ]
  },
  {
   "cell_type": "code",
   "execution_count": 21,
   "id": "4abbf4ea-39a6-4563-a417-8a66a71b2e17",
   "metadata": {},
   "outputs": [
    {
     "data": {
      "text/plain": [
       "9.210340371976184"
      ]
     },
     "execution_count": 21,
     "metadata": {},
     "output_type": "execute_result"
    }
   ],
   "source": [
    "math.log(10000)"
   ]
  },
  {
   "cell_type": "code",
   "execution_count": 46,
   "id": "7da2cbc6-1a48-4bcc-9e05-e2badb61a294",
   "metadata": {},
   "outputs": [],
   "source": [
    "# The exponent will have 8 embeddings instead of 16\n",
    "exponent = -math.log(max_period) * torch.linspace(0, 1, emb_dim//2, device=tsteps.device)"
   ]
  },
  {
   "cell_type": "code",
   "execution_count": 23,
   "id": "f93318c8-c13c-435f-bf1a-9ed6c90fd612",
   "metadata": {},
   "outputs": [
    {
     "data": {
      "image/png": "[encoded data removed]",
      "text/plain": [
       "<Figure size 448x336 with 1 Axes>"
      ]
     },
     "metadata": {},
     "output_type": "display_data"
    }
   ],
   "source": [
    "plt.plot(exponent);"
   ]
  },
  {
   "cell_type": "code",
   "execution_count": 47,
   "id": "5da0b5b5-6aea-461e-b428-8120e0966e44",
   "metadata": {},
   "outputs": [
    {
     "data": {
      "text/plain": [
       "torch.Size([100, 8])"
      ]
     },
     "execution_count": 47,
     "metadata": {},
     "output_type": "execute_result"
    }
   ],
   "source": [
    "# Outer product of exponent and time steps.\n",
    "emb = tsteps[:, None].float() * exponent.exp()[None, :]\n",
    "emb.shape"
   ]
  },
  {
   "cell_type": "code",
   "execution_count": 35,
   "id": "d4b6fa36-7307-4ff6-8d3e-77f460806517",
   "metadata": {},
   "outputs": [
    {
     "data": {
      "image/png": "[encoded data removed]",
      "text/plain": [
       "<Figure size 448x336 with 1 Axes>"
      ]
     },
     "metadata": {},
     "output_type": "display_data"
    }
   ],
   "source": [
    "plt.plot(emb[0])\n",
    "plt.plot(emb[10])\n",
    "plt.plot(emb[20])\n",
    "plt.plot(emb[50])\n",
    "plt.plot(emb[-1]);"
   ]
  },
  {
   "cell_type": "code",
   "execution_count": 36,
   "id": "a98c5854-bd06-4013-97dc-c8691cccf99b",
   "metadata": {},
   "outputs": [
    {
     "data": {
      "text/plain": [
       "torch.Size([100, 16])"
      ]
     },
     "execution_count": 36,
     "metadata": {},
     "output_type": "execute_result"
    }
   ],
   "source": [
    "# Sine waves across 100 sigmas\n",
    "emb = torch.cat([torch.sin(emb), torch.cos(emb)], dim=-1)\n",
    "emb.shape"
   ]
  },
  {
   "cell_type": "code",
   "execution_count": 37,
   "id": "68ef8ee8-d2ef-4936-b76b-eb6671862ff9",
   "metadata": {},
   "outputs": [
    {
     "data": {
      "image/png": "[encoded data removed]",
      "text/plain": [
       "<Figure size 448x336 with 1 Axes>"
      ]
     },
     "metadata": {},
     "output_type": "display_data"
    }
   ],
   "source": [
    "plt.plot(emb[:, 0])\n",
    "plt.plot(emb[:, 1])\n",
    "plt.plot(emb[:, 2])\n",
    "plt.plot(emb[:, 3])\n",
    "plt.plot(emb[:, 4]);"
   ]
  },
  {
   "cell_type": "code",
   "execution_count": 38,
   "id": "3ec6b0e2-9ae7-4ed5-bd11-1b8845a543e4",
   "metadata": {},
   "outputs": [
    {
     "data": {
      "image/png": "[encoded data removed]",
      "text/plain": [
       "<Figure size 448x336 with 1 Axes>"
      ]
     },
     "metadata": {},
     "output_type": "display_data"
    }
   ],
   "source": [
    "plt.plot(emb[:, 8])\n",
    "plt.plot(emb[:, 9])\n",
    "plt.plot(emb[:, 10]);"
   ]
  },
  {
   "cell_type": "code",
   "execution_count": 39,
   "id": "1408b745-5257-4b89-bbff-17c61f83e7e1",
   "metadata": {},
   "outputs": [
    {
     "data": {
      "image/png": "[encoded data removed]",
      "text/plain": [
       "<Figure size 560x560 with 1 Axes>"
      ]
     },
     "metadata": {},
     "output_type": "display_data"
    }
   ],
   "source": [
    "# Concatenated embeddings represented across columns in the image below.\n",
    "show_image(emb.T, figsize=(8, 8));"
   ]
  },
  {
   "cell_type": "code",
   "execution_count": 48,
   "id": "a3d632cf-2b5a-4c51-8606-a8b4c7fe56f7",
   "metadata": {},
   "outputs": [],
   "source": [
    "# Formalizing into a single function.\n",
    "def timestep_embedding(tsteps, emb_dim, max_period=10000):\n",
    "    exponent = -math.log(max_period) * torch.linspace(0, 1, emb_dim//2, device=tsteps.device)\n",
    "    emb = tsteps[:, None].float() * exponent.exp()[None, :]\n",
    "    emb = torch.cat([emb.sin(), emb.cos()], dim=-1)\n",
    "    return F.pad(emb, (0, 1, 0, 0)) if emb_dim%2==1 else emb"
   ]
  },
  {
   "cell_type": "code",
   "execution_count": 50,
   "id": "50573401-f052-490c-acfb-a7e7e844c954",
   "metadata": {},
   "outputs": [
    {
     "data": {
      "image/png": "[encoded data removed]",
      "text/plain": [
       "<Figure size 560x560 with 1 Axes>"
      ]
     },
     "metadata": {},
     "output_type": "display_data"
    }
   ],
   "source": [
    "show_image(timestep_embedding(tsteps, 32, max_period=1000).T, figsize=(8, 8));"
   ]
  },
  {
   "cell_type": "code",
   "execution_count": 43,
   "id": "92d481a8-afab-44fe-bdd5-bc885905f425",
   "metadata": {},
   "outputs": [
    {
     "data": {
      "image/png": "[encoded data removed]",
      "text/plain": [
       "<Figure size 560x560 with 1 Axes>"
      ]
     },
     "metadata": {},
     "output_type": "display_data"
    }
   ],
   "source": [
    "show_image(timestep_embedding(tsteps, 32, max_period=1000).T, figsize=(8, 8));"
   ]
  },
  {
   "cell_type": "code",
   "execution_count": 44,
   "id": "e9e8fb03-ace3-4f8f-9d2f-bc1c38b7d3fa",
   "metadata": {},
   "outputs": [
    {
     "data": {
      "image/png": "[encoded data removed]",
      "text/plain": [
       "<Figure size 490x490 with 1 Axes>"
      ]
     },
     "metadata": {},
     "output_type": "display_data"
    }
   ],
   "source": [
    "show_image(timestep_embedding(tsteps, 32, max_period=10).T, figsize=(7,7));"
   ]
  },
  {
   "cell_type": "markdown",
   "id": "ab0876c4-f289-4d2e-b665-403d710f8807",
   "metadata": {},
   "source": [
    "Based on the plots and how embedding spaces are utilized across different dimensions and max periods in particular, it becomes clear that the usage of `max_period=10000` is sub-optimal."
   ]
  },
  {
   "cell_type": "markdown",
   "id": "25888377-ce0d-4848-9818-2dfe58c603a4",
   "metadata": {},
   "source": [
    "### **Time Step Model**"
   ]
  },
  {
   "cell_type": "markdown",
   "id": "172ece87-ec7d-4644-be42-629b41d0981c",
   "metadata": {},
   "source": [
    "Lets build and train a UNet with the addition of timestep embeddings."
   ]
  },
  {
   "cell_type": "code",
   "execution_count": 51,
   "id": "3003bb06-97b3-4a33-8783-54562a0c0935",
   "metadata": {},
   "outputs": [],
   "source": [
    "from functools import wraps"
   ]
  },
  {
   "cell_type": "code",
   "execution_count": 52,
   "id": "c1a03294-50a5-4105-a3f4-4921ef844bf7",
   "metadata": {},
   "outputs": [
    {
     "data": {
      "text/plain": [
       "\u001b[0;31mSignature:\u001b[0m\n",
       "\u001b[0mwraps\u001b[0m\u001b[0;34m(\u001b[0m\u001b[0;34m\u001b[0m\n",
       "\u001b[0;34m\u001b[0m    \u001b[0mwrapped\u001b[0m\u001b[0;34m,\u001b[0m\u001b[0;34m\u001b[0m\n",
       "\u001b[0;34m\u001b[0m    \u001b[0massigned\u001b[0m\u001b[0;34m=\u001b[0m\u001b[0;34m(\u001b[0m\u001b[0;34m'__module__'\u001b[0m\u001b[0;34m,\u001b[0m \u001b[0;34m'__name__'\u001b[0m\u001b[0;34m,\u001b[0m \u001b[0;34m'__qualname__'\u001b[0m\u001b[0;34m,\u001b[0m \u001b[0;34m'__doc__'\u001b[0m\u001b[0;34m,\u001b[0m \u001b[0;34m'__annotations__'\u001b[0m\u001b[0;34m)\u001b[0m\u001b[0;34m,\u001b[0m\u001b[0;34m\u001b[0m\n",
       "\u001b[0;34m\u001b[0m    \u001b[0mupdated\u001b[0m\u001b[0;34m=\u001b[0m\u001b[0;34m(\u001b[0m\u001b[0;34m'__dict__'\u001b[0m\u001b[0;34m,\u001b[0m\u001b[0;34m)\u001b[0m\u001b[0;34m,\u001b[0m\u001b[0;34m\u001b[0m\n",
       "\u001b[0;34m\u001b[0m\u001b[0;34m)\u001b[0m\u001b[0;34m\u001b[0m\u001b[0;34m\u001b[0m\u001b[0m\n",
       "\u001b[0;31mSource:\u001b[0m   \n",
       "\u001b[0;32mdef\u001b[0m \u001b[0mwraps\u001b[0m\u001b[0;34m(\u001b[0m\u001b[0mwrapped\u001b[0m\u001b[0;34m,\u001b[0m\u001b[0;34m\u001b[0m\n",
       "\u001b[0;34m\u001b[0m          \u001b[0massigned\u001b[0m \u001b[0;34m=\u001b[0m \u001b[0mWRAPPER_ASSIGNMENTS\u001b[0m\u001b[0;34m,\u001b[0m\u001b[0;34m\u001b[0m\n",
       "\u001b[0;34m\u001b[0m          \u001b[0mupdated\u001b[0m \u001b[0;34m=\u001b[0m \u001b[0mWRAPPER_UPDATES\u001b[0m\u001b[0;34m)\u001b[0m\u001b[0;34m:\u001b[0m\u001b[0;34m\u001b[0m\n",
       "\u001b[0;34m\u001b[0m    \u001b[0;34m\"\"\"Decorator factory to apply update_wrapper() to a wrapper function\u001b[0m\n",
       "\u001b[0;34m\u001b[0m\n",
       "\u001b[0;34m       Returns a decorator that invokes update_wrapper() with the decorated\u001b[0m\n",
       "\u001b[0;34m       function as the wrapper argument and the arguments to wraps() as the\u001b[0m\n",
       "\u001b[0;34m       remaining arguments. Default arguments are as for update_wrapper().\u001b[0m\n",
       "\u001b[0;34m       This is a convenience function to simplify applying partial() to\u001b[0m\n",
       "\u001b[0;34m       update_wrapper().\u001b[0m\n",
       "\u001b[0;34m    \"\"\"\u001b[0m\u001b[0;34m\u001b[0m\n",
       "\u001b[0;34m\u001b[0m    \u001b[0;32mreturn\u001b[0m \u001b[0mpartial\u001b[0m\u001b[0;34m(\u001b[0m\u001b[0mupdate_wrapper\u001b[0m\u001b[0;34m,\u001b[0m \u001b[0mwrapped\u001b[0m\u001b[0;34m=\u001b[0m\u001b[0mwrapped\u001b[0m\u001b[0;34m,\u001b[0m\u001b[0;34m\u001b[0m\n",
       "\u001b[0;34m\u001b[0m                   \u001b[0massigned\u001b[0m\u001b[0;34m=\u001b[0m\u001b[0massigned\u001b[0m\u001b[0;34m,\u001b[0m \u001b[0mupdated\u001b[0m\u001b[0;34m=\u001b[0m\u001b[0mupdated\u001b[0m\u001b[0;34m)\u001b[0m\u001b[0;34m\u001b[0m\u001b[0;34m\u001b[0m\u001b[0m\n",
       "\u001b[0;31mFile:\u001b[0m      ~/miniforge3/envs/miniai/lib/python3.11/functools.py\n",
       "\u001b[0;31mType:\u001b[0m      function"
      ]
     },
     "metadata": {},
     "output_type": "display_data"
    }
   ],
   "source": [
    "??wraps"
   ]
  },
  {
   "cell_type": "code",
   "execution_count": 53,
   "id": "3b79221c-8077-4d0c-8046-08f4784e7585",
   "metadata": {},
   "outputs": [],
   "source": [
    "def lin(ni, nf, act=nn.SiLU, norm=None, bias=True):\n",
    "    layers = nn.Sequential()\n",
    "    if norm: layers.append(norm(ni))\n",
    "    if act : layers.append(act())\n",
    "    layers.append(nn.Linear(ni, nf, bias=bias))\n",
    "    return layers"
   ]
  },
  {
   "cell_type": "code",
   "execution_count": 59,
   "id": "cc0152a7-4c90-4c14-8c5d-ee65508de35f",
   "metadata": {},
   "outputs": [],
   "source": [
    "class EmbResBlock(nn.Module):\n",
    "    def __init__(self, n_emb, ni, nf=None, ks=3, act=nn.SiLU, norm=nn.BatchNorm2d):\n",
    "        super().__init__()\n",
    "        if nf is None: nf = ni\n",
    "        self.emb_proj = nn.Linear(n_emb, nf*2)\n",
    "        self.conv1 = unet_conv(ni, nf, ks, act=act, norm=norm)\n",
    "        self.conv2 = unet_conv(nf, nf, ks, act=act, norm=norm)\n",
    "        self.idconv = fc.noop if ni==nf else nn.Conv2d(ni, nf, 1)\n",
    "\n",
    "    def forward(self, x, t):\n",
    "        inp = x\n",
    "        x = self.conv1(x)\n",
    "        emb = self.emb_proj(F.silu(t))[:, :, None, None]\n",
    "        scale, shift = torch.chunk(emb, 2, dim=1)\n",
    "        x = x*(1+scale) + shift\n",
    "        x = self.conv2(x)\n",
    "        return x + self.idconv(inp)"
   ]
  },
  {
   "cell_type": "code",
   "execution_count": 54,
   "id": "e7b78bcf-55b3-4f32-b301-2c5fc238da99",
   "metadata": {},
   "outputs": [],
   "source": [
    "def saved(m, blk):\n",
    "    m_ = m.forward\n",
    "\n",
    "    @wraps(m.forward)\n",
    "    def _f(*args, **kwargs):\n",
    "        res = m_(*args, **kwargs)\n",
    "        blk.saved.append(res)\n",
    "        return res\n",
    "\n",
    "    m.forward = _f\n",
    "    return m"
   ]
  },
  {
   "cell_type": "code",
   "execution_count": 55,
   "id": "af6c514b-1bb8-4b8f-a257-99449376ed0c",
   "metadata": {},
   "outputs": [],
   "source": [
    "class DownBlock(nn.Module):\n",
    "    def __init__(self, n_emb, ni, nf, add_down=True, num_layers=1):\n",
    "        super().__init__()\n",
    "        self.resnets = nn.ModuleList([saved(EmbResBlock(n_emb, ni if i==0 else nf, nf), self)\n",
    "                                      for i in range(num_layers)])\n",
    "        self.down = saved(nn.Conv2d(nf, nf, 3, stride=2, padding=1), self) if add_down else nn.Identity()\n",
    "\n",
    "    def forward(self, x, t):\n",
    "        self.saved = []\n",
    "        for resnet in self.resnets: x = resnet(x, t)\n",
    "        x = self.down(x)\n",
    "        return x"
   ]
  },
  {
   "cell_type": "code",
   "execution_count": 56,
   "id": "f03ab51f-9711-48e7-be91-dd1a0cddf363",
   "metadata": {},
   "outputs": [],
   "source": [
    "class UpBlock(nn.Module):\n",
    "    def __init__(self, n_emb, ni, prev_nf, nf, add_up=True, num_layers=2):\n",
    "        super().__init__()\n",
    "        self.resnets = nn.ModuleList(\n",
    "            [EmbResBlock(n_emb, (prev_nf if i==0 else nf) + (ni if (i==num_layers-1) else nf), nf)\n",
    "             for i in range(num_layers)])\n",
    "        self.up = upsample(nf) if add_up else nn.Identity()\n",
    "\n",
    "    def forward(self, x, t, ups):\n",
    "        for resnet in self.resnets: x = resnet(torch.cat([x, ups.pop()], dim=1), t)\n",
    "        return self.up(x)"
   ]
  },
  {
   "cell_type": "code",
   "execution_count": 57,
   "id": "9ece8d21-ab77-427f-8306-efb2535d88f6",
   "metadata": {},
   "outputs": [],
   "source": [
    "class EmbUNetModel(nn.Module):\n",
    "    def __init__(self, in_channels=3, out_channels=3, nfs=(224, 448, 672, 896), num_layers=1):\n",
    "        super().__init__()\n",
    "        self.conv_in = nn.Conv2d(in_channels, nfs[0], kernel_size=3, padding=1)\n",
    "        self.n_temb = nf = nfs[0]\n",
    "        n_emb = nf*4\n",
    "        self.emb_mlp = nn.Sequential(lin(self.n_temb, n_emb, norm=nn.BatchNorm1d),\n",
    "                                     lin(n_emb, n_emb))\n",
    "        self.downs = nn.ModuleList()\n",
    "        for i in range(len(nfs)):\n",
    "            ni = nf\n",
    "            nf = nfs[i]\n",
    "            self.downs.append(DownBlock(n_emb, ni, nf, add_down=i!=len(nfs)-1, num_layers=num_layers))\n",
    "        self.mid_block = EmbResBlock(n_emb, nfs[-1])\n",
    "\n",
    "        rev_nfs = list(reversed(nfs))\n",
    "        nf = rev_nfs[0]\n",
    "        self.ups = nn.ModuleList()\n",
    "        for i in range(len(nfs)):\n",
    "            prev_nf = nf\n",
    "            nf = rev_nfs[i]\n",
    "            ni = rev_nfs[min(i+1, len(nfs)-1)]\n",
    "            self.ups.append(UpBlock(n_emb, ni, prev_nf, nf, add_up=i!=len(nfs)-1, num_layers=num_layers+1))\n",
    "        self.conv_out = unet_conv(nfs[0], out_channels, act=nn.SiLU, norm=nn.BatchNorm2d, bias=False)\n",
    "\n",
    "    def forward(self, inp):\n",
    "        x, t = inp\n",
    "        temb = timestep_embeddings(t, self.n_temb)\n",
    "        emb = self.emb_mlp(temb)\n",
    "        x = self.conv_in(x)\n",
    "        saved = [x]\n",
    "        for block in self.downs: x = block(x, emb)\n",
    "        saved += [p for o in self.downs for p in o.saved]\n",
    "        x = self.mid_block(x, emb)\n",
    "        for block in self.ups: x = block(x, emb, saved)\n",
    "        return self.conv_out(x)"
   ]
  },
  {
   "cell_type": "code",
   "execution_count": 60,
   "id": "87bf399a-56a4-4b9c-a705-75f6a79643f5",
   "metadata": {},
   "outputs": [],
   "source": [
    "model = EmbUNetModel(in_channels=1, out_channels=1, nfs=(32, 64, 128, 256), num_layers=2)"
   ]
  },
  {
   "cell_type": "code",
   "execution_count": 63,
   "id": "0d4b46c5-2ee2-46c2-af1f-a15c3ee7d9b4",
   "metadata": {},
   "outputs": [],
   "source": [
    "lr = 1e-2\n",
    "epochs = 25\n",
    "opt_func = partial(optim.Adam, eps=1e-5)\n",
    "tmax = epochs * len(dls.train)\n",
    "sched = partial(lr_scheduler.OneCycleLR, max_lr=lr, total_steps=tmax)\n",
    "cbs = [DeviceCB(), ProgressCB(plot=True), MetricsCB(), BatchSchedCB(sched), MixedPrecision()]\n",
    "model = EmbUNetModel(in_channels=1, out_channels=1, nfs=(32,64,128,256), num_layers=2)\n",
    "\n",
    "learn = Learner(model, dls, nn.MSELoss(), lr=lr, cbs=cbs, opt_func=opt_func)"
   ]
  },
  {
   "cell_type": "code",
   "execution_count": null,
   "id": "bffef418-67f6-41b1-894d-3945f187d59d",
   "metadata": {},
   "outputs": [],
   "source": [
    "learn.fit(epochs)"
   ]
  }
 ],
 "metadata": {
  "kernelspec": {
   "display_name": "Python 3 (ipykernel)",
   "language": "python",
   "name": "python3"
  },
  "language_info": {
   "codemirror_mode": {
    "name": "ipython",
    "version": 3
   },
   "file_extension": ".py",
   "mimetype": "text/x-python",
   "name": "python",
   "nbconvert_exporter": "python",
   "pygments_lexer": "ipython3",
   "version": "3.11.11"
  }
 },
 "nbformat": 4,
 "nbformat_minor": 5
}
