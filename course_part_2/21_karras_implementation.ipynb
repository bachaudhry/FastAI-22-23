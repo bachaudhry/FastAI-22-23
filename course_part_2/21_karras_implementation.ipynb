{
 "cells": [
  {
   "cell_type": "markdown",
   "id": "73c2c3d8-6e13-440f-acb2-2eb876f68479",
   "metadata": {},
   "source": [
    "# **Karras Pre-Conditioning**"
   ]
  },
  {
   "cell_type": "code",
   "execution_count": 17,
   "id": "01b2e095-65c4-4210-abfc-585b1e42416a",
   "metadata": {},
   "outputs": [],
   "source": [
    "import os, timm, torch, random, datasets, math, fastcore.all as fc\n",
    "import numpy as np, matplotlib as mpl, matplotlib.pyplot as plt, seaborn as sns\n",
    "import k_diffusion as K, torchvision.transforms as T\n",
    "import torchvision.transforms.functional as TF, torch.nn.functional as F\n",
    "\n",
    "from torch.utils.data import DataLoader,default_collate\n",
    "from pathlib import Path\n",
    "from torch.nn import init\n",
    "from fastcore.foundation import L\n",
    "from torch import nn,tensor\n",
    "from datasets import load_dataset\n",
    "from operator import itemgetter\n",
    "from torcheval.metrics import MulticlassAccuracy\n",
    "from functools import partial\n",
    "from torch.optim import lr_scheduler\n",
    "from torch import optim\n",
    "\n",
    "from miniai.datasets import *\n",
    "from miniai.conv import *\n",
    "from miniai.learner import *\n",
    "from miniai.activations import *\n",
    "from miniai.init import *\n",
    "from miniai.sgd import *\n",
    "from miniai.resnet import *\n",
    "from miniai.augment import *\n",
    "from miniai.accel import *"
   ]
  },
  {
   "cell_type": "code",
   "execution_count": 2,
   "id": "2a73717a-a84a-4a21-bdd6-916e6fb6a67d",
   "metadata": {},
   "outputs": [],
   "source": [
    "from fastprogress import progress_bar\n",
    "from diffusers import UNet2DModel, DDIMPipeline, DDIMScheduler, DDPMPipeline, DDPMScheduler"
   ]
  },
  {
   "cell_type": "code",
   "execution_count": 3,
   "id": "1c1f5b6c-4daa-4297-b3a2-8f003163ccf1",
   "metadata": {},
   "outputs": [],
   "source": [
    "torch.set_printoptions(precision=5, linewidth=140, sci_mode=False)\n",
    "torch.manual_seed(1)\n",
    "mpl.rcParams['image.cmap'] = 'gray_r'\n",
    "mpl.rcParams['figure.dpi'] = 85\n",
    "\n",
    "import logging\n",
    "logging.disable(logging.WARNING)\n",
    "\n",
    "set_seed(42)\n",
    "if fc.defaults.cpus>8: fc.defaults.cpus=8"
   ]
  },
  {
   "cell_type": "markdown",
   "id": "05a925bc-a815-427a-b719-70addc06d4c2",
   "metadata": {},
   "source": [
    "## **Load and Prepare Data**"
   ]
  },
  {
   "cell_type": "code",
   "execution_count": 4,
   "id": "c860c4e7-3cec-46e7-9f70-807277325305",
   "metadata": {},
   "outputs": [],
   "source": [
    "xl, yl = 'image', 'label'\n",
    "name = \"fashion_mnist\"\n",
    "n_steps = 1000\n",
    "bs = 512\n",
    "dsd = load_dataset(name)"
   ]
  },
  {
   "cell_type": "code",
   "execution_count": 5,
   "id": "02205b5a-f5c1-43b1-9534-415b83b77455",
   "metadata": {},
   "outputs": [],
   "source": [
    "@inplace\n",
    "def transformi(b): b[xl] = [F.pad(TF.to_tensor(o), (2,2,2,2))*2-1 for o in b[xl]]\n",
    "\n",
    "tds = dsd.with_transform(transformi)\n",
    "dls = DataLoaders.from_dd(tds, bs)\n",
    "\n",
    "dl = dls.train\n",
    "xb, yb = b = next(iter(dl))"
   ]
  },
  {
   "cell_type": "code",
   "execution_count": 6,
   "id": "c26b3871-c8fa-4d4c-8ae1-a61788fbdd71",
   "metadata": {},
   "outputs": [],
   "source": [
    "sig_data = 0.66"
   ]
  },
  {
   "cell_type": "code",
   "execution_count": null,
   "id": "d0e721ac-a316-4883-9abd-b1d13ab5534f",
   "metadata": {},
   "outputs": [],
   "source": []
  },
  {
   "cell_type": "code",
   "execution_count": 7,
   "id": "27b37e37-cfa3-479a-9fe2-3ceaab60285f",
   "metadata": {},
   "outputs": [],
   "source": [
    "def scalings(sig):\n",
    "    totvar = sig**2 + sig_data**2\n",
    "    return sig_data**2 / totvar, sig*sig_data/totvar.sqrt(), 1/totvar.sqrt()"
   ]
  },
  {
   "cell_type": "code",
   "execution_count": 8,
   "id": "5e319a58-467d-409d-b401-70515741dd13",
   "metadata": {},
   "outputs": [],
   "source": [
    "sig_samp = (torch.randn([10000])*1.2-1.2).exp()"
   ]
  },
  {
   "cell_type": "code",
   "execution_count": 16,
   "id": "d4d2e3d3-5567-4b5e-b25b-56e897b4293f",
   "metadata": {},
   "outputs": [
    {
     "data": {
      "image/png": "[encoded data removed]",
      "text/plain": [
       "<Figure size 544x408 with 1 Axes>"
      ]
     },
     "metadata": {},
     "output_type": "display_data"
    }
   ],
   "source": [
    "plt.hist(sig_samp, bins=30);"
   ]
  },
  {
   "cell_type": "code",
   "execution_count": null,
   "id": "61374f95-25db-4667-804e-8c504d11bf82",
   "metadata": {},
   "outputs": [],
   "source": [
    "# Plotting the same us"
   ]
  },
  {
   "cell_type": "code",
   "execution_count": null,
   "id": "33a434ac-1a9b-494b-a425-5c540ba9d276",
   "metadata": {},
   "outputs": [],
   "source": []
  },
  {
   "cell_type": "code",
   "execution_count": null,
   "id": "f9d59e91-a04b-423e-b484-697a238783c2",
   "metadata": {},
   "outputs": [],
   "source": []
  }
 ],
 "metadata": {
  "kernelspec": {
   "display_name": "Python 3 (ipykernel)",
   "language": "python",
   "name": "python3"
  },
  "language_info": {
   "codemirror_mode": {
    "name": "ipython",
    "version": 3
   },
   "file_extension": ".py",
   "mimetype": "text/x-python",
   "name": "python",
   "nbconvert_exporter": "python",
   "pygments_lexer": "ipython3",
   "version": "3.11.6"
  },
  "widgets": {
   "application/vnd.jupyter.widget-state+json": {
    "state": {},
    "version_major": 2,
    "version_minor": 0
   }
  }
 },
 "nbformat": 4,
 "nbformat_minor": 5
}
