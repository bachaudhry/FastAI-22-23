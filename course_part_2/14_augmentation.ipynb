{
 "cells": [
  {
   "cell_type": "markdown",
   "id": "2ea7af54-9233-431f-86b1-c62a51a6fd72",
   "metadata": {},
   "source": [
    "# **Data Augmentation**"
   ]
  },
  {
   "cell_type": "code",
   "execution_count": 1,
   "id": "a972790a-90b0-4587-829a-e15386e17078",
   "metadata": {},
   "outputs": [],
   "source": [
    "import pickle,gzip,math,os,time,shutil, random\n",
    "import matplotlib as mpl\n",
    "import matplotlib.pyplot as plt\n",
    "import numpy as np\n",
    "from collections.abc import Mapping\n",
    "from pathlib import Path\n",
    "from operator import attrgetter, itemgetter\n",
    "from functools import partial\n",
    "from copy import copy\n",
    "from contextlib import contextmanager\n",
    "\n",
    "import torch\n",
    "from torch import nn, distributions\n",
    "from torch.nn import init\n",
    "import torchvision.transforms.functional as TF\n",
    "import torch.nn.functional as F\n",
    "from torch import tensor,optim\n",
    "from torch.utils.data import DataLoader,default_collate\n",
    "from torch.optim import lr_scheduler\n",
    "from torcheval.metrics import MulticlassAccuracy\n",
    "from datasets import load_dataset,load_dataset_builder\n",
    "\n",
    "import fastcore.all as fc\n",
    "from fastcore.test import test_close\n",
    "\n",
    "from miniai.datasets import *\n",
    "from miniai.conv import *\n",
    "from miniai.learner import *\n",
    "from miniai.activations import *\n",
    "from miniai.init import *\n",
    "from miniai.sgd import *\n",
    "from miniai.resnet import *"
   ]
  },
  {
   "cell_type": "code",
   "execution_count": 2,
   "id": "05155471-1a81-4b6b-8623-77a87a26fb9f",
   "metadata": {},
   "outputs": [],
   "source": [
    "torch.set_printoptions(precision=2, linewidth=140, sci_mode=False)\n",
    "torch.manual_seed(1)\n",
    "mpl.rcParams['image.cmap'] = 'gray_r'\n",
    "\n",
    "import logging\n",
    "logging.disable(logging.WARNING)\n",
    "\n",
    "import warnings\n",
    "warnings.filterwarnings('ignore')\n",
    "\n",
    "set_seed(42)\n",
    "\n",
    "if fc.defaults.cpus>8: fc.defaults.cpus=8 # since there is a ton of data augmentation in this NB"
   ]
  },
  {
   "cell_type": "markdown",
   "id": "96afdf35-dcb8-4828-b71a-0b27bb017e62",
   "metadata": {},
   "source": [
    "## **Setup**"
   ]
  },
  {
   "cell_type": "code",
   "execution_count": 3,
   "id": "76739723-2651-469e-b04b-08a0d3361fe5",
   "metadata": {},
   "outputs": [],
   "source": [
    "xl, yl = 'image', 'labels'\n",
    "name = \"fashion_mnist\"\n",
    "bs = 1024\n",
    "x_mean, x_std = 0.28, 0.35 # ref NB 11 initializing\n",
    "\n",
    "@inplace\n",
    "def transformi(b): b[xl]= [(TF.to_tensor(o) - x_mean)/ x_std for o in b[xl]]\n",
    "\n",
    "dsd = load_dataset(name)\n",
    "tds = dsd.with_transform(transformi)\n",
    "dls = DataLoaders.from_dd(tds, bs, num_workers=fc.defaults.cpus)"
   ]
  },
  {
   "cell_type": "code",
   "execution_count": 4,
   "id": "91ed3e3e-127f-4377-b691-f0d93cb3f694",
   "metadata": {},
   "outputs": [],
   "source": [
    "metrics = MetricsCB(accuracy=MulticlassAccuracy())\n",
    "astats = ActivationStats(fc.risinstance(GeneralRelu))\n",
    "cbs = [DeviceCB(), metrics, ProgressCB(plot=True), astats]\n",
    "act_gr = partial(GeneralRelu, leak=0.1, sub=0.4)\n",
    "iw = partial(init_weights, leaky=0.1)"
   ]
  },
  {
   "cell_type": "code",
   "execution_count": 5,
   "id": "bed3b7d6-1e7d-4491-909f-1a4c5669f4e5",
   "metadata": {},
   "outputs": [],
   "source": [
    "set_seed(42)\n",
    "lr, epochs = 6e-2, 5"
   ]
  },
  {
   "cell_type": "markdown",
   "id": "df73d513-7b69-4b08-9996-56498ca4a571",
   "metadata": {},
   "source": [
    "## **Going Wider Than Before**"
   ]
  },
  {
   "cell_type": "markdown",
   "id": "14bacf97-374e-4611-b736-9ad978c61060",
   "metadata": {},
   "source": [
    "The previous NB's ResNets were pretty basic and we didn't put a whole lot of thought into them. Let's attempt to make new networks which are wider than before by increasing the number of channels / filters to 512, whereas we limited the previous networks to 256.\n",
    "\n",
    "We can do this by increasing our kernel size `ks` to 5 and changing the `stride` to 1, which will give us a 5x5 grid of 25 inputs. So we can increase the number of ouputs to 16 instead of 8. By starting with 16 outputs, and doubling with each layer, we will get 512 outputs."
   ]
  },
  {
   "cell_type": "code",
   "execution_count": 6,
   "id": "237df96d-661e-4ab3-a86d-8f3f86ba8f85",
   "metadata": {},
   "outputs": [],
   "source": [
    "def get_model(act=nn.ReLU, nfs=(16, 32, 64, 128, 256, 512), norm=nn.BatchNorm2d):\n",
    "    layers = [ResBlock(1, 16, ks=5, stride=1, act=act, norm=norm)]\n",
    "    layers += [ResBlock(nfs[i], nfs[i+1], act=act, norm=norm, stride=2) for i in range(len(nfs)-1 )]\n",
    "    layers += [nn.Flatten(), nn.Linear(nfs[-1], 10, bias=False), nn.BatchNorm1d(10)]\n",
    "    return nn.Sequential(*layers)"
   ]
  },
  {
   "cell_type": "code",
   "execution_count": 7,
   "id": "d1f67596-8dcd-48f3-9078-92d4375a62f6",
   "metadata": {},
   "outputs": [],
   "source": [
    "lr = 1e-2\n",
    "tmax = epochs * len(dls.train)\n",
    "sched = partial(lr_scheduler.OneCycleLR, max_lr=lr, total_steps=tmax)\n",
    "xtra = [BatchSchedCB(sched)]\n",
    "model = get_model(act_gr, norm=nn.BatchNorm2d).apply(iw)\n",
    "learn = TrainLearner(model, dls, F.cross_entropy, lr=lr, cbs=cbs+xtra, opt_func=optim.AdamW)"
   ]
  },
  {
   "cell_type": "code",
   "execution_count": 8,
   "id": "cac4f327-53cc-492c-8609-794f354d434c",
   "metadata": {},
   "outputs": [
    {
     "data": {
      "text/html": [
       "\n",
       "<style>\n",
       "    /* Turns off some styling */\n",
       "    progress {\n",
       "        /* gets rid of default border in Firefox and Opera. */\n",
       "        border: none;\n",
       "        /* Needs to be in here for Safari polyfill so background images work as expected. */\n",
       "        background-size: auto;\n",
       "    }\n",
       "    progress:not([value]), progress:not([value])::-webkit-progress-bar {\n",
       "        background: repeating-linear-gradient(45deg, #7e7e7e, #7e7e7e 10px, #5c5c5c 10px, #5c5c5c 20px);\n",
       "    }\n",
       "    .progress-bar-interrupted, .progress-bar-interrupted::-webkit-progress-bar {\n",
       "        background: #F44336;\n",
       "    }\n",
       "</style>\n"
      ],
      "text/plain": [
       "<IPython.core.display.HTML object>"
      ]
     },
     "metadata": {},
     "output_type": "display_data"
    },
    {
     "data": {
      "text/html": [
       "<table border=\"1\" class=\"dataframe\">\n",
       "  <thead>\n",
       "    <tr style=\"text-align: left;\">\n",
       "      <th>accuracy</th>\n",
       "      <th>loss</th>\n",
       "      <th>epoch</th>\n",
       "      <th>train</th>\n",
       "    </tr>\n",
       "  </thead>\n",
       "  <tbody>\n",
       "    <tr>\n",
       "      <td>0.824</td>\n",
       "      <td>0.704</td>\n",
       "      <td>0</td>\n",
       "      <td>train</td>\n",
       "    </tr>\n",
       "    <tr>\n",
       "      <td>0.854</td>\n",
       "      <td>0.553</td>\n",
       "      <td>0</td>\n",
       "      <td>eval</td>\n",
       "    </tr>\n",
       "    <tr>\n",
       "      <td>0.898</td>\n",
       "      <td>0.381</td>\n",
       "      <td>1</td>\n",
       "      <td>train</td>\n",
       "    </tr>\n",
       "    <tr>\n",
       "      <td>0.878</td>\n",
       "      <td>0.408</td>\n",
       "      <td>1</td>\n",
       "      <td>eval</td>\n",
       "    </tr>\n",
       "    <tr>\n",
       "      <td>0.922</td>\n",
       "      <td>0.265</td>\n",
       "      <td>2</td>\n",
       "      <td>train</td>\n",
       "    </tr>\n",
       "    <tr>\n",
       "      <td>0.907</td>\n",
       "      <td>0.295</td>\n",
       "      <td>2</td>\n",
       "      <td>eval</td>\n",
       "    </tr>\n",
       "    <tr>\n",
       "      <td>0.942</td>\n",
       "      <td>0.193</td>\n",
       "      <td>3</td>\n",
       "      <td>train</td>\n",
       "    </tr>\n",
       "    <tr>\n",
       "      <td>0.925</td>\n",
       "      <td>0.240</td>\n",
       "      <td>3</td>\n",
       "      <td>eval</td>\n",
       "    </tr>\n",
       "    <tr>\n",
       "      <td>0.964</td>\n",
       "      <td>0.137</td>\n",
       "      <td>4</td>\n",
       "      <td>train</td>\n",
       "    </tr>\n",
       "    <tr>\n",
       "      <td>0.933</td>\n",
       "      <td>0.223</td>\n",
       "      <td>4</td>\n",
       "      <td>eval</td>\n",
       "    </tr>\n",
       "  </tbody>\n",
       "</table>"
      ],
      "text/plain": [
       "<IPython.core.display.HTML object>"
      ]
     },
     "metadata": {},
     "output_type": "display_data"
    },
    {
     "data": {
      "image/png": "[encoded data removed]",
      "text/plain": [
       "<Figure size 600x400 with 1 Axes>"
      ]
     },
     "metadata": {},
     "output_type": "display_data"
    }
   ],
   "source": [
    "learn.fit(epochs)"
   ]
  },
  {
   "cell_type": "markdown",
   "id": "492a66cf-f3a2-4439-a4b6-e0c1bdb9e952",
   "metadata": {},
   "source": [
    "This improves our accuracy to `93.3%`!"
   ]
  },
  {
   "cell_type": "markdown",
   "id": "cae9c50b-7db2-4d24-877b-60d5877e03f2",
   "metadata": {},
   "source": [
    "## **Pooling to Increase Flexibility**"
   ]
  },
  {
   "cell_type": "markdown",
   "id": "264cf6b0-2bd3-4ad2-8f8b-7eea3004e42e",
   "metadata": {},
   "source": [
    "We now need to consider model flexibility as well as depth and width. Specifically, as our models get bigger and / or the shape of our inputs changes (we won't be dealing with 28x28 images forever), we shouldn't have to constantly tinker with kernel sizes and strides just to align the outputs of the final layers so that they may pass through the Linear layer.\n",
    "\n",
    "A straight forward way to handle such scenarios is to take the average of the outputs of the final layer, before flattening."
   ]
  },
  {
   "cell_type": "code",
   "execution_count": 9,
   "id": "49d9c5c8-ba65-43b6-9edc-249e7e0cfdc8",
   "metadata": {},
   "outputs": [],
   "source": [
    "class GlobalAvgPool(nn.Module): # Keras calls this Global Avg Pooling & PyTorch calls this Adaptive Avg Pooling\n",
    "    # The class takes the mean of the final layer's outputs without having to flatten the outputs.\n",
    "    def forward(self, x): return x.mean((-2, -1))"
   ]
  },
  {
   "cell_type": "code",
   "execution_count": 10,
   "id": "cd2fefba-0881-4544-9e3b-2ea1d8ef1721",
   "metadata": {},
   "outputs": [],
   "source": [
    "# Creating a function to account for larger networks\n",
    "def get_model2(act=nn.ReLU, nfs=(16, 32, 64, 128, 256), norm=nn.BatchNorm2d):\n",
    "    layers = [ResBlock(1, 16, ks=5, stride=1, act=act, norm=norm)]\n",
    "    layers += [ResBlock(nfs[i], nfs[i+1], act=act, norm=norm, stride=2) for i in range(len(nfs)-1)]\n",
    "    # Added a global / adaptive average pooling layer to the Resblock with 2x2 output.\n",
    "    layers += [ResBlock(256, 512, act=act, norm=norm), GlobalAvgPool()]\n",
    "    # Proceed with the Linear + Batchnorm layer\n",
    "    layers += [nn.Linear(512, 10, bias=False), nn.BatchNorm1d(10)]\n",
    "    return nn.Sequential(*layers)"
   ]
  },
  {
   "cell_type": "markdown",
   "id": "7fe4744a-9082-43b3-8ce2-03f0bd817cf0",
   "metadata": {},
   "source": [
    "Let's alter summary patch to also show `MFLOPS`"
   ]
  },
  {
   "cell_type": "code",
   "execution_count": 11,
   "id": "ba44e219-034c-4666-be05-181498be82c4",
   "metadata": {},
   "outputs": [],
   "source": [
    "def _flops(x, h, w): # Pass weight matrix plus height and width \n",
    "    if x.dim()<3 : return x.numel() # numel()==>total number of elements in the input tensor is the number of flops here\n",
    "    if x.dim()==4: return x.numel()*h*w # if convolution or something similar then  multiply with h and w\n",
    "\n",
    "@fc.patch\n",
    "def summary(self:Learner): # We're approximating the MFLOPS calculation by taking the number of calculations\n",
    "    res = '|Module|Input|Output|Num params|MFLOPS|\\n|--|--|--|--|--|\\n'\n",
    "    totp, totf = 0, 0\n",
    "    def _f(hook, mod, inp, outp):\n",
    "        nonlocal res, totp, totf\n",
    "        nparams = sum(o.numel() for o in mod.parameters())\n",
    "        totp += nparams\n",
    "        *_, h, w = outp.shape\n",
    "        flops = sum(_flops(o, h, w) for o in mod.parameters())/1e6\n",
    "        totf += flops\n",
    "        res += f'|{type(mod).__name__}|{tuple(inp[0].shape)}|{tuple(outp.shape)}|{nparams}|{flops:.1f}|\\n'\n",
    "    with Hooks(self.model, _f) as hooks: self.fit(1, lr=1, cbs=SingleBatchCB())\n",
    "    print(f\"Tot params: {totp}; MFLOPS: {totf:.1f}\")\n",
    "    if fc.IN_NOTEBOOK:\n",
    "        from IPython.display import Markdown\n",
    "        return Markdown(res)\n",
    "    else: print(res)"
   ]
  },
  {
   "cell_type": "code",
   "execution_count": 12,
   "id": "1eecfb31-ae7c-43a9-b59e-fe7771f500b6",
   "metadata": {},
   "outputs": [
    {
     "name": "stdout",
     "output_type": "stream",
     "text": [
      "Tot params: 4907588; MFLOPS: 33.0\n"
     ]
    },
    {
     "data": {
      "text/markdown": [
       "|Module|Input|Output|Num params|MFLOPS|\n",
       "|--|--|--|--|--|\n",
       "|ResBlock|(1024, 1, 28, 28)|(1024, 16, 28, 28)|6928|5.3|\n",
       "|ResBlock|(1024, 16, 28, 28)|(1024, 32, 14, 14)|14560|2.8|\n",
       "|ResBlock|(1024, 32, 14, 14)|(1024, 64, 7, 7)|57792|2.8|\n",
       "|ResBlock|(1024, 64, 7, 7)|(1024, 128, 4, 4)|230272|3.7|\n",
       "|ResBlock|(1024, 128, 4, 4)|(1024, 256, 2, 2)|919296|3.7|\n",
       "|ResBlock|(1024, 256, 2, 2)|(1024, 512, 2, 2)|3673600|14.7|\n",
       "|GlobalAvgPool|(1024, 512, 2, 2)|(1024, 512)|0|0.0|\n",
       "|Linear|(1024, 512)|(1024, 10)|5120|0.0|\n",
       "|BatchNorm1d|(1024, 10)|(1024, 10)|20|0.0|\n"
      ],
      "text/plain": [
       "<IPython.core.display.Markdown object>"
      ]
     },
     "execution_count": 12,
     "metadata": {},
     "output_type": "execute_result"
    }
   ],
   "source": [
    "TrainLearner(get_model2(), dls, F.cross_entropy, lr=lr, cbs=[DeviceCB()]).summary()"
   ]
  },
  {
   "cell_type": "markdown",
   "id": "8c6b4dbd-3b08-422d-9e18-4106983e3efa",
   "metadata": {},
   "source": [
    "Note that the penultimate layer has `stride=1` thus the outputs become 2x2 and remain 2x2 as we move from 256 to 512 channels/filters. The MFLOP count is high for the first layer due to 28x28 inputs, and higher still for the final ResBlock due to the total number of parameters coupled with the 2x2 dim."
   ]
  },
  {
   "cell_type": "code",
   "execution_count": 13,
   "id": "8d413ad5-4353-4a83-a10d-0622fb4b0eab",
   "metadata": {},
   "outputs": [
    {
     "data": {
      "text/html": [
       "\n",
       "<style>\n",
       "    /* Turns off some styling */\n",
       "    progress {\n",
       "        /* gets rid of default border in Firefox and Opera. */\n",
       "        border: none;\n",
       "        /* Needs to be in here for Safari polyfill so background images work as expected. */\n",
       "        background-size: auto;\n",
       "    }\n",
       "    progress:not([value]), progress:not([value])::-webkit-progress-bar {\n",
       "        background: repeating-linear-gradient(45deg, #7e7e7e, #7e7e7e 10px, #5c5c5c 10px, #5c5c5c 20px);\n",
       "    }\n",
       "    .progress-bar-interrupted, .progress-bar-interrupted::-webkit-progress-bar {\n",
       "        background: #F44336;\n",
       "    }\n",
       "</style>\n"
      ],
      "text/plain": [
       "<IPython.core.display.HTML object>"
      ]
     },
     "metadata": {},
     "output_type": "display_data"
    },
    {
     "data": {
      "text/html": [
       "<table border=\"1\" class=\"dataframe\">\n",
       "  <thead>\n",
       "    <tr style=\"text-align: left;\">\n",
       "      <th>accuracy</th>\n",
       "      <th>loss</th>\n",
       "      <th>epoch</th>\n",
       "      <th>train</th>\n",
       "    </tr>\n",
       "  </thead>\n",
       "  <tbody>\n",
       "    <tr>\n",
       "      <td>0.822</td>\n",
       "      <td>0.714</td>\n",
       "      <td>0</td>\n",
       "      <td>train</td>\n",
       "    </tr>\n",
       "    <tr>\n",
       "      <td>0.865</td>\n",
       "      <td>0.524</td>\n",
       "      <td>0</td>\n",
       "      <td>eval</td>\n",
       "    </tr>\n",
       "    <tr>\n",
       "      <td>0.898</td>\n",
       "      <td>0.384</td>\n",
       "      <td>1</td>\n",
       "      <td>train</td>\n",
       "    </tr>\n",
       "    <tr>\n",
       "      <td>0.881</td>\n",
       "      <td>0.380</td>\n",
       "      <td>1</td>\n",
       "      <td>eval</td>\n",
       "    </tr>\n",
       "    <tr>\n",
       "      <td>0.920</td>\n",
       "      <td>0.272</td>\n",
       "      <td>2</td>\n",
       "      <td>train</td>\n",
       "    </tr>\n",
       "    <tr>\n",
       "      <td>0.908</td>\n",
       "      <td>0.288</td>\n",
       "      <td>2</td>\n",
       "      <td>eval</td>\n",
       "    </tr>\n",
       "    <tr>\n",
       "      <td>0.940</td>\n",
       "      <td>0.201</td>\n",
       "      <td>3</td>\n",
       "      <td>train</td>\n",
       "    </tr>\n",
       "    <tr>\n",
       "      <td>0.924</td>\n",
       "      <td>0.241</td>\n",
       "      <td>3</td>\n",
       "      <td>eval</td>\n",
       "    </tr>\n",
       "    <tr>\n",
       "      <td>0.962</td>\n",
       "      <td>0.143</td>\n",
       "      <td>4</td>\n",
       "      <td>train</td>\n",
       "    </tr>\n",
       "    <tr>\n",
       "      <td>0.930</td>\n",
       "      <td>0.224</td>\n",
       "      <td>4</td>\n",
       "      <td>eval</td>\n",
       "    </tr>\n",
       "  </tbody>\n",
       "</table>"
      ],
      "text/plain": [
       "<IPython.core.display.HTML object>"
      ]
     },
     "metadata": {},
     "output_type": "display_data"
    },
    {
     "data": {
      "image/png": "[encoded data removed]",
      "text/plain": [
       "<Figure size 600x400 with 1 Axes>"
      ]
     },
     "metadata": {},
     "output_type": "display_data"
    }
   ],
   "source": [
    "set_seed(42)\n",
    "model = get_model2(act=act_gr, norm=nn.BatchNorm2d).apply(iw)\n",
    "learn = TrainLearner(model, dls, F.cross_entropy, lr=lr, cbs=cbs+xtra, opt_func=optim.AdamW)\n",
    "learn.fit(epochs)"
   ]
  },
  {
   "cell_type": "markdown",
   "id": "abc6d01d-a48d-45dc-a7b0-a3778ef6dd8f",
   "metadata": {},
   "source": [
    "At `93%`, that isn't a major impact on our model's performance when compared to the last run.\n",
    "\n",
    "We can experiment further by updating the `get_model()` function by removing the line of code that takes the number of channels to 512. This will reduce the number of total parameters and should reduce the compute overhead without seriously impacting the number of overall parameters."
   ]
  },
  {
   "cell_type": "code",
   "execution_count": 16,
   "id": "77b95c67-8713-41a5-93ed-f3aa30040f5c",
   "metadata": {},
   "outputs": [],
   "source": [
    "# Dropping the layer which increases channels to 512\n",
    "def get_model3(act=nn.ReLU, nfs=(16, 32, 64, 128, 256), norm=nn.BatchNorm2d):\n",
    "    layers = [ResBlock(1, 16, ks=5, stride=1, act=act, norm=norm)]\n",
    "    layers += [ResBlock(nfs[i], nfs[i+1], act=act, norm=norm, stride=2) for i in range(len(nfs)-1)]\n",
    "    layers += [GlobalAvgPool(), nn.Linear(256, 10, bias=False), nn.BatchNorm1d(10)]\n",
    "    return nn.Sequential(*layers)"
   ]
  },
  {
   "cell_type": "code",
   "execution_count": 17,
   "id": "5ddeffbb-3e58-4e16-979c-03e20347c7e3",
   "metadata": {},
   "outputs": [
    {
     "name": "stdout",
     "output_type": "stream",
     "text": [
      "Tot params: 1231428; MFLOPS: 18.3\n"
     ]
    },
    {
     "data": {
      "text/markdown": [
       "|Module|Input|Output|Num params|MFLOPS|\n",
       "|--|--|--|--|--|\n",
       "|ResBlock|(1024, 1, 28, 28)|(1024, 16, 28, 28)|6928|5.3|\n",
       "|ResBlock|(1024, 16, 28, 28)|(1024, 32, 14, 14)|14560|2.8|\n",
       "|ResBlock|(1024, 32, 14, 14)|(1024, 64, 7, 7)|57792|2.8|\n",
       "|ResBlock|(1024, 64, 7, 7)|(1024, 128, 4, 4)|230272|3.7|\n",
       "|ResBlock|(1024, 128, 4, 4)|(1024, 256, 2, 2)|919296|3.7|\n",
       "|GlobalAvgPool|(1024, 256, 2, 2)|(1024, 256)|0|0.0|\n",
       "|Linear|(1024, 256)|(1024, 10)|2560|0.0|\n",
       "|BatchNorm1d|(1024, 10)|(1024, 10)|20|0.0|\n"
      ],
      "text/plain": [
       "<IPython.core.display.Markdown object>"
      ]
     },
     "execution_count": 17,
     "metadata": {},
     "output_type": "execute_result"
    }
   ],
   "source": [
    "TrainLearner(get_model3(), dls, F.cross_entropy, lr=lr, cbs=[DeviceCB()]).summary()"
   ]
  },
  {
   "cell_type": "code",
   "execution_count": 18,
   "id": "d9e6531d-3146-4f53-905b-92e8d16e5464",
   "metadata": {},
   "outputs": [
    {
     "data": {
      "text/plain": [
       "[torch.Size([16, 1, 5, 5]),\n",
       " torch.Size([16]),\n",
       " torch.Size([16]),\n",
       " torch.Size([16]),\n",
       " torch.Size([16, 16, 5, 5]),\n",
       " torch.Size([16]),\n",
       " torch.Size([16]),\n",
       " torch.Size([16]),\n",
       " torch.Size([16, 1, 1, 1]),\n",
       " torch.Size([16])]"
      ]
     },
     "execution_count": 18,
     "metadata": {},
     "output_type": "execute_result"
    }
   ],
   "source": [
    "[o.shape for o in get_model3()[0].parameters()]"
   ]
  },
  {
   "cell_type": "code",
   "execution_count": 19,
   "id": "0e107456-8b2e-4563-98be-75225aa55a02",
   "metadata": {},
   "outputs": [
    {
     "data": {
      "text/html": [
       "\n",
       "<style>\n",
       "    /* Turns off some styling */\n",
       "    progress {\n",
       "        /* gets rid of default border in Firefox and Opera. */\n",
       "        border: none;\n",
       "        /* Needs to be in here for Safari polyfill so background images work as expected. */\n",
       "        background-size: auto;\n",
       "    }\n",
       "    progress:not([value]), progress:not([value])::-webkit-progress-bar {\n",
       "        background: repeating-linear-gradient(45deg, #7e7e7e, #7e7e7e 10px, #5c5c5c 10px, #5c5c5c 20px);\n",
       "    }\n",
       "    .progress-bar-interrupted, .progress-bar-interrupted::-webkit-progress-bar {\n",
       "        background: #F44336;\n",
       "    }\n",
       "</style>\n"
      ],
      "text/plain": [
       "<IPython.core.display.HTML object>"
      ]
     },
     "metadata": {},
     "output_type": "display_data"
    },
    {
     "data": {
      "text/html": [
       "<table border=\"1\" class=\"dataframe\">\n",
       "  <thead>\n",
       "    <tr style=\"text-align: left;\">\n",
       "      <th>accuracy</th>\n",
       "      <th>loss</th>\n",
       "      <th>epoch</th>\n",
       "      <th>train</th>\n",
       "    </tr>\n",
       "  </thead>\n",
       "  <tbody>\n",
       "    <tr>\n",
       "      <td>0.810</td>\n",
       "      <td>0.758</td>\n",
       "      <td>0</td>\n",
       "      <td>train</td>\n",
       "    </tr>\n",
       "    <tr>\n",
       "      <td>0.870</td>\n",
       "      <td>0.459</td>\n",
       "      <td>0</td>\n",
       "      <td>eval</td>\n",
       "    </tr>\n",
       "    <tr>\n",
       "      <td>0.896</td>\n",
       "      <td>0.398</td>\n",
       "      <td>1</td>\n",
       "      <td>train</td>\n",
       "    </tr>\n",
       "    <tr>\n",
       "      <td>0.894</td>\n",
       "      <td>0.345</td>\n",
       "      <td>1</td>\n",
       "      <td>eval</td>\n",
       "    </tr>\n",
       "    <tr>\n",
       "      <td>0.921</td>\n",
       "      <td>0.273</td>\n",
       "      <td>2</td>\n",
       "      <td>train</td>\n",
       "    </tr>\n",
       "    <tr>\n",
       "      <td>0.897</td>\n",
       "      <td>0.322</td>\n",
       "      <td>2</td>\n",
       "      <td>eval</td>\n",
       "    </tr>\n",
       "    <tr>\n",
       "      <td>0.940</td>\n",
       "      <td>0.205</td>\n",
       "      <td>3</td>\n",
       "      <td>train</td>\n",
       "    </tr>\n",
       "    <tr>\n",
       "      <td>0.925</td>\n",
       "      <td>0.243</td>\n",
       "      <td>3</td>\n",
       "      <td>eval</td>\n",
       "    </tr>\n",
       "    <tr>\n",
       "      <td>0.962</td>\n",
       "      <td>0.148</td>\n",
       "      <td>4</td>\n",
       "      <td>train</td>\n",
       "    </tr>\n",
       "    <tr>\n",
       "      <td>0.928</td>\n",
       "      <td>0.229</td>\n",
       "      <td>4</td>\n",
       "      <td>eval</td>\n",
       "    </tr>\n",
       "  </tbody>\n",
       "</table>"
      ],
      "text/plain": [
       "<IPython.core.display.HTML object>"
      ]
     },
     "metadata": {},
     "output_type": "display_data"
    },
    {
     "data": {
      "image/png": "[encoded data removed]",
      "text/plain": [
       "<Figure size 600x400 with 1 Axes>"
      ]
     },
     "metadata": {},
     "output_type": "display_data"
    }
   ],
   "source": [
    "set_seed(42)\n",
    "model = get_model3(act_gr, norm=nn.BatchNorm2d).apply(iw)\n",
    "learn = TrainLearner(model, dls, F.cross_entropy, lr=lr, cbs=cbs+xtra, opt_func=optim.AdamW)\n",
    "learn.fit(epochs)"
   ]
  },
  {
   "cell_type": "markdown",
   "id": "09061196-9b63-4839-88fc-bed834c60ece",
   "metadata": {},
   "source": [
    "Interesting! We've ended up with the similar performance as the previous iteration, with improved training speeds.\n",
    "\n",
    "The next question to ask is: how can we make this faster? \n",
    "\n",
    "The first layer has the highest MFLOP count due to the fact that there are two convolutions taking place. One is the `16x1x5x5` convolution and the other is `16x16x5x5`. So we can reduce this to just one convolution."
   ]
  },
  {
   "cell_type": "code",
   "execution_count": 20,
   "id": "5c5229d9-2dfd-482d-89b6-423b177fc756",
   "metadata": {},
   "outputs": [],
   "source": [
    "def get_model4(act=nn.ReLU, nfs=(16,32,64,128, 256), norm=nn.BatchNorm2d):\n",
    "    layers = [conv(1, 16, ks=5, stride=1, act=act, norm=norm)] # Replace ResBlock with single conv.\n",
    "    layers += [ResBlock(nfs[i], nfs[i+1], act=act, norm=norm, stride=2) for i in range(len(nfs)-1)]\n",
    "    layers += [GlobalAvgPool(), nn.Linear(256, 10, bias=False), nn.BatchNorm1d(10)]\n",
    "    return nn.Sequential(*layers)"
   ]
  },
  {
   "cell_type": "code",
   "execution_count": 21,
   "id": "86943917-872b-4d4f-ae01-58a7e926312f",
   "metadata": {},
   "outputs": [
    {
     "data": {
      "text/plain": [
       "[torch.Size([16, 1, 5, 5]),\n",
       " torch.Size([16]),\n",
       " torch.Size([16]),\n",
       " torch.Size([16])]"
      ]
     },
     "execution_count": 21,
     "metadata": {},
     "output_type": "execute_result"
    }
   ],
   "source": [
    "[o.shape for o in get_model4()[0].parameters()]"
   ]
  },
  {
   "cell_type": "code",
   "execution_count": 22,
   "id": "8afaf9fd-a0c0-4656-af47-07d842803ac4",
   "metadata": {},
   "outputs": [
    {
     "name": "stdout",
     "output_type": "stream",
     "text": [
      "Tot params: 1224948; MFLOPS: 13.3\n"
     ]
    },
    {
     "data": {
      "text/markdown": [
       "|Module|Input|Output|Num params|MFLOPS|\n",
       "|--|--|--|--|--|\n",
       "|Sequential|(1024, 1, 28, 28)|(1024, 16, 28, 28)|448|0.3|\n",
       "|ResBlock|(1024, 16, 28, 28)|(1024, 32, 14, 14)|14560|2.8|\n",
       "|ResBlock|(1024, 32, 14, 14)|(1024, 64, 7, 7)|57792|2.8|\n",
       "|ResBlock|(1024, 64, 7, 7)|(1024, 128, 4, 4)|230272|3.7|\n",
       "|ResBlock|(1024, 128, 4, 4)|(1024, 256, 2, 2)|919296|3.7|\n",
       "|GlobalAvgPool|(1024, 256, 2, 2)|(1024, 256)|0|0.0|\n",
       "|Linear|(1024, 256)|(1024, 10)|2560|0.0|\n",
       "|BatchNorm1d|(1024, 10)|(1024, 10)|20|0.0|\n"
      ],
      "text/plain": [
       "<IPython.core.display.Markdown object>"
      ]
     },
     "execution_count": 22,
     "metadata": {},
     "output_type": "execute_result"
    }
   ],
   "source": [
    "TrainLearner(get_model4(), dls, F.cross_entropy, lr=lr, cbs=[DeviceCB()]).summary()"
   ]
  },
  {
   "cell_type": "code",
   "execution_count": 25,
   "id": "928ad6ad-90f5-4c19-a0bf-9f38b6570b7c",
   "metadata": {},
   "outputs": [
    {
     "data": {
      "text/plain": [
       "-0.2732"
      ]
     },
     "execution_count": 25,
     "metadata": {},
     "output_type": "execute_result"
    }
   ],
   "source": [
    "round((13.3 - 18.3) / 18.3, 4)"
   ]
  },
  {
   "cell_type": "markdown",
   "id": "6f1e1590-97f1-42e1-b8ef-9fb993257fcf",
   "metadata": {},
   "source": [
    "By introducing this small change, we've reduced the MFLOPS by a approximately **`27%`**, without dramatically impacting the total number of parameters."
   ]
  },
  {
   "cell_type": "code",
   "execution_count": 26,
   "id": "ca658d84-39fc-4ebb-a0e8-b8d28fcf5b3d",
   "metadata": {},
   "outputs": [
    {
     "data": {
      "text/html": [
       "\n",
       "<style>\n",
       "    /* Turns off some styling */\n",
       "    progress {\n",
       "        /* gets rid of default border in Firefox and Opera. */\n",
       "        border: none;\n",
       "        /* Needs to be in here for Safari polyfill so background images work as expected. */\n",
       "        background-size: auto;\n",
       "    }\n",
       "    progress:not([value]), progress:not([value])::-webkit-progress-bar {\n",
       "        background: repeating-linear-gradient(45deg, #7e7e7e, #7e7e7e 10px, #5c5c5c 10px, #5c5c5c 20px);\n",
       "    }\n",
       "    .progress-bar-interrupted, .progress-bar-interrupted::-webkit-progress-bar {\n",
       "        background: #F44336;\n",
       "    }\n",
       "</style>\n"
      ],
      "text/plain": [
       "<IPython.core.display.HTML object>"
      ]
     },
     "metadata": {},
     "output_type": "display_data"
    },
    {
     "data": {
      "text/html": [
       "<table border=\"1\" class=\"dataframe\">\n",
       "  <thead>\n",
       "    <tr style=\"text-align: left;\">\n",
       "      <th>accuracy</th>\n",
       "      <th>loss</th>\n",
       "      <th>epoch</th>\n",
       "      <th>train</th>\n",
       "    </tr>\n",
       "  </thead>\n",
       "  <tbody>\n",
       "    <tr>\n",
       "      <td>0.803</td>\n",
       "      <td>0.782</td>\n",
       "      <td>0</td>\n",
       "      <td>train</td>\n",
       "    </tr>\n",
       "    <tr>\n",
       "      <td>0.870</td>\n",
       "      <td>0.471</td>\n",
       "      <td>0</td>\n",
       "      <td>eval</td>\n",
       "    </tr>\n",
       "    <tr>\n",
       "      <td>0.898</td>\n",
       "      <td>0.390</td>\n",
       "      <td>1</td>\n",
       "      <td>train</td>\n",
       "    </tr>\n",
       "    <tr>\n",
       "      <td>0.893</td>\n",
       "      <td>0.356</td>\n",
       "      <td>1</td>\n",
       "      <td>eval</td>\n",
       "    </tr>\n",
       "    <tr>\n",
       "      <td>0.919</td>\n",
       "      <td>0.275</td>\n",
       "      <td>2</td>\n",
       "      <td>train</td>\n",
       "    </tr>\n",
       "    <tr>\n",
       "      <td>0.895</td>\n",
       "      <td>0.336</td>\n",
       "      <td>2</td>\n",
       "      <td>eval</td>\n",
       "    </tr>\n",
       "    <tr>\n",
       "      <td>0.940</td>\n",
       "      <td>0.202</td>\n",
       "      <td>3</td>\n",
       "      <td>train</td>\n",
       "    </tr>\n",
       "    <tr>\n",
       "      <td>0.923</td>\n",
       "      <td>0.245</td>\n",
       "      <td>3</td>\n",
       "      <td>eval</td>\n",
       "    </tr>\n",
       "    <tr>\n",
       "      <td>0.961</td>\n",
       "      <td>0.148</td>\n",
       "      <td>4</td>\n",
       "      <td>train</td>\n",
       "    </tr>\n",
       "    <tr>\n",
       "      <td>0.929</td>\n",
       "      <td>0.236</td>\n",
       "      <td>4</td>\n",
       "      <td>eval</td>\n",
       "    </tr>\n",
       "  </tbody>\n",
       "</table>"
      ],
      "text/plain": [
       "<IPython.core.display.HTML object>"
      ]
     },
     "metadata": {},
     "output_type": "display_data"
    },
    {
     "data": {
      "image/png": "[encoded data removed]",
      "text/plain": [
       "<Figure size 600x400 with 1 Axes>"
      ]
     },
     "metadata": {},
     "output_type": "display_data"
    }
   ],
   "source": [
    "set_seed(42)\n",
    "model = get_model4(act_gr, norm=nn.BatchNorm2d).apply(iw)\n",
    "learn = TrainLearner(model, dls, F.cross_entropy, lr=lr, cbs=cbs+xtra, opt_func=optim.AdamW)\n",
    "learn.fit(epochs)"
   ]
  },
  {
   "cell_type": "markdown",
   "id": "7b39dbbb-045c-4528-ac64-3cb89ad06527",
   "metadata": {},
   "source": [
    "Performance is almost the same as before, with a model which doesn't have the compute overhead as the larger network. Also, it still outperforms the timm libraries implementation of `resnet-18d`.\n",
    "\n",
    "Additionally, running the model for additional epochs - say 20 - will actually decrease generalizability due to the fact that it is effectively memorizing the inputs (accuracy goes up to 99% but the validation loss actually deteriorates).\n",
    "\n",
    "We need to regularize our data, and **since we're using batchnorm, weight decay won't do the job**. The paper titled [\"L2 Regularization Versus Batch and Weight Normalization\"](https://arxiv.org/abs/1706.05350) covers this in detail and basically states:\n",
    "\n",
    ">  L2 regularization has no regularizing effect when combined with normalization. Instead, regularization has an influence on the scale of weights, and thereby on the effective learning rate.\n",
    "\n",
    "This is where Data Augmentation comes."
   ]
  },
  {
   "cell_type": "markdown",
   "id": "cc94c0ca-680c-41e4-803e-6d8259eb896d",
   "metadata": {},
   "source": [
    "## **Multiple Data Augmentations**"
   ]
  },
  {
   "cell_type": "markdown",
   "id": "7d5e0563-1c8b-4c9f-acfa-28d316a16983",
   "metadata": {},
   "source": [
    "While FastAI has a very robust implementation of data augmentation, we will stick with PyTorch for now to save time and effort."
   ]
  },
  {
   "cell_type": "code",
   "execution_count": 27,
   "id": "6a39919f-67e7-4a61-9abd-39fb287b8cec",
   "metadata": {},
   "outputs": [],
   "source": [
    "from torchvision import transforms"
   ]
  },
  {
   "cell_type": "code",
   "execution_count": 28,
   "id": "c8edc311-c96a-4457-8988-4ccc5e2a2d86",
   "metadata": {},
   "outputs": [],
   "source": [
    "# Extending the functionality of the BatchTransformCB by adding a transform function\n",
    "# Which transforms the inputs and outputs using two different functions\n",
    "def tfm_batch(b, tfm_x=fc.noop, tfm_y=fc.noop): return tfm_x(b[0]), tfm_y(b[1])\n",
    "\n",
    "tfms = nn.Sequential(transforms.RandomCrop(28, padding=4),\n",
    "                     transforms.RandomHorizontalFlip())\n",
    "# We won't run augmentations on validation sets.\n",
    "augcb = BatchTransformCB(partial(tfm_batch, tfm_x=tfms), on_val=False)\n",
    "model = get_model()\n",
    "learn = TrainLearner(model, dls, F.cross_entropy, lr=lr, cbs=[SingleBatchCB(), augcb])"
   ]
  },
  {
   "cell_type": "markdown",
   "id": "3c9392e9-7fb8-4bee-b5c9-495ff33dc1e9",
   "metadata": {},
   "source": [
    "The advantage of running augmentations using batches, is that the operations are running on GPU. The downside is that this reduces the amount of variety in overall transformations. Thomas Sowell's aphorism _\"there are no solutions, only trade-offs.\"_ rings true."
   ]
  },
  {
   "cell_type": "code",
   "execution_count": 29,
   "id": "10e7f714-d61d-4c58-a01b-43765341970f",
   "metadata": {},
   "outputs": [],
   "source": [
    "learn.fit(1)"
   ]
  },
  {
   "cell_type": "code",
   "execution_count": 30,
   "id": "d52217e7-cdc3-471d-b600-1503bd5432e0",
   "metadata": {},
   "outputs": [
    {
     "data": {
      "image/png": "[encoded data removed]",
      "text/plain": [
       "<Figure size 600x600 with 16 Axes>"
      ]
     },
     "metadata": {},
     "output_type": "display_data"
    }
   ],
   "source": [
    "# Grabbing a batch from the learner.\n",
    "xb, yb = learn.batch \n",
    "show_images(xb[:16], imsize=1.5)"
   ]
  },
  {
   "cell_type": "code",
   "execution_count": 31,
   "id": "97eb74e2-631d-4448-9333-a82089e30642",
   "metadata": {},
   "outputs": [],
   "source": [
    "# Extending show_images\n",
    "@fc.patch\n",
    "@fc.delegates(show_images)\n",
    "def show_image_batch(self:Learner, max_n=9, cbs=None, **kwargs):\n",
    "    self.fit(1, cbs=[SingleBatchCB()] + fc.L(cbs))\n",
    "    show_images(self.batch[0][:max_n], **kwargs)"
   ]
  },
  {
   "cell_type": "code",
   "execution_count": 32,
   "id": "f2468512-7063-4d5f-8bd8-6fd578945d74",
   "metadata": {},
   "outputs": [
    {
     "data": {
      "image/png": "[encoded data removed]",
      "text/plain": [
       "<Figure size 600x600 with 16 Axes>"
      ]
     },
     "metadata": {},
     "output_type": "display_data"
    }
   ],
   "source": [
    "learn.show_image_batch(max_n=16, imsize=(1.5))"
   ]
  },
  {
   "cell_type": "code",
   "execution_count": 33,
   "id": "29c20b98-1b33-4aac-acc8-7fc0fc95bdce",
   "metadata": {},
   "outputs": [],
   "source": [
    "tfms = nn.Sequential(transforms.RandomCrop(28, padding=1),\n",
    "                     transforms.RandomHorizontalFlip())\n",
    "augcb = BatchTransformCB(partial(tfm_batch, tfm_x=tfms), on_val=False)"
   ]
  },
  {
   "cell_type": "code",
   "execution_count": 34,
   "id": "9e207938-5cb6-4741-a64d-4b309737bd9e",
   "metadata": {},
   "outputs": [
    {
     "data": {
      "text/html": [
       "\n",
       "<style>\n",
       "    /* Turns off some styling */\n",
       "    progress {\n",
       "        /* gets rid of default border in Firefox and Opera. */\n",
       "        border: none;\n",
       "        /* Needs to be in here for Safari polyfill so background images work as expected. */\n",
       "        background-size: auto;\n",
       "    }\n",
       "    progress:not([value]), progress:not([value])::-webkit-progress-bar {\n",
       "        background: repeating-linear-gradient(45deg, #7e7e7e, #7e7e7e 10px, #5c5c5c 10px, #5c5c5c 20px);\n",
       "    }\n",
       "    .progress-bar-interrupted, .progress-bar-interrupted::-webkit-progress-bar {\n",
       "        background: #F44336;\n",
       "    }\n",
       "</style>\n"
      ],
      "text/plain": [
       "<IPython.core.display.HTML object>"
      ]
     },
     "metadata": {},
     "output_type": "display_data"
    },
    {
     "data": {
      "text/html": [
       "<table border=\"1\" class=\"dataframe\">\n",
       "  <thead>\n",
       "    <tr style=\"text-align: left;\">\n",
       "      <th>accuracy</th>\n",
       "      <th>loss</th>\n",
       "      <th>epoch</th>\n",
       "      <th>train</th>\n",
       "    </tr>\n",
       "  </thead>\n",
       "  <tbody>\n",
       "    <tr>\n",
       "      <td>0.764</td>\n",
       "      <td>0.878</td>\n",
       "      <td>0</td>\n",
       "      <td>train</td>\n",
       "    </tr>\n",
       "    <tr>\n",
       "      <td>0.826</td>\n",
       "      <td>0.599</td>\n",
       "      <td>0</td>\n",
       "      <td>eval</td>\n",
       "    </tr>\n",
       "    <tr>\n",
       "      <td>0.859</td>\n",
       "      <td>0.596</td>\n",
       "      <td>1</td>\n",
       "      <td>train</td>\n",
       "    </tr>\n",
       "    <tr>\n",
       "      <td>0.869</td>\n",
       "      <td>0.490</td>\n",
       "      <td>1</td>\n",
       "      <td>eval</td>\n",
       "    </tr>\n",
       "    <tr>\n",
       "      <td>0.876</td>\n",
       "      <td>0.479</td>\n",
       "      <td>2</td>\n",
       "      <td>train</td>\n",
       "    </tr>\n",
       "    <tr>\n",
       "      <td>0.866</td>\n",
       "      <td>0.426</td>\n",
       "      <td>2</td>\n",
       "      <td>eval</td>\n",
       "    </tr>\n",
       "    <tr>\n",
       "      <td>0.887</td>\n",
       "      <td>0.393</td>\n",
       "      <td>3</td>\n",
       "      <td>train</td>\n",
       "    </tr>\n",
       "    <tr>\n",
       "      <td>0.873</td>\n",
       "      <td>0.384</td>\n",
       "      <td>3</td>\n",
       "      <td>eval</td>\n",
       "    </tr>\n",
       "    <tr>\n",
       "      <td>0.895</td>\n",
       "      <td>0.336</td>\n",
       "      <td>4</td>\n",
       "      <td>train</td>\n",
       "    </tr>\n",
       "    <tr>\n",
       "      <td>0.888</td>\n",
       "      <td>0.353</td>\n",
       "      <td>4</td>\n",
       "      <td>eval</td>\n",
       "    </tr>\n",
       "    <tr>\n",
       "      <td>0.907</td>\n",
       "      <td>0.286</td>\n",
       "      <td>5</td>\n",
       "      <td>train</td>\n",
       "    </tr>\n",
       "    <tr>\n",
       "      <td>0.884</td>\n",
       "      <td>0.330</td>\n",
       "      <td>5</td>\n",
       "      <td>eval</td>\n",
       "    </tr>\n",
       "    <tr>\n",
       "      <td>0.914</td>\n",
       "      <td>0.258</td>\n",
       "      <td>6</td>\n",
       "      <td>train</td>\n",
       "    </tr>\n",
       "    <tr>\n",
       "      <td>0.870</td>\n",
       "      <td>0.372</td>\n",
       "      <td>6</td>\n",
       "      <td>eval</td>\n",
       "    </tr>\n",
       "    <tr>\n",
       "      <td>0.921</td>\n",
       "      <td>0.231</td>\n",
       "      <td>7</td>\n",
       "      <td>train</td>\n",
       "    </tr>\n",
       "    <tr>\n",
       "      <td>0.908</td>\n",
       "      <td>0.267</td>\n",
       "      <td>7</td>\n",
       "      <td>eval</td>\n",
       "    </tr>\n",
       "    <tr>\n",
       "      <td>0.924</td>\n",
       "      <td>0.221</td>\n",
       "      <td>8</td>\n",
       "      <td>train</td>\n",
       "    </tr>\n",
       "    <tr>\n",
       "      <td>0.909</td>\n",
       "      <td>0.264</td>\n",
       "      <td>8</td>\n",
       "      <td>eval</td>\n",
       "    </tr>\n",
       "    <tr>\n",
       "      <td>0.930</td>\n",
       "      <td>0.201</td>\n",
       "      <td>9</td>\n",
       "      <td>train</td>\n",
       "    </tr>\n",
       "    <tr>\n",
       "      <td>0.912</td>\n",
       "      <td>0.247</td>\n",
       "      <td>9</td>\n",
       "      <td>eval</td>\n",
       "    </tr>\n",
       "    <tr>\n",
       "      <td>0.935</td>\n",
       "      <td>0.187</td>\n",
       "      <td>10</td>\n",
       "      <td>train</td>\n",
       "    </tr>\n",
       "    <tr>\n",
       "      <td>0.925</td>\n",
       "      <td>0.214</td>\n",
       "      <td>10</td>\n",
       "      <td>eval</td>\n",
       "    </tr>\n",
       "    <tr>\n",
       "      <td>0.940</td>\n",
       "      <td>0.172</td>\n",
       "      <td>11</td>\n",
       "      <td>train</td>\n",
       "    </tr>\n",
       "    <tr>\n",
       "      <td>0.925</td>\n",
       "      <td>0.219</td>\n",
       "      <td>11</td>\n",
       "      <td>eval</td>\n",
       "    </tr>\n",
       "    <tr>\n",
       "      <td>0.945</td>\n",
       "      <td>0.161</td>\n",
       "      <td>12</td>\n",
       "      <td>train</td>\n",
       "    </tr>\n",
       "    <tr>\n",
       "      <td>0.928</td>\n",
       "      <td>0.204</td>\n",
       "      <td>12</td>\n",
       "      <td>eval</td>\n",
       "    </tr>\n",
       "    <tr>\n",
       "      <td>0.948</td>\n",
       "      <td>0.149</td>\n",
       "      <td>13</td>\n",
       "      <td>train</td>\n",
       "    </tr>\n",
       "    <tr>\n",
       "      <td>0.933</td>\n",
       "      <td>0.199</td>\n",
       "      <td>13</td>\n",
       "      <td>eval</td>\n",
       "    </tr>\n",
       "    <tr>\n",
       "      <td>0.952</td>\n",
       "      <td>0.138</td>\n",
       "      <td>14</td>\n",
       "      <td>train</td>\n",
       "    </tr>\n",
       "    <tr>\n",
       "      <td>0.938</td>\n",
       "      <td>0.189</td>\n",
       "      <td>14</td>\n",
       "      <td>eval</td>\n",
       "    </tr>\n",
       "    <tr>\n",
       "      <td>0.958</td>\n",
       "      <td>0.122</td>\n",
       "      <td>15</td>\n",
       "      <td>train</td>\n",
       "    </tr>\n",
       "    <tr>\n",
       "      <td>0.939</td>\n",
       "      <td>0.179</td>\n",
       "      <td>15</td>\n",
       "      <td>eval</td>\n",
       "    </tr>\n",
       "    <tr>\n",
       "      <td>0.963</td>\n",
       "      <td>0.111</td>\n",
       "      <td>16</td>\n",
       "      <td>train</td>\n",
       "    </tr>\n",
       "    <tr>\n",
       "      <td>0.940</td>\n",
       "      <td>0.179</td>\n",
       "      <td>16</td>\n",
       "      <td>eval</td>\n",
       "    </tr>\n",
       "    <tr>\n",
       "      <td>0.966</td>\n",
       "      <td>0.102</td>\n",
       "      <td>17</td>\n",
       "      <td>train</td>\n",
       "    </tr>\n",
       "    <tr>\n",
       "      <td>0.939</td>\n",
       "      <td>0.180</td>\n",
       "      <td>17</td>\n",
       "      <td>eval</td>\n",
       "    </tr>\n",
       "    <tr>\n",
       "      <td>0.969</td>\n",
       "      <td>0.094</td>\n",
       "      <td>18</td>\n",
       "      <td>train</td>\n",
       "    </tr>\n",
       "    <tr>\n",
       "      <td>0.941</td>\n",
       "      <td>0.178</td>\n",
       "      <td>18</td>\n",
       "      <td>eval</td>\n",
       "    </tr>\n",
       "    <tr>\n",
       "      <td>0.970</td>\n",
       "      <td>0.091</td>\n",
       "      <td>19</td>\n",
       "      <td>train</td>\n",
       "    </tr>\n",
       "    <tr>\n",
       "      <td>0.941</td>\n",
       "      <td>0.177</td>\n",
       "      <td>19</td>\n",
       "      <td>eval</td>\n",
       "    </tr>\n",
       "  </tbody>\n",
       "</table>"
      ],
      "text/plain": [
       "<IPython.core.display.HTML object>"
      ]
     },
     "metadata": {},
     "output_type": "display_data"
    },
    {
     "data": {
      "image/png": "[encoded data removed]",
      "text/plain": [
       "<Figure size 600x400 with 1 Axes>"
      ]
     },
     "metadata": {},
     "output_type": "display_data"
    }
   ],
   "source": [
    "set_seed(42)\n",
    "epochs = 20\n",
    "lr = 1e-2\n",
    "tmax = epochs * len(dls.train)\n",
    "sched = partial(lr_scheduler.OneCycleLR, max_lr=lr, total_steps=tmax)\n",
    "xtra = [BatchSchedCB(sched), augcb]\n",
    "model = get_model(act_gr, norm=nn.BatchNorm2d).apply(iw)\n",
    "learn = TrainLearner(model, dls, F.cross_entropy, lr=lr, cbs=cbs+xtra, opt_func=optim.AdamW)\n",
    "learn.fit(epochs)"
   ]
  },
  {
   "cell_type": "markdown",
   "id": "763d62e2-7113-49b7-a210-d5b3e971b35c",
   "metadata": {},
   "source": [
    "I believe the scientific term is....dayum!! `94.1%` takes us into the top 10% results for this dataset."
   ]
  },
  {
   "cell_type": "code",
   "execution_count": 35,
   "id": "ded39edb-2037-4ff3-bbaf-5156708942f6",
   "metadata": {},
   "outputs": [],
   "source": [
    "mdl_path = Path('models')\n",
    "mdl_path.mkdir(exist_ok=True)\n",
    "torch.save(learn.model, mdl_path/'data_aug.pkl')"
   ]
  },
  {
   "cell_type": "markdown",
   "id": "b37283ec-abe4-4548-87a1-b88932ee1bb7",
   "metadata": {},
   "source": [
    "## **Test Time Augmentation (TTA)**"
   ]
  },
  {
   "cell_type": "markdown",
   "id": "de1153fe-49b8-469b-8adb-dd4cc34e3efa",
   "metadata": {},
   "source": [
    "As the name suggests, TTA runs augmentations on the validation sets. Since our `BatchTransformCB` allows us to carry these operations out using the `on_val=True` argument, let's see how this impacts the model, during inference."
   ]
  },
  {
   "cell_type": "code",
   "execution_count": null,
   "id": "7731251c-1a4b-4ae3-825f-d02bd643b844",
   "metadata": {},
   "outputs": [],
   "source": [
    "class CapturePreds(Callback): # Pretty self explanatory and straight forward.\n",
    "    def before_fit(self, learn): self.all_inps, self.all_preds, self.all_targs = [], [], []\n",
    "\n",
    "    def after_batch(self, learn):\n",
    "        self.all_inps. append(to_cpu(learn.batch[0]))\n",
    "        self.all_preds.append(to_cpu(learn.preds))\n",
    "        self.all_targs.append(to_cpu(learn.batch[1]))\n",
    "\n",
    "    def after_fit(self, learn):\n",
    "        self.all_preds, self.all_targs, self.all_inps = map(torch.cat, [self.all_preds, self.all_targs, self.all_inps])"
   ]
  },
  {
   "cell_type": "code",
   "execution_count": null,
   "id": "1bfafc5e-2f9c-45c9-87ee-b59439d36a32",
   "metadata": {},
   "outputs": [],
   "source": [
    "@fc.patch\n",
    "def capture_preds(self: Learner, cbs=None, inps=False):\n",
    "    cp = CapturePreds()\n",
    "    self.fit(1, train=False, cbs=[cp] + fc.L(cbs))\n",
    "    res = cp.all_preds, cp.all_targs\n",
    "    if inps: res = res + (co.all_inps,)\n",
    "    return res"
   ]
  },
  {
   "cell_type": "code",
   "execution_count": null,
   "id": "40ce56f6-c711-4ce3-b099-cff4bc8eb215",
   "metadata": {},
   "outputs": [],
   "source": [
    "ap1, at = learn.capture_preds()"
   ]
  },
  {
   "cell_type": "code",
   "execution_count": null,
   "id": "2174c515-cb3f-4160-92d1-dbe4d6bf6f4a",
   "metadata": {},
   "outputs": [],
   "source": [
    "# Carrying out a horizontal flip using callbacks\n",
    "ttacb = BatchTransformCB(partial(tfm_batch, tfm_x=TF.hflip), on_val=True)\n",
    "ap2, at = learn.capture_preds(cbs=[ttacb])"
   ]
  },
  {
   "cell_type": "markdown",
   "id": "fa91126f-04d3-4539-9310-d6b26629fb62",
   "metadata": {},
   "source": [
    "This gives us a set of predictions with the flipped version and another set without the flipped predictions. Stacking those together and taking the mean gives us a `94.4%` accuracy. This is somewhat similar to bagging that we have seen in random forests."
   ]
  },
  {
   "cell_type": "code",
   "execution_count": null,
   "id": "bc95ffb1-8af3-41c1-99d4-e28a1d8d50f8",
   "metadata": {},
   "outputs": [],
   "source": [
    "ap1.shape, ap2.shape, at.shape"
   ]
  },
  {
   "cell_type": "code",
   "execution_count": null,
   "id": "93022536-b991-4fac-86cf-a0ec4ebb692e",
   "metadata": {},
   "outputs": [],
   "source": [
    "ap = torch.stack([ap1, ap2]).mean(0).argmax(1)"
   ]
  },
  {
   "cell_type": "code",
   "execution_count": null,
   "id": "9a317d77-13fd-47a1-93ac-e0151466d5d1",
   "metadata": {},
   "outputs": [],
   "source": [
    "round((ap==at).float().mean().item(), 3)"
   ]
  },
  {
   "cell_type": "markdown",
   "id": "0a1c5d6c-2cd0-4718-a0bf-dea24389dec4",
   "metadata": {},
   "source": [
    "## **Random Erase**"
   ]
  },
  {
   "cell_type": "markdown",
   "id": "1b125535-c365-45b8-9ee2-cbbf95864c37",
   "metadata": {},
   "source": [
    "This technique replaces a small portion of each image with random Gaussian noise. It should be noted that we **won't** be simply deleting a patch, since that would change the underlying distributions of the data, and by extension, the statistics as well. Also, the augmentation patch with has similar statistics to the image so that we don't end up changing the data distributions.\n",
    "\n",
    "In this section, we will start off with one patch, but later on, more will be added. The implementation requires a bit more work than the previous one."
   ]
  },
  {
   "cell_type": "code",
   "execution_count": null,
   "id": "1afccb05-f396-414f-b22b-003dca09944b",
   "metadata": {},
   "outputs": [],
   "source": [
    "# Grab a batch and take the mean and standard deviation\n",
    "xb, _ = next(iter(dls.train))\n",
    "xbt = xb[:16]"
   ]
  },
  {
   "cell_type": "code",
   "execution_count": null,
   "id": "93d86a92-dca3-456f-b8b9-ce8b1697cf25",
   "metadata": {},
   "outputs": [],
   "source": [
    "xm, xs = xbt.mean(), xbt.std()"
   ]
  },
  {
   "cell_type": "code",
   "execution_count": null,
   "id": "2975bad8-9b61-4b23-96ca-bb236d28d0aa",
   "metadata": {},
   "outputs": [],
   "source": [
    "xbt.min(), xbt.max()"
   ]
  },
  {
   "cell_type": "code",
   "execution_count": null,
   "id": "d977b264-3c77-4e2b-b3e5-962e9c3a9224",
   "metadata": {},
   "outputs": [],
   "source": [
    "# Percentage of image to augment\n",
    "pct = 0.2"
   ]
  },
  {
   "cell_type": "code",
   "execution_count": null,
   "id": "6ac3ba56-3ee1-4655-9ef4-bb328973f572",
   "metadata": {},
   "outputs": [],
   "source": [
    "szx = int(pct * xbt.shape[-2])\n",
    "szy = int(pct * xbt.shape[-1])\n",
    "# Random starting points\n",
    "stx = int(random.random() * (1-pct) * xbt.shape[-2])\n",
    "sty = int(random.random() * (1-pct) * xbt.shape[-1])\n",
    "stx, sty, szx, szy"
   ]
  },
  {
   "cell_type": "code",
   "execution_count": null,
   "id": "ca8561d7-e7a6-4dce-bba3-f26c05828fbe",
   "metadata": {},
   "outputs": [],
   "source": [
    "# Gaussian initialization of the minibatch with the means and stds from previous cells\n",
    "init.normal_(xbt[:, :, stx:stx+szx, sty:sty+szy], mean=xm, std=xs);"
   ]
  },
  {
   "cell_type": "code",
   "execution_count": null,
   "id": "4c8158a9-305e-4e51-ba74-9117bd3b8493",
   "metadata": {},
   "outputs": [],
   "source": [
    "show_images(xbt, imsize=1.5);"
   ]
  },
  {
   "cell_type": "code",
   "execution_count": null,
   "id": "08a47b0f-77a9-4215-9692-ed83bc8f5ffb",
   "metadata": {},
   "outputs": [],
   "source": [
    "xbt.min(), xbt.max()"
   ]
  },
  {
   "cell_type": "markdown",
   "id": "a0beee42-6049-465c-8935-08acfe46043b",
   "metadata": {},
   "source": [
    "The ranges of `min()` and `max()` have changed. The noise we added has the same mean and standard deviation, but **not** the range. The original pixels were not normally distributed, so the the noise being normally distributed is **wrong**."
   ]
  },
  {
   "cell_type": "code",
   "execution_count": null,
   "id": "266d9a53-9b41-42fb-9695-b3d87106ad8c",
   "metadata": {},
   "outputs": [],
   "source": [
    "# Redoing the random erasing with additional clamping\n",
    "def _rand_erase1(x, pct, xm, xs, mn, mx):\n",
    "    szx = int(pct * x.shape[-2])\n",
    "    szy = int(pct * x.shape[-1])\n",
    "    stx = int(random.random() * (1-pct) * x.shape[-2])\n",
    "    sty = int(random.random() * (1-pct) * x.shape[-1])\n",
    "    init.normal_(x[:, :, stx:stx+szx, sty:sty+szy], mean=xm, std=xs)\n",
    "    x.clamp_(mn, mx)"
   ]
  },
  {
   "cell_type": "code",
   "execution_count": null,
   "id": "bc16a28e-65f9-4b97-b310-e43c31a15858",
   "metadata": {},
   "outputs": [],
   "source": [
    "xb, _ = next(iter(dls.train))\n",
    "xbt = xb[:16]\n",
    "_rand_erase1(xbt, 0.2, xbt.mean(), xbt.std(), xbt.min(), xbt.max())\n",
    "show_images(xbt, imsize=1.5)"
   ]
  },
  {
   "cell_type": "code",
   "execution_count": null,
   "id": "97b0bcb0-2c7b-410b-8bfb-e7cc39f38c5c",
   "metadata": {},
   "outputs": [],
   "source": [
    "xbt.mean(),xbt.std(),xbt.min(), xbt.max()"
   ]
  },
  {
   "cell_type": "code",
   "execution_count": null,
   "id": "fd90ffe1-ea07-4d2a-b4f9-85e992fd0a05",
   "metadata": {},
   "outputs": [],
   "source": [
    "def rand_erase(x, pct=0.2, max_num=4):\n",
    "    xm, xs, mn, mx  = x.mean(), x.std(), x.min(), x.max()\n",
    "    num = random.randint(0, max_num)\n",
    "    for i in range(num): _rand_erase1(x, pct, xm, xs, mn, mx)\n",
    "    return x"
   ]
  },
  {
   "cell_type": "code",
   "execution_count": null,
   "id": "982fde27-f765-4ad1-b544-7bea93912c9e",
   "metadata": {},
   "outputs": [],
   "source": [
    "xb,_ = next(iter(dls.train))\n",
    "xbt = xb[:16]\n",
    "rand_erase(xbt, 0.2, 4)\n",
    "show_images(xbt, imsize=1.5)"
   ]
  },
  {
   "cell_type": "code",
   "execution_count": null,
   "id": "a9890697-785e-46ea-803f-f2d0ecff074f",
   "metadata": {},
   "outputs": [],
   "source": [
    "class RandErase(nn.Module):\n",
    "    def __init__(self, pct=0.2, max_num=4):\n",
    "        super().__init__()\n",
    "        self.pct,self.max_num = pct,max_num\n",
    "    def forward(self, x): return rand_erase(x, self.pct, self.max_num)"
   ]
  },
  {
   "cell_type": "code",
   "execution_count": null,
   "id": "05ba5e3b-5925-448e-a3ef-2428f6d5ae23",
   "metadata": {},
   "outputs": [],
   "source": [
    "tfms = nn.Sequential(transforms.RandomCrop(28, padding=1),\n",
    "                     transforms.RandomHorizontalFlip(),\n",
    "                     RandErase())\n",
    "augcb = BatchTransformCB(partial(tfm_batch, tfm_x=tfms), on_val=False)"
   ]
  },
  {
   "cell_type": "code",
   "execution_count": null,
   "id": "5f5470c9-492d-4883-b0a0-15766a8106db",
   "metadata": {},
   "outputs": [],
   "source": [
    "model = get_model()\n",
    "learn = TrainLearner(model, dls, F.cross_entropy, lr=lr, cbs=[DeviceCB(), SingleBatchCB(), augcb])\n",
    "learn.fit(1)\n",
    "xb,yb = learn.batch\n",
    "show_images(xb[:16], imsize=1.5)"
   ]
  },
  {
   "cell_type": "code",
   "execution_count": null,
   "id": "0f058ac2-cdf0-4bc5-ac60-a59bdb6a49ff",
   "metadata": {},
   "outputs": [],
   "source": [
    "epochs = 50\n",
    "lr = 2e-2\n",
    "tmax = epochs * len(dls.train)\n",
    "sched = partial(lr_scheduler.OneCycleLR, max_lr=lr, total_steps=tmax)\n",
    "xtra = [BatchSchedCB(sched), augcb]\n",
    "model = get_model(act_gr, norm=nn.BatchNorm2d).apply(iw)\n",
    "learn = TrainLearner(model, dls, F.cross_entropy, lr=lr, cbs=cbs+xtra, opt_func=optim.AdamW)\n",
    "learn.fit(epochs)"
   ]
  },
  {
   "cell_type": "code",
   "execution_count": null,
   "id": "64a6a55e-c8dc-4fc9-aaaf-51bba487e56b",
   "metadata": {},
   "outputs": [],
   "source": []
  },
  {
   "cell_type": "markdown",
   "id": "38957587-59c8-4d3c-97d3-21e1b9083d19",
   "metadata": {},
   "source": [
    "## Random Copy"
   ]
  },
  {
   "cell_type": "code",
   "execution_count": null,
   "id": "a13c8da4-6e6a-42bb-8742-61f586d0a109",
   "metadata": {},
   "outputs": [],
   "source": []
  }
 ],
 "metadata": {
  "kernelspec": {
   "display_name": "Python 3 (ipykernel)",
   "language": "python",
   "name": "python3"
  },
  "language_info": {
   "codemirror_mode": {
    "name": "ipython",
    "version": 3
   },
   "file_extension": ".py",
   "mimetype": "text/x-python",
   "name": "python",
   "nbconvert_exporter": "python",
   "pygments_lexer": "ipython3",
   "version": "3.11.6"
  },
  "widgets": {
   "application/vnd.jupyter.widget-state+json": {
    "state": {},
    "version_major": 2,
    "version_minor": 0
   }
  }
 },
 "nbformat": 4,
 "nbformat_minor": 5
}
